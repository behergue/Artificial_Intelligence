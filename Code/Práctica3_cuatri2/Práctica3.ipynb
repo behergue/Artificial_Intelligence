{
 "cells": [
  {
   "cell_type": "markdown",
   "metadata": {},
   "source": [
    "# **PRÁCTICA 3 · CONSULTAS _SPARQL_ SOBRE _WIKIDATA_**\n",
    "\n",
    "__*GRUPO 7*__\n",
    "\n",
    "Beatriz Herguedas Pinedo\n",
    "\n",
    "Pablo Hernández Aguado"
   ]
  },
  {
   "cell_type": "markdown",
   "metadata": {},
   "source": [
    "En esta práctica vamos a usar el punto de acceso [SPARQL](https://query.wikidata.org/) de Wikidata para contestar las preguntas que se formulan a continuación. Cada pregunta debe ser respondida realizando una única consulta SPARQL. Para cada una de las entidades recuperadas se mostrará tanto su identificador como su etiqueta (nombre de la entidad en lenguaje natural). \n",
    "\n",
    "Te proporcionamos un notebook a modo de plantilla para que pegues en él cada una de las consultas que realices con la correspondiente respuesta que te devuelva el punto de acceso de Wikidata. Para cada una de las preguntas debes mostrar tanto la consulta como la respuesta obtenida.\n",
    "\n",
    " - La __consulta__ debe estar en una celda de tipo _Raw NBConvert_ para que jupyter no trate de interpretarla. Cada tripleta de la consulta debe tener un breve comentario a la derecha que la explique (con # empieza un comentario). \n",
    " - La __respuesta__ debe estar en una celda de tipo _Markdown_. Puedes descargar las respuestas usando la opción _Descargar >> HTML Table_ y copiar el código HTML en esta celda. Al ejecutar la celda se mostrará en forma de tabla.\n",
    " - Si lo consideras necesario, puedes añadir celdas adicionales en formato _Markdown_ para explicar decisiones que hayas tomado al crear la consulta o cualquier otro dato que consideres interesante.\n",
    " \n",
    " \n",
    "__Para resolver estas consultas necesitarás aprender algo más de SPARQL de lo que hemos contado en clase__. Los dos recursos que te recomendamos consultar son:\n",
    "\n",
    "- [Este tutorial de SPARQL](https://www.wikidata.org/wiki/Wikidata:SPARQL_tutorial).\n",
    "- [Esta recopilación de ejemplos](https://www.wikidata.org/wiki/Wikidata:SPARQL_query_service/queries/examples)"
   ]
  },
  {
   "cell_type": "markdown",
   "metadata": {},
   "source": [
    "### Consulta 1\n",
    "\n",
    "[Hans Zimmer (Q76364)](https://www.wikidata.org/wiki/Q76364) es un famoso compositor de muchas bandas sonoras de películas. Vamos a comenzar por averiguar su fecha y lugar de nacimiento."
   ]
  },
  {
   "cell_type": "raw",
   "metadata": {},
   "source": [
    "SELECT ?bpQ ?Lugar_de_Nacimiento ?Fecha_de_Nacimiento\n",
    "WHERE\n",
    "{\n",
    "  # Q76364: HansZimmer\n",
    "  # P569: fecha en la cual nació el sujeto\n",
    "  # P19: sitio más específico conocido donde nació una persona, animal o personaje ficticio\n",
    "  \n",
    "  wd:Q76364 wdt:P569 ?bdQ;\n",
    "            wdt:P19 ?bpQ.\n",
    "  \n",
    "  ?bpQ rdfs:label ?Lugar_de_Nacimiento filter ( lang(?Lugar_de_Nacimiento) = \"es\" ).  \n",
    "  \n",
    "  # Para legibilidad de fechas en el Notebook, la convertimos en string.\n",
    "  BIND( concat( str(year(?bdQ)), \"-\", str(month(?bdQ)), \"-\", str(day(?bdQ)) ) as ?Fecha_de_Nacimiento )\n",
    "}"
   ]
  },
  {
   "cell_type": "markdown",
   "metadata": {},
   "source": [
    "<html><head><meta charset=\"utf-8\"></head><body><table><thead><tr><th>bpQ</th><th>Lugar_de_Nacimiento</th><th>Fecha_de_Nacimiento</th></tr></thead><tbody><tr><td>http://www.wikidata.org/entity/Q1794</td><td>Fráncfort del Meno</td><td>1957-9-12</td></tr></tbody></table></body></html>"
   ]
  },
  {
   "cell_type": "markdown",
   "metadata": {},
   "source": [
    "### Consulta 2\n",
    "\n",
    "A continuación vamos a averiguar los instrumentos que toca. Queremos obtener los resultados ordenados alfabéticamente por el nombre del instrumento."
   ]
  },
  {
   "cell_type": "raw",
   "metadata": {},
   "source": [
    "SELECT ?miQ ?Instrumento_Musical\n",
    "WHERE\n",
    "{\n",
    "  # Q76364: HansZimmer\n",
    "  # P1303: instrumento musical que toca una persona\n",
    "  \n",
    "  wd:Q76364 wdt:P1303 ?miQ.\n",
    "  \n",
    "  ?miQ rdfs:label ?Instrumento_Musical filter( lang(?Instrumento_Musical) = 'es' ).\n",
    "}\n",
    "ORDER BY ?Instrumento_Musical"
   ]
  },
  {
   "cell_type": "markdown",
   "metadata": {},
   "source": [
    "<html><head><meta charset=\"utf-8\"></head><body><table><thead><tr><th>miQ</th><th>Instrumento_Musical</th></tr></thead><tbody><tr><td>http://www.wikidata.org/entity/Q258896</td><td>banjo</td></tr><tr><td>http://www.wikidata.org/entity/Q6607</td><td>guitarra</td></tr><tr><td>http://www.wikidata.org/entity/Q5994</td><td>piano</td></tr><tr><td>http://www.wikidata.org/entity/Q163829</td><td>sintetizador</td></tr><tr><td>http://www.wikidata.org/entity/Q52954</td><td>teclado</td></tr></tbody></table></body></html>"
   ]
  },
  {
   "cell_type": "markdown",
   "metadata": {},
   "source": [
    "### Consulta 3\n",
    "\n",
    "¿Cuales de los instrumentos que toca son instrumentos de cuerda? Ten en cuenta que los instrumentos pueden ser indirectamente de cuerda a través de varias relaciones _subclase_."
   ]
  },
  {
   "cell_type": "raw",
   "metadata": {},
   "source": [
    "SELECT ?cmiQ ?Instrumento_Musical_de_Cuerda\n",
    "WHERE\n",
    "{\n",
    "  # Q76364: HansZimmer\n",
    "  # P1303: instrumento musical que toca una persona\n",
    "  # P279: subclase de\n",
    "  # Q1798603: instrumento de cuerda\n",
    "  \n",
    "  wd:Q76364 wdt:P1303 ?cmiQ.\n",
    "  ?cmiQ wdt:P279+ wd:Q1798603.\n",
    "            \n",
    "  ?cmiQ rdfs:label ?Instrumento_Musical_de_Cuerda filter( lang(?Instrumento_Musical_de_Cuerda) = 'es' )\n",
    "}\n",
    "ORDER BY ?Instrumento_Musical_de_Cuerda"
   ]
  },
  {
   "cell_type": "markdown",
   "metadata": {},
   "source": [
    "<html><head><meta charset=\"utf-8\"></head><body><table><thead><tr><th>cmiQ</th><th>Instrumento_Musical_de_Cuerda</th></tr></thead><tbody><tr><td>http://www.wikidata.org/entity/Q258896</td><td>banjo</td></tr><tr><td>http://www.wikidata.org/entity/Q6607</td><td>guitarra</td></tr><tr><td>http://www.wikidata.org/entity/Q5994</td><td>piano</td></tr></tbody></table></body></html>"
   ]
  },
  {
   "cell_type": "markdown",
   "metadata": {},
   "source": [
    "### Consulta 4\n",
    "\n",
    "Zimmer ha recibido muchas nominaciones y premios a lo largo de su carrera. Queremos obtener una lista de nominaciones y para cada una de ellas el trabajo por el cual fue nominado. Para resolver esta consulta necesitarás acceder a los cualificadores de nodos sentencia y necesitarás entender los prefijos que usa Wikidata."
   ]
  },
  {
   "cell_type": "raw",
   "metadata": {},
   "source": [
    "SELECT ?nomQ ?Nomination ?Nominación ?workQ ?Nominated_Work ?Obra_Nominada\n",
    "WHERE\n",
    "{\n",
    "  # Q76364: HansZimmer\n",
    "  # P1411: nominación a un premio recibida por una persona, organización o trabajo creativo.\n",
    "  # P1686: calificador del premio recibido para especificar la obra por la cual es reconocido.\n",
    "  \n",
    "  ## Traducción:\n",
    "  ## Hans Zimmer nominado a nominación[].\n",
    "  ## [esta nominación; por esta obra]\n",
    "  \n",
    "  wd:Q76364 p:P1411 [ ps:P1411 ?nomQ; pq:P1686 ?workQ ].\n",
    "            \n",
    "  OPTIONAL{?nomQ rdfs:label ?Nomination filter( lang(?Nomination) = 'en' )}\n",
    "  OPTIONAL{?nomQ rdfs:label ?Nominación filter( lang(?Nominación) = 'es' )}\n",
    "  \n",
    "  OPTIONAL{?workQ rdfs:label ?Nominated_Work filter( lang(?Nominated_Work) = 'en' )}\n",
    "  OPTIONAL{?workQ rdfs:label ?Obra_Nominada filter( lang(?Obra_Nominada) = 'es' )}\n",
    "}"
   ]
  },
  {
   "cell_type": "markdown",
   "metadata": {},
   "source": [
    "<html><head><meta charset=\"utf-8\"></head><body><table><thead><tr><th>nomQ</th><th>Nomination</th><th>Nominación</th><th>workQ</th><th>Nominated_Work</th><th>Obra_Nominada</th></tr></thead><tbody><tr><td>http://www.wikidata.org/entity/Q488651</td><td>Academy Award for Best Original Score</td><td>Óscar a la mejor banda sonora</td><td>http://www.wikidata.org/entity/Q25188</td><td>Inception</td><td>Inception</td></tr><tr><td>http://www.wikidata.org/entity/Q488651</td><td>Academy Award for Best Original Score</td><td>Óscar a la mejor banda sonora</td><td>http://www.wikidata.org/entity/Q128518</td><td>Gladiator</td><td>Gladiator</td></tr><tr><td>http://www.wikidata.org/entity/Q488651</td><td>Academy Award for Best Original Score</td><td>Óscar a la mejor banda sonora</td><td>http://www.wikidata.org/entity/Q36479</td><td>The Lion King</td><td>El rey león</td></tr><tr><td>http://www.wikidata.org/entity/Q488651</td><td>Academy Award for Best Original Score</td><td>Óscar a la mejor banda sonora</td><td>http://www.wikidata.org/entity/Q188845</td><td>Rain Man</td><td>Rain Man</td></tr><tr><td>http://www.wikidata.org/entity/Q488651</td><td>Academy Award for Best Original Score</td><td>Óscar a la mejor banda sonora</td><td>http://www.wikidata.org/entity/Q200396</td><td>Sherlock Holmes</td><td>Sherlock Holmes</td></tr><tr><td>http://www.wikidata.org/entity/Q22235329</td><td>Academy Award for Best Original Dramatic Score</td><td>Óscar a la mejor partitura dramática original</td><td>http://www.wikidata.org/entity/Q221491</td><td>The Thin Red Line</td><td>La delgada línea roja</td></tr><tr><td>http://www.wikidata.org/entity/Q22235305</td><td>Academy Award for Best Original Musical or Comedy Score</td><td></td><td>http://www.wikidata.org/entity/Q221594</td><td>As Good as It Gets</td><td>Mejor... imposible</td></tr><tr><td>http://www.wikidata.org/entity/Q22235305</td><td>Academy Award for Best Original Musical or Comedy Score</td><td></td><td>http://www.wikidata.org/entity/Q245227</td><td>The Prince of Egypt</td><td>El príncipe de Egipto</td></tr><tr><td>http://www.wikidata.org/entity/Q22235305</td><td>Academy Award for Best Original Musical or Comedy Score</td><td></td><td>http://www.wikidata.org/entity/Q1475674</td><td>The Preacher's Wife</td><td>The Preacher's Wife</td></tr><tr><td>http://www.wikidata.org/entity/Q488651</td><td>Academy Award for Best Original Score</td><td>Óscar a la mejor banda sonora</td><td>http://www.wikidata.org/entity/Q13417189</td><td>Interstellar</td><td>Interstellar</td></tr></tbody></table></body></html>"
   ]
  },
  {
   "cell_type": "markdown",
   "metadata": {},
   "source": [
    "Como podemos observar, únicamente aparecen las nominaciones de Hans Zimmer a los Óscar (Academy Award), pues son las únicas registradas bajo __nominated for__ en su página de Wikidata.\n",
    "\n",
    "También vemos que las nominaciónes a mejor banda sonora para musicales o comedias (Q22235305) no tienen su etiqueta traducida al español. En efecto, esto se debe a que es un categoría de nominación que sólo se otorgó durante un breve intervalo de años. \n",
    "\n",
    "Algo parecido ocurre con la nominación a la mejor banda sonora dramática (Q22235329), que fue una modificación temporal del nombre de la nominación a mejor banda sonora (Q488651); no obstante, este sí está traducido.\n",
    "\n",
    "Best Original Musical or Comedy Score:\n",
    "\n",
    "http://www.awardsandshows.com/features/best-original-musical-or-comedy-score-28.html\n",
    "\n",
    "Best Original Dramatic Score:\n",
    "\n",
    "https://en.wikipedia.org/wiki/Academy_Award_for_Best_Original_Score#History"
   ]
  },
  {
   "cell_type": "markdown",
   "metadata": {},
   "source": [
    "### Consulta 5\n",
    "\n",
    "Ahora queremos conocer el título de todas las películas en las que Zimmer ha colaborado como compositor. Se mostrarán ordenadas alfabéticamente y debes tener cuidado de no mostrar resultados repetidos."
   ]
  },
  {
   "cell_type": "raw",
   "metadata": {},
   "source": [
    "# DISTINCT elimina los elementos repetidos.\n",
    "SELECT ?filmQ ?Film ?Película\n",
    "WHERE\n",
    "{\n",
    "  # P31: instancia de\n",
    "  # P279: subclase de\n",
    "  # Q11424: película (secuencia de imágenes que dan sensación de movimiento y narran una historia o hecho real)\n",
    "  \n",
    "  # P86: persona encargada de escribir la música de una obra musical\n",
    "  # Q76364: Hans Zimmer\n",
    "    \n",
    "  {\n",
    "    SELECT DISTINCT ?filmQ\n",
    "    WHERE\n",
    "    {\n",
    "      ?filmQ wdt:P31/wdt:P279* wd:Q11424; # instancia de (subclase de)* film.\n",
    "            wdt:P86 wd:Q76364. # tiene como compositor  Hans Zimmer.   \n",
    "    }\n",
    "  }\n",
    "  \n",
    "  OPTIONAL{?filmQ rdfs:label ?Film filter( lang(?Film) = 'en' )}\n",
    "  OPTIONAL{?filmQ rdfs:label ?Película filter( lang(?Película) = 'es' )}\n",
    "}\n",
    "ORDER BY ?Película"
   ]
  },
  {
   "cell_type": "markdown",
   "metadata": {},
   "source": [
    "<html><head><meta charset=\"utf-8\"></head><body><table><thead><tr><th>filmQ</th><th>Film</th><th>Película</th></tr></thead><tbody><tr><td>http://www.wikidata.org/entity/Q129288</td><td>Renaissance Man</td><td></td></tr><tr><td>http://www.wikidata.org/entity/Q571014</td><td>The Last Days</td><td></td></tr><tr><td>http://www.wikidata.org/entity/Q583623</td><td>Burning Secret</td><td></td></tr><tr><td>http://www.wikidata.org/entity/Q853425</td><td>I'll Do Anything</td><td></td></tr><tr><td>http://www.wikidata.org/entity/Q1192764</td><td>Chill Factor</td><td></td></tr><tr><td>http://www.wikidata.org/entity/Q1472370</td><td>Younger and Younger</td><td></td></tr><tr><td>http://www.wikidata.org/entity/Q1753610</td><td>Beyond Rangoon</td><td></td></tr><tr><td>http://www.wikidata.org/entity/Q2406188</td><td>The Lightship</td><td></td></tr><tr><td>http://www.wikidata.org/entity/Q2963312</td><td>Chicago Joe and the Showgirl</td><td></td></tr><tr><td>http://www.wikidata.org/entity/Q3402011</td><td>Calendar Girl</td><td></td></tr><tr><td>http://www.wikidata.org/entity/Q3936037</td><td>Rings</td><td></td></tr><tr><td>http://www.wikidata.org/entity/Q3964671</td><td>Son of Morning</td><td></td></tr><tr><td>http://www.wikidata.org/entity/Q4096517</td><td>Dark Obsession</td><td></td></tr><tr><td>http://www.wikidata.org/entity/Q4286601</td><td>Megamind: The Button of Doom</td><td></td></tr><tr><td>http://www.wikidata.org/entity/Q4327979</td><td>The Zero Boys</td><td></td></tr><tr><td>http://www.wikidata.org/entity/Q4376535</td><td>Fools of Fortune</td><td></td></tr><tr><td>http://www.wikidata.org/entity/Q4424430</td><td>Twister</td><td></td></tr><tr><td>http://www.wikidata.org/entity/Q4689527</td><td>Africa: The Serengeti</td><td></td></tr><tr><td>http://www.wikidata.org/entity/Q4749984</td><td>An Everlasting Piece</td><td></td></tr><tr><td>http://www.wikidata.org/entity/Q6928990</td><td>Mr. Morgan's Last Love</td><td></td></tr><tr><td>http://www.wikidata.org/entity/Q7702661</td><td>Terminal Exposure</td><td></td></tr><tr><td>http://www.wikidata.org/entity/Q7735390</td><td>The Fruit Machine</td><td></td></tr><tr><td>http://www.wikidata.org/entity/Q7858914</td><td>Two Deaths</td><td></td></tr><tr><td>http://www.wikidata.org/entity/Q14947421</td><td></td><td></td></tr><tr><td>http://www.wikidata.org/entity/Q16155083</td><td>Batkid</td><td></td></tr><tr><td>http://www.wikidata.org/entity/Q18511204</td><td>Nightmare at Noon</td><td></td></tr><tr><td>http://www.wikidata.org/entity/Q27958082</td><td>The Wind</td><td></td></tr><tr><td>http://www.wikidata.org/entity/Q47069744</td><td>Believer</td><td></td></tr><tr><td>http://www.wikidata.org/entity/Q57983078</td><td>Separate Vacations</td><td></td></tr><tr><td>http://www.wikidata.org/entity/Q85520081</td><td>Inception</td><td></td></tr><tr><td>http://www.wikidata.org/entity/Q85530211</td><td>The Road of Love</td><td></td></tr><tr><td>http://www.wikidata.org/entity/Q85536881</td><td>Ability</td><td></td></tr><tr><td>http://www.wikidata.org/entity/Q86458113</td><td>Founders of Isfahan college of Physics</td><td></td></tr><tr><td>http://www.wikidata.org/entity/Q3023357</td><td>12 Years a Slave</td><td>12 Años de esclavitud</td></tr><tr><td>http://www.wikidata.org/entity/Q1306472</td><td>A League of Their Own</td><td>A League of Their Own</td></tr><tr><td>http://www.wikidata.org/entity/Q499371</td><td>Backdraft</td><td>Backdraft</td></tr><tr><td>http://www.wikidata.org/entity/Q166262</td><td>Batman Begins</td><td>Batman Begins</td></tr><tr><td>http://www.wikidata.org/entity/Q14772351</td><td>Batman v Superman: Dawn of Justice</td><td>Batman v Superman: El Amanecer De La Justicia</td></tr><tr><td>http://www.wikidata.org/entity/Q135347</td><td>Bird on a Wire</td><td>Bird on a Wire</td></tr><tr><td>http://www.wikidata.org/entity/Q221384</td><td>Black Hawk Down</td><td>Black Hawk Down</td></tr><tr><td>http://www.wikidata.org/entity/Q1048085</td><td>Black Rain</td><td>Black Rain</td></tr><tr><td>http://www.wikidata.org/entity/Q21500755</td><td>Blade Runner 2049</td><td>Blade Runner 2049</td></tr><tr><td>http://www.wikidata.org/entity/Q61450772</td><td>The SpongeBob Movie: Sponge on the Run</td><td>Bob Esponja al Rescate</td></tr><tr><td>http://www.wikidata.org/entity/Q21534241</td><td>No Time to Die</td><td>Bond 25</td></tr><tr><td>http://www.wikidata.org/entity/Q18619153</td><td>The Boss Baby</td><td>Boss Baby</td></tr><tr><td>http://www.wikidata.org/entity/Q392915</td><td>Broken Arrow</td><td>Broken Arrow</td></tr><tr><td>http://www.wikidata.org/entity/Q15209986</td><td>Chappie</td><td>Chappie</td></tr><tr><td>http://www.wikidata.org/entity/Q135491</td><td>White Fang</td><td>Colmillo blanco</td></tr><tr><td>http://www.wikidata.org/entity/Q282748</td><td>Cool Runnings</td><td>Cool Runnings</td></tr><tr><td>http://www.wikidata.org/entity/Q603696</td><td>Days of Thunder</td><td>Days of Thunder</td></tr><tr><td>http://www.wikidata.org/entity/Q211373</td><td>Driving Miss Daisy</td><td>Driving Miss Daisy</td></tr><tr><td>http://www.wikidata.org/entity/Q60834962</td><td>Dune</td><td>Dune</td></tr><tr><td>http://www.wikidata.org/entity/Q21935651</td><td>Dunkirk</td><td>Dunkirk</td></tr><tr><td>http://www.wikidata.org/entity/Q1148079</td><td>Pacific Heights</td><td>El Inquilino o De Repente, un Extraño.</td></tr><tr><td>http://www.wikidata.org/entity/Q160560</td><td>The Da Vinci Code</td><td>El código Da Vinci</td></tr><tr><td>http://www.wikidata.org/entity/Q622769</td><td>Man of Steel</td><td>El hombre de acero</td></tr><tr><td>http://www.wikidata.org/entity/Q60296</td><td>The Weather Man</td><td>El hombre del tiempo</td></tr><tr><td>http://www.wikidata.org/entity/Q1141706</td><td>The Peacemaker</td><td>El pacificador</td></tr><tr><td>http://www.wikidata.org/entity/Q16386722</td><td>The Little Prince</td><td>El principito</td></tr><tr><td>http://www.wikidata.org/entity/Q245227</td><td>The Prince of Egypt</td><td>El príncipe de Egipto</td></tr><tr><td>http://www.wikidata.org/entity/Q337090</td><td>King Arthur</td><td>El rey Arturo: La verdadera historia que inspiró la leyenda</td></tr><tr><td>http://www.wikidata.org/entity/Q36479</td><td>The Lion King</td><td>El rey león</td></tr><tr><td>http://www.wikidata.org/entity/Q27044293</td><td>The Lion King</td><td>El rey león</td></tr><tr><td>http://www.wikidata.org/entity/Q207130</td><td>The Last Samurai</td><td>El último samurái</td></tr><tr><td>http://www.wikidata.org/entity/Q390299</td><td>The Fan</td><td>Fanático</td></tr><tr><td>http://www.wikidata.org/entity/Q18210299</td><td>Freeheld</td><td>Freeheld</td></tr><tr><td>http://www.wikidata.org/entity/Q2066933</td><td>Freeheld</td><td>Freeheld</td></tr><tr><td>http://www.wikidata.org/entity/Q691672</td><td>Frost/Nixon</td><td>Frost/Nixon</td></tr><tr><td>http://www.wikidata.org/entity/Q128518</td><td>Gladiator</td><td>Gladiator</td></tr><tr><td>http://www.wikidata.org/entity/Q505135</td><td>Green Card</td><td>Green card</td></tr><tr><td>http://www.wikidata.org/entity/Q722682</td><td>Hannibal</td><td>Hannibal</td></tr><tr><td>http://www.wikidata.org/entity/Q23755544</td><td>Hidden Figures</td><td>Hidden Figures</td></tr><tr><td>http://www.wikidata.org/entity/Q15137718</td><td>Son of God</td><td>Hijo de Dios</td></tr><tr><td>http://www.wikidata.org/entity/Q523197</td><td>How Do You Know</td><td>How Do You Know</td></tr><tr><td>http://www.wikidata.org/entity/Q25188</td><td>Inception</td><td>Inception</td></tr><tr><td>http://www.wikidata.org/entity/Q18192306</td><td>Inferno</td><td>Inferno</td></tr><tr><td>http://www.wikidata.org/entity/Q13417189</td><td>Interstellar</td><td>Interstellar</td></tr><tr><td>http://www.wikidata.org/entity/Q640762</td><td>Invincible</td><td>Invencible</td></tr><tr><td>http://www.wikidata.org/entity/Q843950</td><td>It's Complicated</td><td>It's Complicated</td></tr><tr><td>http://www.wikidata.org/entity/Q129193</td><td>Kung Fu Panda</td><td>Kung Fu Panda</td></tr><tr><td>http://www.wikidata.org/entity/Q487447</td><td>Kung Fu Panda 2</td><td>Kung Fu Panda 2</td></tr><tr><td>http://www.wikidata.org/entity/Q15055043</td><td>Kung Fu Panda 3</td><td>Kung Fu Panda 3</td></tr><tr><td>http://www.wikidata.org/entity/Q216720</td><td>The Rock</td><td>La Roca</td></tr><tr><td>http://www.wikidata.org/entity/Q7717444</td><td>The Bible</td><td>La biblia</td></tr><tr><td>http://www.wikidata.org/entity/Q312394</td><td>The House of the Spirits</td><td>La casa de los espíritus</td></tr><tr><td>http://www.wikidata.org/entity/Q17184103</td><td>The Woman in Gold</td><td>La dama de oro</td></tr><tr><td>http://www.wikidata.org/entity/Q221491</td><td>The Thin Red Line</td><td>La delgada línea roja</td></tr><tr><td>http://www.wikidata.org/entity/Q329603</td><td>Laura's Star</td><td>La estrella de Laura</td></tr><tr><td>http://www.wikidata.org/entity/Q182254</td><td>The Simpsons Movie</td><td>Los Simpson: la película</td></tr><tr><td>http://www.wikidata.org/entity/Q174555</td><td>Madagascar</td><td>Madagascar</td></tr><tr><td>http://www.wikidata.org/entity/Q188474</td><td>Madagascar: Escape 2 Africa</td><td>Madagascar 2: Escape de África</td></tr><tr><td>http://www.wikidata.org/entity/Q244247</td><td>Madagascar 3: Europe's Most Wanted</td><td>Madagascar 3: Europe's Most Wanted</td></tr><tr><td>http://www.wikidata.org/entity/Q1140085</td><td>Crimson Tide</td><td>Marea roja</td></tr><tr><td>http://www.wikidata.org/entity/Q4536</td><td>Matchstick Men</td><td>Matchstick Men</td></tr><tr><td>http://www.wikidata.org/entity/Q81205</td><td>Megamind</td><td>Megamind</td></tr><tr><td>http://www.wikidata.org/entity/Q221594</td><td>As Good as It Gets</td><td>Mejor... imposible</td></tr><tr><td>http://www.wikidata.org/entity/Q505790</td><td>Mission: Impossible II</td><td>Misión: Imposible II</td></tr><tr><td>http://www.wikidata.org/entity/Q1788520</td><td>Muppet Treasure Island</td><td>Muppet Treasure Island</td></tr><tr><td>http://www.wikidata.org/entity/Q955389</td><td>Nine Months</td><td>Nueve meses</td></tr><tr><td>http://www.wikidata.org/entity/Q194413</td><td>Pearl Harbor</td><td>Pearl Harbor</td></tr><tr><td>http://www.wikidata.org/entity/Q10350033</td><td>Pirates of the Caribbean: Dead Men Tell No Tales</td><td>Piratas del Caribe: La venganza de Salazar</td></tr><tr><td>http://www.wikidata.org/entity/Q54274</td><td>Pirates of the Caribbean: At World's End</td><td>Piratas del Caribe: en el fin del mundo</td></tr><tr><td>http://www.wikidata.org/entity/Q161087</td><td>Pirates of the Caribbean: Dead Man's Chest</td><td>Pirates of the Caribbean: Dead Man's Chest</td></tr><tr><td>http://www.wikidata.org/entity/Q183555</td><td>Pirates of the Caribbean: On Stranger Tides</td><td>Pirates of the Caribbean: On Stranger Tides</td></tr><tr><td>http://www.wikidata.org/entity/Q46717</td><td>Pirates of the Caribbean: The Curse of the Black Pearl</td><td>Pirates of the Caribbean: The Curse of the Black Pearl</td></tr><tr><td>http://www.wikidata.org/entity/Q577469</td><td>Point of No Return</td><td>Point of No Return</td></tr><tr><td>http://www.wikidata.org/entity/Q12128282</td><td>Radio Flyer</td><td>Radio Flyer</td></tr><tr><td>http://www.wikidata.org/entity/Q188845</td><td>Rain Man</td><td>Rain Man</td></tr><tr><td>http://www.wikidata.org/entity/Q275432</td><td>Rango</td><td>Rango</td></tr><tr><td>http://www.wikidata.org/entity/Q603865</td><td>Regarding Henry</td><td>Regarding Henry</td></tr><tr><td>http://www.wikidata.org/entity/Q1313530</td><td>Riding in Cars with Boys</td><td>Riding in Cars with Boys</td></tr><tr><td>http://www.wikidata.org/entity/Q1768437</td><td>Rush</td><td>Rush</td></tr><tr><td>http://www.wikidata.org/entity/Q1058489</td><td>Sadako 3D</td><td>Sadako 3D</td></tr><tr><td>http://www.wikidata.org/entity/Q1260289</td><td>Drop Zone</td><td>Salto al peligro</td></tr><tr><td>http://www.wikidata.org/entity/Q120367</td><td>Shark Tale</td><td>Shark Tale</td></tr><tr><td>http://www.wikidata.org/entity/Q200396</td><td>Sherlock Holmes</td><td>Sherlock Holmes</td></tr><tr><td>http://www.wikidata.org/entity/Q243643</td><td>Sherlock Holmes: A Game of Shadows</td><td>Sherlock Holmes: Juego de sombras</td></tr><tr><td>http://www.wikidata.org/entity/Q1544085</td><td>Something to Talk About</td><td>Something to Talk About</td></tr><tr><td>http://www.wikidata.org/entity/Q584766</td><td>Something's Gotta Givej</td><td>Something's Gotta Give</td></tr><tr><td>http://www.wikidata.org/entity/Q56850065</td><td>Space Jam: A New Legacy</td><td>Space Jam: A New Legacy</td></tr><tr><td>http://www.wikidata.org/entity/Q1367647</td><td>Spanglish</td><td>Spanglish</td></tr><tr><td>http://www.wikidata.org/entity/Q641315</td><td>Spirit: Stallion of the Cimarron</td><td>Spirit: el corcel indomable</td></tr><tr><td>http://www.wikidata.org/entity/Q459889</td><td>Tears of the Sun</td><td>Tears of the Sun</td></tr><tr><td>http://www.wikidata.org/entity/Q4254026</td><td>The Amazing Spider-Man 2</td><td>The Amazing Spider-Man 2: Rise of Electro</td></tr><tr><td>http://www.wikidata.org/entity/Q856805</td><td>The Boat That Rocked</td><td>The Boat That Rocked</td></tr><tr><td>http://www.wikidata.org/entity/Q163872</td><td>The Dark Knight</td><td>The Dark Knight</td></tr><tr><td>http://www.wikidata.org/entity/Q189330</td><td>The Dark Knight Rises</td><td>The Dark Knight Rises</td></tr><tr><td>http://www.wikidata.org/entity/Q1210206</td><td>The Dilemma</td><td>The Dilemma</td></tr><tr><td>http://www.wikidata.org/entity/Q478748</td><td>The Holiday</td><td>The Holiday</td></tr><tr><td>http://www.wikidata.org/entity/Q18151554</td><td>The Last Face</td><td>The Last Face</td></tr><tr><td>http://www.wikidata.org/entity/Q191803</td><td>The Lion King II: Simba's Pride</td><td>The Lion King II: Simba's Pride</td></tr><tr><td>http://www.wikidata.org/entity/Q548919</td><td>The Lone Ranger</td><td>The Lone Ranger</td></tr><tr><td>http://www.wikidata.org/entity/Q255309</td><td>The Longest Daycare</td><td>The Longest Daycare</td></tr><tr><td>http://www.wikidata.org/entity/Q150949</td><td>The Power of One</td><td>The Power of One</td></tr><tr><td>http://www.wikidata.org/entity/Q1475674</td><td>The Preacher's Wife</td><td>The Preacher's Wife</td></tr><tr><td>http://www.wikidata.org/entity/Q1354326</td><td>The Punisher: Dirty Laundry</td><td>The Punisher: Dirty Laundry</td></tr><tr><td>http://www.wikidata.org/entity/Q212804</td><td>The Ring</td><td>The Ring</td></tr><tr><td>http://www.wikidata.org/entity/Q866358</td><td>The Road to El Dorado</td><td>The Road to El Dorado</td></tr><tr><td>http://www.wikidata.org/entity/Q18844656</td><td>The Secret Life of Pets</td><td>The Secret Life of Pets</td></tr><tr><td>http://www.wikidata.org/entity/Q658041</td><td>Thelma &amp; Louise</td><td>Thelma y Louise</td></tr><tr><td>http://www.wikidata.org/entity/Q31202708</td><td>Top Gun: Maverick</td><td>Top Gun: Maverick</td></tr><tr><td>http://www.wikidata.org/entity/Q1849238</td><td>Toys</td><td>Toys</td></tr><tr><td>http://www.wikidata.org/entity/Q1127709</td><td>True Romance</td><td>True Romance</td></tr><tr><td>http://www.wikidata.org/entity/Q232130</td><td>A World Apart</td><td>Un mundo aparte</td></tr><tr><td>http://www.wikidata.org/entity/Q29163736</td><td>Widows</td><td>Viudas</td></tr><tr><td>http://www.wikidata.org/entity/Q3569395</td><td>Winter's Tale</td><td>Winter's Tale</td></tr><tr><td>http://www.wikidata.org/entity/Q33408623</td><td>Wonder Woman 1984</td><td>Wonder Woman 1984</td></tr><tr><td>http://www.wikidata.org/entity/Q31188935</td><td>Dark Phoenix</td><td>X-Men: Dark Phoenix</td></tr><tr><td>http://www.wikidata.org/entity/Q192934</td><td>Angels &amp; Demons</td><td>Ángeles y demonios</td></tr></tbody></table></body></html>"
   ]
  },
  {
   "cell_type": "markdown",
   "metadata": {},
   "source": [
    "Los elementos repetidos que se obtendrían sin __DISTINCT__ son aquellas películas que son instancia de varias subclases de la clase __film__ (esta última también incluida).\n",
    "\n",
    "Por ejemplo, la película _Batman v Superman: Dawn of Justice_ aparece repetida sin __DISTINCT__ al ser instancia de __film__ y __3D film__, siendo esta una subclase de __film__.\n",
    "\n",
    "Introducimos el __DISTINCT__ en una _subquery_ por eficiencia, pues sin _subquery_ las tuplas tendrían que comparar además las etiquetas para comprobar la igualdad."
   ]
  },
  {
   "cell_type": "markdown",
   "metadata": {},
   "source": [
    "Por otra parte, aparecen películas al comienzo de la tabla cuya etiqueta no está traducida al español, pero sí se encuentran en inglés.\n",
    "\n",
    "Además se da un caso especial, la película Q14947421, que tampoco tiene etiqueta en inglés. Se trata de la película _La Légende de Shalimar_ cuya etiqueta sólo está presente en francés.\n",
    "\n",
    "https://www.wikidata.org/wiki/Q14947421"
   ]
  },
  {
   "cell_type": "markdown",
   "metadata": {},
   "source": [
    "Un detalle a comentar es que el orden alfanumérico utilizado para ordenar las películas en español, como era de esperar, no funciona con caracteres acentuados. Por ello la película _Ángeles y demonios_ se encuentra al final de la lista. Afortunadamente, es la única que comienza con una letra acentuada."
   ]
  },
  {
   "cell_type": "markdown",
   "metadata": {},
   "source": [
    "### Consulta 6\n",
    "\n",
    "Zimmer es sin duda un compositor prolífico. ¿Exactamente en cuentas películas ha participado como compositor?"
   ]
  },
  {
   "cell_type": "raw",
   "metadata": {},
   "source": [
    "SELECT (COUNT(*) AS ?Número_de_películas)\n",
    "WHERE\n",
    "{\n",
    "  # P31: instancia de\n",
    "  # P279: subclase de\n",
    "  # Q11424: película (secuencia de imágenes que dan sensación de movimiento y narran una historia o hecho real)\n",
    "  \n",
    "  # P86: persona encargada de escribir la música de una obra musical\n",
    "  # Q76364: Hans Zimmer\n",
    "    \n",
    "  {\n",
    "    SELECT DISTINCT (?film AS ?filmQ)\n",
    "    WHERE\n",
    "    {\n",
    "      ?film wdt:P31/wdt:P279* wd:Q11424; # instancia de (subclase de)* film.\n",
    "            wdt:P86 wd:Q76364. # tiene como compositor  Hans Zimmer.   \n",
    "    }\n",
    "  }\n",
    "}"
   ]
  },
  {
   "cell_type": "markdown",
   "metadata": {},
   "source": [
    "Para esta consulta, utilizamos la _subquery_ como en la anterior para aplicar el __DISTINCT__ previo al conteo.\n",
    "\n",
    "También podría haberse utilizado el __DISTINCT__ dentro de la función agregada __COUNT()__ para no contar elementos repetidos."
   ]
  },
  {
   "cell_type": "markdown",
   "metadata": {},
   "source": [
    "<html><head><meta charset=\"utf-8\"></head><body><table><thead><tr><th>Número_de_películas</th></tr></thead><tbody><tr><td>149</td></tr></tbody></table></body></html>"
   ]
  },
  {
   "cell_type": "markdown",
   "metadata": {},
   "source": [
    "### Consulta 7\n",
    "\n",
    "Es importante que las películas tengan una duración adecuada, ni muy cortas ni demasiado largas. De todas las películas en las que ha colaborado Zimmer como compositor, ¿cuales duran entre 90 y 120 minutos? Muestra los resultados ordenados alfabéticamente. Para cada película muestra el título y la duración.\n",
    "\n",
    "Algunas películas (como *Salto al peligro*) pueden tener varias duraciones (supongo que son distintas versiones de la película). En este apartado no importa si aparecen varias veces en los resultados."
   ]
  },
  {
   "cell_type": "raw",
   "metadata": {},
   "source": [
    "SELECT ?filmQ ?Film ?Película (?length AS ?Duración)\n",
    "WHERE\n",
    "{\n",
    "  # P31: instancia de\n",
    "  # P279: subclase de\n",
    "  # Q11424: película (secuencia de imágenes que dan sensación de movimiento y narran una historia o hecho real)\n",
    "  \n",
    "  # P86: persona encargada de escribir la música de una obra musical\n",
    "  # Q76364: Hans Zimmer\n",
    "  \n",
    "  # P2047: duración de un evento o proceso.\n",
    "    \n",
    "  {\n",
    "    SELECT DISTINCT ?filmQ ?length\n",
    "    WHERE\n",
    "    {\n",
    "      # Filtramos las películas por duración (entre 90 y 120 minutos).\n",
    "      ?filmQ wdt:P31/wdt:P279* wd:Q11424; # instancia de (subclase de)* film.\n",
    "             wdt:P86 wd:Q76364; # tiene como compositor  Hans Zimmer.\n",
    "             wdt:P2047 ?length filter( 90 <= ?length && ?length <= 120 ).\n",
    "    }\n",
    "  }\n",
    "  \n",
    "  OPTIONAL{?filmQ rdfs:label ?Film filter( lang(?Film) = 'en' )}\n",
    "  OPTIONAL{?filmQ rdfs:label ?Película filter( lang(?Película) = 'es' )}\n",
    "}\n",
    "ORDER BY ?Película"
   ]
  },
  {
   "cell_type": "markdown",
   "metadata": {},
   "source": [
    "<html><head><meta charset=\"utf-8\"></head><body><table><thead><tr><th>filmQ</th><th>Film</th><th>Película</th><th>Duración</th></tr></thead><tbody><tr><td>http://www.wikidata.org/entity/Q129288</td><td>Renaissance Man</td><td></td><td>117</td></tr><tr><td>http://www.wikidata.org/entity/Q853425</td><td>I'll Do Anything</td><td></td><td>115</td></tr><tr><td>http://www.wikidata.org/entity/Q1192764</td><td>Chill Factor</td><td></td><td>101</td></tr><tr><td>http://www.wikidata.org/entity/Q1753610</td><td>Beyond Rangoon</td><td></td><td>95</td></tr><tr><td>http://www.wikidata.org/entity/Q2406188</td><td>The Lightship</td><td></td><td>92</td></tr><tr><td>http://www.wikidata.org/entity/Q2963312</td><td>Chicago Joe and the Showgirl</td><td></td><td>103</td></tr><tr><td>http://www.wikidata.org/entity/Q4424430</td><td>Twister</td><td></td><td>93</td></tr><tr><td>http://www.wikidata.org/entity/Q4749984</td><td>An Everlasting Piece</td><td></td><td>108</td></tr><tr><td>http://www.wikidata.org/entity/Q6928990</td><td>Mr. Morgan's Last Love</td><td></td><td>116</td></tr><tr><td>http://www.wikidata.org/entity/Q7858914</td><td>Two Deaths</td><td></td><td>102</td></tr><tr><td>http://www.wikidata.org/entity/Q18511204</td><td>Nightmare at Noon</td><td></td><td>96</td></tr><tr><td>http://www.wikidata.org/entity/Q135347</td><td>Bird on a Wire</td><td>Bird on a Wire</td><td>110</td></tr><tr><td>http://www.wikidata.org/entity/Q18619153</td><td>The Boss Baby</td><td>Boss Baby</td><td>97</td></tr><tr><td>http://www.wikidata.org/entity/Q392915</td><td>Broken Arrow</td><td>Broken Arrow</td><td>110</td></tr><tr><td>http://www.wikidata.org/entity/Q15209986</td><td>Chappie</td><td>Chappie</td><td>120</td></tr><tr><td>http://www.wikidata.org/entity/Q135491</td><td>White Fang</td><td>Colmillo blanco</td><td>104</td></tr><tr><td>http://www.wikidata.org/entity/Q282748</td><td>Cool Runnings</td><td>Cool Runnings</td><td>98</td></tr><tr><td>http://www.wikidata.org/entity/Q603696</td><td>Days of Thunder</td><td>Days of Thunder</td><td>107</td></tr><tr><td>http://www.wikidata.org/entity/Q211373</td><td>Driving Miss Daisy</td><td>Driving Miss Daisy</td><td>99</td></tr><tr><td>http://www.wikidata.org/entity/Q21935651</td><td>Dunkirk</td><td>Dunkirk</td><td>106</td></tr><tr><td>http://www.wikidata.org/entity/Q1148079</td><td>Pacific Heights</td><td>El Inquilino o De Repente, un Extraño.</td><td>103</td></tr><tr><td>http://www.wikidata.org/entity/Q60296</td><td>The Weather Man</td><td>El hombre del tiempo</td><td>102</td></tr><tr><td>http://www.wikidata.org/entity/Q1141706</td><td>The Peacemaker</td><td>El pacificador</td><td>118</td></tr><tr><td>http://www.wikidata.org/entity/Q16386722</td><td>The Little Prince</td><td>El principito</td><td>108</td></tr><tr><td>http://www.wikidata.org/entity/Q245227</td><td>The Prince of Egypt</td><td>El príncipe de Egipto</td><td>99</td></tr><tr><td>http://www.wikidata.org/entity/Q27044293</td><td>The Lion King</td><td>El rey león</td><td>118</td></tr><tr><td>http://www.wikidata.org/entity/Q390299</td><td>The Fan</td><td>Fanático</td><td>111</td></tr><tr><td>http://www.wikidata.org/entity/Q18210299</td><td>Freeheld</td><td>Freeheld</td><td>103</td></tr><tr><td>http://www.wikidata.org/entity/Q505135</td><td>Green Card</td><td>Green card</td><td>102</td></tr><tr><td>http://www.wikidata.org/entity/Q523197</td><td>How Do You Know</td><td>How Do You Know</td><td>116</td></tr><tr><td>http://www.wikidata.org/entity/Q843950</td><td>It's Complicated</td><td>It's Complicated</td><td>118</td></tr><tr><td>http://www.wikidata.org/entity/Q129193</td><td>Kung Fu Panda</td><td>Kung Fu Panda</td><td>92</td></tr><tr><td>http://www.wikidata.org/entity/Q487447</td><td>Kung Fu Panda 2</td><td>Kung Fu Panda 2</td><td>91</td></tr><tr><td>http://www.wikidata.org/entity/Q15055043</td><td>Kung Fu Panda 3</td><td>Kung Fu Panda 3</td><td>95</td></tr><tr><td>http://www.wikidata.org/entity/Q17184103</td><td>The Woman in Gold</td><td>La dama de oro</td><td>109</td></tr><tr><td>http://www.wikidata.org/entity/Q244247</td><td>Madagascar 3: Europe's Most Wanted</td><td>Madagascar 3: Europe's Most Wanted</td><td>93</td></tr><tr><td>http://www.wikidata.org/entity/Q1140085</td><td>Crimson Tide</td><td>Marea roja</td><td>111</td></tr><tr><td>http://www.wikidata.org/entity/Q4536</td><td>Matchstick Men</td><td>Matchstick Men</td><td>111</td></tr><tr><td>http://www.wikidata.org/entity/Q81205</td><td>Megamind</td><td>Megamind</td><td>96</td></tr><tr><td>http://www.wikidata.org/entity/Q1788520</td><td>Muppet Treasure Island</td><td>Muppet Treasure Island</td><td>99</td></tr><tr><td>http://www.wikidata.org/entity/Q955389</td><td>Nine Months</td><td>Nueve meses</td><td>103</td></tr><tr><td>http://www.wikidata.org/entity/Q577469</td><td>Point of No Return</td><td>Point of No Return</td><td>103</td></tr><tr><td>http://www.wikidata.org/entity/Q12128282</td><td>Radio Flyer</td><td>Radio Flyer</td><td>114</td></tr><tr><td>http://www.wikidata.org/entity/Q275432</td><td>Rango</td><td>Rango</td><td>107</td></tr><tr><td>http://www.wikidata.org/entity/Q603865</td><td>Regarding Henry</td><td>Regarding Henry</td><td>108</td></tr><tr><td>http://www.wikidata.org/entity/Q1058489</td><td>Sadako 3D</td><td>Sadako 3D</td><td>96</td></tr><tr><td>http://www.wikidata.org/entity/Q1260289</td><td>Drop Zone</td><td>Salto al peligro</td><td>98</td></tr><tr><td>http://www.wikidata.org/entity/Q1260289</td><td>Drop Zone</td><td>Salto al peligro</td><td>101</td></tr><tr><td>http://www.wikidata.org/entity/Q1260289</td><td>Drop Zone</td><td>Salto al peligro</td><td>102</td></tr><tr><td>http://www.wikidata.org/entity/Q120367</td><td>Shark Tale</td><td>Shark Tale</td><td>90</td></tr><tr><td>http://www.wikidata.org/entity/Q1544085</td><td>Something to Talk About</td><td>Something to Talk About</td><td>106</td></tr><tr><td>http://www.wikidata.org/entity/Q1210206</td><td>The Dilemma</td><td>The Dilemma</td><td>111</td></tr><tr><td>http://www.wikidata.org/entity/Q1475674</td><td>The Preacher's Wife</td><td>The Preacher's Wife</td><td>119</td></tr><tr><td>http://www.wikidata.org/entity/Q212804</td><td>The Ring</td><td>The Ring</td><td>116</td></tr><tr><td>http://www.wikidata.org/entity/Q866358</td><td>The Road to El Dorado</td><td>The Road to El Dorado</td><td>90</td></tr><tr><td>http://www.wikidata.org/entity/Q1849238</td><td>Toys</td><td>Toys</td><td>116</td></tr><tr><td>http://www.wikidata.org/entity/Q1127709</td><td>True Romance</td><td>True Romance</td><td>120</td></tr><tr><td>http://www.wikidata.org/entity/Q232130</td><td>A World Apart</td><td>Un mundo aparte</td><td>112</td></tr><tr><td>http://www.wikidata.org/entity/Q3569395</td><td>Winter's Tale</td><td>Winter's Tale</td><td>118</td></tr><tr><td>http://www.wikidata.org/entity/Q31188935</td><td>Dark Phoenix</td><td>X-Men: Dark Phoenix</td><td>114</td></tr></tbody></table></body></html>"
   ]
  },
  {
   "cell_type": "markdown",
   "metadata": {},
   "source": [
    "### Consulta 8\n",
    "\n",
    "Vamos a recuperar ahora las películas más actuales en las que Zimmer ha colaborado como compositor. Estamos interesados específicamente en películas que se hayan estrenado a partir de 2005.\n",
    "\n",
    "Seguramente, en tu primer intento verás que cada película aparece repetida varias veces con fechas distintas porque Wikidata contiene las fechas de estreno en cada país. Vamos a considerar que la fecha real de estreno de la película es la fecha más antigua de todas ellas.\n",
    "\n",
    "Para que cada película aparezca sólo una vez con la fecha correcta necesitarás agrupar las respuestas por película y título, y aplicar una función de agregación sobre las fechas de publicación. Los resultados se tienen que mostrar ordenados alfabéticamente."
   ]
  },
  {
   "cell_type": "raw",
   "metadata": {},
   "source": [
    "SELECT ?filmQ ?Film ?Película ?Fecha_de_Estreno\n",
    "WHERE\n",
    "{\n",
    "  # P31: instancia de\n",
    "  # P279: subclase de\n",
    "  # Q11424: película (secuencia de imágenes que dan sensación de movimiento y narran una historia o hecho real)\n",
    "  \n",
    "  # P86: persona encargada de escribir la música de una obra musical\n",
    "  # Q76364: Hans Zimmer\n",
    "  \n",
    "  # P577: fecha en la cual fue publicada esta obra\n",
    "    \n",
    "  {\n",
    "    SELECT DISTINCT ?filmQ (min(?premiere) AS ?pdate)\n",
    "    WHERE\n",
    "    {\n",
    "      # Filtramos las películas por duración (entre 90 y 120 minutos).\n",
    "      ?filmQ wdt:P31/wdt:P279* wd:Q11424; # instancia de (subclase de)* film.\n",
    "             wdt:P86 wd:Q76364; # tiene como compositor  Hans Zimmer.\n",
    "             wdt:P577 ?premiere filter( year(?premiere) >= 2005 ).\n",
    "    }\n",
    "    GROUP BY ?filmQ\n",
    "  }\n",
    "            \n",
    "  OPTIONAL{?filmQ rdfs:label ?Film filter( lang(?Film) = 'en' )}\n",
    "  OPTIONAL{?filmQ rdfs:label ?Película filter( lang(?Película) = 'es' )}\n",
    "  \n",
    "  # Para legibilidad de fechas en el Notebook, las convertimos en string.\n",
    "  BIND( concat( str(year(?pdate)), \"-\", str(month(?pdate)), \"-\", str(day(?pdate)) ) as ?Fecha_de_Estreno )\n",
    "}\n",
    "ORDER BY ?Película"
   ]
  },
  {
   "cell_type": "markdown",
   "metadata": {},
   "source": [
    "<html><head><meta charset=\"utf-8\"></head><body><table><thead><tr><th>filmQ</th><th>Film</th><th>Película</th><th>Fecha_de_Estreno</th></tr></thead><tbody><tr><td>http://www.wikidata.org/entity/Q3936037</td><td>Rings</td><td></td><td>2005-1-1</td></tr><tr><td>http://www.wikidata.org/entity/Q3964671</td><td>Son of Morning</td><td></td><td>2011-1-1</td></tr><tr><td>http://www.wikidata.org/entity/Q4286601</td><td>Megamind: The Button of Doom</td><td></td><td>2011-1-1</td></tr><tr><td>http://www.wikidata.org/entity/Q6928990</td><td>Mr. Morgan's Last Love</td><td></td><td>2013-6-1</td></tr><tr><td>http://www.wikidata.org/entity/Q14947421</td><td></td><td></td><td>2013-8-28</td></tr><tr><td>http://www.wikidata.org/entity/Q16155083</td><td>Batkid</td><td></td><td>2015-1-1</td></tr><tr><td>http://www.wikidata.org/entity/Q47069744</td><td>Believer</td><td></td><td>2018-1-1</td></tr><tr><td>http://www.wikidata.org/entity/Q3023357</td><td>12 Years a Slave</td><td>12 Años de esclavitud</td><td>2013-8-30</td></tr><tr><td>http://www.wikidata.org/entity/Q166262</td><td>Batman Begins</td><td>Batman Begins</td><td>2005-6-15</td></tr><tr><td>http://www.wikidata.org/entity/Q14772351</td><td>Batman v Superman: Dawn of Justice</td><td>Batman v Superman: El Amanecer De La Justicia</td><td>2016-3-23</td></tr><tr><td>http://www.wikidata.org/entity/Q21500755</td><td>Blade Runner 2049</td><td>Blade Runner 2049</td><td>2017-10-3</td></tr><tr><td>http://www.wikidata.org/entity/Q61450772</td><td>The SpongeBob Movie: Sponge on the Run</td><td>Bob Esponja al Rescate</td><td>2020-1-1</td></tr><tr><td>http://www.wikidata.org/entity/Q21534241</td><td>No Time to Die</td><td>Bond 25</td><td>2020-11-12</td></tr><tr><td>http://www.wikidata.org/entity/Q18619153</td><td>The Boss Baby</td><td>Boss Baby</td><td>2017-1-1</td></tr><tr><td>http://www.wikidata.org/entity/Q15209986</td><td>Chappie</td><td>Chappie</td><td>2015-3-5</td></tr><tr><td>http://www.wikidata.org/entity/Q60834962</td><td>Dune</td><td>Dune</td><td>2020-1-1</td></tr><tr><td>http://www.wikidata.org/entity/Q21935651</td><td>Dunkirk</td><td>Dunkirk</td><td>2017-7-13</td></tr><tr><td>http://www.wikidata.org/entity/Q160560</td><td>The Da Vinci Code</td><td>El código Da Vinci</td><td>2006-5-17</td></tr><tr><td>http://www.wikidata.org/entity/Q622769</td><td>Man of Steel</td><td>El hombre de acero</td><td>2013-6-10</td></tr><tr><td>http://www.wikidata.org/entity/Q60296</td><td>The Weather Man</td><td>El hombre del tiempo</td><td>2005-1-1</td></tr><tr><td>http://www.wikidata.org/entity/Q16386722</td><td>The Little Prince</td><td>El principito</td><td>2015-7-29</td></tr><tr><td>http://www.wikidata.org/entity/Q27044293</td><td>The Lion King</td><td>El rey león</td><td>2019-7-17</td></tr><tr><td>http://www.wikidata.org/entity/Q2066933</td><td>Freeheld</td><td>Freeheld</td><td>2007-1-18</td></tr><tr><td>http://www.wikidata.org/entity/Q18210299</td><td>Freeheld</td><td>Freeheld</td><td>2015-1-1</td></tr><tr><td>http://www.wikidata.org/entity/Q691672</td><td>Frost/Nixon</td><td>Frost/Nixon</td><td>2008-10-15</td></tr><tr><td>http://www.wikidata.org/entity/Q23755544</td><td>Hidden Figures</td><td>Hidden Figures</td><td>2016-12-26</td></tr><tr><td>http://www.wikidata.org/entity/Q15137718</td><td>Son of God</td><td>Hijo de Dios</td><td>2014-2-28</td></tr><tr><td>http://www.wikidata.org/entity/Q523197</td><td>How Do You Know</td><td>How Do You Know</td><td>2010-1-1</td></tr><tr><td>http://www.wikidata.org/entity/Q25188</td><td>Inception</td><td>Inception</td><td>2010-7-8</td></tr><tr><td>http://www.wikidata.org/entity/Q18192306</td><td>Inferno</td><td>Inferno</td><td>2016-10-13</td></tr><tr><td>http://www.wikidata.org/entity/Q13417189</td><td>Interstellar</td><td>Interstellar</td><td>2014-10-26</td></tr><tr><td>http://www.wikidata.org/entity/Q843950</td><td>It's Complicated</td><td>It's Complicated</td><td>2009-12-24</td></tr><tr><td>http://www.wikidata.org/entity/Q129193</td><td>Kung Fu Panda</td><td>Kung Fu Panda</td><td>2008-5-15</td></tr><tr><td>http://www.wikidata.org/entity/Q487447</td><td>Kung Fu Panda 2</td><td>Kung Fu Panda 2</td><td>2011-5-22</td></tr><tr><td>http://www.wikidata.org/entity/Q15055043</td><td>Kung Fu Panda 3</td><td>Kung Fu Panda 3</td><td>2016-1-29</td></tr><tr><td>http://www.wikidata.org/entity/Q7717444</td><td>The Bible</td><td>La biblia</td><td>2013-3-3</td></tr><tr><td>http://www.wikidata.org/entity/Q17184103</td><td>The Woman in Gold</td><td>La dama de oro</td><td>2015-2-9</td></tr><tr><td>http://www.wikidata.org/entity/Q182254</td><td>The Simpsons Movie</td><td>Los Simpson: la película</td><td>2007-7-25</td></tr><tr><td>http://www.wikidata.org/entity/Q174555</td><td>Madagascar</td><td>Madagascar</td><td>2005-5-27</td></tr><tr><td>http://www.wikidata.org/entity/Q188474</td><td>Madagascar: Escape 2 Africa</td><td>Madagascar 2: Escape de África</td><td>2008-11-7</td></tr><tr><td>http://www.wikidata.org/entity/Q244247</td><td>Madagascar 3: Europe's Most Wanted</td><td>Madagascar 3: Europe's Most Wanted</td><td>2012-6-6</td></tr><tr><td>http://www.wikidata.org/entity/Q81205</td><td>Megamind</td><td>Megamind</td><td>2010-11-5</td></tr><tr><td>http://www.wikidata.org/entity/Q10350033</td><td>Pirates of the Caribbean: Dead Men Tell No Tales</td><td>Piratas del Caribe: La venganza de Salazar</td><td>2017-5-24</td></tr><tr><td>http://www.wikidata.org/entity/Q54274</td><td>Pirates of the Caribbean: At World's End</td><td>Piratas del Caribe: en el fin del mundo</td><td>2007-5-23</td></tr><tr><td>http://www.wikidata.org/entity/Q161087</td><td>Pirates of the Caribbean: Dead Man's Chest</td><td>Pirates of the Caribbean: Dead Man's Chest</td><td>2006-7-7</td></tr><tr><td>http://www.wikidata.org/entity/Q183555</td><td>Pirates of the Caribbean: On Stranger Tides</td><td>Pirates of the Caribbean: On Stranger Tides</td><td>2011-5-18</td></tr><tr><td>http://www.wikidata.org/entity/Q275432</td><td>Rango</td><td>Rango</td><td>2011-2-14</td></tr><tr><td>http://www.wikidata.org/entity/Q1768437</td><td>Rush</td><td>Rush</td><td>2013-9-2</td></tr><tr><td>http://www.wikidata.org/entity/Q1058489</td><td>Sadako 3D</td><td>Sadako 3D</td><td>2012-5-12</td></tr><tr><td>http://www.wikidata.org/entity/Q200396</td><td>Sherlock Holmes</td><td>Sherlock Holmes</td><td>2009-12-24</td></tr><tr><td>http://www.wikidata.org/entity/Q243643</td><td>Sherlock Holmes: A Game of Shadows</td><td>Sherlock Holmes: Juego de sombras</td><td>2011-12-16</td></tr><tr><td>http://www.wikidata.org/entity/Q56850065</td><td>Space Jam: A New Legacy</td><td>Space Jam: A New Legacy</td><td>2021-7-16</td></tr><tr><td>http://www.wikidata.org/entity/Q1367647</td><td>Spanglish</td><td>Spanglish</td><td>2005-4-7</td></tr><tr><td>http://www.wikidata.org/entity/Q4254026</td><td>The Amazing Spider-Man 2</td><td>The Amazing Spider-Man 2: Rise of Electro</td><td>2014-4-17</td></tr><tr><td>http://www.wikidata.org/entity/Q856805</td><td>The Boat That Rocked</td><td>The Boat That Rocked</td><td>2009-1-1</td></tr><tr><td>http://www.wikidata.org/entity/Q163872</td><td>The Dark Knight</td><td>The Dark Knight</td><td>2008-7-18</td></tr><tr><td>http://www.wikidata.org/entity/Q189330</td><td>The Dark Knight Rises</td><td>The Dark Knight Rises</td><td>2012-7-20</td></tr><tr><td>http://www.wikidata.org/entity/Q1210206</td><td>The Dilemma</td><td>The Dilemma</td><td>2011-1-1</td></tr><tr><td>http://www.wikidata.org/entity/Q478748</td><td>The Holiday</td><td>The Holiday</td><td>2006-12-5</td></tr><tr><td>http://www.wikidata.org/entity/Q18151554</td><td>The Last Face</td><td>The Last Face</td><td>2015-1-1</td></tr><tr><td>http://www.wikidata.org/entity/Q548919</td><td>The Lone Ranger</td><td>The Lone Ranger</td><td>2013-7-3</td></tr><tr><td>http://www.wikidata.org/entity/Q255309</td><td>The Longest Daycare</td><td>The Longest Daycare</td><td>2012-7-2</td></tr><tr><td>http://www.wikidata.org/entity/Q1354326</td><td>The Punisher: Dirty Laundry</td><td>The Punisher: Dirty Laundry</td><td>2012-1-1</td></tr><tr><td>http://www.wikidata.org/entity/Q18844656</td><td>The Secret Life of Pets</td><td>The Secret Life of Pets</td><td>2016-6-16</td></tr><tr><td>http://www.wikidata.org/entity/Q31202708</td><td>Top Gun: Maverick</td><td>Top Gun: Maverick</td><td>2020-7-15</td></tr><tr><td>http://www.wikidata.org/entity/Q29163736</td><td>Widows</td><td>Viudas</td><td>2018-11-6</td></tr><tr><td>http://www.wikidata.org/entity/Q3569395</td><td>Winter's Tale</td><td>Winter's Tale</td><td>2014-2-10</td></tr><tr><td>http://www.wikidata.org/entity/Q33408623</td><td>Wonder Woman 1984</td><td>Wonder Woman 1984</td><td>2020-6-5</td></tr><tr><td>http://www.wikidata.org/entity/Q31188935</td><td>Dark Phoenix</td><td>X-Men: Dark Phoenix</td><td>2019-6-5</td></tr><tr><td>http://www.wikidata.org/entity/Q192934</td><td>Angels &amp; Demons</td><td>Ángeles y demonios</td><td>2009-1-1</td></tr></tbody></table></body></html>"
   ]
  },
  {
   "cell_type": "markdown",
   "metadata": {},
   "source": [
    "Como es de esperar, la función __YEAR()__ se aplica a tipos _xsd:dateTime_, que representan fechas, y devuelve como un entero el año de las mismas."
   ]
  },
  {
   "cell_type": "markdown",
   "metadata": {},
   "source": [
    "### Consulta 9\n",
    "\n",
    "En una película pueden colaborar varios músicos. ¿Qué otros compositores han compuesto junto a Zimmer en una película? Para cada uno de ellos muestra su nombre, la fecha de nacimiento y (si ha fallecido) la fecha de defunción. Los resultados deben aparecer ordenados alfabéticamente."
   ]
  },
  {
   "cell_type": "raw",
   "metadata": {},
   "source": [
    "SELECT ?compQ ?Compositor ?Fecha_de_Nacimiento ?Fecha_de_Defunción\n",
    "WHERE\n",
    "{\n",
    "  # P31: instancia de\n",
    "  # P279: subclase de\n",
    "  # Q11424: película (secuencia de imágenes que dan sensación de movimiento y narran una historia o hecho real)\n",
    "  \n",
    "  # P86: persona encargada de escribir la música de una obra musical\n",
    "  # Q76364: Hans Zimmer\n",
    "  \n",
    "  # P569: fecha en la cual nació el sujeto\n",
    "  # P570: fecha en la cual falleción el sujeto\n",
    "  \n",
    "  {\n",
    "    SELECT DISTINCT ?compQ ?bdate ?ddate\n",
    "    WHERE\n",
    "    {\n",
    "      # Filtramos las películas por duración (entre 90 y 120 minutos).\n",
    "      ?filmQ wdt:P31/wdt:P279* wd:Q11424; # instancia de (subclase de)* film.\n",
    "             wdt:P86 wd:Q76364; # tiene como compositor  Hans Zimmer.\n",
    "             wdt:P86 ?compQ filter( ?compQ != wd:Q76364 ).\n",
    "      \n",
    "      ?compQ wdt:P569 ?bdate.\n",
    "      OPTIONAL{?compQ wdt:P570 ?ddate}.\n",
    "    }\n",
    "  }\n",
    "\n",
    "  # Para compositores no usamos la etiqueta en español, pues no se\n",
    "  # suelen traducir los nombres de compositores, y será más probable\n",
    "  # que haya menos nombres para español que para inglés.\n",
    "  OPTIONAL{?compQ rdfs:label ?Compositor filter( lang(?Compositor) = 'en' )}\n",
    "  \n",
    "  # Para legibilidad de fechas en el Notebook, las convertimos en string.\n",
    "  BIND( concat( str(year(?bdate)), \"-\", str(month(?bdate)), \"-\", str(day(?bdate)) ) as ?Fecha_de_Nacimiento )\n",
    "  BIND( concat( str(year(?ddate)), \"-\", str(month(?ddate)), \"-\", str(day(?ddate)) ) as ?Fecha_de_Defunción ) \n",
    "}\n",
    "ORDER BY ?Compositor"
   ]
  },
  {
   "cell_type": "markdown",
   "metadata": {},
   "source": [
    "<html><head><meta charset=\"utf-8\"></head><body><table><thead><tr><th>compQ</th><th>Compositor</th><th>Fecha_de_Nacimiento</th><th>Fecha_de_Defunción</th></tr></thead><tbody><tr><td>http://www.wikidata.org/entity/Q313362</td><td>Alexandre Desplat</td><td>1961-8-23</td><td></td></tr><tr><td>http://www.wikidata.org/entity/Q352722</td><td>Alfredo Capalani</td><td>1854-6-19</td><td>1893-8-7</td></tr><tr><td>http://www.wikidata.org/entity/Q809067</td><td>Barry Mann</td><td>1939-2-9</td><td></td></tr><tr><td>http://www.wikidata.org/entity/Q83906</td><td>Basil Poledouris</td><td>1945-8-21</td><td>2006-11-8</td></tr><tr><td>http://www.wikidata.org/entity/Q6056440</td><td>Benjamin Wallfisch</td><td>1979-8-7</td><td></td></tr><tr><td>http://www.wikidata.org/entity/Q461008</td><td>Cynthia Weil</td><td>1940-10-18</td><td></td></tr><tr><td>http://www.wikidata.org/entity/Q471537</td><td>Djivan Gasparyan</td><td>1928-10-12</td><td></td></tr><tr><td>http://www.wikidata.org/entity/Q2808</td><td>Elton John</td><td>1947-3-25</td><td></td></tr><tr><td>http://www.wikidata.org/entity/Q372489</td><td>Harold Faltermeyer</td><td>1952-10-5</td><td></td></tr><tr><td>http://www.wikidata.org/entity/Q213869</td><td>James Newton Howard</td><td>1951-6-9</td><td></td></tr><tr><td>http://www.wikidata.org/entity/Q266429</td><td>Junkie XL</td><td>1967-12-8</td><td></td></tr><tr><td>http://www.wikidata.org/entity/Q443712</td><td>Kenji Kawai</td><td>1957-4-23</td><td></td></tr><tr><td>http://www.wikidata.org/entity/Q57833</td><td>Klaus Badelt</td><td>1967-6-12</td><td></td></tr><tr><td>http://www.wikidata.org/entity/Q40580</td><td>Lisa Gerrard</td><td>1961-4-12</td><td></td></tr><tr><td>http://www.wikidata.org/entity/Q608628</td><td>Lorne Balfe</td><td>1976-2-23</td><td></td></tr><tr><td>http://www.wikidata.org/entity/Q1383645</td><td>Nick Glennie-Smith</td><td>1951-10-3</td><td></td></tr><tr><td>http://www.wikidata.org/entity/Q14313</td><td>Pharrell Williams</td><td>1973-4-5</td><td></td></tr><tr><td>http://www.wikidata.org/entity/Q730252</td><td>Stanley Myers</td><td>1933-10-6</td><td>1993-11-9</td></tr><tr><td>http://www.wikidata.org/entity/Q730252</td><td>Stanley Myers</td><td>1930-10-6</td><td>1993-11-9</td></tr><tr><td>http://www.wikidata.org/entity/Q319996</td><td>Thomas Newman</td><td>1955-10-20</td><td></td></tr><tr><td>http://www.wikidata.org/entity/Q298295</td><td>Tim Rice</td><td>1944-11-10</td><td></td></tr></tbody></table></body></html>"
   ]
  },
  {
   "cell_type": "markdown",
   "metadata": {},
   "source": [
    "### Consulta 10\n",
    "\n",
    "¿Cuántos asertos hay sobre Zimmer en Wikidata? Ten en cuenta que Zimmer puede aparece tanto como sujeto como objeto de cada tripleta."
   ]
  },
  {
   "cell_type": "raw",
   "metadata": {},
   "source": [
    "SELECT (COUNT(*) AS ?Número_de_asertos)\n",
    "WHERE\n",
    "{\n",
    "  {\n",
    "    SELECT ?x ?y WHERE {\n",
    "    ?x ?y wd:Q76364.\n",
    "    }\n",
    "  } UNION {\n",
    "    SELECT ?x ?y WHERE {\n",
    "    wd:Q76364 ?x ?y.\n",
    "    }\n",
    "  }\n",
    "}"
   ]
  },
  {
   "cell_type": "markdown",
   "metadata": {},
   "source": [
    "<html><head><meta charset=\"utf-8\"></head><body><table><thead><tr><th>Número_de_asertos</th></tr></thead><tbody><tr><td>1187</td></tr></tbody></table></body></html>"
   ]
  },
  {
   "cell_type": "markdown",
   "metadata": {},
   "source": [
    "Utilizamos la palabra clave __UNION__ para unir los resultados de dos consultas dentro de la consulta principal. De esta forma, el número total de tripletas es el resultado de contar el número de resultados en la unión de estas consultas, lo que hacemos con __COUNT(*)__."
   ]
  },
  {
   "cell_type": "markdown",
   "metadata": {},
   "source": [
    "_**FIN**_"
   ]
  }
 ],
 "metadata": {
  "kernelspec": {
   "display_name": "Python 3",
   "language": "python",
   "name": "python3"
  },
  "language_info": {
   "codemirror_mode": {
    "name": "ipython",
    "version": 3
   },
   "file_extension": ".py",
   "mimetype": "text/x-python",
   "name": "python",
   "nbconvert_exporter": "python",
   "pygments_lexer": "ipython3",
   "version": "3.7.6"
  }
 },
 "nbformat": 4,
 "nbformat_minor": 4
}
