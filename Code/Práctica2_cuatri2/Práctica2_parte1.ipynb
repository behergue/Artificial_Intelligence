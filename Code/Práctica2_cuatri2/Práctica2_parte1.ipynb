{
 "cells": [
  {
   "cell_type": "markdown",
   "metadata": {},
   "source": [
    "# __PRÁCTICA 2 · PARTE 1: ANÁLISIS DE SENTIMIENTO__\n",
    "\n",
    "__GRUPO 7__\n",
    "\n",
    "Beatriz Herguedas Pinedo\n",
    "\n",
    "Pablo Hernández Aguado"
   ]
  },
  {
   "cell_type": "markdown",
   "metadata": {},
   "source": [
    "#### Bibliotecas y funciones importadas."
   ]
  },
  {
   "cell_type": "code",
   "execution_count": 1,
   "metadata": {},
   "outputs": [],
   "source": [
    "import pandas as pd\n",
    "import numpy as np\n",
    "import matplotlib.pyplot as plt\n",
    "\n",
    "from sklearn.model_selection import train_test_split\n",
    "\n",
    "from sklearn.feature_extraction.text import CountVectorizer\n",
    "from sklearn.feature_extraction.text import TfidfTransformer\n",
    "\n",
    "from sklearn.naive_bayes import BernoulliNB\n",
    "from sklearn.naive_bayes import MultinomialNB\n",
    "from sklearn.naive_bayes import GaussianNB\n",
    "\n",
    "from sklearn import tree\n",
    "from sklearn.metrics import recall_score\n",
    "\n",
    "import graphviz as gvz\n",
    "from IPython.display import Image, display\n",
    "\n",
    "from sklearn.metrics import classification_report\n",
    "from sklearn.metrics import confusion_matrix\n",
    "\n",
    "from sklearn.utils import shuffle"
   ]
  },
  {
   "cell_type": "markdown",
   "metadata": {},
   "source": [
    "## 1. Configuración de la partición entrenamiento-test."
   ]
  },
  {
   "cell_type": "markdown",
   "metadata": {},
   "source": [
    "__*Configurar una partición train-test usando el 75% de los datos para entrenamiento y el 25% restante para test.*__"
   ]
  },
  {
   "cell_type": "code",
   "execution_count": 2,
   "metadata": {},
   "outputs": [
    {
     "name": "stdout",
     "output_type": "stream",
     "text": [
      "['Wow... Loved this place.', 'Crust is not good.', 'Not tasty and the texture was just nasty.', 'Stopped by during the late May bank holiday off Rick Steve recommendation and loved it.', 'The selection on the menu was great and so were the prices.', 'Now I am getting angry and I want my damn pho.', \"Honeslty it didn't taste THAT fresh.)\", 'The potatoes were like rubber and you could tell they had been made up ahead of time being kept under a warmer.', 'The fries were great too.', 'A great touch.']\n",
      "[1, 0, 0, 1, 1, 0, 0, 0, 1, 1]\n"
     ]
    }
   ],
   "source": [
    "## Lectura del fichero de entrada.\n",
    "with open('yelp_labelled.txt') as f:\n",
    "    flines = f.read().splitlines()\n",
    "    \n",
    "messages = [ line.split('\\t')[0] for line in flines]\n",
    "valorations = [ int( line.split('\\t')[1] ) for line in flines]\n",
    "\n",
    "print(messages[0:10])\n",
    "print(valorations[0:10])"
   ]
  },
  {
   "cell_type": "code",
   "execution_count": 3,
   "metadata": {},
   "outputs": [],
   "source": [
    "## Creación de la partición train-test según lo estipulado.\n",
    "train_data, test_data, train_data_target, test_data_target = train_test_split(\n",
    "    messages, valorations,\n",
    "    stratify = valorations,\n",
    "    test_size = 0.25,\n",
    "    shuffle = True,\n",
    "    random_state = 7)"
   ]
  },
  {
   "cell_type": "code",
   "execution_count": 4,
   "metadata": {},
   "outputs": [
    {
     "name": "stdout",
     "output_type": "stream",
     "text": [
      "I was disgusted because I was pretty sure that was human hair. -> 0\n",
      "I dressed up to be treated so rudely! -> 0\n",
      "Once your food arrives it's meh. -> 0\n",
      "There was a warm feeling with the service and I felt like their guest for a special treat. -> 1\n",
      "Their frozen margaritas are WAY too sugary for my taste. -> 0\n",
      "\n",
      "Tamaño: 750 / 1000\n",
      "\n",
      "Estratificación: 50.0 %\n"
     ]
    }
   ],
   "source": [
    "## Comprobación de la partición de entrenamiento.\n",
    "for i in range(5):\n",
    "    print(train_data[i], '->', train_data_target[i])\n",
    "\n",
    "print()\n",
    "print('Tamaño:', len(train_data), '/', len(messages))\n",
    "\n",
    "## Comprobación de la estratificación.\n",
    "train_posval = sum(train_data_target)\n",
    "\n",
    "print()\n",
    "print('Estratificación:', 100 * train_posval / len(train_data), '%')"
   ]
  },
  {
   "cell_type": "code",
   "execution_count": 5,
   "metadata": {},
   "outputs": [
    {
     "name": "stdout",
     "output_type": "stream",
     "text": [
      "Worst Thai ever. -> 0\n",
      "The fries were not hot, and neither was my burger. -> 0\n",
      "Service is perfect and the family atmosphere is nice to see. -> 1\n",
      "The goat taco didn't skimp on the meat and wow what FLAVOR! -> 1\n",
      "By far the BEST cheesecurds we have ever had! -> 1\n",
      "\n",
      "Tamaño: 250 / 1000\n",
      "\n",
      "Estratificación: 50.0 %\n"
     ]
    }
   ],
   "source": [
    "## Comprobación de la partición de test.\n",
    "for i in range(5):\n",
    "    print(test_data[i], '->', test_data_target[i])\n",
    "\n",
    "print()\n",
    "print('Tamaño:', len(test_data), '/', len(messages))\n",
    "\n",
    "## Comprobación de la estratificación.\n",
    "test_posval = sum(test_data_target)\n",
    "\n",
    "print()\n",
    "print('Estratificación:', 100 * test_posval / len(test_data), '%')"
   ]
  },
  {
   "cell_type": "markdown",
   "metadata": {},
   "source": [
    "## 2. Configuración de los vectorizadores."
   ]
  },
  {
   "cell_type": "markdown",
   "metadata": {},
   "source": [
    "__*Vamos a estudiar varias representaciones de bolsa de palabaras, pero todas ellas utilizarán countVectorizer con el diccionario que se crea a partir de los términos del propio corpus y la lista de palabras vacías (stop_words) que proporciona sklearn para el inglés. Las 4 posibilidades que estudiaremos surgen de combinar los 2 siguientes parámetros:*__\n",
    "\n",
    "- *Bolsa de palabras binaria (usando countVectorizer con el parámetro binary = True y sin usar TfidfTransformer) y bolsa de palabras con TF/IDF (usando countVectorizer con el parámetro binary = False y solbre el resultado el TfidfTransformer).*\n",
    "\n",
    "- *Usando un rango de n-gramas de (1,1) y de (1,2) (parámetro ngram_range del countVectorizer). Es decir, haciendo que la bolsa de palabras se consideren solamente monogramas, o que se consideren monogramas y bigramas.*"
   ]
  },
  {
   "cell_type": "code",
   "execution_count": 6,
   "metadata": {},
   "outputs": [],
   "source": [
    "## Vectorizador 1: Bolsa binaria de monogramas, sin transformación TF/IDF.\n",
    "mono_bin_vectorizer = CountVectorizer(\n",
    "    lowercase = True, # Por defecto es así.\n",
    "    stop_words = 'english', # Palabras vacías del inglés.\n",
    "    vocabulary = None, # No utilizamos ningún vocabulario predeterminado.\n",
    "    ngram_range = (1,1), # Sólo monogramas.\n",
    "    binary = True) # Sólo queremos saber si la \"n-grama\" aparece en el documento.   "
   ]
  },
  {
   "cell_type": "code",
   "execution_count": 7,
   "metadata": {},
   "outputs": [],
   "source": [
    "## Vectorizador 2: Bolsa binaria de monogramas-bigramas, sin transformación TF/IDF.\n",
    "duo_bin_vectorizer = CountVectorizer(\n",
    "    lowercase = True, # Por defecto es así.\n",
    "    stop_words = 'english', # Palabras vacías del inglés.\n",
    "    vocabulary = None, # No utilizamos ningún vocabulario predeterminado.\n",
    "    ngram_range = (1,2), # Monogramas y bigramas.\n",
    "    binary = True) # Sólo queremos saber si el \"n-grama\" aparece en el documento.   "
   ]
  },
  {
   "cell_type": "code",
   "execution_count": 8,
   "metadata": {},
   "outputs": [],
   "source": [
    "## Vectorizador 3: Bolsa no binaria de monogramas (con transformación TF/IDF)\n",
    "mono_tfidf_vectorizer = CountVectorizer(\n",
    "    lowercase = True, # Por defecto es así.\n",
    "    stop_words = 'english', # Palabras vacías del inglés.\n",
    "    vocabulary = None, # No utilizamos ningún vocabulario predeterminado.\n",
    "    ngram_range = (1,1), # Sólo monogramas.\n",
    "    binary = False) # Contamos apariciones del \"n-grama\" en el documento."
   ]
  },
  {
   "cell_type": "code",
   "execution_count": 9,
   "metadata": {},
   "outputs": [],
   "source": [
    "## Vectorizador 4: Bolsa no binaria de monogramas-bigramas (con transformación TF/IDF)\n",
    "duo_tfidf_vectorizer = CountVectorizer(\n",
    "    lowercase = True, # Por defecto es así.\n",
    "    stop_words = 'english', # Palabras vacías del inglés.\n",
    "    vocabulary = None, # No utilizamos ningún vocabulario predeterminado.\n",
    "    ngram_range = (1,2), # Monogramas y bigramas.\n",
    "    binary = False) # Contamos apariciones del \"n-grama\" en el documento."
   ]
  },
  {
   "cell_type": "markdown",
   "metadata": {},
   "source": [
    "## 3. Construcción de clasificadores."
   ]
  },
  {
   "cell_type": "markdown",
   "metadata": {},
   "source": [
    "__*Para cada una de esas 4 combinaciones entrenaremos dos clasificadores:*__\n",
    "\n",
    "- Un clasificador Naive Bayes, eligiendo el más adecuado para cada caso.\n",
    "- Un árbol de decisión buscando un valor óptimo para uno de los siguiente parámetros para que se maximice la tasa de aciertos en el conjunto de test: max_depth, min_samples_leaf o max_leaf_nodes. Tomar siempre el mismo parámetro para todos las 4 vectorizaciones."
   ]
  },
  {
   "cell_type": "markdown",
   "metadata": {},
   "source": [
    "## 3.1. Vectorización I: binaria y (1,1)."
   ]
  },
  {
   "cell_type": "code",
   "execution_count": 10,
   "metadata": {},
   "outputs": [],
   "source": [
    "# Vectorizamos los datos del conjunto de entrenamiento (sin aplicar TF/IDF en este caso).\n",
    "## Con fit_transform, el vectorizador aprende el vocabulario de todo el conjunto de mensajes\n",
    "## y devuelve la matriz de frecuencias (binarias en este caso) de término por documento.\n",
    "## Esta matriz es una matriz dispersa; tipo: crs_matrix.\n",
    "mono_bin_trainvd = mono_bin_vectorizer.fit_transform(train_data)"
   ]
  },
  {
   "cell_type": "code",
   "execution_count": 11,
   "metadata": {},
   "outputs": [
    {
     "name": "stdout",
     "output_type": "stream",
     "text": [
      "int64\n",
      "  (0, 381)\t1\n",
      "  (0, 1034)\t1\n",
      "  (0, 1322)\t1\n",
      "  (0, 666)\t1\n",
      "  (0, 604)\t1\n",
      "  (1, 406)\t1\n",
      "  (1, 1388)\t1\n",
      "  (1, 1146)\t1\n",
      "  (2, 523)\t1\n",
      "  (2, 57)\t1\n",
      "  (2, 833)\t1\n"
     ]
    }
   ],
   "source": [
    "## Como podemos observar, la matriz dispersa guarda únicamente aquellas \"celdas\" distintas de cero,\n",
    "## que en este caso toman valor 1 por ser una vectorización binaria.\n",
    "## A pesar de ser una configuración binaria, el tipo de la matriz es entero, no booleano.\n",
    "print(mono_bin_trainvd.dtype)\n",
    "print(mono_bin_trainvd[:3])"
   ]
  },
  {
   "cell_type": "code",
   "execution_count": 12,
   "metadata": {},
   "outputs": [
    {
     "name": "stdout",
     "output_type": "stream",
     "text": [
      "Tamaño: 1522 \n",
      "\n",
      "['00', '10', '100', '11', '12', '15', '1979', '20', '30', '30s', '35', '40', '4ths', '5lb', '70', '90', '99', 'absolutely', 'absolutley', 'accident', 'accommodations', 'accomodate', 'accordingly', 'accountant', 'ache'] \n",
      "...\n",
      "['worker', 'workers', 'working', 'works', 'worries', 'worse', 'worst', 'worth', 'wouldn', 'wound', 'wow', 'wrap', 'wrapped', 'writing', 'wrong', 'ya', 'yama', 'yeah', 'year', 'years', 'yellow', 'yelpers', 'yum', 'yummy', 'zero']\n"
     ]
    }
   ],
   "source": [
    "## Vemos también que la bolsa de palabras está formadas por monogramas, es decir,\n",
    "## cadenas sin espacios entre ellas.\n",
    "mono_bin_featnames = mono_bin_vectorizer.get_feature_names()\n",
    "\n",
    "print('Tamaño:', len(mono_bin_featnames), '\\n')\n",
    "print(mono_bin_featnames[:25], '\\n...')\n",
    "print(mono_bin_featnames[-25:])"
   ]
  },
  {
   "cell_type": "code",
   "execution_count": 13,
   "metadata": {},
   "outputs": [],
   "source": [
    "# Vectorizamos los datos del conjunto de test. \n",
    "## Usamos el vocabulario ya aprendido por el vectorizador tras el análisis del conjunto de entrenamiento.\n",
    "## Por tanto, basta con transformar directamente sin ajustar.\n",
    "mono_bin_testvd = mono_bin_vectorizer.transform(test_data)"
   ]
  },
  {
   "cell_type": "markdown",
   "metadata": {},
   "source": [
    "### 3.1.1. Vectorización I: Naive Bayes"
   ]
  },
  {
   "cell_type": "markdown",
   "metadata": {},
   "source": [
    "En tanto que la vectorización genera valores binarios para los n-gramas (que representan la aparación o no de ese n-grama en el mensaje), el clasificador Naive Bayes más apropiado sería el de tipo _Bernoulli_. \n",
    "\n",
    "No obstante, también podemos aplicar el de tipo _Multinomial_ donde los valores binarios se traducen a las \"frecuencias\" 0 y 1."
   ]
  },
  {
   "cell_type": "markdown",
   "metadata": {},
   "source": [
    "#### Naive Bayes: Bernoulli"
   ]
  },
  {
   "cell_type": "code",
   "execution_count": 14,
   "metadata": {},
   "outputs": [],
   "source": [
    "# Clasificador Naive Bayes de tipo Bernoulli.\n",
    "## Asume una distribución Bernoulli multivariable.\n",
    "mono_bin_bnbclass = BernoulliNB(\n",
    "    alpha = 1.0, # Valor aditivo de smoothing, para evitar probabilidades nulas.\n",
    "    binarize = 0.0, # Umbral para binarizar enteros (menores o iguales que el valor mapean a False)\n",
    "    fit_prior = True, # Aprende la probabilidad de cada clase del conjunto de entrenamiento.\n",
    ")\n",
    "\n",
    "## * Por la estratificación del conjunto de entrenamiento, poner fit_prior a True generará una \n",
    "##   distribución uniforme, que se habría generado por defecto también si fit_prior fuese False."
   ]
  },
  {
   "cell_type": "code",
   "execution_count": 15,
   "metadata": {},
   "outputs": [
    {
     "data": {
      "text/plain": [
       "BernoulliNB(alpha=1.0, binarize=0.0, class_prior=None, fit_prior=True)"
      ]
     },
     "execution_count": 15,
     "metadata": {},
     "output_type": "execute_result"
    }
   ],
   "source": [
    "# Ajustamos el clasificador con los datos de entranamiento.\n",
    "mono_bin_bnbclass.fit(mono_bin_trainvd, train_data_target)"
   ]
  },
  {
   "cell_type": "code",
   "execution_count": 16,
   "metadata": {},
   "outputs": [],
   "source": [
    "# Obtenemos las predicciones respecto a los conjuntos de entrenamiento y test.\n",
    "mono_bin_bnb_trainp = mono_bin_bnbclass.predict(mono_bin_trainvd)\n",
    "mono_bin_bnb_testp = mono_bin_bnbclass.predict(mono_bin_testvd)"
   ]
  },
  {
   "cell_type": "code",
   "execution_count": 17,
   "metadata": {},
   "outputs": [
    {
     "name": "stdout",
     "output_type": "stream",
     "text": [
      "VECTORIZACIÓN I: BERNOULLI NB\n",
      "Porcentaje de aciertos en entrenamiento: 0.948\n",
      "Porcentaje de aciertos en test: 0.74\n"
     ]
    }
   ],
   "source": [
    "# Obtenemos las medias de acierto del clasificador para entrenamiento-test.\n",
    "mono_bin_bnb_trainscr = np.mean(mono_bin_bnb_trainp == train_data_target)\n",
    "mono_bin_bnb_testscr = np.mean(mono_bin_bnb_testp == test_data_target)\n",
    "\n",
    "print(\"VECTORIZACIÓN I: BERNOULLI NB\")\n",
    "print(\"Porcentaje de aciertos en entrenamiento:\", mono_bin_bnb_trainscr)\n",
    "print(\"Porcentaje de aciertos en test:\", mono_bin_bnb_testscr)"
   ]
  },
  {
   "cell_type": "markdown",
   "metadata": {},
   "source": [
    "#### Naive Bayes: Multinomial"
   ]
  },
  {
   "cell_type": "code",
   "execution_count": 18,
   "metadata": {},
   "outputs": [],
   "source": [
    "# Clasificador Naive Bayes de tipo Multinomial.\n",
    "## Asume una distribución multinomial.\n",
    "mono_bin_mnbclass = MultinomialNB(\n",
    "    alpha = 1.0, # Valor aditivo de smoothing, para evitar probabilidades nulas.\n",
    "    fit_prior = True, # Aprende la probabilidad de cada clase del conjunto de entrenamiento.\n",
    ")"
   ]
  },
  {
   "cell_type": "code",
   "execution_count": 19,
   "metadata": {},
   "outputs": [
    {
     "data": {
      "text/plain": [
       "MultinomialNB(alpha=1.0, class_prior=None, fit_prior=True)"
      ]
     },
     "execution_count": 19,
     "metadata": {},
     "output_type": "execute_result"
    }
   ],
   "source": [
    "# Ajustamos el clasificador con los datos de entranamiento.\n",
    "mono_bin_mnbclass.fit(mono_bin_trainvd, train_data_target)"
   ]
  },
  {
   "cell_type": "code",
   "execution_count": 20,
   "metadata": {},
   "outputs": [],
   "source": [
    "# Obtenemos las predicciones respecto a los conjuntos de entrenamiento y test.\n",
    "mono_bin_mnb_trainp = mono_bin_mnbclass.predict(mono_bin_trainvd)\n",
    "mono_bin_mnb_testp = mono_bin_mnbclass.predict(mono_bin_testvd)"
   ]
  },
  {
   "cell_type": "code",
   "execution_count": 21,
   "metadata": {},
   "outputs": [
    {
     "name": "stdout",
     "output_type": "stream",
     "text": [
      "VECTORIZACIÓN I: MULTINOMIAL NB\n",
      "Porcentaje de aciertos en entrenamiento: 0.9573333333333334\n",
      "Porcentaje de aciertos en test: 0.756\n"
     ]
    }
   ],
   "source": [
    "# Obtenemos las medias de acierto del clasificador para entrenamiento-test.\n",
    "mono_bin_mnb_trainscr = np.mean(mono_bin_mnb_trainp == train_data_target)\n",
    "mono_bin_mnb_testscr = np.mean(mono_bin_mnb_testp == test_data_target)\n",
    "\n",
    "print(\"VECTORIZACIÓN I: MULTINOMIAL NB\")\n",
    "print(\"Porcentaje de aciertos en entrenamiento:\", mono_bin_mnb_trainscr)\n",
    "print(\"Porcentaje de aciertos en test:\", mono_bin_mnb_testscr)"
   ]
  },
  {
   "cell_type": "markdown",
   "metadata": {},
   "source": [
    "**Conclusión.**\n",
    "\n",
    "En primer lugar, los porcentajes de acierto quedan así:\n",
    "\n",
    "|   Vect. I   | % train | % test |\n",
    "|------------:|--------:|-------:|\n",
    "|  Bernoulli  |   94.8  |  74.0  |\n",
    "| Multinomial |   95.7  |  75.6  |\n",
    "\n",
    "Como podemos ver, hay una escasa diferencia entre los porcentajes de acierto de los clasificadores Bernoulli y Multinomial, siendo ligeramente superior este último, tanto en entrenamiento como en test.\n",
    "\n",
    "Ambos clasifican el conjunto de test con una precisión aceptable de en torno al 75%. No obstante, ambos tienen un alto porcentaje de acierto en entrenamiento: en torno a un 95%. La diferencia entre estos valores implica que estos clasificadores tienen un fuerte sobreaprendizaje sobre el conjunto de entrenamiento, aunque clasifican de forma aceptable el conjunto de test.\n",
    "\n",
    "A sobreaprendizaje alto y parecido, nos quedamos con el clasificador Multinomial, que mejora ligeramente (por 1.6 puntos) en precisión en test al clasificador Bernoulli."
   ]
  },
  {
   "cell_type": "markdown",
   "metadata": {},
   "source": [
    "### 3.1.2. Vectorización I: Árbol de Decisión"
   ]
  },
  {
   "cell_type": "markdown",
   "metadata": {},
   "source": [
    "Para el árbol de decisión, vamos a optimizar sobre el parámetro *max_depth*, que determina la profundidad máxima que puede alcanzar el árbol."
   ]
  },
  {
   "cell_type": "code",
   "execution_count": 22,
   "metadata": {},
   "outputs": [],
   "source": [
    "# Construimos árboles de decisión en función del parámetro max_leaf_nodes.\n",
    "## Guardamos los porcentajes de acierto de entrenamiento-test en sendos vectores\n",
    "## para luego ver su representación gráfica y elegir el mejor valor para el parámetro.\n",
    "mono_bin_trainrc = []\n",
    "mono_bin_testrc = []\n",
    "\n",
    "mono_bin_depth = range(1,75)\n",
    "for depth in mono_bin_depth:\n",
    "    clfCheck = tree.DecisionTreeClassifier(\n",
    "        criterion = 'gini',\n",
    "        max_depth = depth,\n",
    "        random_state = 7)\n",
    "    \n",
    "    clfCheck.fit(mono_bin_trainvd, train_data_target)\n",
    "    \n",
    "    y_train_prediction = clfCheck.predict(mono_bin_trainvd)\n",
    "    y_test_prediction = clfCheck.predict(mono_bin_testvd)\n",
    "    \n",
    "    train_scr = recall_score(train_data_target, y_train_prediction, average = \"micro\")\n",
    "    test_scr = recall_score(test_data_target, y_test_prediction, average = \"micro\")\n",
    "    \n",
    "    mono_bin_trainrc.append(train_scr)\n",
    "    mono_bin_testrc.append(test_scr)"
   ]
  },
  {
   "cell_type": "code",
   "execution_count": 24,
   "metadata": {
    "scrolled": true
   },
   "outputs": [
    {
     "data": {
      "image/png": "[encoded data removed]",
      "text/plain": [
       "<Figure size 850.394x425.197 with 1 Axes>"
      ]
     },
     "metadata": {
      "needs_background": "light"
     },
     "output_type": "display_data"
    }
   ],
   "source": [
    "# Graficamos los porcentajes de acierto para cada valor del parámetro max_leaf_nodes.\n",
    "## Buscamos un valor que maximice el acierto del conjunto de test, pero que no tenga\n",
    "## un fuerte sobreaprendizaje sobre el conjunto de entrenamiento.\n",
    "plt.plot(\n",
    "    mono_bin_depth,\n",
    "    mono_bin_trainrc, \n",
    "    color = 'b', \n",
    "    label = 'Training')\n",
    "\n",
    "plt.plot(\n",
    "    mono_bin_depth,\n",
    "    mono_bin_testrc, \n",
    "    color = 'g', \n",
    "    label = 'Test')\n",
    "\n",
    "\n",
    "plt.title('Learning Curve')\n",
    "plt.xlabel('Max Depth')\n",
    "plt.xticks(range(0,75,5))\n",
    "plt.ylabel('Recall Score')\n",
    "plt.legend( loc = 'best' )\n",
    "plt.grid()\n",
    "plt.rcParams['figure.figsize'] = [30/2.54, 15/2.54] # Conversión cm -> in.\n",
    "plt.show()"
   ]
  },
  {
   "cell_type": "code",
   "execution_count": 25,
   "metadata": {},
   "outputs": [
    {
     "name": "stdout",
     "output_type": "stream",
     "text": [
      "Profundidad máxima óptima: 35\n",
      "Porcentaje de acierto en entrenamiento: 0.8573333333333333\n",
      "Porcentaje de acierto en test: 0.764\n"
     ]
    }
   ],
   "source": [
    "# Buscamos el valor óptimo para el conjunto de test.\n",
    "mono_bin_optdepth = np.argmax(mono_bin_testrc) + 1\n",
    "print('Profundidad máxima óptima:', mono_bin_optdepth)\n",
    "print(\"Porcentaje de acierto en entrenamiento:\", mono_bin_trainrc[mono_bin_optdepth - 1])\n",
    "print(\"Porcentaje de acierto en test:\", mono_bin_testrc[mono_bin_optdepth - 1])"
   ]
  },
  {
   "cell_type": "markdown",
   "metadata": {},
   "source": [
    "Como podemos observar en la gráfica, tanto el acierto de entrenamiento como el de test aumentan intensamente hasta, aproximadamente, la profundidad 15.\n",
    "\n",
    "A partir de ese punto, el acierto de entrenamiento continua aumentando de forma casi lineal; mientras que el acierto de test se mantiene más o menos estable en el intervalo (0.74, 0.76) hasta la profundidad 35. Además, alcanza el máximo en esta profundidad (y en 36 también).\n",
    "\n",
    "A continuación, el acierto de test desciende y queda estabilizado en el intervalo (0.70, 0.73) a medida que aumenta la profundidad y el árbol sobreaprende del conjunto de entrenamiento.\n",
    "\n",
    "En conclusión, la diferencia en acierto en test entre el valor óptimo a profundidad 35 y el valor a profundidad 16 (a ojo) no es muy grande. Así, es posible que para el valor óptimo obtengamos un árbol con más sobreaprendizaje, y no necesariamente más preciso que para profundidad 16.\n",
    "\n",
    "No obstante, como se pide, construimos el árbol de profundidad 35; dejando que estas observaciones salgan a la luz más adelante cuando analicemos los árboles en conjunto."
   ]
  },
  {
   "cell_type": "markdown",
   "metadata": {},
   "source": [
    "#### max_depth = 35"
   ]
  },
  {
   "cell_type": "code",
   "execution_count": 26,
   "metadata": {},
   "outputs": [],
   "source": [
    "# Árbol de decisión con max_leaf_nodes = 30.\n",
    "mono_bin_opttree = tree.DecisionTreeClassifier(\n",
    "    criterion = 'gini',\n",
    "    max_depth = mono_bin_optdepth,\n",
    "    random_state = 7\n",
    "    )"
   ]
  },
  {
   "cell_type": "code",
   "execution_count": 27,
   "metadata": {},
   "outputs": [
    {
     "data": {
      "text/plain": [
       "DecisionTreeClassifier(ccp_alpha=0.0, class_weight=None, criterion='gini',\n",
       "                       max_depth=35, max_features=None, max_leaf_nodes=None,\n",
       "                       min_impurity_decrease=0.0, min_impurity_split=None,\n",
       "                       min_samples_leaf=1, min_samples_split=2,\n",
       "                       min_weight_fraction_leaf=0.0, presort='deprecated',\n",
       "                       random_state=7, splitter='best')"
      ]
     },
     "execution_count": 27,
     "metadata": {},
     "output_type": "execute_result"
    }
   ],
   "source": [
    "## Ajustamos el árbol al conjunto de datos.\n",
    "mono_bin_opttree.fit(mono_bin_trainvd, train_data_target)"
   ]
  },
  {
   "cell_type": "code",
   "execution_count": 28,
   "metadata": {},
   "outputs": [],
   "source": [
    "# Obtenemos las predicciones respecto a los conjuntos de entrenamiento y test.\n",
    "mono_bin_opttree_trainp = mono_bin_opttree.predict(mono_bin_trainvd)\n",
    "mono_bin_opttree_testp = mono_bin_opttree.predict(mono_bin_testvd)"
   ]
  },
  {
   "cell_type": "code",
   "execution_count": 29,
   "metadata": {},
   "outputs": [
    {
     "name": "stdout",
     "output_type": "stream",
     "text": [
      "VECTORIZACIÓN I: ÁRBOL DE DECISIÓN ÓPTIMO\n",
      "Profundidad máxima: 35\n",
      "Porcentaje de aciertos en entrenamiento: 0.8573333333333333\n",
      "Porcentaje de aciertos en test: 0.764\n"
     ]
    }
   ],
   "source": [
    "## Calculamos los porcentajes de acierto.\n",
    "mono_bin_opttree_trainscr = np.mean(mono_bin_opttree_trainp == train_data_target)\n",
    "mono_bin_opttree_testscr = np.mean(mono_bin_opttree_testp == test_data_target)\n",
    "\n",
    "print(\"VECTORIZACIÓN I: ÁRBOL DE DECISIÓN ÓPTIMO\")\n",
    "print('Profundidad máxima:', mono_bin_optdepth)\n",
    "print(\"Porcentaje de aciertos en entrenamiento:\", mono_bin_opttree_trainscr)\n",
    "print(\"Porcentaje de aciertos en test:\", mono_bin_opttree_testscr)"
   ]
  },
  {
   "cell_type": "markdown",
   "metadata": {},
   "source": [
    "## 3.2. Vectorización II: binaria y (1,2)."
   ]
  },
  {
   "cell_type": "markdown",
   "metadata": {},
   "source": [
    "En este caso, el procedimiento es análogo al de la vectorización I, pues las únicas diferencias que encontraremos serán las generadas por la presencia de bigramas.\n",
    "\n",
    "Por tanto, repetimos lo anterior, creando 2 clasificadores Naive Bayes: Bernoulli y Multinomial; y hallando el valor óptimo del parámetro del árbol de decisión."
   ]
  },
  {
   "cell_type": "code",
   "execution_count": 30,
   "metadata": {},
   "outputs": [],
   "source": [
    "# Vectorizamos los datos del conjunto de entrenamiento (sin aplicar TF/IDF en este caso).\n",
    "duo_bin_trainvd = duo_bin_vectorizer.fit_transform(train_data)"
   ]
  },
  {
   "cell_type": "code",
   "execution_count": 31,
   "metadata": {},
   "outputs": [
    {
     "name": "stdout",
     "output_type": "stream",
     "text": [
      "Tamaño: 4377\n",
      "Ratio: 2.875821287779238 \n",
      "\n",
      "['00', '10', '10 minutes', '10 times', '100', '100 recommended', '100 times', '11', '11 99', '12', '12 ridiculous', '15', '15 minutes', '1979', '1979 time', '20', '20 just', '20 minutes', '30', '30 min', '30 minutes', '30s', '35', '35 big', '35 minutes'] \n",
      "...\n",
      "['wrong', 'wrong burned', 'wrong donut', 'ya', 'yama', 'yama good', 'yeah', 'yeah sucks', 'year', 'year ago', 'years', 'years ago', 'years living', 'yellow', 'yellow saffron', 'yelpers', 'yelpers husband', 'yum', 'yum sauce', 'yum yum', 'yummy', 'yummy try', 'yummy tummy', 'zero', 'zero stars']\n"
     ]
    }
   ],
   "source": [
    "## Como podemos observar, los términos de esta bolsa de palabras también contienen bigramas,\n",
    "## es decir, términos formados por dos palabras consecutivas. Esto aumenta considerablemente\n",
    "## el tamaño de la bolsa de palabras o n-gramas.\n",
    "duo_bin_featnames = duo_bin_vectorizer.get_feature_names()\n",
    "\n",
    "print('Tamaño:', len(duo_bin_featnames))\n",
    "print('Ratio:', len(duo_bin_featnames) / len(mono_bin_featnames), '\\n')\n",
    "print(duo_bin_featnames[:25], '\\n...')\n",
    "print(duo_bin_featnames[-25:])"
   ]
  },
  {
   "cell_type": "code",
   "execution_count": 32,
   "metadata": {},
   "outputs": [],
   "source": [
    "# Vectorizamos los datos del conjunto test.\n",
    "duo_bin_testvd = duo_bin_vectorizer.transform(test_data)"
   ]
  },
  {
   "cell_type": "markdown",
   "metadata": {},
   "source": [
    "### 3.2.1. Vectorización II: Naive Bayes"
   ]
  },
  {
   "cell_type": "markdown",
   "metadata": {},
   "source": [
    "#### Naive Bayes: Bernoulli"
   ]
  },
  {
   "cell_type": "code",
   "execution_count": 33,
   "metadata": {},
   "outputs": [],
   "source": [
    "# Clasificador Naive Bayes de tipo Bernoulli.\n",
    "duo_bin_bnbclass = BernoulliNB(\n",
    "    alpha = 1.0, # Valor aditivo de smoothing, para evitar probabilidades nulas.\n",
    "    binarize = 0.0, # Umbral para binarizar enteros (menores o iguales que el valor mapean a False)\n",
    "    fit_prior = True, # Aprende la probabilidad de cada clase (dist. uniforme) del conjunto de entrenamiento.\n",
    ")"
   ]
  },
  {
   "cell_type": "code",
   "execution_count": 34,
   "metadata": {},
   "outputs": [
    {
     "data": {
      "text/plain": [
       "BernoulliNB(alpha=1.0, binarize=0.0, class_prior=None, fit_prior=True)"
      ]
     },
     "execution_count": 34,
     "metadata": {},
     "output_type": "execute_result"
    }
   ],
   "source": [
    "# Ajustamos el clasificador con los datos de entrenamiento.\n",
    "duo_bin_bnbclass.fit(duo_bin_trainvd, train_data_target)"
   ]
  },
  {
   "cell_type": "code",
   "execution_count": 35,
   "metadata": {},
   "outputs": [],
   "source": [
    "# Obtenemos las predicciones respecto a los conjuntos de entrenamiento y test.\n",
    "duo_bin_bnb_trainp = duo_bin_bnbclass.predict(duo_bin_trainvd)\n",
    "duo_bin_bnb_testp = duo_bin_bnbclass.predict(duo_bin_testvd)"
   ]
  },
  {
   "cell_type": "code",
   "execution_count": 36,
   "metadata": {},
   "outputs": [
    {
     "name": "stdout",
     "output_type": "stream",
     "text": [
      "VECTORIZACIÓN II: BERNOULLI NB\n",
      "Porcentaje de aciertos en entrenamiento: 0.9786666666666667\n",
      "Porcentaje de aciertos en test: 0.74\n"
     ]
    }
   ],
   "source": [
    "# Obtenemos las medias de acierto del clasificador para entrenamiento-test.\n",
    "duo_bin_bnb_trainscr = np.mean(duo_bin_bnb_trainp == train_data_target)\n",
    "duo_bin_bnb_testscr = np.mean(duo_bin_bnb_testp == test_data_target)\n",
    "\n",
    "print(\"VECTORIZACIÓN II: BERNOULLI NB\")\n",
    "print(\"Porcentaje de aciertos en entrenamiento:\", duo_bin_bnb_trainscr)\n",
    "print(\"Porcentaje de aciertos en test:\", duo_bin_bnb_testscr)"
   ]
  },
  {
   "cell_type": "markdown",
   "metadata": {},
   "source": [
    "#### Naive Bayes: Multinomial"
   ]
  },
  {
   "cell_type": "code",
   "execution_count": 37,
   "metadata": {},
   "outputs": [],
   "source": [
    "# Clasificador Naive Bayes de tipo Multinomial.\n",
    "duo_bin_mnbclass = MultinomialNB(\n",
    "    alpha = 1.0, # Valor aditivo de smoothing, para evitar probabilidades nulas.\n",
    "    fit_prior = True, # Aprende la probabilidad de cada clase del conjunto de entrenamiento.\n",
    ")"
   ]
  },
  {
   "cell_type": "code",
   "execution_count": 38,
   "metadata": {},
   "outputs": [
    {
     "data": {
      "text/plain": [
       "MultinomialNB(alpha=1.0, class_prior=None, fit_prior=True)"
      ]
     },
     "execution_count": 38,
     "metadata": {},
     "output_type": "execute_result"
    }
   ],
   "source": [
    "# Ajustamos el clasificador con los datos de entranamiento.\n",
    "duo_bin_mnbclass.fit(duo_bin_trainvd, train_data_target)"
   ]
  },
  {
   "cell_type": "code",
   "execution_count": 39,
   "metadata": {},
   "outputs": [],
   "source": [
    "# Obtenemos las predicciones respecto a los conjuntos de entrenamiento y test.\n",
    "duo_bin_mnb_trainp = duo_bin_mnbclass.predict(duo_bin_trainvd)\n",
    "duo_bin_mnb_testp = duo_bin_mnbclass.predict(duo_bin_testvd)"
   ]
  },
  {
   "cell_type": "code",
   "execution_count": 40,
   "metadata": {},
   "outputs": [
    {
     "name": "stdout",
     "output_type": "stream",
     "text": [
      "VECTORIZACIÓN II: MULTINOMIAL NB\n",
      "Porcentaje de aciertos en entrenamiento: 0.98\n",
      "Porcentaje de aciertos en test: 0.76\n"
     ]
    }
   ],
   "source": [
    "# Obtenemos las medias de acierto del clasificador para entrenamiento-test.\n",
    "duo_bin_mnb_trainscr = np.mean(duo_bin_mnb_trainp == train_data_target)\n",
    "duo_bin_mnb_testscr = np.mean(duo_bin_mnb_testp == test_data_target)\n",
    "\n",
    "print(\"VECTORIZACIÓN II: MULTINOMIAL NB\")\n",
    "print(\"Porcentaje de aciertos en entrenamiento:\", duo_bin_mnb_trainscr)\n",
    "print(\"Porcentaje de aciertos en test:\", duo_bin_mnb_testscr)"
   ]
  },
  {
   "cell_type": "markdown",
   "metadata": {},
   "source": [
    "**Conclusión.**\n",
    "\n",
    "En primer lugar, los porcentajes de acierto quedan así:\n",
    "\n",
    "|   Vect. II  | % train | % test |\n",
    "|------------:|--------:|-------:|\n",
    "|  Bernoulli  |   97.9  |  74.0  |\n",
    "| Multinomial |   98.0  |  76.0  |\n",
    "\n",
    "Claramente, ambos presentan un porcentaje de acierto en el conjunto de entrenamiento prácticamente equivalente: de un 98 %. No es así en el acierto del conjunto de test, donde el clasificador Multinomial mejora al Bernoulii por dos puntos porcentuales: 76 % frente a 74 %.\n",
    "\n",
    "Como ocurría en la Vectorización I, ambos presentan un alto porcentaje de acierto en entrenamiento, relacionado con un alto sobreaprendizaje.\n",
    "\n",
    "Con porcentajes de acierto en entrenamiento equivalentes, nos quedamos con el que presenta mejor acierto en test: el Multinomial."
   ]
  },
  {
   "cell_type": "markdown",
   "metadata": {},
   "source": [
    "### 3.2.2. Vectorización II: Árbol de Decisión"
   ]
  },
  {
   "cell_type": "code",
   "execution_count": 41,
   "metadata": {},
   "outputs": [],
   "source": [
    "# Construimos árboles de decisión en función del parámetro max_leaf_nodes.\n",
    "## Guardamos los porcentajes de acierto de entrenamiento-test en sendos vectores\n",
    "## para luego ver su representación gráfica y elegir el mejor valor para el parámetro.\n",
    "duo_bin_trainrc = []\n",
    "duo_bin_testrc = []\n",
    "\n",
    "duo_bin_depth = range(1,75)\n",
    "for depth in duo_bin_depth:\n",
    "    clfCheck = tree.DecisionTreeClassifier(\n",
    "        criterion = 'gini',\n",
    "        max_depth = depth,\n",
    "        random_state = 7)\n",
    "    \n",
    "    clfCheck.fit(duo_bin_trainvd, train_data_target)\n",
    "    \n",
    "    y_train_prediction = clfCheck.predict(duo_bin_trainvd)\n",
    "    y_test_prediction = clfCheck.predict(duo_bin_testvd)\n",
    "    \n",
    "    train_scr = recall_score(train_data_target, y_train_prediction, average = \"micro\")\n",
    "    test_scr = recall_score(test_data_target, y_test_prediction, average = \"micro\")\n",
    "    \n",
    "    duo_bin_trainrc.append(train_scr)\n",
    "    duo_bin_testrc.append(test_scr)"
   ]
  },
  {
   "cell_type": "code",
   "execution_count": 42,
   "metadata": {
    "scrolled": false
   },
   "outputs": [
    {
     "data": {
      "image/png": "[encoded data removed]",
      "text/plain": [
       "<Figure size 850.394x425.197 with 1 Axes>"
      ]
     },
     "metadata": {
      "needs_background": "light"
     },
     "output_type": "display_data"
    }
   ],
   "source": [
    "# Graficamos los porcentajes de acierto para cada valor del parámetro max_leaf_nodes.\n",
    "## Buscamos un valor que maximice el acierto del conjunto de test, pero que no tenga\n",
    "## un fuerte sobreaprendizaje sobre el conjunto de entrenamiento.\n",
    "plt.plot(\n",
    "    duo_bin_depth,\n",
    "    duo_bin_trainrc, \n",
    "    color = 'b', \n",
    "    label = 'Training')\n",
    "\n",
    "plt.plot(\n",
    "    duo_bin_depth,\n",
    "    duo_bin_testrc, \n",
    "    color = 'g', \n",
    "    label = 'Test')\n",
    "\n",
    "\n",
    "plt.title('Learning Curve')\n",
    "plt.xlabel('Max Depth')\n",
    "plt.xticks(range(0,75,5))\n",
    "plt.ylabel('Recall Score')\n",
    "plt.legend( loc = 'best' )\n",
    "plt.grid()\n",
    "plt.rcParams['figure.figsize'] = [30/2.54, 15/2.54]\n",
    "plt.show()"
   ]
  },
  {
   "cell_type": "code",
   "execution_count": 43,
   "metadata": {},
   "outputs": [
    {
     "name": "stdout",
     "output_type": "stream",
     "text": [
      "Profundidad máxima óptima: 16\n",
      "Porcentaje de acierto en entrenamiento: 0.7866666666666666\n",
      "Porcentaje de acierto en test: 0.756\n"
     ]
    }
   ],
   "source": [
    "# Buscamos el valor óptimo para el conjunto de test.\n",
    "duo_bin_optdepth = np.argmax(duo_bin_testrc) + 1\n",
    "print('Profundidad máxima óptima:', duo_bin_optdepth)\n",
    "print(\"Porcentaje de acierto en entrenamiento:\", duo_bin_trainrc[duo_bin_optdepth - 1])\n",
    "print(\"Porcentaje de acierto en test:\", duo_bin_testrc[duo_bin_optdepth - 1])"
   ]
  },
  {
   "cell_type": "markdown",
   "metadata": {},
   "source": [
    "Como podemos observar en la gráfica, tanto el acierto de entrenamiento como el de test vuelven a crecer rápidamente hasta profundidad 15.\n",
    "\n",
    "A partir de ese punto, el acierto de entrenamiento continua aumentando, aminorando su crecimiento; mientras que el acierto de test se mantiene, como en la vectorización anterior, más o menos estable en el intervalo (0.74, 0.76) hasta la profundidad 35. También alcanza el máximo porcentaje de acierto en este intervalo; no obstante, esta vez se da para el valor 16.\n",
    "\n",
    "A continuación, el acierto de test desciende, quedando por debajo de un 0.75 en profundidades mayores. Por su parte, acierto en entrenamiento sigue creciendo, marcando un mayor sobreaprendizaje a mayor profundidad.\n",
    "\n",
    "En este caso, el valor óptimo para el acierto en test ha sido de una profundidad más pequeña: 16. Por tanto, obtendremos un árbol con menor sobreaprendizaje."
   ]
  },
  {
   "cell_type": "markdown",
   "metadata": {},
   "source": [
    "#### max_depth = 16"
   ]
  },
  {
   "cell_type": "code",
   "execution_count": 44,
   "metadata": {},
   "outputs": [],
   "source": [
    "# Árbol de decisión con max_leaf_nodes = 40.\n",
    "duo_bin_opttree = tree.DecisionTreeClassifier(\n",
    "    criterion = 'gini',\n",
    "    max_depth = duo_bin_optdepth,\n",
    "    random_state = 7\n",
    "    )"
   ]
  },
  {
   "cell_type": "code",
   "execution_count": 45,
   "metadata": {},
   "outputs": [
    {
     "data": {
      "text/plain": [
       "DecisionTreeClassifier(ccp_alpha=0.0, class_weight=None, criterion='gini',\n",
       "                       max_depth=16, max_features=None, max_leaf_nodes=None,\n",
       "                       min_impurity_decrease=0.0, min_impurity_split=None,\n",
       "                       min_samples_leaf=1, min_samples_split=2,\n",
       "                       min_weight_fraction_leaf=0.0, presort='deprecated',\n",
       "                       random_state=7, splitter='best')"
      ]
     },
     "execution_count": 45,
     "metadata": {},
     "output_type": "execute_result"
    }
   ],
   "source": [
    "## Ajustamos el árbol al conjunto de datos.\n",
    "duo_bin_opttree.fit(duo_bin_trainvd, train_data_target)"
   ]
  },
  {
   "cell_type": "code",
   "execution_count": 46,
   "metadata": {},
   "outputs": [],
   "source": [
    "# Obtenemos las predicciones respecto a los conjuntos de entrenamiento y test.\n",
    "duo_bin_opttree_trainp = duo_bin_opttree.predict(duo_bin_trainvd)\n",
    "duo_bin_opttree_testp = duo_bin_opttree.predict(duo_bin_testvd)"
   ]
  },
  {
   "cell_type": "code",
   "execution_count": 47,
   "metadata": {},
   "outputs": [
    {
     "name": "stdout",
     "output_type": "stream",
     "text": [
      "VECTORIZACIÓN II: ÁRBOL DE DECISIÓN\n",
      "Porcentaje de aciertos en entrenamiento: 0.7866666666666666\n",
      "Porcentaje de aciertos en test: 0.756\n"
     ]
    }
   ],
   "source": [
    "## Calculamos los porcentajes de acierto.\n",
    "duo_bin_opttree_trainscr = np.mean(duo_bin_opttree_trainp == train_data_target)\n",
    "duo_bin_opttree_testscr = np.mean(duo_bin_opttree_testp == test_data_target)\n",
    "\n",
    "print(\"VECTORIZACIÓN II: ÁRBOL DE DECISIÓN\")\n",
    "print(\"Porcentaje de aciertos en entrenamiento:\", duo_bin_opttree_trainscr)\n",
    "print(\"Porcentaje de aciertos en test:\", duo_bin_opttree_testscr)"
   ]
  },
  {
   "cell_type": "markdown",
   "metadata": {},
   "source": [
    "## 3.3. Vectorización III: no binaria y (1,1)."
   ]
  },
  {
   "cell_type": "code",
   "execution_count": 48,
   "metadata": {},
   "outputs": [],
   "source": [
    "# Vectorizamos los datos del conjunto de entrenamiento.\n",
    "mono_tfidf_trainvd = mono_tfidf_vectorizer.fit_transform(train_data)"
   ]
  },
  {
   "cell_type": "code",
   "execution_count": 49,
   "metadata": {},
   "outputs": [],
   "source": [
    "# Obtenemos un transformador TF-IDF.\n",
    "mono_tfidfer = TfidfTransformer()"
   ]
  },
  {
   "cell_type": "code",
   "execution_count": 50,
   "metadata": {},
   "outputs": [],
   "source": [
    "# Recalculamos la matriz utilizando el transformador.\n",
    "mono_tfidf_trainpp = mono_tfidfer.fit_transform(mono_tfidf_trainvd)"
   ]
  },
  {
   "cell_type": "code",
   "execution_count": 51,
   "metadata": {},
   "outputs": [
    {
     "name": "stdout",
     "output_type": "stream",
     "text": [
      "float64\n",
      "  (0, 1322)\t0.4336901176450994\n",
      "  (0, 1034)\t0.34540965209314645\n",
      "  (0, 666)\t0.47053995358448725\n",
      "  (0, 604)\t0.47053995358448725\n",
      "  (0, 381)\t0.4997893138706435\n",
      "  (1, 1388)\t0.536875294637758\n",
      "  (1, 1146)\t0.5965588478966768\n",
      "  (1, 406)\t0.5965588478966768\n",
      "  (2, 833)\t0.651102418739879\n",
      "  (2, 523)\t0.3127116778565039\n",
      "  (2, 57)\t0.691575770861913\n"
     ]
    }
   ],
   "source": [
    "## Nos quedan los datos de la bolsa de palabras transformados por TF-IDF.\n",
    "## Nos quedan datos tipo \"float\" en forma de matriz dispersa.\n",
    "print(mono_tfidf_trainpp.dtype)\n",
    "print(mono_tfidf_trainpp[:3])"
   ]
  },
  {
   "cell_type": "code",
   "execution_count": 52,
   "metadata": {},
   "outputs": [],
   "source": [
    "# Procedemos de forma análoga con el conjunto de test.\n",
    "## Para los conjuntos de test no hace falta \"fit\", pues usamos el vocabulario\n",
    "## encontrado en el conjunto de entrenamiento.\n",
    "mono_tfidf_testvd = mono_tfidf_vectorizer.transform(test_data)\n",
    "mono_tfidf_testpp = mono_tfidfer.transform(mono_tfidf_testvd)"
   ]
  },
  {
   "cell_type": "markdown",
   "metadata": {},
   "source": [
    "### 3.3.1. Vectorización III: Naive Bayes"
   ]
  },
  {
   "cell_type": "markdown",
   "metadata": {},
   "source": [
    "La transformación TF/IDF de los datos de frecuencia generados por la vectorización no binaria, nos han dejado una matriz dispersa de valores reales, no enteros menores que 1. Por tanto, nos encontramos ante una variable continua.\n",
    "\n",
    "Es por ello que el mejor clasificador Naive Bayes será el Gaussiano, pues supone la existencia de una distribución Normal."
   ]
  },
  {
   "cell_type": "markdown",
   "metadata": {},
   "source": [
    "#### Naive Bayes: Gaussiano"
   ]
  },
  {
   "cell_type": "code",
   "execution_count": 53,
   "metadata": {},
   "outputs": [],
   "source": [
    "# Clasificador Naive Bayes de tipo Gaussiano.\n",
    "## Asume una distribución Normal.\n",
    "mono_tfidf_gnbclass = GaussianNB(\n",
    "    priors = None, # La probabilidad de cada clase seguirá una distribución uniforme\n",
    "    var_smoothing = 1e-9 # Valor añadido de suavizado para evitar probabilidades nulas (1e-9 por defecto)\n",
    ")"
   ]
  },
  {
   "cell_type": "code",
   "execution_count": 54,
   "metadata": {},
   "outputs": [
    {
     "data": {
      "text/plain": [
       "GaussianNB(priors=None, var_smoothing=1e-09)"
      ]
     },
     "execution_count": 54,
     "metadata": {},
     "output_type": "execute_result"
    }
   ],
   "source": [
    "## Puesto que la operación \"fit\" del clasificador gaussiano no acepta matrices dispersas,\n",
    "## debemos transformarla a tipo array N-dimensional.\n",
    "## El tamaño de la muestra es suficientemente pequeño como para no dar problemas de memoria,\n",
    "## por lo que no es necesario hacer ajustes parciales dividiendo la matriz en trozos.\n",
    "\n",
    "mono_tfidf_gnbclass.fit(\n",
    "    mono_tfidf_trainpp.toarray(),\n",
    "    train_data_target)"
   ]
  },
  {
   "cell_type": "code",
   "execution_count": 55,
   "metadata": {},
   "outputs": [],
   "source": [
    "# Obtenemos las predicciones respecto a los conjuntos de entrenamiento y test.\n",
    "mono_tfidf_gnb_trainp = mono_tfidf_gnbclass.predict(mono_tfidf_trainpp.toarray())\n",
    "mono_tfidf_gnb_testp = mono_tfidf_gnbclass.predict(mono_tfidf_testpp.toarray())"
   ]
  },
  {
   "cell_type": "code",
   "execution_count": 56,
   "metadata": {},
   "outputs": [
    {
     "name": "stdout",
     "output_type": "stream",
     "text": [
      "VECTORIZACIÓN III: GAUSSIAN NB\n",
      "Porcentaje de aciertos en entrenamiento: 0.948\n",
      "Porcentaje de aciertos en test: 0.652\n"
     ]
    }
   ],
   "source": [
    "# Obtenemos las medias de acierto del clasificador para entrenamiento test.\n",
    "mono_tfidf_gnb_trainscr = np.mean(mono_tfidf_gnb_trainp == train_data_target)\n",
    "mono_tfidf_gnb_testscr = np.mean(mono_tfidf_gnb_testp == test_data_target)\n",
    "\n",
    "print(\"VECTORIZACIÓN III: GAUSSIAN NB\")\n",
    "print(\"Porcentaje de aciertos en entrenamiento:\", mono_tfidf_gnb_trainscr)\n",
    "print(\"Porcentaje de aciertos en test:\", mono_tfidf_gnb_testscr)"
   ]
  },
  {
   "cell_type": "markdown",
   "metadata": {},
   "source": [
    "**Conclusión.**\n",
    "\n",
    "En primer lugar, los porcentajes de acierto quedan así:\n",
    "\n",
    "|  Vect. III  | % train | % test |\n",
    "|------------:|--------:|-------:|\n",
    "|  Gaussiano  |   94.8  |  65.2  |\n",
    "\n",
    "Este clasificador nos da un porcentaje de acierto en test bastante mediocre, de un 65.2 %; mientras que el acierto en entrenamiento es un alto 94.8 %. Por tanto, nos encontramos ante un caso obvio de sobreaprendizaje, pues el clasificador funciona muy bien para el conjunto de entrenamiento, pero no clasifica con precisión el conjunto de test.\n",
    "\n",
    "Obviamente, al vectorizar la bolsa de palabras con frecuencias en vez de forma binaria, hemos construido un clasificador peor."
   ]
  },
  {
   "cell_type": "markdown",
   "metadata": {},
   "source": [
    "### 3.3.2. Vectorización III: Árbol de Decisión"
   ]
  },
  {
   "cell_type": "code",
   "execution_count": 57,
   "metadata": {},
   "outputs": [],
   "source": [
    "# Construimos árboles de decisión en función del parámetro max_leaf_nodes.\n",
    "## Guardamos los porcentajes de acierto de entrenamiento-test en sendos vectores\n",
    "## para luego ver su representación gráfica y elegir el mejor valor para el parámetro.\n",
    "mono_tfidf_trainrc = []\n",
    "mono_tfidf_testrc = []\n",
    "\n",
    "mono_tfidf_depth = range(1,75)\n",
    "for depth in mono_tfidf_depth:\n",
    "    clfCheck = tree.DecisionTreeClassifier(\n",
    "        criterion = 'gini',\n",
    "        max_depth = depth,\n",
    "        random_state = 7)\n",
    "    \n",
    "    clfCheck.fit(mono_tfidf_trainpp, train_data_target)\n",
    "    \n",
    "    y_train_prediction = clfCheck.predict(mono_tfidf_trainpp)\n",
    "    y_test_prediction = clfCheck.predict(mono_tfidf_testpp)\n",
    "    \n",
    "    train_scr = recall_score(train_data_target, y_train_prediction, average = \"micro\")\n",
    "    test_scr = recall_score(test_data_target, y_test_prediction, average = \"micro\")\n",
    "    \n",
    "    mono_tfidf_trainrc.append(train_scr)\n",
    "    mono_tfidf_testrc.append(test_scr)"
   ]
  },
  {
   "cell_type": "code",
   "execution_count": 58,
   "metadata": {},
   "outputs": [
    {
     "data": {
      "image/png": "[encoded data removed]",
      "text/plain": [
       "<Figure size 850.394x425.197 with 1 Axes>"
      ]
     },
     "metadata": {
      "needs_background": "light"
     },
     "output_type": "display_data"
    }
   ],
   "source": [
    "# Graficamos los porcentajes de acierto para cada valor del parámetro max_leaf_nodes.\n",
    "## Buscamos un valor que maximice el acierto del conjunto de test, pero que no tenga\n",
    "## un fuerte sobreaprendizaje sobre el conjunto de entrenamiento.\n",
    "plt.plot(\n",
    "    mono_tfidf_depth,\n",
    "    mono_tfidf_trainrc, \n",
    "    color = 'b', \n",
    "    label = 'Training')\n",
    "\n",
    "plt.plot(\n",
    "    mono_tfidf_depth,\n",
    "    mono_tfidf_testrc, \n",
    "    color = 'g', \n",
    "    label = 'Test')\n",
    "\n",
    "\n",
    "plt.title('Learning Curve')\n",
    "plt.xlabel('Max Depth')\n",
    "plt.xticks(range(0,75,5))\n",
    "plt.ylabel('Recall Score')\n",
    "plt.legend( loc = 'best' )\n",
    "plt.grid()\n",
    "plt.rcParams['figure.figsize'] = [30/2.54, 15/2.54]\n",
    "plt.show()"
   ]
  },
  {
   "cell_type": "code",
   "execution_count": 59,
   "metadata": {},
   "outputs": [
    {
     "name": "stdout",
     "output_type": "stream",
     "text": [
      "Profundidad máxima óptima: 24\n",
      "Porcentaje de acierto en entrenamiento: 0.828\n",
      "Porcentaje de acierto en test: 0.756\n"
     ]
    }
   ],
   "source": [
    "# Buscamos el valor óptimo para el conjunto de test.\n",
    "mono_tfidf_optdepth = np.argmax(mono_tfidf_testrc) + 1\n",
    "print('Profundidad máxima óptima:', mono_tfidf_optdepth)\n",
    "print(\"Porcentaje de acierto en entrenamiento:\", mono_tfidf_trainrc[mono_tfidf_optdepth - 1])\n",
    "print(\"Porcentaje de acierto en test:\", mono_tfidf_testrc[mono_tfidf_optdepth - 1])"
   ]
  },
  {
   "cell_type": "markdown",
   "metadata": {},
   "source": [
    "Como podemos observar en la gráfica, ambos porcentajes de acierto presentan una disposición parecida a la de anteriores vectorizaciones.\n",
    "\n",
    "En este caso, el acierto en test crece rápidamente hasta la profundidad 15, a partir de la cual oscila en el intervalo de valores (0.73, 0.76) hasta la profundidad 45. A partir de ahí, comienza a descender, estabilizándose en torno a un acierto de 0.72.\n",
    "\n",
    "Por otro lado, el acierto en entrenamiento evoluciona de forma análoga a las gráficas de las vectorizaciones anteriores.\n",
    "\n",
    "Para el valor óptimo de profundidad (24), tenemos un 75.6 % de acierto en el conjunto de test y un 82.8 % de acierto en el conjunto de entrenamiento; es decir, el árbol presenta algo de sobreaprendizaje, pero mucho menor que para el segundo valor óptimo en la profundidad 44."
   ]
  },
  {
   "cell_type": "markdown",
   "metadata": {},
   "source": [
    "#### max_depth = 24"
   ]
  },
  {
   "cell_type": "code",
   "execution_count": 60,
   "metadata": {},
   "outputs": [],
   "source": [
    "# Árbol de decisión con max_leaf_nodes = 18.\n",
    "mono_tfidf_opttree = tree.DecisionTreeClassifier(\n",
    "    criterion = 'gini',\n",
    "    max_depth = 24,\n",
    "    random_state = 7\n",
    "    )"
   ]
  },
  {
   "cell_type": "code",
   "execution_count": 61,
   "metadata": {},
   "outputs": [
    {
     "data": {
      "text/plain": [
       "DecisionTreeClassifier(ccp_alpha=0.0, class_weight=None, criterion='gini',\n",
       "                       max_depth=24, max_features=None, max_leaf_nodes=None,\n",
       "                       min_impurity_decrease=0.0, min_impurity_split=None,\n",
       "                       min_samples_leaf=1, min_samples_split=2,\n",
       "                       min_weight_fraction_leaf=0.0, presort='deprecated',\n",
       "                       random_state=7, splitter='best')"
      ]
     },
     "execution_count": 61,
     "metadata": {},
     "output_type": "execute_result"
    }
   ],
   "source": [
    "## Ajustamos el árbol al conjunto de datos.\n",
    "mono_tfidf_opttree.fit(mono_tfidf_trainpp, train_data_target)"
   ]
  },
  {
   "cell_type": "code",
   "execution_count": 62,
   "metadata": {},
   "outputs": [],
   "source": [
    "# Obtenemos las predicciones respecto a los conjuntos de entrenamiento y test.\n",
    "mono_tfidf_opttree_trainp = mono_tfidf_opttree.predict(mono_tfidf_trainpp)\n",
    "mono_tfidf_opttree_testp = mono_tfidf_opttree.predict(mono_tfidf_testpp)"
   ]
  },
  {
   "cell_type": "code",
   "execution_count": 63,
   "metadata": {},
   "outputs": [
    {
     "name": "stdout",
     "output_type": "stream",
     "text": [
      "VECTORIZACIÓN III: ÁRBOL DE DECISIÓN\n",
      "Porcentaje de aciertos en entrenamiento: 0.828\n",
      "Porcentaje de aciertos en test: 0.756\n"
     ]
    }
   ],
   "source": [
    "## Calculamos los porcentajes de acierto.\n",
    "mono_tfidf_opttree_trainscr = np.mean(mono_tfidf_opttree_trainp == train_data_target)\n",
    "mono_tfidf_opttree_testscr = np.mean(mono_tfidf_opttree_testp == test_data_target)\n",
    "\n",
    "print(\"VECTORIZACIÓN III: ÁRBOL DE DECISIÓN\")\n",
    "print(\"Porcentaje de aciertos en entrenamiento:\", mono_tfidf_opttree_trainscr)\n",
    "print(\"Porcentaje de aciertos en test:\", mono_tfidf_opttree_testscr)"
   ]
  },
  {
   "cell_type": "markdown",
   "metadata": {},
   "source": [
    "## 3.4. Vectorización IV."
   ]
  },
  {
   "cell_type": "markdown",
   "metadata": {},
   "source": [
    "En este caso, el procedimiento es análogo al de la vectorización 3, pues las únicas diferencias que encontraremos serán las generadas por la presencia de bigramas.\n",
    "\n",
    "Por tanto, repetimos lo anterior, creando un clasificadores Naive Bayes Gaussiano; y hallando el valor óptimo del parámetro del árbol de decisión."
   ]
  },
  {
   "cell_type": "code",
   "execution_count": 64,
   "metadata": {},
   "outputs": [],
   "source": [
    "# Vectorizamos los datos del conjunto de entrenamiento.\n",
    "duo_tfidf_trainvd = duo_tfidf_vectorizer.fit_transform(train_data)"
   ]
  },
  {
   "cell_type": "code",
   "execution_count": 65,
   "metadata": {},
   "outputs": [],
   "source": [
    "# Obtenemos un transformador TF-IDF.\n",
    "duo_tfidfer = TfidfTransformer()"
   ]
  },
  {
   "cell_type": "code",
   "execution_count": 66,
   "metadata": {},
   "outputs": [],
   "source": [
    "# Recalculamos la matriz utilizando el transformador.\n",
    "duo_tfidf_trainpp = duo_tfidfer.fit_transform(duo_tfidf_trainvd)"
   ]
  },
  {
   "cell_type": "code",
   "execution_count": 67,
   "metadata": {},
   "outputs": [
    {
     "name": "stdout",
     "output_type": "stream",
     "text": [
      "float64\n",
      "  (0, 3735)\t0.35347887825229474\n",
      "  (0, 3733)\t0.3067298400341008\n",
      "  (0, 2916)\t0.35347887825229474\n",
      "  (0, 2903)\t0.24429297099977945\n",
      "  (0, 1872)\t0.35347887825229474\n",
      "  (0, 1871)\t0.3327920992904226\n",
      "  (0, 1707)\t0.3327920992904226\n",
      "  (0, 993)\t0.35347887825229474\n",
      "  (0, 992)\t0.35347887825229474\n",
      "  (1, 3972)\t0.4559647094522396\n",
      "  (1, 3969)\t0.4103470908103759\n",
      "  (1, 3230)\t0.4559647094522396\n",
      "  (1, 1065)\t0.4559647094522396\n",
      "  (1, 1064)\t0.4559647094522396\n",
      "  (2, 2335)\t0.4654825222608925\n",
      "  (2, 1376)\t0.49441750620178954\n",
      "  (2, 1370)\t0.22356209462529167\n",
      "  (2, 123)\t0.49441750620178954\n",
      "  (2, 122)\t0.49441750620178954\n"
     ]
    }
   ],
   "source": [
    "## Nos quedan los datos de la bolsa de palabras transformados por TF-IDF.\n",
    "## Nos quedan datos tipo \"float\" en forma de matriz dispersa.\n",
    "print(duo_tfidf_trainpp.dtype)\n",
    "print(duo_tfidf_trainpp[:3])"
   ]
  },
  {
   "cell_type": "code",
   "execution_count": 68,
   "metadata": {},
   "outputs": [],
   "source": [
    "# Procedemos de forma análoga con el conjunto de test.\n",
    "## Para los conjuntos de test no hace falta \"fit\", pues usamos el vocabulario\n",
    "## encontrado en el conjunto de entrenamiento.\n",
    "duo_tfidf_testvd = duo_tfidf_vectorizer.transform(test_data)\n",
    "duo_tfidf_testpp = duo_tfidfer.transform(duo_tfidf_testvd)"
   ]
  },
  {
   "cell_type": "markdown",
   "metadata": {},
   "source": [
    "### 3.4.1. Vectorización IV: Naive Bayes."
   ]
  },
  {
   "cell_type": "markdown",
   "metadata": {},
   "source": [
    "#### Naive Bayes: Gaussiano"
   ]
  },
  {
   "cell_type": "code",
   "execution_count": 69,
   "metadata": {},
   "outputs": [],
   "source": [
    "# Clasificador Naive Bayes de tipo Gaussiano.\n",
    "## Asume una distribución Normal.\n",
    "duo_tfidf_gnbclass = GaussianNB(\n",
    "    priors = None, # La probabilidad de cada clase seguirá una distribución uniforme\n",
    "    var_smoothing = 1e-9 # Valor añadido de suavizado para evitar probabilidades nulas (1e-9 por defecto)\n",
    ")"
   ]
  },
  {
   "cell_type": "code",
   "execution_count": 70,
   "metadata": {},
   "outputs": [
    {
     "data": {
      "text/plain": [
       "GaussianNB(priors=None, var_smoothing=1e-09)"
      ]
     },
     "execution_count": 70,
     "metadata": {},
     "output_type": "execute_result"
    }
   ],
   "source": [
    "# Ajustamos el clasificador a los datos transformados por TF-IDF.\n",
    "duo_tfidf_gnbclass.fit(\n",
    "    duo_tfidf_trainpp.toarray(),\n",
    "    train_data_target)"
   ]
  },
  {
   "cell_type": "code",
   "execution_count": 71,
   "metadata": {},
   "outputs": [],
   "source": [
    "# Obtenemos las predicciones respecto a los conjuntos de entrenamiento y test.\n",
    "duo_tfidf_gnb_trainp = duo_tfidf_gnbclass.predict(duo_tfidf_trainpp.toarray())\n",
    "duo_tfidf_gnb_testp = duo_tfidf_gnbclass.predict(duo_tfidf_testpp.toarray())"
   ]
  },
  {
   "cell_type": "code",
   "execution_count": 72,
   "metadata": {},
   "outputs": [
    {
     "name": "stdout",
     "output_type": "stream",
     "text": [
      "VECTORIZACIÓN IV: GAUSSIAN NB\n",
      "Porcentaje de aciertos en entrenamiento: 0.976\n",
      "Porcentaje de aciertos en test: 0.672\n"
     ]
    }
   ],
   "source": [
    "# Obtenemos las medias de acierto del clasificador para entrenamiento test.\n",
    "duo_tfidf_gnb_trainscr = np.mean(duo_tfidf_gnb_trainp == train_data_target)\n",
    "duo_tfidf_gnb_testscr = np.mean(duo_tfidf_gnb_testp == test_data_target)\n",
    "\n",
    "print(\"VECTORIZACIÓN IV: GAUSSIAN NB\")\n",
    "print(\"Porcentaje de aciertos en entrenamiento:\", duo_tfidf_gnb_trainscr)\n",
    "print(\"Porcentaje de aciertos en test:\", duo_tfidf_gnb_testscr)"
   ]
  },
  {
   "cell_type": "markdown",
   "metadata": {},
   "source": [
    "**Conclusión.**\n",
    "\n",
    "En primer lugar, los porcentajes de acierto quedan así:\n",
    "\n",
    "|  Vect. IV   | % train | % test |\n",
    "|------------:|--------:|-------:|\n",
    "|  Gaussiano  |   97.6  |  67.2  |\n",
    "\n",
    "Aunque mejor que la anterior vectorización, este clasificador también presenta un acierto en test mediocre, de un 67.2 %. Por otra parte, el acierto en entrenamiento es de 97.6 %, lo que representa un sobreaprendizaje extremo.\n",
    "\n",
    "Nos encontramos por tanto en una situación análoga a la anterior vectorización, en que seguramente la vectorización no binaria haya perjudicado la precisión en el conjunto de test."
   ]
  },
  {
   "cell_type": "markdown",
   "metadata": {},
   "source": [
    "### 3.4.2. Vectorización IV: Árbol de Decisión."
   ]
  },
  {
   "cell_type": "code",
   "execution_count": 73,
   "metadata": {},
   "outputs": [],
   "source": [
    "# Construimos árboles de decisión en función del parámetro max_leaf_nodes.\n",
    "duo_tfidf_trainrc = []\n",
    "duo_tfidf_testrc = []\n",
    "\n",
    "duo_tfidf_depth = range(1,75)\n",
    "for depth in duo_tfidf_depth:\n",
    "    clfCheck = tree.DecisionTreeClassifier(\n",
    "        criterion = 'gini',\n",
    "        max_depth = depth,\n",
    "        random_state = 7)\n",
    "    \n",
    "    clfCheck.fit(duo_tfidf_trainpp, train_data_target)\n",
    "    \n",
    "    y_train_prediction = clfCheck.predict(duo_tfidf_trainpp)\n",
    "    y_test_prediction = clfCheck.predict(duo_tfidf_testpp)\n",
    "    \n",
    "    train_scr = recall_score(train_data_target, y_train_prediction, average = \"micro\")\n",
    "    test_scr = recall_score(test_data_target, y_test_prediction, average = \"micro\")\n",
    "    \n",
    "    duo_tfidf_trainrc.append(train_scr)\n",
    "    duo_tfidf_testrc.append(test_scr)"
   ]
  },
  {
   "cell_type": "code",
   "execution_count": 74,
   "metadata": {
    "scrolled": true
   },
   "outputs": [
    {
     "data": {
      "image/png": "[encoded data removed]",
      "text/plain": [
       "<Figure size 850.394x425.197 with 1 Axes>"
      ]
     },
     "metadata": {
      "needs_background": "light"
     },
     "output_type": "display_data"
    }
   ],
   "source": [
    "# Graficamos los porcentajes de acierto para cada valor del parámetro max_leaf_nodes.\n",
    "plt.plot(\n",
    "    duo_tfidf_depth,\n",
    "    duo_tfidf_trainrc, \n",
    "    color = 'b', \n",
    "    label = 'Training')\n",
    "\n",
    "plt.plot(\n",
    "    duo_tfidf_depth,\n",
    "    duo_tfidf_testrc, \n",
    "    color = 'g', \n",
    "    label = 'Test')\n",
    "\n",
    "\n",
    "plt.title('Learning Curve')\n",
    "plt.xlabel('Max Depth Nodes')\n",
    "plt.xticks(range(0,75,5))\n",
    "plt.ylabel('Recall Score')\n",
    "plt.legend( loc = 'best' )\n",
    "plt.grid()\n",
    "plt.rcParams['figure.figsize'] = [30/2.54, 15/2.54]\n",
    "plt.show()"
   ]
  },
  {
   "cell_type": "code",
   "execution_count": 75,
   "metadata": {},
   "outputs": [
    {
     "name": "stdout",
     "output_type": "stream",
     "text": [
      "Profundidad máxima óptima: 20\n",
      "Porcentaje de acierto en entrenamiento: 0.8133333333333334\n",
      "Porcentaje de acierto en test: 0.752\n"
     ]
    }
   ],
   "source": [
    "# Buscamos el valor óptimo para el conjunto de test.\n",
    "duo_tfidf_optdepth = np.argmax(duo_tfidf_testrc) + 1\n",
    "print('Profundidad máxima óptima:', duo_tfidf_optdepth)\n",
    "print(\"Porcentaje de acierto en entrenamiento:\", duo_tfidf_trainrc[duo_tfidf_optdepth - 1])\n",
    "print(\"Porcentaje de acierto en test:\", duo_tfidf_testrc[duo_tfidf_optdepth - 1])"
   ]
  },
  {
   "cell_type": "markdown",
   "metadata": {},
   "source": [
    "Como podemos observar en la gráfica, los porcentajes de acierto vuelven a presentar una disposición análoga a la del resto de vectorizaciones.\n",
    "\n",
    "En este caso, el acierto en test replica el rápido crecimientohasta la profundidad 15, manteniéndose  en el intervalo de valores (0.73, 0.75) hasta la profundidad 45, tras la cual desciende y se estabiliza alrededor de un acierto de 0.72.\n",
    "\n",
    "Para el valor óptimo de profundidad (20), tenemos un 75.2 % de acierto en el conjunto de test y un 81.3 % de acierto en el conjunto de entrenamiento; es decir, el árbol presenta algo de sobreaprendizaje que vuelve a ser mucho menor que para el segundo valor óptimo en la profundidad 41."
   ]
  },
  {
   "cell_type": "markdown",
   "metadata": {},
   "source": [
    "#### max_depth = 20"
   ]
  },
  {
   "cell_type": "code",
   "execution_count": 76,
   "metadata": {},
   "outputs": [],
   "source": [
    "# Árbol de decisión con max_leaf_nodes = 18.\n",
    "duo_tfidf_opttree = tree.DecisionTreeClassifier(\n",
    "    criterion = 'gini',\n",
    "    max_depth = 20,\n",
    "    random_state = 7\n",
    "    )"
   ]
  },
  {
   "cell_type": "code",
   "execution_count": 77,
   "metadata": {},
   "outputs": [
    {
     "data": {
      "text/plain": [
       "DecisionTreeClassifier(ccp_alpha=0.0, class_weight=None, criterion='gini',\n",
       "                       max_depth=20, max_features=None, max_leaf_nodes=None,\n",
       "                       min_impurity_decrease=0.0, min_impurity_split=None,\n",
       "                       min_samples_leaf=1, min_samples_split=2,\n",
       "                       min_weight_fraction_leaf=0.0, presort='deprecated',\n",
       "                       random_state=7, splitter='best')"
      ]
     },
     "execution_count": 77,
     "metadata": {},
     "output_type": "execute_result"
    }
   ],
   "source": [
    "## Ajustamos el árbol al conjunto de datos.\n",
    "duo_tfidf_opttree.fit(duo_tfidf_trainpp, train_data_target)"
   ]
  },
  {
   "cell_type": "code",
   "execution_count": 78,
   "metadata": {},
   "outputs": [],
   "source": [
    "# Obtenemos las predicciones respecto a los conjuntos de entrenamiento y test.\n",
    "duo_tfidf_opttree_trainp = duo_tfidf_opttree.predict(duo_tfidf_trainpp)\n",
    "duo_tfidf_opttree_testp = duo_tfidf_opttree.predict(duo_tfidf_testpp)"
   ]
  },
  {
   "cell_type": "code",
   "execution_count": 79,
   "metadata": {},
   "outputs": [
    {
     "name": "stdout",
     "output_type": "stream",
     "text": [
      "VECTORIZACIÓN IV: ÁRBOL DE DECISIÓN\n",
      "Porcentaje de aciertos en entrenamiento: 0.8133333333333334\n",
      "Porcentaje de aciertos en test: 0.752\n"
     ]
    }
   ],
   "source": [
    "## Calculamos los porcentajes de acierto.\n",
    "duo_tfidf_opttree_trainscr = np.mean(duo_tfidf_opttree_trainp == train_data_target)\n",
    "duo_tfidf_opttree_testscr = np.mean(duo_tfidf_opttree_testp == test_data_target)\n",
    "\n",
    "print(\"VECTORIZACIÓN IV: ÁRBOL DE DECISIÓN\")\n",
    "print(\"Porcentaje de aciertos en entrenamiento:\", duo_tfidf_opttree_trainscr)\n",
    "print(\"Porcentaje de aciertos en test:\", duo_tfidf_opttree_testscr)"
   ]
  },
  {
   "cell_type": "markdown",
   "metadata": {},
   "source": [
    "## 4. Análisis conjunto de las tasas de acierto."
   ]
  },
  {
   "cell_type": "markdown",
   "metadata": {},
   "source": [
    "### 4.1. Clasificadores Naive Bayes."
   ]
  },
  {
   "cell_type": "markdown",
   "metadata": {},
   "source": [
    "__*Selecciona el mejor clasificador Naive Bayes y obtén las 25 varialbes con más presencia en cada clase*__"
   ]
  },
  {
   "cell_type": "code",
   "execution_count": 80,
   "metadata": {},
   "outputs": [
    {
     "name": "stdout",
     "output_type": "stream",
     "text": [
      "Tasas de acierto de los clasificadores Naive Bayes.\n",
      "Vect. I: (0.9573333333333334, 0.756)\n",
      "Vect. II: (0.98, 0.76)\n",
      "Vect. III: (0.948, 0.652)\n",
      "Vect. IV: (0.976, 0.672)\n"
     ]
    }
   ],
   "source": [
    "print('Tasas de acierto de los clasificadores Naive Bayes.')\n",
    "print('Vect. I:', (mono_bin_mnb_trainscr, mono_bin_mnb_testscr))\n",
    "print('Vect. II:', (duo_bin_mnb_trainscr, duo_bin_mnb_testscr))\n",
    "print('Vect. III:', (mono_tfidf_gnb_trainscr, mono_tfidf_gnb_testscr))\n",
    "print('Vect. IV:', (duo_tfidf_gnb_trainscr, duo_tfidf_gnb_testscr))"
   ]
  },
  {
   "cell_type": "markdown",
   "metadata": {},
   "source": [
    "Los porcentajes de acierto para los clasificadores Naive Bayes quedan:\n",
    "\n",
    "|  Naive Bayes   | % train | % test |\n",
    "|---------------:|--------:|-------:|\n",
    "|  Vect. I       |   95.7  |  75.6  |\n",
    "|  Vect. II      |   98.0  |  76.0  |\n",
    "|  Vect. III     |   94.8  |  65.2  |\n",
    "|  Vect. IV      |   97.6  |  67.2  |\n",
    "\n",
    "Por tanto, el clasificador que maximiza el porcentaje de acierto en el conjunto de test es el de la vectorización II.\n",
    "\n",
    "Este clasificador es de tipo Multinomial, y está construido sobre una bolsa de palabras binaria de monogramas y bigramas."
   ]
  },
  {
   "cell_type": "code",
   "execution_count": 81,
   "metadata": {},
   "outputs": [
    {
     "data": {
      "text/plain": [
       "[(1370, 46.0), (2770, 41.0), (3390, 29.0), (2109, 23.0), (1021, 18.0)]"
      ]
     },
     "execution_count": 81,
     "metadata": {},
     "output_type": "execute_result"
    }
   ],
   "source": [
    "# A continuación vemos las 25 variables con más presencia en la clase '0'.\n",
    "## El atributo 'feature_count_' del clasificador nos da las frecuencias de cada término \n",
    "## por cada clase. Por tanto, para hallar las variables con más presencia en cada clase,\n",
    "## basta con tomar los índices reordenados de mayor a menor frecuencia.\n",
    "neg_relevant_fn_idx = sorted(\n",
    "            list(enumerate(duo_bin_mnbclass.feature_count_[0])),\n",
    "            key = lambda x: x[1],\n",
    "            reverse = True\n",
    "        )\n",
    "\n",
    "neg_relevant_fn_idx[:5]"
   ]
  },
  {
   "cell_type": "code",
   "execution_count": 82,
   "metadata": {},
   "outputs": [],
   "source": [
    "# Obtenemos los n-gramas asociados a esos índices.\n",
    "neg_relevant_fn = list(map(\n",
    "    lambda x: (x[1], duo_bin_vectorizer.get_feature_names()[x[0]]), \n",
    "    neg_relevant_fn_idx[:25]\n",
    "))"
   ]
  },
  {
   "cell_type": "code",
   "execution_count": 83,
   "metadata": {},
   "outputs": [
    {
     "name": "stdout",
     "output_type": "stream",
     "text": [
      "25 términos con más frecuencia en críticas negativas:\n",
      "46.0 -> food\n",
      "41.0 -> place\n",
      "29.0 -> service\n",
      "23.0 -> like\n",
      "18.0 -> don\n",
      "16.0 -> good\n",
      "15.0 -> time\n",
      "14.0 -> ve\n",
      "13.0 -> just\n",
      "12.0 -> minutes\n",
      "12.0 -> think\n",
      "12.0 -> won\n",
      "11.0 -> bad\n",
      "11.0 -> disappointed\n",
      "11.0 -> got\n",
      "11.0 -> worst\n",
      "10.0 -> going\n",
      "9.0 -> came\n",
      "9.0 -> did\n",
      "9.0 -> eat\n",
      "9.0 -> flavor\n",
      "9.0 -> really\n",
      "9.0 -> wait\n",
      "9.0 -> wasn\n",
      "9.0 -> way\n"
     ]
    }
   ],
   "source": [
    "print('25 términos con más frecuencia en críticas negativas:')\n",
    "for val, term in neg_relevant_fn:\n",
    "    print(val, '->', term)"
   ]
  },
  {
   "cell_type": "code",
   "execution_count": 84,
   "metadata": {},
   "outputs": [],
   "source": [
    "# A continuación vemos las 25 variables con más presencia en la clase '1'.\n",
    "pos_relevant_fn_idx = sorted(\n",
    "    list(enumerate(duo_bin_mnbclass.feature_count_[1])),\n",
    "    key = lambda x: x[1],\n",
    "    reverse = True\n",
    ")"
   ]
  },
  {
   "cell_type": "code",
   "execution_count": 85,
   "metadata": {},
   "outputs": [],
   "source": [
    "# Obtenemos los n-gramas asociados a esos índices.\n",
    "pos_relevant_fn = list(map(\n",
    "    lambda x: (x[1], duo_bin_vectorizer.get_feature_names()[x[0]]), \n",
    "    pos_relevant_fn_idx[:25]\n",
    "))"
   ]
  },
  {
   "cell_type": "code",
   "execution_count": 86,
   "metadata": {},
   "outputs": [
    {
     "name": "stdout",
     "output_type": "stream",
     "text": [
      "25 términos con más frecuencia en críticas positivas:\n",
      "50.0 -> good\n",
      "45.0 -> great\n",
      "42.0 -> food\n",
      "38.0 -> place\n",
      "33.0 -> service\n",
      "17.0 -> delicious\n",
      "17.0 -> friendly\n",
      "16.0 -> nice\n",
      "15.0 -> best\n",
      "15.0 -> just\n",
      "15.0 -> time\n",
      "14.0 -> really\n",
      "13.0 -> amazing\n",
      "12.0 -> restaurant\n",
      "12.0 -> vegas\n",
      "11.0 -> staff\n",
      "10.0 -> fantastic\n",
      "10.0 -> like\n",
      "10.0 -> love\n",
      "9.0 -> excellent\n",
      "9.0 -> pretty\n",
      "8.0 -> chicken\n",
      "8.0 -> definitely\n",
      "8.0 -> fresh\n",
      "8.0 -> loved\n"
     ]
    }
   ],
   "source": [
    "print('25 términos con más frecuencia en críticas positivas:')\n",
    "for val, term in pos_relevant_fn:\n",
    "    print(val, '->', term)"
   ]
  },
  {
   "cell_type": "markdown",
   "metadata": {},
   "source": [
    "__*¿Tienen sentido las palabras seleccionadas? ¿Hay ruido: palabras sin sentimiento o de sentimiento opuesto al esperado? ¿Por qué crees que suceden estos fenómenos?*__\n",
    "\n",
    "Para la clase de críticas negativas (0), nos encontramos con bastantes palabras que, a priori, no transmiten sentimiento. Sean estas:\n",
    "\n",
    "    Clase 0 (negativa)   \n",
    "    1. food\n",
    "    2. place\n",
    "    3. service\n",
    "    5. don\n",
    "    7. time\n",
    "    9. just\n",
    "    10. minutes\n",
    "    11. think\n",
    "    12. won\n",
    "    15. got\n",
    "    17. going\n",
    "    18. came\n",
    "    19. did\n",
    "    20. eat\n",
    "    21. flavor\n",
    "    22. really\n",
    "    23. wait\n",
    "    25. way\n",
    "    (18 / 25 palabras)\n",
    "    \n",
    "Una explicación para la presencia de este tipo de palabras es que, sin hacer valoraciones de forma explícita, las mensajes negativos sustenten su crítica en determinados temas; es decir, el cliente no comunica sólo que ha tenido una mala experiencia, sino las razones por las que ha sido así.\n",
    "\n",
    "De esta forma, tenemos palabras muy ambiguas en este sentido, como *food, place, service, time...*. Estos términos encajan perfectamente en mensajes negativos que, por ejemplo, se quejen de: la comida (food, flavor, eat); el lugar (place), ya sea de mesa o de localización en el establecimiento; la calidad del servicio de los camareros (service); o el retraso en traer la comida (time, minutes, wait).\n",
    "\n",
    "Nos referimos a estas palabras como ambiguas porque, al igual que sirven para detallar quejas, también pueden estar incluidas como cumplidos en mensajes positivos. Así, algunas de estas palabras 'temáticas' aparecen también en las 25 palabras más relevantes de la clase (1).\n",
    "\n",
    "    Clase 1 (positiva)\n",
    "    3. food\n",
    "    4. place\n",
    "    5. service\n",
    "    10. just\n",
    "    11. time\n",
    "    12. really\n",
    "    \n",
    "Sin embargo, a pesar de que no abundan, también hay algunas palabras con sentimiento entre las de clase (0).\n",
    "\n",
    "    Clase 0 (negativa)\n",
    "    4. like\n",
    "    6. good\n",
    "    13. bad\n",
    "    14. disappointed\n",
    "    16. worst\n",
    "    24. wasn\n",
    "    \n",
    "Y aquí también, aunque hay 4 de ellas con un cariz claramente negativo, las dos primeras transmiten sensaciones buenas. Una posible explicación a esto es que las críticas negativas no tienen que ser enteramente 'destructivas', en el sentido de que el cliente también puede observaciones positivas dentro de su mala experiencia.\n",
    "\n",
    "Por otra parte, en la clase de críticas positivas (1) podemos encontrar un número mayor de palabras con sentimiento, que reflejan inequívocamente buenas sensaciones.\n",
    "\n",
    "    Clase 1 (positiva)\n",
    "    1. good\n",
    "    2. great\n",
    "    6. delicious\n",
    "    7. friendly\n",
    "    8. nice\n",
    "    9. best\n",
    "    13. amazing\n",
    "    17. fantastic\n",
    "    18. like\n",
    "    19. love\n",
    "    20. excellent\n",
    "    21. pretty\n",
    "    24. fresh\n",
    "    25. loved\n",
    "    (14 / 25 palabras)\n",
    "    \n",
    "Abundan las palabras que expresan de forma directa sentimientos positivos: good, great, nice, best, amazing, fantastic, like, love, excellent, pretty, loved. Pero también hay otras como: delicious, friendly, fresh; que con toda seguridad se emplean para describir experiencias buenas por parte del cliente.\n",
    "\n",
    "Finalmente, cabe resaltar una serie de palabras que son directamente ruido, pues estas no se pueden asociar sin contexto a sentimientos positivos. Las siguientes palabras no transmiten nada por sí solas, pues distintos adjetivos pueden determinar sentimientos positivos o negativos: restaurant, staff, chicken, definitely. Y la palabra *vegas* carece completamente de contexto, pues puede referirse tanto a una localización como a un plato del menú; es decir, es totalmente irrelevante, aunque aparece lo suficiente en el conjunto de entrenamiento como para tener tal importancia.\n",
    "    \n",
    "    Clase 1 (positiva)\n",
    "    14. restaurant\n",
    "    15. vegas\n",
    "    16. staff\n",
    "    22. chicken\n",
    "    23. definitely"
   ]
  },
  {
   "cell_type": "markdown",
   "metadata": {},
   "source": [
    "### 4.2. Árboles de decisión."
   ]
  },
  {
   "cell_type": "markdown",
   "metadata": {},
   "source": [
    "__*Selecciona el mejor árbol de decisión y botén las 25 variables con más poder discriminante.*__"
   ]
  },
  {
   "cell_type": "code",
   "execution_count": 87,
   "metadata": {},
   "outputs": [
    {
     "name": "stdout",
     "output_type": "stream",
     "text": [
      "Tasas de acierto de los árboles de decisión.\n",
      "Vect. I: (0.8573333333333333, 0.764)\n",
      "Vect. II: (0.7866666666666666, 0.756)\n",
      "Vect. III: (0.828, 0.756)\n",
      "Vect. IV: (0.8133333333333334, 0.752)\n"
     ]
    }
   ],
   "source": [
    "print('Tasas de acierto de los árboles de decisión.')\n",
    "print('Vect. I:', (mono_bin_opttree_trainscr, mono_bin_opttree_testscr))\n",
    "print('Vect. II:', (duo_bin_opttree_trainscr, duo_bin_opttree_testscr))\n",
    "print('Vect. III:', (mono_tfidf_opttree_trainscr, mono_tfidf_opttree_testscr))\n",
    "print('Vect. IV:', (duo_tfidf_opttree_trainscr, duo_tfidf_opttree_testscr))"
   ]
  },
  {
   "cell_type": "markdown",
   "metadata": {},
   "source": [
    "Los porcentajes de acierto para los árboles de decisión quedan:\n",
    "\n",
    "|  Decision Tree | % train | % test | depth |\n",
    "|---------------:|--------:|-------:|------:|\n",
    "|  Vect. I       |   85.7  |  76.4  |   35  |\n",
    "|  Vect. II      |   78.7  |  75.6  |   16  |\n",
    "|  Vect. III     |   82.8  |  75.6  |   24  |\n",
    "|  Vect. IV      |   81.3  |  75.2  |   20  |\n",
    "\n",
    "Por tanto, el árbol de decisión que maximiza el porcentaje de acierto en el conjunto de test es el de la vectorización I.\n",
    "\n",
    "Este árbol tiene profundidad máxima 35, y está construido sobre una bolsa de palabras binaria de monogramas."
   ]
  },
  {
   "cell_type": "code",
   "execution_count": 88,
   "metadata": {},
   "outputs": [
    {
     "data": {
      "text/plain": [
       "[(581, 0.11314090280693595),\n",
       " (569, 0.05288616469843934),\n",
       " (340, 0.04554521583515213),\n",
       " (34, 0.041275506639947855),\n",
       " (892, 0.0391510057795566)]"
      ]
     },
     "execution_count": 88,
     "metadata": {},
     "output_type": "execute_result"
    }
   ],
   "source": [
    "# A continuación vemos las 25 variables con más poder discriminante.\n",
    "## Utilizamos el atributo 'feature_importances_' del clasificador del árbol de decisión,\n",
    "## que devuelve, para cada variable, la reducción total normalizada del criterio Gini que\n",
    "## genera esa variable.\n",
    "besttree_relevant_fn_idx = sorted(\n",
    "    list(enumerate(mono_bin_opttree.feature_importances_)),\n",
    "    key = lambda x: x[1],\n",
    "    reverse = True\n",
    ")\n",
    "\n",
    "besttree_relevant_fn_idx[:5]"
   ]
  },
  {
   "cell_type": "code",
   "execution_count": 89,
   "metadata": {},
   "outputs": [],
   "source": [
    "# Obtenemos los n-gramas asociados a esos índices.\n",
    "besttree_relevant_fn = list(map(\n",
    "    lambda x: (x[1], mono_bin_vectorizer.get_feature_names()[x[0]]), \n",
    "    besttree_relevant_fn_idx[:25]\n",
    "))"
   ]
  },
  {
   "cell_type": "code",
   "execution_count": 90,
   "metadata": {},
   "outputs": [
    {
     "name": "stdout",
     "output_type": "stream",
     "text": [
      "0.11314090280693595 -> great\n",
      "0.05288616469843934 -> good\n",
      "0.04554521583515213 -> delicious\n",
      "0.041275506639947855 -> amazing\n",
      "0.0391510057795566 -> nice\n",
      "0.034457400777363714 -> fantastic\n",
      "0.02702706160289843 -> perfect\n",
      "0.02613904226587454 -> friendly\n",
      "0.026020583755243243 -> vegas\n",
      "0.025431445134418855 -> excellent\n",
      "0.025258240459400623 -> awesome\n",
      "0.024825934535980386 -> loved\n",
      "0.024479800858154422 -> love\n",
      "0.0214955103008731 -> wonderful\n",
      "0.018116158133857516 -> happy\n",
      "0.017824402041644767 -> best\n",
      "0.016737434539832625 -> way\n",
      "0.01412173256031918 -> regular\n",
      "0.013962167616133886 -> helpful\n",
      "0.013949516309583656 -> steaks\n",
      "0.013780431263406893 -> favorite\n",
      "0.01345786611574442 -> service\n",
      "0.012574862848290796 -> quite\n",
      "0.01231612081437554 -> special\n",
      "0.010969495416715849 -> visit\n"
     ]
    }
   ],
   "source": [
    "# print('25 términos más discriminantes del árbol de decisión:')\n",
    "for val, term in besttree_relevant_fn:\n",
    "    print(val, '->', term)"
   ]
  },
  {
   "cell_type": "markdown",
   "metadata": {},
   "source": [
    "__*¿Predominan más las palabras de uno u otro sentimiento? ¿Por qué? ¿Hay ruido?*__\n",
    "\n",
    "Es obvio el fuerte dominio de palabras positivas frente a las demás, y, concretamente, frente aquellas palabras de sentimiento negativo, que ni siquiera aparecen en esta lista de las 25 variables más discriminantes.\n",
    "\n",
    "    1. great\n",
    "    2. good\n",
    "    3. delicious\n",
    "    4. amazing\n",
    "    5. nice\n",
    "    6. fantastic\n",
    "    7. perfect\n",
    "    8. friendly\n",
    "    10. excellent\n",
    "    11. awesome\n",
    "    12. loved\n",
    "    13. love\n",
    "    14. wonderful\n",
    "    15. happy\n",
    "    16. best\n",
    "    19. helpul\n",
    "    21. favorite\n",
    "    24. special\n",
    "    (18 / 25 palabras)\n",
    "\n",
    "Por otro lado, el resto de términos de la lista podemos interpretarlo como ruido. Estas palabaras no aportan ninguna información sobre el sentimiento de la crítica y, seguramente, su valor discriminante se debe a un sobreaprendizaje del conjunto de entrenamiento.\n",
    "\n",
    "    9. vegas\n",
    "    17. way\n",
    "    18. regular\n",
    "    20. steaks\n",
    "    22. service\n",
    "    23. quite\n",
    "    25. visit\n",
    "    (7 / 25 palabras)\n",
    "    \n",
    "Por ejemplo, volvemos a encontrarnos con la palabra *vegas*, cuya presencia es completamente irrelevante y puede deberse, por ejemplo, a que el conjunto de entrenamiento esté sesgado a críticas de restaurantes de Las Vegas, o a restaurantes que sirvan un determinado plato que contenga la palabra *vegas* en su nombre.\n",
    "\n",
    "Aparecen también palabras ambiguas: steaks, service, visit. Como explciamos antes, éstas son irrelevantes fuera de su contexto, que las discrimina a sentimientos positivos o negativos. Por tanto, su presencia se debe a un sobreaprendizaje del conjunto de entrenamiento."
   ]
  },
  {
   "cell_type": "markdown",
   "metadata": {},
   "source": [
    "### 4.3. Análisis conjunto de los 8 clasificadores."
   ]
  },
  {
   "cell_type": "markdown",
   "metadata": {},
   "source": [
    "Volvemos a escribir, por un lado, los porcentajes de acierto de los clasificadores Naive Bayes, y por otro, los de los árboles de decisión.\n",
    "\n",
    "|  Naive Bayes   | % train | % test |\n",
    "|---------------:|--------:|-------:|\n",
    "|  Vect. I       |   95.7  |  75.6  |\n",
    "|  Vect. II      |   98.0  |  76.0  |\n",
    "|  Vect. III     |   94.8  |  65.2  |\n",
    "|  Vect. IV      |   97.6  |  67.2  |\n",
    "\n",
    "|  Decision Tree | % train | % test | depth |\n",
    "|---------------:|--------:|-------:|------:|\n",
    "|  Vect. I       |   85.7  |  76.4  |   35  |\n",
    "|  Vect. II      |   78.7  |  75.6  |   16  |\n",
    "|  Vect. III     |   82.8  |  75.6  |   24  |\n",
    "|  Vect. IV      |   81.3  |  75.2  |   20  |\n"
   ]
  },
  {
   "cell_type": "markdown",
   "metadata": {},
   "source": [
    "__*¿Hay un clasificador que sea superior a otros? ¿Por qué crees que sucede?*__"
   ]
  },
  {
   "cell_type": "markdown",
   "metadata": {},
   "source": [
    "Como podemos observar, los mejores clasificadores para el conjunto de test se mueven en porcentajes de acierto en torno a 75-76 %. Hay claramente, dos clasificadores con un rendmiento más bajo en el conjunto de test (65-67 %); estos son los clasificadores Naive Bayes de las vectorizaciones III y IV, es decir, aquellos construidos a partir de las bolsas de palabras no binarias con frecuencias TF/IDF.\n",
    "\n",
    "Es por ello que, al menos en el caso de los clasificadores Naive Bayes, la complejización de la bolsa de palabras de valores binarios a frecuencias TF/IDF ha resultado ser perjudicial. Esto tiene fácil explicación, pues al encontrarnos en un problema de clasificación de textos con dos clases explícitas y con sentimientos opuestos (negativos y positivos), es la presencia o ausencia de ciertas palabras lo que determina la clase del texto. Por tanto, tomar la frecuencia relativa de las palabras resulta perjudicial para resolver este problema."
   ]
  },
  {
   "cell_type": "markdown",
   "metadata": {},
   "source": [
    "Con respecto a los árboles de decisión, no tiene lugar el contraste anterior, pues los 4 árboles de decisión presentan porcentajes de acierto en test en torno a 75-77 %. La única diferencia en estos árboles es el acierto en el conjunto de entrenamiento.\n",
    "\n",
    "No obstante, como hemos observado en el análisis particular de cada vectorización, los gráficos de cada árbol tomando por parámetro la profundidad máxima presentaban *mesetas* en el porcentaje de acierto con valores por encima del 75 %. Es decir, eligiendo árboles subóptimos en cada caso, podríamos reducir el sobreaprendizaje del árbol, manteniendo el acierto de test en un umbral aceptable, con profundidades máximas más pequeñas.\n",
    "\n",
    "Este es el caso del árbol de decisión de la vectorización II, en el cuál el valor óptimo de acierto en test se ha alcanzado pronto en esta *meseta*, lo que ha dado el menor acierto en entrenamiento de entre los 4 árboles de decisión: 78.7 %."
   ]
  },
  {
   "cell_type": "markdown",
   "metadata": {},
   "source": [
    "La ausencia de contraste entre los árboles formados de bolsas binarias y los entrenados a partir de bolsas TF/IDF se debe a la distinta forma de clasificar de los árboles de decisión frente a los clasificadores Naive Bayes.\n",
    "\n",
    "Es más, puesto que los datos están estratificados a 50/50, la mayoría de los mensajes positivos contendrán las mismas palabras positivas, por lo que estas palabras tendrán porcentajes de aparición en mensajes parecidas (es decir, denominadores parecidos en el cálculo de la TF/IDF). Es por ello que, seguramente, esta configuración determine umbrales de valores TF/IDF para las palabras positivas, que acaben siendo análogos a valores binarios."
   ]
  },
  {
   "cell_type": "markdown",
   "metadata": {},
   "source": [
    "Finalmente, comentamos también la diferencia entre bolsas de palabras con o sin bigramas. En efecto, en los clasificadores Naive Bayes vemos una ligera mejora de las vectorizaciones con bigramas y monogramas frente a aquellas que contienen únicamente monogramas. \n",
    "\n",
    "De la vectorización I a la II hay un aumento de 2.3 puntos en entrenamiento (95.7 -> 98.0) y de 0.4 puntos en test (75.6 -> 76.0).\n",
    "\n",
    "De la vectorización III a la IV hay un aumento de 2.8 puntos en entramiento (94.8 -> 97.6) y de 2.0 puntos en test (65.2 -> 67.2).\n",
    "\n",
    "Las mejoras en el conjunto de test son debidas a la aparición de nuevos bigramas, términos de 2 palabras, que transmiten un claro sentimiento positivo o negativo. No obstante, que estos aumentos sean mayores para el conjunto de entrenamiento deja entrever que la introducción de estos bigramas induce también un mayor sobreaprendizaje en los clasificadores Naive Bayes.\n",
    "\n",
    "Para los árboles de decisión, la presencia o ausencia de bigramas es, en la práctica, irrelevante. Esto confirma que, a pesar de la introducción de bigramas con sentimiento explícito, estos, o no añaden suficientes términos como para ser relevantes, o las palabras por las que están compuestas ya transmiten suficiente sentimiento por sí solas como para hacer al bigrama irrelevante."
   ]
  },
  {
   "cell_type": "markdown",
   "metadata": {},
   "source": [
    "## 5. Análisis del clasificador Naive Bayes óptimo."
   ]
  },
  {
   "cell_type": "markdown",
   "metadata": {},
   "source": [
    "Para los clasificadores Naive Bayes, hemos elegido el que consigue un acierto mayor para el conjunto de test: el que se da con la vectorización II.\n",
    "\n",
    "El vectorizador II es *duo_bin_vectorizer*, con vectorización *duo_bin_trainvd* para entrenamiento y *duo_bin_testvd* para test.\n",
    "\n",
    "El clasificador multinomial asociado es *duo_bin_mnbclass*.\n",
    "\n",
    "Las predicciones para entrenamiento son *duo_bin_mnb_trainp* y para test son *duo_bin_mnb_testp*."
   ]
  },
  {
   "cell_type": "markdown",
   "metadata": {},
   "source": [
    "### 5.1. Precisión y exhaustividad."
   ]
  },
  {
   "cell_type": "code",
   "execution_count": 91,
   "metadata": {},
   "outputs": [],
   "source": [
    "duo_bin_mnb_classrep = classification_report(\n",
    "    test_data_target,\n",
    "    duo_bin_mnb_testp,\n",
    "    target_names = ['negative', 'positive']\n",
    ")"
   ]
  },
  {
   "cell_type": "code",
   "execution_count": 92,
   "metadata": {},
   "outputs": [
    {
     "name": "stdout",
     "output_type": "stream",
     "text": [
      "              precision    recall  f1-score   support\n",
      "\n",
      "    negative       0.78      0.73      0.75       125\n",
      "    positive       0.74      0.79      0.77       125\n",
      "\n",
      "    accuracy                           0.76       250\n",
      "   macro avg       0.76      0.76      0.76       250\n",
      "weighted avg       0.76      0.76      0.76       250\n",
      "\n"
     ]
    }
   ],
   "source": [
    "print(duo_bin_mnb_classrep)"
   ]
  },
  {
   "cell_type": "markdown",
   "metadata": {},
   "source": [
    "__*¿Hay un comportamiento homogéneo a la hora de clasificar ambas clases? ¿Cuáles son las fortalezas y debilidades del clasificador?*__\n",
    "\n",
    "Respecto a la precisión, el clasificador posee más precisión para mensajes negativos frente a mensajes positivos (78 % frente a 74 % de precisión).\n",
    "\n",
    "No obstante, se equivoca menos al clasificar correctamente mensajes positivos frente a la clasificación de los negativos (79 % frente a 73 % de exhaustividad).\n",
    "\n",
    "Es decir, se darán más *falsos predicciones* del tipo (Predicción positiva, mensaje negativo) frente a los de (Predicción negativa, mensaje positivo)."
   ]
  },
  {
   "cell_type": "markdown",
   "metadata": {},
   "source": [
    "### 5.2. Análisis concreto de falsas predicciones."
   ]
  },
  {
   "cell_type": "code",
   "execution_count": 93,
   "metadata": {},
   "outputs": [],
   "source": [
    "# Función para clasificar falsas predicciones.\n",
    "def get_pred_errors(prediction, target):\n",
    "    errors = list()\n",
    "    for pred, targ in zip(prediction,  target):\n",
    "        if pred == 0:\n",
    "            if targ == 0:\n",
    "                errors.append(0)\n",
    "            else:\n",
    "                errors.append(1)\n",
    "        else: # pred == 1\n",
    "            if targ == 1:\n",
    "                errors.append(0)\n",
    "            else:\n",
    "                errors.append(-1)\n",
    "                \n",
    "    return errors"
   ]
  },
  {
   "cell_type": "code",
   "execution_count": 94,
   "metadata": {},
   "outputs": [],
   "source": [
    "# Clasificamos el vector de predicción de test.\n",
    "duo_bin_mnb_testpe_idx = list(enumerate( get_pred_errors(duo_bin_mnb_testp, test_data_target) ))"
   ]
  },
  {
   "cell_type": "markdown",
   "metadata": {},
   "source": [
    "#### Negativo clasificado positivo."
   ]
  },
  {
   "cell_type": "code",
   "execution_count": 95,
   "metadata": {},
   "outputs": [],
   "source": [
    "# Obtenemos 2 críticas negativas clasificadas como positivas (-1)\n",
    "mnb_neg_as_pos = shuffle(\n",
    "    [x[0] for x in duo_bin_mnb_testpe_idx if x[1] == -1],\n",
    "    n_samples = 2,\n",
    "    random_state = 7,\n",
    ")"
   ]
  },
  {
   "cell_type": "markdown",
   "metadata": {},
   "source": [
    "#### Mensaje 1. Negativo clasificado positivo."
   ]
  },
  {
   "cell_type": "code",
   "execution_count": 96,
   "metadata": {},
   "outputs": [
    {
     "data": {
      "text/plain": [
       "'If you look for authentic Thai food, go else where.'"
      ]
     },
     "execution_count": 96,
     "metadata": {},
     "output_type": "execute_result"
    }
   ],
   "source": [
    "# Texto de la crítica.\n",
    "mnb_badpred1 = test_data[mnb_neg_as_pos[0]]\n",
    "mnb_badpred1"
   ]
  },
  {
   "cell_type": "code",
   "execution_count": 97,
   "metadata": {},
   "outputs": [
    {
     "name": "stdout",
     "output_type": "stream",
     "text": [
      "  (0, 161)\t1\n",
      "  (0, 165)\t1\n",
      "  (0, 1370)\t1\n",
      "  (0, 2189)\t1\n",
      "  (0, 3843)\t1\n"
     ]
    }
   ],
   "source": [
    "# Vectorización de la crítica.\n",
    "mnb_badpred1_vd = duo_bin_testvd[mnb_neg_as_pos[0]]\n",
    "print(mnb_badpred1_vd)"
   ]
  },
  {
   "cell_type": "code",
   "execution_count": 98,
   "metadata": {},
   "outputs": [
    {
     "name": "stdout",
     "output_type": "stream",
     "text": [
      "authentic\n",
      "authentic thai\n",
      "food\n",
      "look\n",
      "thai\n"
     ]
    }
   ],
   "source": [
    "# Obtenemos los términos de la vectorización.\n",
    "for idx in mnb_badpred1_vd.indices:\n",
    "    print(duo_bin_vectorizer.get_feature_names()[idx])"
   ]
  },
  {
   "cell_type": "markdown",
   "metadata": {},
   "source": [
    "La ambigüedad de este mensaje es trivial. Tenemos una serie de palabras triviales, siendo las de más importancia *food* y *look*, que están ambas presentes en las 25 variables con más presencia en cada clase. Es decir, son palabras ambiguas que pueden conducir a error al clasificador.\n",
    "\n",
    "No obstante, también tenemos la palabra *authentic* que, aunque no aparece entre las 25 primeras variables de la clase de críticas positivas, sí que desprende un sentimiento positivo, lo que ha podido hacer que el clasificador la categorice como una opinión positiva.\n",
    "\n",
    "Sin embargo, la crítica traducida es \"Si estás buscando un (restaurante) thai auténtico, ve a otro sitio.\". Esta es claramente negativa, pero la condicionalidad de la frase lleva al calsificador a error.\n",
    "\n",
    "Como vemos, el resto de palabras no se encuentran en la vectorización porque corresponden a palabras vacías. Quizá, si hubiese podido vectorizarse el bigrama \"else where\", el clasificador habría actuado correctamente, pero ese bigrama nunca podrá estar en el diccionario por nuestra configuración inicial de palabras vacías."
   ]
  },
  {
   "cell_type": "markdown",
   "metadata": {},
   "source": [
    "#### Mensaje 2. Negativo clasificado positivo."
   ]
  },
  {
   "cell_type": "code",
   "execution_count": 99,
   "metadata": {},
   "outputs": [
    {
     "data": {
      "text/plain": [
       "'-My order was not correct.'"
      ]
     },
     "execution_count": 99,
     "metadata": {},
     "output_type": "execute_result"
    }
   ],
   "source": [
    "# Texto de la crítica.\n",
    "mnb_badpred2 = test_data[mnb_neg_as_pos[1]]\n",
    "mnb_badpred2"
   ]
  },
  {
   "cell_type": "code",
   "execution_count": 100,
   "metadata": {},
   "outputs": [
    {
     "name": "stdout",
     "output_type": "stream",
     "text": [
      "  (0, 2563)\t1\n"
     ]
    }
   ],
   "source": [
    "# Vectorización de la crítica.\n",
    "mnb_badpred2_vd = duo_bin_testvd[mnb_neg_as_pos[1]]\n",
    "print(mnb_badpred2_vd)"
   ]
  },
  {
   "cell_type": "code",
   "execution_count": 101,
   "metadata": {},
   "outputs": [
    {
     "name": "stdout",
     "output_type": "stream",
     "text": [
      "order\n"
     ]
    }
   ],
   "source": [
    "# Obtenemos los términos de la vectorización.\n",
    "for idx in mnb_badpred2_vd.indices:\n",
    "    print(duo_bin_vectorizer.get_feature_names()[idx])"
   ]
  },
  {
   "cell_type": "markdown",
   "metadata": {},
   "source": [
    "La razón de la equivocación en este caso es bastante obvia: el clasificador sólo tiene una palabra para categorizar el mensaje. Además, se trata de una palabra ambigua como *order*.\n",
    "\n",
    "Por otro lado, aunque hay otra palabra que, a priori, no debería estar en el conjunto de palabras vacías, es posible que esta no estuviese contenida en ningún texto del conjunto de entrenamiento y, por tanto, no se halla añadido al vocabulario de la vectorización.\n",
    "\n",
    "Aún así, la palabra *order* habría tenido un cariz positivo. Por tanto, que algunas palabras cono *not* no se cuenten porque se toman como palabras vacías puede perjudicar el rendimiento del clasificador, pues contar el número de expresiones con negación podría ayudar a clasificar mejor críticas negativas."
   ]
  },
  {
   "cell_type": "markdown",
   "metadata": {},
   "source": [
    "#### Positivo clasificado negativo."
   ]
  },
  {
   "cell_type": "code",
   "execution_count": 102,
   "metadata": {},
   "outputs": [],
   "source": [
    "# Obtenemos 2 críticas negativas clasificadas como positivas (-1)\n",
    "mnb_pos_as_neg = shuffle(\n",
    "    [x[0] for x in duo_bin_mnb_testpe_idx if x[1] == 1],\n",
    "    n_samples = 2,\n",
    "    random_state = 7,\n",
    ")"
   ]
  },
  {
   "cell_type": "markdown",
   "metadata": {},
   "source": [
    "#### Mensaje 1. Positivo clasificado negativo."
   ]
  },
  {
   "cell_type": "code",
   "execution_count": 103,
   "metadata": {},
   "outputs": [
    {
     "data": {
      "text/plain": [
       "'Also there are combos like a burger, fries, and beer for 23 which is a decent deal.'"
      ]
     },
     "execution_count": 103,
     "metadata": {},
     "output_type": "execute_result"
    }
   ],
   "source": [
    "# Texto de la crítica.\n",
    "mnb_badpred3 = test_data[mnb_pos_as_neg[0]]\n",
    "mnb_badpred3"
   ]
  },
  {
   "cell_type": "code",
   "execution_count": 104,
   "metadata": {},
   "outputs": [
    {
     "name": "stdout",
     "output_type": "stream",
     "text": [
      "  (0, 278)\t1\n",
      "  (0, 454)\t1\n",
      "  (0, 827)\t1\n",
      "  (0, 833)\t1\n",
      "  (0, 1479)\t1\n",
      "  (0, 2109)\t1\n"
     ]
    }
   ],
   "source": [
    "# Vectorización de la crítica.\n",
    "mnb_badpred3_vd = duo_bin_testvd[mnb_pos_as_neg[0]]\n",
    "print(mnb_badpred3_vd)"
   ]
  },
  {
   "cell_type": "code",
   "execution_count": 105,
   "metadata": {},
   "outputs": [
    {
     "name": "stdout",
     "output_type": "stream",
     "text": [
      "beer\n",
      "burger\n",
      "deal\n",
      "decent\n",
      "fries\n",
      "like\n"
     ]
    }
   ],
   "source": [
    "# Obtenemos los términos de la vectorización.\n",
    "for idx in mnb_badpred3_vd.indices:\n",
    "    print(duo_bin_vectorizer.get_feature_names()[idx])"
   ]
  },
  {
   "cell_type": "markdown",
   "metadata": {},
   "source": [
    "En este caso, nos encontramos con un mensaje repleto de palabras, por sí solas, ambiguas. Esto ha llevado al clasificador a equivocarse y categorizar el mensaje como negativo.\n",
    "\n",
    "Una buena clasificación habría implicado 'comprender' al menos el significado de la parte 'which is a decent deal'. Esto podría haber sido posible de encontrarse en el vocabulario el bigrama 'decent deal', que tiene una obvia connotación positiva. No obstante, como en el mensaje anterior, este bigrama no ha debido encontrarse en el conjunto de entrenamiento."
   ]
  },
  {
   "cell_type": "markdown",
   "metadata": {},
   "source": [
    "#### Mensaje 2. Positivo clasificado negativo."
   ]
  },
  {
   "cell_type": "code",
   "execution_count": 106,
   "metadata": {},
   "outputs": [
    {
     "data": {
      "text/plain": [
       "\"Point your finger at any item on the menu, order it and you won't be disappointed.\""
      ]
     },
     "execution_count": 106,
     "metadata": {},
     "output_type": "execute_result"
    }
   ],
   "source": [
    "# Texto de la crítica.\n",
    "mnb_badpred4 = test_data[mnb_pos_as_neg[1]]\n",
    "mnb_badpred4"
   ]
  },
  {
   "cell_type": "code",
   "execution_count": 107,
   "metadata": {},
   "outputs": [
    {
     "name": "stdout",
     "output_type": "stream",
     "text": [
      "  (0, 970)\t1\n",
      "  (0, 2343)\t1\n",
      "  (0, 2563)\t1\n",
      "  (0, 2850)\t1\n",
      "  (0, 4281)\t1\n",
      "  (0, 4284)\t1\n"
     ]
    }
   ],
   "source": [
    "# Vectorización de la crítica.\n",
    "mnb_badpred4_vd = duo_bin_testvd[mnb_pos_as_neg[1]]\n",
    "print(mnb_badpred4_vd)"
   ]
  },
  {
   "cell_type": "code",
   "execution_count": 108,
   "metadata": {},
   "outputs": [
    {
     "name": "stdout",
     "output_type": "stream",
     "text": [
      "disappointed\n",
      "menu\n",
      "order\n",
      "point\n",
      "won\n",
      "won disappointed\n"
     ]
    }
   ],
   "source": [
    "# Obtenemos los términos de la vectorización.\n",
    "for idx in mnb_badpred4_vd.indices:\n",
    "    print(duo_bin_vectorizer.get_feature_names()[idx])"
   ]
  },
  {
   "cell_type": "markdown",
   "metadata": {},
   "source": [
    "En este último mensaje, encontramos una palabra explícitamente negativo como *disappointed*. No obstante, también tenemos el bigrama *won disappointed*, que difícilmente ha podido incluirse en el diccionario de una cadena que no fuese 'won't be disappointed', que expresa un sentimiento positivo.\n",
    "\n",
    "Aún así, el clasificador ha categorizado el mensaje como negativo. Esto puede deberse al mayor peso de la palabra negativo *disappointed* sobre el bigrama anterior o, quizá, a la ausencia de palabras de sentimiento positivo."
   ]
  },
  {
   "cell_type": "markdown",
   "metadata": {},
   "source": [
    "## 6. Análisis del árbol de decisión óptimo."
   ]
  },
  {
   "cell_type": "markdown",
   "metadata": {},
   "source": [
    "Para los árboles de decisión, hemos elegido el que consigue un acierto mayor para el conjunto de test: el que se da con la vectorización I.\n",
    "\n",
    "El vectorizador I es *mono_bin_vectorizer*, con vectorización *mono_bin_trainvd* para entrenamiento y *mono_bin_testvd* para test.\n",
    "\n",
    "El árbol de decisión asociado es *mono_bin_opttree*.\n",
    "\n",
    "Las predicciones para entrenamiento son *mono_bin_opttree_trainp* y para test son *mono_bin_opttree_testp*."
   ]
  },
  {
   "cell_type": "markdown",
   "metadata": {},
   "source": [
    "### 6.1. Precisión y exhaustividad."
   ]
  },
  {
   "cell_type": "code",
   "execution_count": 109,
   "metadata": {},
   "outputs": [],
   "source": [
    "mono_bin_opttree_classrep = classification_report(\n",
    "    test_data_target,\n",
    "    mono_bin_opttree_testp,\n",
    "    target_names = ['negative', 'positive']\n",
    ")"
   ]
  },
  {
   "cell_type": "code",
   "execution_count": 110,
   "metadata": {},
   "outputs": [
    {
     "name": "stdout",
     "output_type": "stream",
     "text": [
      "              precision    recall  f1-score   support\n",
      "\n",
      "    negative       0.72      0.86      0.78       125\n",
      "    positive       0.82      0.67      0.74       125\n",
      "\n",
      "    accuracy                           0.76       250\n",
      "   macro avg       0.77      0.76      0.76       250\n",
      "weighted avg       0.77      0.76      0.76       250\n",
      "\n"
     ]
    }
   ],
   "source": [
    "print(mono_bin_opttree_classrep)"
   ]
  },
  {
   "cell_type": "markdown",
   "metadata": {},
   "source": [
    "__*¿Hay un comportamiento homogéneo a la hora de clasificar ambas clases? ¿Cuáles son las fortalezas y debilidades del clasificador?*__\n",
    "\n",
    "Respecto a la precisión, el clasificador posee más precisión para mensajes positivos frente a mensajes negativos (82 % frente a 72 % de precisión).\n",
    "\n",
    "No obstante, se equivoca menos al clasificar correctamente mensajes negativos frente a la clasificación de los positivos (86 % frente a 67 % de exhaustividad).\n",
    "\n",
    "Es decir, se darán más *falsas predicciones* del tipo (Predicción negativa, mensaje positivo) frente a los de (Predicción postiva, mensaje negativo)."
   ]
  },
  {
   "cell_type": "markdown",
   "metadata": {},
   "source": [
    "### 6.2. Gráfico del árbol."
   ]
  },
  {
   "cell_type": "code",
   "execution_count": 111,
   "metadata": {},
   "outputs": [
    {
     "data": {
      "image/png": "[encoded data removed]",
      "text/plain": [
       "<IPython.core.display.Image object>"
      ]
     },
     "metadata": {},
     "output_type": "display_data"
    }
   ],
   "source": [
    "# Graficos los primeros 8 niveles del árbol de decisión.\n",
    "mono_bin_opttree_graph = tree.export_graphviz(\n",
    "    mono_bin_opttree,\n",
    "    out_file = None,\n",
    "    max_depth = 8,\n",
    "    feature_names = mono_tfidf_vectorizer.get_feature_names(),\n",
    "    class_names = ['negative', 'positive'],\n",
    "    filled = True,\n",
    "    rounded = True,\n",
    "    special_characters = True\n",
    "    )\n",
    "\n",
    "\n",
    "mbot = gvz.Source(mono_bin_opttree_graph, format = 'png')\n",
    "mbot.render('mbot')\n",
    "display(Image(filename = 'mbot.png'))"
   ]
  },
  {
   "cell_type": "markdown",
   "metadata": {},
   "source": [
    "__*¿Qué estructura tiene el árbol?*__\n",
    "\n",
    "Por los 8 primeros niveles, el árbol está 'inclinado' a la izquierda, habiendo algunos subárboles más equilibrados como el que hijo del nodo 'nice', más simple, o el hijo del nodo 'good', de mayor complejidad.\n",
    "\n",
    "__*¿Cómo interpretas los niveles que has pintado? ¿Tiene algún sentido con respecto a la tasa de aciertos o la precisión y exhaustividad del clasificador?*__\n",
    "\n",
    "Como podemos ver por la sucesión de términos de los hijos izquierdos: \n",
    "\n",
    "    great\n",
    "    good\n",
    "    delicious\n",
    "    amazing\n",
    "    nice\n",
    "    fantastic\n",
    "    loved\n",
    "    excellent\n",
    "    friendly\n",
    "    \n",
    "Se deriva que el árbol de decisión funciona buscando palabras de sentimiento positivo en el mensaje. En la mayoría de estos nodos, si las encuentra, clasifica el mensaje directamente como una crítica positiva. No obstante, en un par de ellas, deriva a subárboles.\n",
    "\n",
    "En el nodo 'nice', deriva a un subárbol de profundidad 2 en el que se busca la palabra 'pale'. Si la encuentra, entonces clasifica el mensaje como negativo. No obstante, vemos que en ese nodo hoja, sólo hay un mensaje del conjunto de entrenamiento, por lo que este subárbol es claramente despreciable.\n",
    "\n",
    "En el nodo 'good', nos deriva a un subárbol más complejo. Aparece el término 'way' que podría relacionarse con la expresión 'good way' para señalar críticas negativas (de carácter constructivo). También aparecen palabras irrelevantes como 'sushi' que deriva a la derecha a un subárbol claramente prescindible, pues divide a un nodo [2,1], en un claro ejemplo de sobreaprendizaje. Por el lado izquierdo, nos encontramos una serie de palabras ambiguas con poca capacidad sentimental o ambiguas: station, location, imagination, deal. La palabra *familiar* sí que tiene una connotación positiva.\n",
    "\n",
    "La inclinación del árbol a buscar palabras positivas en los mensajes para rápidamente clasificarlos como tal si encuentra una de ellas se ve reflejado directamente en los valores de precisión y exhaustividad.\n",
    "\n",
    "__*¿Hay nodos impuros?*__\n",
    "\n",
    "Todos los nodos hojas que aparecen contienen mensajes pertenecientes a una única clase. De forma mayoritaria, estos nodos representan mensajes de la clase de críticas positivas."
   ]
  },
  {
   "cell_type": "markdown",
   "metadata": {},
   "source": [
    "### 6.3. Análisis concreto de falsas predicciones."
   ]
  },
  {
   "cell_type": "code",
   "execution_count": 112,
   "metadata": {},
   "outputs": [],
   "source": [
    "# Clasificamos el vector de predicción de test.\n",
    "mono_bin_opttree_testpe_idx = list(enumerate( get_pred_errors(mono_bin_opttree_testp, test_data_target) ))"
   ]
  },
  {
   "cell_type": "markdown",
   "metadata": {},
   "source": [
    "#### Negativo clasificado positivo."
   ]
  },
  {
   "cell_type": "code",
   "execution_count": 113,
   "metadata": {},
   "outputs": [],
   "source": [
    "# Obtenemos 2 críticas negativas clasificadas como positivas (-1)\n",
    "tree_neg_as_pos = shuffle(\n",
    "    [x[0] for x in mono_bin_opttree_testpe_idx if x[1] == -1],\n",
    "    n_samples = 2,\n",
    "    random_state = 7,\n",
    ")"
   ]
  },
  {
   "cell_type": "markdown",
   "metadata": {},
   "source": [
    "#### Mensaje 1. Negativo clasificado positivo."
   ]
  },
  {
   "cell_type": "code",
   "execution_count": 114,
   "metadata": {},
   "outputs": [
    {
     "data": {
      "text/plain": [
       "'I do love sushi, but I found Kabuki to be over-priced, over-hip and under-services.'"
      ]
     },
     "execution_count": 114,
     "metadata": {},
     "output_type": "execute_result"
    }
   ],
   "source": [
    "# Texto de la crítica.\n",
    "tree_badpred1 = test_data[tree_neg_as_pos[0]]\n",
    "tree_badpred1"
   ]
  },
  {
   "cell_type": "code",
   "execution_count": 115,
   "metadata": {},
   "outputs": [
    {
     "name": "stdout",
     "output_type": "stream",
     "text": [
      "  (0, 642)\t1\n",
      "  (0, 788)\t1\n",
      "  (0, 1036)\t1\n",
      "  (0, 1199)\t1\n",
      "  (0, 1325)\t1\n"
     ]
    }
   ],
   "source": [
    "# Vectorización de la crítica.\n",
    "tree_badpred1_vd = mono_bin_testvd[tree_neg_as_pos[0]]\n",
    "print(tree_badpred1_vd)"
   ]
  },
  {
   "cell_type": "code",
   "execution_count": 116,
   "metadata": {},
   "outputs": [
    {
     "name": "stdout",
     "output_type": "stream",
     "text": [
      "hip\n",
      "love\n",
      "priced\n",
      "services\n",
      "sushi\n"
     ]
    }
   ],
   "source": [
    "# Obtenemos los términos de la vectorización.\n",
    "for idx in tree_badpred1_vd.indices:\n",
    "    print(mono_bin_vectorizer.get_feature_names()[idx])"
   ]
  },
  {
   "cell_type": "markdown",
   "metadata": {},
   "source": [
    "Como hemos visto, el árbol de decisión está buscado a la búsqueda de palabra con connotaciones explícitamente positivas. En este mensaje, directamente encontramos la palabra 'love', que, en tanto que también está presente 'loved' en el gráfico de profundidad 8 que hemos analizado, también estará como un nodo que clasifique directamente a mensaje positivo.\n",
    "\n",
    "Palabras negativas como 'over-priced' o 'under-services' no servirían para el árbol, que sólo busca términos positivos; pero es que además, tampoco están registradas en el vocabulario al no encontrarse en ningún mensaje del conjunto de entrenamiento."
   ]
  },
  {
   "cell_type": "markdown",
   "metadata": {},
   "source": [
    "#### Mensaje 2. Negativo clasificado positivo."
   ]
  },
  {
   "cell_type": "code",
   "execution_count": 117,
   "metadata": {},
   "outputs": [
    {
     "data": {
      "text/plain": [
       "'Bad day or not, I have a very low tolerance for rude customer service people, it is your job to be nice and polite, wash dishes otherwise!!'"
      ]
     },
     "execution_count": 117,
     "metadata": {},
     "output_type": "execute_result"
    }
   ],
   "source": [
    "# Texto de la crítica.\n",
    "tree_badpred2 = test_data[tree_neg_as_pos[1]]\n",
    "tree_badpred2"
   ]
  },
  {
   "cell_type": "code",
   "execution_count": 118,
   "metadata": {},
   "outputs": [
    {
     "name": "stdout",
     "output_type": "stream",
     "text": [
      "  (0, 83)\t1\n",
      "  (0, 312)\t1\n",
      "  (0, 322)\t1\n",
      "  (0, 384)\t1\n",
      "  (0, 712)\t1\n",
      "  (0, 794)\t1\n",
      "  (0, 892)\t1\n",
      "  (0, 975)\t1\n",
      "  (0, 1145)\t1\n",
      "  (0, 1198)\t1\n"
     ]
    }
   ],
   "source": [
    "# Vectorización de la crítica.\n",
    "tree_badpred2_vd = mono_bin_testvd[tree_neg_as_pos[1]]\n",
    "print(tree_badpred2_vd)"
   ]
  },
  {
   "cell_type": "code",
   "execution_count": 119,
   "metadata": {},
   "outputs": [
    {
     "name": "stdout",
     "output_type": "stream",
     "text": [
      "bad\n",
      "customer\n",
      "day\n",
      "dishes\n",
      "job\n",
      "low\n",
      "nice\n",
      "people\n",
      "rude\n",
      "service\n"
     ]
    }
   ],
   "source": [
    "# Obtenemos los términos de la vectorización.\n",
    "for idx in tree_badpred2_vd.indices:\n",
    "    print(mono_bin_vectorizer.get_feature_names()[idx])"
   ]
  },
  {
   "cell_type": "markdown",
   "metadata": {},
   "source": [
    "En este mensaje, el error en la clasificación se produce de forma análoga por la presencia de la palabra positiva 'nice', que, como vemos en el gráfico, ante la ausencia de 'pale' clasifica a positivo.\n",
    "\n",
    "No obstante, el mensaje es negativo pues exige que el servicio sea 'nice and polite': amable y educado."
   ]
  },
  {
   "cell_type": "markdown",
   "metadata": {},
   "source": [
    "#### Positivo como negativo."
   ]
  },
  {
   "cell_type": "code",
   "execution_count": 120,
   "metadata": {},
   "outputs": [],
   "source": [
    "# Obtenemos 2 críticas negativas clasificadas como positivas (-1)\n",
    "tree_pos_as_neg = shuffle(\n",
    "    [x[0] for x in mono_bin_opttree_testpe_idx if x[1] == 1],\n",
    "    n_samples = 2,\n",
    "    random_state = 7,\n",
    ")"
   ]
  },
  {
   "cell_type": "markdown",
   "metadata": {},
   "source": [
    "#### Mensaje 1. Positivo como negativo."
   ]
  },
  {
   "cell_type": "code",
   "execution_count": 121,
   "metadata": {},
   "outputs": [
    {
     "data": {
      "text/plain": [
       "'My fiancÃ© and I came in the middle of the day and we were greeted and seated right away.'"
      ]
     },
     "execution_count": 121,
     "metadata": {},
     "output_type": "execute_result"
    }
   ],
   "source": [
    "# Texto de la crítica.\n",
    "tree_badpred3 = test_data[tree_pos_as_neg[0]]\n",
    "tree_badpred3"
   ]
  },
  {
   "cell_type": "code",
   "execution_count": 122,
   "metadata": {},
   "outputs": [
    {
     "name": "stdout",
     "output_type": "stream",
     "text": [
      "  (0, 74)\t1\n",
      "  (0, 191)\t1\n",
      "  (0, 322)\t1\n",
      "  (0, 1134)\t1\n",
      "  (0, 1181)\t1\n"
     ]
    }
   ],
   "source": [
    "# Vectorización de la crítica.\n",
    "tree_badpred3_vd = mono_bin_testvd[tree_pos_as_neg[0]]\n",
    "print(tree_badpred3_vd)"
   ]
  },
  {
   "cell_type": "code",
   "execution_count": 123,
   "metadata": {},
   "outputs": [
    {
     "name": "stdout",
     "output_type": "stream",
     "text": [
      "away\n",
      "came\n",
      "day\n",
      "right\n",
      "seated\n"
     ]
    }
   ],
   "source": [
    "# Obtenemos los términos de la vectorización.\n",
    "for idx in tree_badpred3_vd.indices:\n",
    "    print(mono_bin_vectorizer.get_feature_names()[idx])"
   ]
  },
  {
   "cell_type": "markdown",
   "metadata": {},
   "source": [
    "En este mensaje la clasificación a mensaje negativo se produce porque no hay ninguna palabra registrada con un claro sentimiento positivo.\n",
    "\n",
    "Por otro lado, las que hay en el mensaje, como 'greeted' o 'right away' no están en el vocabulario del conjunto de mensajes."
   ]
  },
  {
   "cell_type": "markdown",
   "metadata": {},
   "source": [
    "#### Mensaje 2. Positivo como negativo."
   ]
  },
  {
   "cell_type": "code",
   "execution_count": 124,
   "metadata": {},
   "outputs": [
    {
     "data": {
      "text/plain": [
       "'Restaurant is always full but never a wait.'"
      ]
     },
     "execution_count": 124,
     "metadata": {},
     "output_type": "execute_result"
    }
   ],
   "source": [
    "# Texto de la crítica.\n",
    "tree_badpred4 = test_data[tree_pos_as_neg[1]]\n",
    "tree_badpred4"
   ]
  },
  {
   "cell_type": "code",
   "execution_count": 125,
   "metadata": {},
   "outputs": [
    {
     "name": "stdout",
     "output_type": "stream",
     "text": [
      "  (0, 1117)\t1\n",
      "  (0, 1452)\t1\n"
     ]
    }
   ],
   "source": [
    "# Vectorización de la crítica.\n",
    "tree_badpred4_vd = mono_bin_testvd[tree_pos_as_neg[1]]\n",
    "print(tree_badpred4_vd)"
   ]
  },
  {
   "cell_type": "code",
   "execution_count": 126,
   "metadata": {},
   "outputs": [
    {
     "name": "stdout",
     "output_type": "stream",
     "text": [
      "restaurant\n",
      "wait\n"
     ]
    }
   ],
   "source": [
    "# Obtenemos los términos de la vectorización.\n",
    "for idx in tree_badpred4_vd.indices:\n",
    "    print(mono_bin_vectorizer.get_feature_names()[idx])"
   ]
  },
  {
   "cell_type": "markdown",
   "metadata": {},
   "source": [
    "Aquí tenemos el mismo caso que en el mensaje anterior por la ausencia de términos positivos, además de registrar muy pocos términos."
   ]
  },
  {
   "cell_type": "markdown",
   "metadata": {},
   "source": [
    "### Conclusión entre clasificadores."
   ]
  },
  {
   "cell_type": "markdown",
   "metadata": {},
   "source": [
    "El árbol de decisión tiene una mayor precisión a la hora de acertar al categorizar un mensaje como positivo, mientras que el clasificador Naive Bayes tiene esa propiedad con los mensajes positivos.\n",
    "\n",
    "Este hecho se invierte a la hora de clasificar mensajes positivos correctamente, donde es mejor el Naive Bayes frente al árbol de decisión, que es mejor clasificando mensajes negativos."
   ]
  },
  {
   "cell_type": "markdown",
   "metadata": {},
   "source": [
    "__*FIN*__"
   ]
  }
 ],
 "metadata": {
  "kernelspec": {
   "display_name": "Python 3",
   "language": "python",
   "name": "python3"
  },
  "language_info": {
   "codemirror_mode": {
    "name": "ipython",
    "version": 3
   },
   "file_extension": ".py",
   "mimetype": "text/x-python",
   "name": "python",
   "nbconvert_exporter": "python",
   "pygments_lexer": "ipython3",
   "version": "3.7.6"
  }
 },
 "nbformat": 4,
 "nbformat_minor": 4
}
