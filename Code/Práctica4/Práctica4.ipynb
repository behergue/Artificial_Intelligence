{
 "cells": [
  {
   "cell_type": "markdown",
   "metadata": {},
   "source": [
    "**GRUPO 7**\n",
    "\n",
    "Beatriz Herguedas Pinedo\n",
    "\n",
    "Pablo Hernández Aguado"
   ]
  },
  {
   "cell_type": "markdown",
   "metadata": {},
   "source": [
    "# Toma de contacto."
   ]
  },
  {
   "cell_type": "markdown",
   "metadata": {},
   "source": [
    "En este apartado ejecutamos el siguiente archivo .clp:"
   ]
  },
  {
   "cell_type": "code",
   "execution_count": 1,
   "metadata": {},
   "outputs": [
    {
     "ename": "SyntaxError",
     "evalue": "invalid syntax (<ipython-input-1-5f990aabca25>, line 1)",
     "output_type": "error",
     "traceback": [
      "\u001b[1;36m  File \u001b[1;32m\"<ipython-input-1-5f990aabca25>\"\u001b[1;36m, line \u001b[1;32m1\u001b[0m\n\u001b[1;33m    (defrule nombreJuan\u001b[0m\n\u001b[1;37m                      ^\u001b[0m\n\u001b[1;31mSyntaxError\u001b[0m\u001b[1;31m:\u001b[0m invalid syntax\n"
     ]
    }
   ],
   "source": [
    "(defrule nombreJuan\n",
    "    (nombre Juan)\n",
    "=>\n",
    "    (printout t \"Tu nombre de pila es Juan\" crlf)\n",
    ")\n",
    "\n",
    "(defrule Hola\n",
    "    (nombre Juan)\n",
    "    (apellido-1 Perez)\n",
    "    (apellido-2 Lopez)\n",
    "=>\n",
    "    (printout t \"Hola Juan Perez Lopez\" crlf)\n",
    ")\n",
    "\n",
    "(deffacts Hechos\n",
    "    (nombre Ana)\n",
    "    (nombre Juan)\n",
    "    (apellido-1 Diaz)\n",
    "    (apellido-1 Perez)\n",
    "    (apellido-2 Lopez)\n",
    "    (apellido-1 Martinez)\n",
    ")"
   ]
  },
  {
   "cell_type": "markdown",
   "metadata": {},
   "source": [
    "A continuación, respondemos a las preguntas planteadas."
   ]
  },
  {
   "cell_type": "markdown",
   "metadata": {},
   "source": [
    "_**¿Se ha activado alguna regla*? ¿En qué orden se han activado?**_\n",
    "\n",
    "Sí, se han activado ambas reglas una vez se han declarado los hechos que las activan.\n",
    "En concreto, tras hacer `(assert (nombre Juan))` se ha activado la norma `nombreJuan`.\n",
    "Y, posteriormente, tras hacer `(assert (apellido-1 Perez) (apellido-2 Lopez))`, se ha activado la norma `Hola`."
   ]
  },
  {
   "cell_type": "markdown",
   "metadata": {},
   "source": [
    "_**Para comenzar la ejecución hay que escribir `(run)` o usar la opción `run` del menú. ¿Qué reglas se han ejecutado? ¿En qué orden lo han hecho? ¿Por qué crees que se han ejecutado en ese orden?**_\n",
    "\n",
    "Se han ejecutado tanto 'Hola' como 'nombreJuan', en ese orden. Ha ocurrido así porque se ejecutan las reglas activas en orden alfanumérico. (h < n)."
   ]
  },
  {
   "cell_type": "markdown",
   "metadata": {},
   "source": [
    "_**Reiniciar el sistema con `(reset)`. ¿Qué hubiera pasado si reiniciamos con `(clear)` en su lugar?**_\n",
    "\n",
    "Al hacer (clear), se elimina todo lo que se ha definido en la\n",
    "sesión de trabajo, tanto lo introducido por línea de comandos\n",
    "como lo cargado desde un fichero.\n",
    "\n",
    "Con (reset), sin embargo, sólo se elimina lo introducido por\n",
    "línea de comandos, mientras que la información de los ficheros\n",
    "cargados se conserva.\n",
    "\n",
    "_Tras cargar un fichero con (load) hay que ejecutar (reset)\n",
    "para que se instancien sus hechos._"
   ]
  },
  {
   "cell_type": "markdown",
   "metadata": {},
   "source": [
    "# Archivo 'familia.clp'."
   ]
  },
  {
   "cell_type": "markdown",
   "metadata": {},
   "source": [
    "_**Dado el archivo `familia.clp`, modificarlo para añadir las reglas que añaden todos los hechos `(primos p1 p2)` que indica que `p1(h o m)` es primo hermano de `p2(h o m)`.**_"
   ]
  },
  {
   "cell_type": "markdown",
   "metadata": {},
   "source": [
    "El archivo `familia.clp` queda así:"
   ]
  },
  {
   "cell_type": "code",
   "execution_count": null,
   "metadata": {},
   "outputs": [],
   "source": [
    "(deffacts inicio\n",
    "    (dd juan maria rosa m)\n",
    "    (dd juan maria luis h)\n",
    "    (dd jose laura pilar m)\n",
    "    (dd luis pilar miguel h)\n",
    "    (dd miguel isabel jaime h)\n",
    "    (dd pedro rosa pablo h)\n",
    "    (dd pedro rosa begoña m))\n",
    "\n",
    ";(dd Juan María Rosa m) indica que Juan y María son los padres de Rosa y que Rosa es una mujer. \n",
    "\n",
    "(defrule padre\n",
    "    (dd ?x ? ?y ?)\n",
    "    =>\n",
    "    (assert (padre ?x ?y)))\n",
    "\n",
    "(defrule madre\n",
    "    (dd ? ?x ?y ?)\n",
    "    =>\n",
    "    (assert (madre ?x ?y)))\n",
    "\n",
    "(defrule hijoPorPadre\n",
    "    (dd ?x ? ?y h)\n",
    "    =>\n",
    "    (assert(hijo ?y ?x)))\n",
    "\n",
    "(defrule hijoPorMadre\n",
    "    (dd ? ?x ?y h)\n",
    "    =>\n",
    "    (assert(hijo ?y ?x)))\n",
    "\n",
    "(defrule hijaPorPadre\n",
    "    (dd ?x ? ?y m)\n",
    "    =>\n",
    "    (assert(hija ?y ?x)))\n",
    "\n",
    "(defrule hijaPorMadre\n",
    "    (dd ? ?x ?y m)\n",
    "    =>\n",
    "    (assert(hija ?y ?x)))\n",
    "\n",
    "(defrule hermano\n",
    "    (dd ?p ?m ?h1 ?)\n",
    "    (dd ?p ?m ?h2 h)\n",
    "    (test (neq ?h1 ?h2))\n",
    "    =>\n",
    "    (assert (hermano ?h2 ?h1)))\n",
    "\n",
    "(defrule hermana\n",
    "    (dd ?p ?m ?h1 ?)\n",
    "    (dd ?p ?m ?h2 m)\n",
    "    (test (neq ?h1 ?h2))\n",
    "    =>\n",
    "    (assert (hermana ?h2 ?h1)))\n",
    "\n",
    "(defrule abueloPorPadre\n",
    "\t(padre ?a ?p)\n",
    "    (padre ?p ?h)\n",
    "\t=>\n",
    "\t(assert (abuelo ?a ?h)))\n",
    "\n",
    "(defrule abueloPorMadre\n",
    "\t(padre ?a ?m)\n",
    "\t(madre ?m ?h)\n",
    "\t=>\n",
    "\t(assert (abuelo ?a ?h)))\n",
    "\n",
    "(defrule abuelaPorPadre\n",
    "\t(madre ?a ?p)\n",
    "    (padre ?p ?h)\n",
    "\t=>\n",
    "\t(assert (abuela ?a ?h)))\n",
    "\n",
    "(defrule abuelaPorMadre\n",
    "\t(madre ?a ?m)\n",
    "    (madre ?m ?h)\n",
    "\t=>\n",
    "\t(assert (abuela ?a ?h)))\n",
    "\n",
    "(defrule ascendientePadre\n",
    "    (padre ?x ?y)\n",
    "    =>\n",
    "    (assert(ascendiente ?x ?y)))\n",
    "    \n",
    "(defrule ascendienteMadre\n",
    "    (madre ?x ?y)\n",
    "    =>\n",
    "    (assert(ascendiente ?x ?y)))\n",
    "\n",
    "(defrule ascendienteRec\n",
    "    (ascendiente ?x ?y)\n",
    "    (ascendiente ?y ?z)\n",
    "    =>\n",
    "    (assert(ascendiente ?x ?z)))\n",
    "\n",
    "; Aquí la parte añadida:\n",
    "\t\n",
    "(defrule primosHH\n",
    "    (padre ?h1 ?p1)\n",
    "    (padre ?h2 ?p2)\n",
    "    (hermano ?h1 ?h2)\n",
    "    =>\n",
    "    (assert(primos ?p1 ?p2)))\n",
    "\n",
    "(defrule primosHM\n",
    "    (padre ?h1 ?p1)\n",
    "    (madre ?h2 ?p2)\n",
    "    (hermano ?h1 ?h2)\n",
    "    =>\n",
    "    (assert(primos ?p1 ?p2)))\n",
    "\n",
    "(defrule primosMH\n",
    "    (madre ?h1 ?p1)\n",
    "    (padre ?h2 ?p2)\n",
    "    (hermana ?h1 ?h2)\n",
    "    =>\n",
    "    (assert(primos ?p1 ?p2)))\n",
    "\n",
    "(defrule primosMM\n",
    "    (madre ?h1 ?p1)\n",
    "    (madre ?h2 ?p2)\n",
    "    (hermana ?h1 ?h2)\n",
    "    =>\n",
    "    (assert(primos ?p1 ?p2)))\n",
    "\n",
    "(defrule sonPrimos\n",
    "    (primos ?p1 ?p2)\n",
    "    =>\n",
    "    (printout t ?p1 \" y \" ?p2 \" son primos.\" crlf))\n"
   ]
  },
  {
   "cell_type": "markdown",
   "metadata": {},
   "source": [
    "Y la ejecución de este archivo nos da la siguiente lista de hechos (en la que los nuevos hechos `primos` se han señalado con `>>`:"
   ]
  },
  {
   "cell_type": "code",
   "execution_count": null,
   "metadata": {},
   "outputs": [],
   "source": [
    "f-0     (initial-fact)\n",
    "f-1     (dd juan maria rosa m)\n",
    "f-2     (dd juan maria luis h)\n",
    "f-3     (dd jose laura pilar m)\n",
    "f-4     (dd luis pilar miguel h)\n",
    "f-5     (dd miguel isabel jaime h)\n",
    "f-6     (dd pedro rosa pablo h)\n",
    "f-7     (dd pedro rosa begoÃ±a m)\n",
    "f-8     (padre pedro begoÃ±a)\n",
    "f-9     (ascendiente pedro begoÃ±a)\n",
    "f-10    (madre rosa begoÃ±a)\n",
    "f-11    (ascendiente rosa begoÃ±a)\n",
    "f-12    (hermano pablo begoÃ±a)\n",
    "f-13    (hija begoÃ±a pedro)\n",
    "f-14    (hija begoÃ±a rosa)\n",
    "f-15    (hermana begoÃ±a pablo)\n",
    "f-16    (padre pedro pablo)\n",
    "f-17    (ascendiente pedro pablo)\n",
    "f-18    (madre rosa pablo)\n",
    "f-19    (ascendiente rosa pablo)\n",
    "f-20    (hijo pablo pedro)\n",
    "f-21    (hijo pablo rosa)\n",
    "f-22    (padre miguel jaime)\n",
    "f-23    (ascendiente miguel jaime)\n",
    "f-24    (madre isabel jaime)\n",
    "f-25    (ascendiente isabel jaime)\n",
    "f-26    (hijo jaime miguel)\n",
    "f-27    (hijo jaime isabel)\n",
    "f-28    (padre luis miguel)\n",
    "f-29    (abuelo luis jaime)\n",
    "f-30    (ascendiente luis miguel)\n",
    "f-31    (ascendiente luis jaime)\n",
    "f-32    (madre pilar miguel)\n",
    "f-33    (abuela pilar jaime)\n",
    "f-34    (ascendiente pilar miguel)\n",
    "f-35    (ascendiente pilar jaime)\n",
    "f-36    (hijo miguel luis)\n",
    "f-37    (hijo miguel pilar)\n",
    "f-38    (padre jose pilar)\n",
    "f-39    (abuelo jose miguel)\n",
    "f-40    (ascendiente jose pilar)\n",
    "f-41    (ascendiente jose jaime)\n",
    "f-42    (ascendiente jose miguel)\n",
    "f-43    (madre laura pilar)\n",
    "f-44    (abuela laura miguel)\n",
    "f-45    (ascendiente laura pilar)\n",
    "f-46    (ascendiente laura jaime)\n",
    "f-47    (ascendiente laura miguel)\n",
    "f-48    (hija pilar jose)\n",
    "f-49    (hija pilar laura)\n",
    "f-50    (padre juan luis)\n",
    "f-51    (abuelo juan miguel)\n",
    "f-52    (ascendiente juan luis)\n",
    "f-53    (ascendiente juan jaime)\n",
    "f-54    (ascendiente juan miguel)\n",
    "f-55    (madre maria luis)\n",
    "f-56    (abuela maria miguel)\n",
    "f-57    (ascendiente maria luis)\n",
    "f-58    (ascendiente maria jaime)\n",
    "f-59    (ascendiente maria miguel)\n",
    "f-60    (hermana rosa luis)\n",
    ">>f-61    (primos pablo miguel)\n",
    ">>f-62    (primos begoÃ±a miguel)\n",
    "f-63    (hijo luis juan)\n",
    "f-64    (hijo luis maria)\n",
    "f-65    (hermano luis rosa)\n",
    ">>f-66    (primos miguel begoÃ±a)\n",
    ">>f-67    (primos miguel pablo)\n",
    "f-68    (padre juan rosa)\n",
    "f-69    (abuelo juan pablo)\n",
    "f-70    (abuelo juan begoÃ±a)\n",
    "f-71    (ascendiente juan rosa)\n",
    "f-72    (ascendiente juan pablo)\n",
    "f-73    (ascendiente juan begoÃ±a)\n",
    "f-74    (madre maria rosa)\n",
    "f-75    (abuela maria pablo)\n",
    "f-76    (abuela maria begoÃ±a)\n",
    "f-77    (ascendiente maria rosa)\n",
    "f-78    (ascendiente maria pablo)\n",
    "f-79    (ascendiente maria begoÃ±a)\n",
    "f-80    (hija rosa juan)\n",
    "f-81    (hija rosa maria)\n",
    "For a total of 82 facts."
   ]
  },
  {
   "cell_type": "markdown",
   "metadata": {},
   "source": [
    "# Archivo 'ej6.clp'."
   ]
  },
  {
   "cell_type": "markdown",
   "metadata": {},
   "source": [
    "En el archivo dado `ej6.clp` se proporciona un sistema en Clips que da soporte a un servicio de\n",
    "búsqueda de pareja. El sistema dispondrá de datos iniciales de distintas personas que estarán\n",
    "establecidos como hechos. Por ejemplo, el nombre, el sexo, la edad y el tipo de pareja que\n",
    "busca (hombre o mujer). Además, se dispone de datos sobre su número de amigos en\n",
    "Facebook (si no tiene cuenta entonces valor 0) y sobre sus gustos (música, lectura, cine,\n",
    "teatro).\n",
    "\n",
    "_**Ejecuta el sistema, indica cuál es el fallo y corrigelo, vuelve a hacer las pruebas necesarias y\n",
    "comenta los resultados.**_"
   ]
  },
  {
   "cell_type": "markdown",
   "metadata": {},
   "source": [
    "Al ejecutar el archivo dado, este lo hace de forma indefinida, sin acabar nunca. El fallo se encontraba en que, al modificar el carácter de una persona, no comprobaba que ese carácter no estuviera ya definido. De esta forma, modificaba el carácter de la misma persona de forma ininterrumpida, entrando en un bucle infinito.\n",
    "\n",
    "Basta entonces con añadir en las reglas del archivo que modifican el carácter:\n",
    "\n",
    "`(test (eq ?c nil))`\n",
    "\n",
    "Una vez resuelto el problema, el programa muestra la siguiente consecución de hechos:"
   ]
  },
  {
   "cell_type": "code",
   "execution_count": 4,
   "metadata": {},
   "outputs": [
    {
     "ename": "SyntaxError",
     "evalue": "invalid syntax (<ipython-input-4-a28bc4d7dd85>, line 2)",
     "output_type": "error",
     "traceback": [
      "\u001b[1;36m  File \u001b[1;32m\"<ipython-input-4-a28bc4d7dd85>\"\u001b[1;36m, line \u001b[1;32m2\u001b[0m\n\u001b[1;33m    f-7     (persona (nombre David) (sexo H) (edad 45) (tipoPareja M) (numAmigosFacebook 36) (gustos lectura) (caracter introvertido))\u001b[0m\n\u001b[1;37m                                 ^\u001b[0m\n\u001b[1;31mSyntaxError\u001b[0m\u001b[1;31m:\u001b[0m invalid syntax\n"
     ]
    }
   ],
   "source": [
    "f-0     (initial-fact)\n",
    "f-7     (persona (nombre David) (sexo H) (edad 45) (tipoPareja M) (numAmigosFacebook 36) (gustos lectura) (caracter introvertido))\n",
    "f-8     (afines David Juan)\n",
    "f-9     (afines David Ana)\n",
    "f-10    (persona (nombre Juan) (sexo H) (edad 24) (tipoPareja M) (numAmigosFacebook 36) (gustos lectura) (caracter introvertido))\n",
    "f-11    (afines Juan Ana)\n",
    "f-12    (persona (nombre Ana) (sexo M) (edad 29) (tipoPareja H) (numAmigosFacebook 15) (gustos lectura) (caracter introvertido))\n",
    "f-13    (compatibles David Ana)\n",
    "f-14    (compatibles Juan Ana)\n",
    "f-15    (cita Juan Ana)\n",
    "f-16    (persona (nombre Luis) (sexo H) (edad 35) (tipoPareja H) (numAmigosFacebook 0) (gustos teatro) (caracter noDefinido))\n",
    "f-17    (afines Luis Pepa)\n",
    "f-18    (afines Luis Pepe)\n",
    "f-19    (persona (nombre Pepa) (sexo M) (edad 25) (tipoPareja H) (numAmigosFacebook 51) (gustos teatro) (caracter extrovertido))\n",
    "f-20    (afines Pepa Pepe)\n",
    "f-21    (persona (nombre Pepe) (sexo H) (edad 26) (tipoPareja M) (numAmigosFacebook 81) (gustos teatro) (caracter extrovertido))\n",
    "f-22    (compatibles Pepa Pepe)\n",
    "f-23    (cita Pepa Pepe)\n",
    "For a total of 18 facts."
   ]
  },
  {
   "cell_type": "markdown",
   "metadata": {},
   "source": [
    "# Archivo 'cocina.clp'."
   ]
  },
  {
   "cell_type": "markdown",
   "metadata": {},
   "source": [
    "Dado el archivo `cocina.clp` se trata de analizar y comprender el funcionamiento del Sistema\n",
    "Experto denominado STOVE, desarrollado por Thad Fiebich, de la Universidad Johannes Kepler\n",
    "(Linz, Austria). Se trata de un especialista en reparación de cocinas, tanto de gas como\n",
    "eléctricas, cuyo funcionamiento se basa en un sistema de preguntas alternativas (generalmente\n",
    "SI/NO), mediante el cual el programa tratará de determinar el problema de la cocina y su posible\n",
    "solución.\n",
    "\n",
    "_**Realiza un análisis del sistema y de su funcionamiento y describe el árbol de decisión asociado.**_"
   ]
  },
  {
   "cell_type": "markdown",
   "metadata": {},
   "source": [
    "Al principio, el sistema nos pregunta el tipo de cocina que tenemos (gas o eléctrica) y, a continuación, dónde surge el problema: en los quemadores o en el horno, disparando para cada uno las reglas correspondientes. El árbol de decisión asociado a este proceso inicial se muestra en la siguiente imagen:"
   ]
  },
  {
   "attachments": {
    "pcocina.gif": {
     "image/gif": "[encoded data removed]"
    }
   },
   "cell_type": "markdown",
   "metadata": {},
   "source": [
    "![pcocina.gif](attachment:pcocina.gif)"
   ]
  },
  {
   "cell_type": "markdown",
   "metadata": {},
   "source": [
    "En esta figura, los rectángulos `[arreglar quemadores]` y `[arreglar horno]` dan lugar a árboles de decisión propios, que guían al usuario en el proceso de repararlos. La figura está simplificada, pues debemos hacer distinción entre quemadores y hornos de gas y eléctricos, habiendo un árbol de reparación para cada uno; es decir, 4 en total, que analizamos a continuación."
   ]
  },
  {
   "cell_type": "markdown",
   "metadata": {},
   "source": [
    "### Horno y quemadores de gas."
   ]
  },
  {
   "cell_type": "markdown",
   "metadata": {},
   "source": [
    "El proceso de reparación del horno de gas es simple, bastando con la información que aporta la figura:"
   ]
  },
  {
   "attachments": {
    "hornogas.gif": {
     "image/gif": "[encoded data removed]"
    }
   },
   "cell_type": "markdown",
   "metadata": {},
   "source": [
    "![hornogas.gif](attachment:hornogas.gif)"
   ]
  },
  {
   "cell_type": "markdown",
   "metadata": {},
   "source": [
    "Ocurre lo mismo con el árbol de reparación de los quemadores de gas:"
   ]
  },
  {
   "attachments": {
    "quemgas.gif": {
     "image/gif": "[encoded data removed]"
    }
   },
   "cell_type": "markdown",
   "metadata": {},
   "source": [
    "![quemgas.gif](attachment:quemgas.gif)"
   ]
  },
  {
   "cell_type": "markdown",
   "metadata": {},
   "source": [
    "### Horno eléctrico."
   ]
  },
  {
   "cell_type": "markdown",
   "metadata": {},
   "source": [
    "Para el horno eléctrico, se muestra el siguiente árbol:"
   ]
  },
  {
   "attachments": {
    "hornelec.gif": {
     "image/gif": "[encoded data removed]"
    }
   },
   "cell_type": "markdown",
   "metadata": {},
   "source": [
    "![hornelec.gif](attachment:hornelec.gif)"
   ]
  },
  {
   "cell_type": "markdown",
   "metadata": {},
   "source": [
    "Esta figura también está parcialmente simplificada, concretamente en las decisiones condicionales de `fallo en selector` y `fallo en selector de temperatura`, que en realidad están compuestas de varias preguntas, relacionadas con el funcionamiento eléctrico de cada uno de los selectores. Puesto que el objetivo de todas esas preguntas es determinar si existe algún fallo en uno de ellos, las hemos comprimido en una sola pregunta para cada uno."
   ]
  },
  {
   "cell_type": "markdown",
   "metadata": {},
   "source": [
    "### Quemadores eléctricos."
   ]
  },
  {
   "cell_type": "markdown",
   "metadata": {},
   "source": [
    "Para los quemadores eléctricos, se da el árbol de decisión más grande, compuesto por:"
   ]
  },
  {
   "attachments": {
    "quemelec.gif": {
     "image/gif": "[encoded data removed]"
    }
   },
   "cell_type": "markdown",
   "metadata": {},
   "source": [
    "![quemelec.gif](attachment:quemelec.gif)"
   ]
  },
  {
   "cell_type": "markdown",
   "metadata": {},
   "source": [
    "En este esquema, nótese la decisión dada por la pregunta `¿capa desgastada?`, cuya rama por `NO` se divide en 2 hacia 2 preguntas. Esto quiere decir que se elige una de ellas dependiendo de la respuesta que se da al principio sobre las el tipo de tapa de los quemadores: insertada o atornillada. Esta respuesta ocurre al principio, pero lo hemos mostrado así para evitar una mayor complejidad del árbol de decisiones."
   ]
  }
 ],
 "metadata": {
  "kernelspec": {
   "display_name": "Python 3",
   "language": "python",
   "name": "python3"
  },
  "language_info": {
   "codemirror_mode": {
    "name": "ipython",
    "version": 3
   },
   "file_extension": ".py",
   "mimetype": "text/x-python",
   "name": "python",
   "nbconvert_exporter": "python",
   "pygments_lexer": "ipython3",
   "version": "3.7.4"
  }
 },
 "nbformat": 4,
 "nbformat_minor": 2
}
