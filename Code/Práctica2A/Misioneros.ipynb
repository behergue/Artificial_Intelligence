{
 "cells": [
  {
   "cell_type": "markdown",
   "metadata": {},
   "source": [
    "# El problema de los misioneros y los caníbales en AIMA"
   ]
  },
  {
   "cell_type": "markdown",
   "metadata": {},
   "source": [
    "_GRUPO 7_\n",
    "\n",
    "_Beatriz Herguedas Pinedo_\n",
    "\n",
    "_Pablo Hernández Aguado_"
   ]
  },
  {
   "cell_type": "markdown",
   "metadata": {},
   "source": [
    "## Implementación del problema."
   ]
  },
  {
   "cell_type": "code",
   "execution_count": 80,
   "metadata": {},
   "outputs": [],
   "source": [
    "# importamos las cosas que vamos a usar de aima\n",
    "from search import *\n",
    "\n",
    "class ProblemaMisioneros(Problem):\n",
    "    ''' Clase problema (formalizacion de nuestro problema) siguiendo la\n",
    "        estructura que aima espera que tengan los problemas.'''\n",
    "    def __init__(self, initial, goal=None):\n",
    "        '''Inicializacion de nuestro problema.'''\n",
    "        Problem.__init__(self, initial, goal)\n",
    "        # cada accion tiene un texto para identificar al operador y despues una tupla con la\n",
    "        # cantidad de misioneros y canibales que se mueven en la canoa\n",
    "        self._actions = [('1c', (0, 1)), ('1m', (1, 0)), ('2c', (0, 2)), ('2m', (2, 0)), ('1m1c', (1, 1))]\n",
    "\n",
    "    def actions(self, s):\n",
    "        '''Devuelve las acciones validas para un estado.'''\n",
    "        # las acciones validas para un estado son aquellas que al aplicarse\n",
    "        # nos dejan en otro estado valido\n",
    "        return [a for a in self._actions if self._is_valid(self.result(s, a))]\n",
    "\n",
    "    def _is_valid(self, s):\n",
    "        '''Determina si un estado es valido o no.'''\n",
    "        # un estado es valido si no hay mas canibales que misioneros en ninguna\n",
    "        # orilla, y si las cantidades estan entre 0 y 3\n",
    "        return (s[0] >= s[1] or s[0] == 0) and ((3 - s[0]) >= (3 - s[1]) or s[0] == 3) and (0 <= s[0] <= 3) and (0 <= s[1] <= 3)\n",
    "\n",
    "    def result(self, s, a):\n",
    "        '''Devuelve el estado resultante de aplicar una accion a un estado\n",
    "           determinado.'''\n",
    "        # el estado resultante tiene la canoa en el lado opuesto, y con las\n",
    "        # cantidades de misioneros y canibales actualizadas segun la cantidad\n",
    "        # que viajaron en la canoa\n",
    "        if s[2] == 0:\n",
    "            return (s[0] - a[1][0], s[1] - a[1][1], 1)\n",
    "        else:\n",
    "            return (s[0] + a[1][0], s[1] + a[1][1], 0)\n",
    "\n"
   ]
  },
  {
   "cell_type": "markdown",
   "metadata": {},
   "source": [
    "### Ejemplo:"
   ]
  },
  {
   "cell_type": "code",
   "execution_count": 81,
   "metadata": {},
   "outputs": [
    {
     "data": {
      "text/plain": [
       "[('2c', (0, 2)),\n",
       " ('1c', (0, 1)),\n",
       " ('2c', (0, 2)),\n",
       " ('1c', (0, 1)),\n",
       " ('2m', (2, 0)),\n",
       " ('1m1c', (1, 1)),\n",
       " ('2m', (2, 0)),\n",
       " ('1c', (0, 1)),\n",
       " ('2c', (0, 2)),\n",
       " ('1c', (0, 1)),\n",
       " ('2c', (0, 2))]"
      ]
     },
     "execution_count": 81,
     "metadata": {},
     "output_type": "execute_result"
    }
   ],
   "source": [
    "# creamos un problema a partir de nuestra formalizacion de ProblemaMisioneros\n",
    "# como parametros le pasamos el estado inicial, y el estado meta que esperamos\n",
    "estado = ProblemaMisioneros((3, 3, 0), (0, 0, 1))\n",
    "\n",
    "# le decimos a aima que resuelva nuestro problema con el metodo de busqueda en\n",
    "# amplitud\n",
    "breadth_first_tree_search(estado).solution()\n"
   ]
  },
  {
   "cell_type": "markdown",
   "metadata": {},
   "source": [
    "## Análisis de los métodos de búsqueda."
   ]
  },
  {
   "cell_type": "markdown",
   "metadata": {},
   "source": [
    "Se procede a hacer un análisis del coste, tanto en tiempo como en espacio del problema de los misioneros, utilizando el estado inicial del ejemplo anterior.\n",
    "\n",
    "Implementamos la clase Problema_con_Analizados y la función 'resuelve_misioneros' para obtener la información necesaria que buscamos (de forma análoga a como hemos hecho en el 8-puzzle).\n",
    "\n"
   ]
  },
  {
   "cell_type": "code",
   "execution_count": 82,
   "metadata": {},
   "outputs": [],
   "source": [
    "class Problema_con_Analizados(Problem):\n",
    "\n",
    "    \"\"\"Es un problema que se comporta exactamente igual que el que recibe al\n",
    "       inicializarse, y además incorpora unos atributos nuevos para almacenar el\n",
    "       número de nodos analizados durante la búsqueda. De esta manera, no\n",
    "       tenemos que modificar el código del algoritmo de búsqueda.\"\"\" \n",
    "         \n",
    "    def __init__(self, problem):\n",
    "        self.initial = problem.initial\n",
    "        self.problem = problem\n",
    "        self.analizados  = 0\n",
    "        self.goal = problem.goal\n",
    "\n",
    "    def actions(self, estado):\n",
    "        return self.problem.actions(estado)\n",
    "\n",
    "    def result(self, estado, accion):\n",
    "        return self.problem.result(estado, accion)\n",
    "\n",
    "    def goal_test(self, estado):\n",
    "        self.analizados += 1\n",
    "        return self.problem.goal_test(estado)\n",
    "\n",
    "    def coste_de_aplicar_accion(self, estado, accion):\n",
    "        return self.problem.coste_de_aplicar_accion(estado,accion)\n",
    "    \n",
    "    def check_solvability(self, state):\n",
    "        \"\"\" Checks if the given state is solvable \"\"\"\n",
    "        ## No implementamos la función que comrueba si el problema es resoluble.\n",
    "        ## Como para el ejemplo sabemos que sí, devolvemos siempre True.\n",
    "        \n",
    "        return True"
   ]
  },
  {
   "cell_type": "code",
   "execution_count": 83,
   "metadata": {},
   "outputs": [],
   "source": [
    "def resuelve_misioneros(estado_inicial, estado_final, algoritmo, h=None, p=True):\n",
    "    \"\"\"Función para aplicar un algoritmo de búsqueda dado al problema del ocho\n",
    "       puzzle, con un estado inicial dado y (cuando el algoritmo lo necesite)\n",
    "       una heurística dada.\n",
    "       Ejemplo de uso:\n",
    "           puzzle_1 = (2, 4, 3, 1, 5, 6, 7, 8, 0)\n",
    "           resuelve_ocho_puzzle(puzzle_1,astar_search,h2_ocho_puzzle)\n",
    "        Solución: ['Mover hueco arriba', 'Mover hueco izquierda', 'Mover hueco arriba', \n",
    "        'Mover hueco izquierda', 'Mover hueco abajo', 'Mover hueco derecha', 'Mover hueco derecha', 'Mover hueco abajo']\n",
    "        Algoritmo: astar_search\n",
    "        Heurística: h2_ocho_puzzle\n",
    "        Longitud de la solución: 8. Nodos analizados: 11\n",
    "       \"\"\"\n",
    "\n",
    "    p8p = Problema_con_Analizados(ProblemaMisioneros(estado_inicial, estado_final))\n",
    "    if p8p.check_solvability(estado_inicial):\n",
    "        if h: \n",
    "            sol= algoritmo(p8p,h).solution()\n",
    "        else: \n",
    "            sol= algoritmo(p8p).solution()\n",
    "            \n",
    "        if p:\n",
    "            print(\"Solución: {0}\".format(sol))\n",
    "            print(\"Algoritmo: {0}\".format(algoritmo.__name__))\n",
    "            \n",
    "            if h: \n",
    "                print(\"Heurística: {0}\".format(h.__name__))\n",
    "            else:\n",
    "                pass\n",
    "            \n",
    "            print(\"Longitud de la solución: {0}. Nodos analizados: {1}\".format(len(sol),p8p.analizados))\n",
    "        \n",
    "    else: \n",
    "        print(\"Este problema no tiene solucion. \")"
   ]
  },
  {
   "cell_type": "code",
   "execution_count": 84,
   "metadata": {},
   "outputs": [],
   "source": [
    "E0 = (3, 3, 0)\n",
    "F0 = (0, 0, 1)"
   ]
  },
  {
   "cell_type": "markdown",
   "metadata": {},
   "source": [
    "#### Búsqueda en anchura."
   ]
  },
  {
   "cell_type": "code",
   "execution_count": 39,
   "metadata": {},
   "outputs": [
    {
     "name": "stdout",
     "output_type": "stream",
     "text": [
      "Solución: [('2c', (0, 2)), ('1c', (0, 1)), ('2c', (0, 2)), ('1c', (0, 1)), ('2m', (2, 0)), ('1m1c', (1, 1)), ('2m', (2, 0)), ('1c', (0, 1)), ('2c', (0, 2)), ('1c', (0, 1)), ('2c', (0, 2))]\n",
      "Algoritmo: breadth_first_graph_search\n",
      "Longitud de la solución: 11. Nodos analizados: 15\n"
     ]
    }
   ],
   "source": [
    "resuelve_misioneros(E0, F0, breadth_first_graph_search)"
   ]
  },
  {
   "cell_type": "code",
   "execution_count": 55,
   "metadata": {},
   "outputs": [
    {
     "name": "stdout",
     "output_type": "stream",
     "text": [
      "267 µs ± 3.63 µs per loop (mean ± std. dev. of 7 runs, 1000 loops each)\n"
     ]
    }
   ],
   "source": [
    "%%timeit\n",
    "resuelve_misioneros(E0, F0, breadth_first_graph_search, None, False)"
   ]
  },
  {
   "cell_type": "code",
   "execution_count": 41,
   "metadata": {},
   "outputs": [],
   "source": [
    "## Búsqueda en anchura.\n",
    "## 11 acciones\n",
    "## 15 nodos analizados\n",
    "## 267 microsegundos de media\n",
    "## ------------------------------------------"
   ]
  },
  {
   "cell_type": "markdown",
   "metadata": {},
   "source": [
    "#### Búsqueda en profundidad."
   ]
  },
  {
   "cell_type": "code",
   "execution_count": 46,
   "metadata": {},
   "outputs": [
    {
     "name": "stdout",
     "output_type": "stream",
     "text": [
      "Solución: [('1m1c', (1, 1)), ('1m', (1, 0)), ('2c', (0, 2)), ('1c', (0, 1)), ('2m', (2, 0)), ('1m1c', (1, 1)), ('2m', (2, 0)), ('1c', (0, 1)), ('2c', (0, 2)), ('1m', (1, 0)), ('1m1c', (1, 1))]\n",
      "Algoritmo: depth_first_graph_search\n",
      "Longitud de la solución: 11. Nodos analizados: 12\n"
     ]
    }
   ],
   "source": [
    "resuelve_misioneros(E0, F0, depth_first_graph_search)"
   ]
  },
  {
   "cell_type": "code",
   "execution_count": 59,
   "metadata": {},
   "outputs": [
    {
     "name": "stdout",
     "output_type": "stream",
     "text": [
      "256 µs ± 3.68 µs per loop (mean ± std. dev. of 7 runs, 1000 loops each)\n"
     ]
    }
   ],
   "source": [
    "%%timeit\n",
    "resuelve_misioneros(E0, F0, depth_first_graph_search, None, False)"
   ]
  },
  {
   "cell_type": "code",
   "execution_count": 51,
   "metadata": {},
   "outputs": [],
   "source": [
    "## Búsqueda en profundidad.\n",
    "## 11 acciones\n",
    "## 12 nodos analizados\n",
    "## 256 microsegundos de media\n",
    "## ------------------------------------------"
   ]
  },
  {
   "cell_type": "markdown",
   "metadata": {},
   "source": [
    "#### Búsqueda de coste uniforme."
   ]
  },
  {
   "cell_type": "code",
   "execution_count": 52,
   "metadata": {},
   "outputs": [
    {
     "name": "stdout",
     "output_type": "stream",
     "text": [
      "Solución: [('1m1c', (1, 1)), ('1m', (1, 0)), ('2c', (0, 2)), ('1c', (0, 1)), ('2m', (2, 0)), ('1m1c', (1, 1)), ('2m', (2, 0)), ('1c', (0, 1)), ('2c', (0, 2)), ('1c', (0, 1)), ('2c', (0, 2))]\n",
      "Algoritmo: uniform_cost_search\n",
      "Longitud de la solución: 11. Nodos analizados: 15\n"
     ]
    }
   ],
   "source": [
    "resuelve_misioneros(E0, F0, uniform_cost_search)"
   ]
  },
  {
   "cell_type": "code",
   "execution_count": 64,
   "metadata": {},
   "outputs": [
    {
     "name": "stdout",
     "output_type": "stream",
     "text": [
      "402 µs ± 2.37 µs per loop (mean ± std. dev. of 7 runs, 1000 loops each)\n"
     ]
    }
   ],
   "source": [
    "%%timeit\n",
    "resuelve_misioneros(E0, F0, uniform_cost_search, None, False)"
   ]
  },
  {
   "cell_type": "code",
   "execution_count": null,
   "metadata": {},
   "outputs": [],
   "source": [
    "## Coste uniforme.\n",
    "## 11 acciones\n",
    "## 15 nodos analizados\n",
    "## 402 microsegundos de media\n",
    "## ------------------------------------------"
   ]
  },
  {
   "cell_type": "markdown",
   "metadata": {},
   "source": [
    "#### Tabla de resultados."
   ]
  },
  {
   "cell_type": "markdown",
   "metadata": {},
   "source": [
    "|                    Método | Longitud | Nodos analizados | Tiempo (µs) |\n",
    "|:--------------------------|:---------|:-----------------|:------------|\n",
    "|                   Anchura |       11 |               15 |         267 |\n",
    "|               Profundidad |       11 |               12 |         256 |\n",
    "|            Coste Uniforme |       11 |               15 |         402 |"
   ]
  },
  {
   "cell_type": "markdown",
   "metadata": {},
   "source": [
    "En efecto, todos los métodos nos devuelven la solución óptima al problema. Además, tanto la búsqueda en anchura como la búsqueda en profundidad marcan tiempos muy cercanos, casi la mitad de la marca de la búsqueda con coste uniforme. No obstante, el método de búsqueda en profundidad consigue alcanzar el resultado analizando 3 nodos menos (12) que el método de búsqueda por anchura (15)."
   ]
  },
  {
   "cell_type": "markdown",
   "metadata": {},
   "source": [
    "### Ejercicio opcional. Define alguna heurística y estudia las propiedades del algoritmo A*"
   ]
  },
  {
   "cell_type": "markdown",
   "metadata": {},
   "source": [
    "Definimos las heurísticas asociadas al problema descritas en los apuntes de la asignatura."
   ]
  },
  {
   "cell_type": "markdown",
   "metadata": {},
   "source": [
    "#### Heurística 1"
   ]
  },
  {
   "cell_type": "markdown",
   "metadata": {},
   "source": [
    "Esta heurística resulta de suponer que siempre viajan un caníbal y un misionero juntos, con la acción 'Mover1M1C'."
   ]
  },
  {
   "cell_type": "code",
   "execution_count": 85,
   "metadata": {},
   "outputs": [],
   "source": [
    "def h1(node):\n",
    "    state = node.state\n",
    "    goal = (0, 0, 1)\n",
    "    \n",
    "    return (state[0] + state[1]) / 2"
   ]
  },
  {
   "cell_type": "code",
   "execution_count": 86,
   "metadata": {},
   "outputs": [
    {
     "name": "stdout",
     "output_type": "stream",
     "text": [
      "Solución: [('1m1c', (1, 1)), ('1m', (1, 0)), ('2c', (0, 2)), ('1c', (0, 1)), ('2m', (2, 0)), ('1m1c', (1, 1)), ('2m', (2, 0)), ('1c', (0, 1)), ('2c', (0, 2)), ('1c', (0, 1)), ('2c', (0, 2))]\n",
      "Algoritmo: astar_search\n",
      "Heurística: h1\n",
      "Longitud de la solución: 11. Nodos analizados: 14\n"
     ]
    }
   ],
   "source": [
    "resuelve_misioneros(E0, F0, astar_search, h1)"
   ]
  },
  {
   "cell_type": "code",
   "execution_count": 87,
   "metadata": {},
   "outputs": [
    {
     "name": "stdout",
     "output_type": "stream",
     "text": [
      "427 µs ± 19.7 µs per loop (mean ± std. dev. of 7 runs, 1000 loops each)\n"
     ]
    }
   ],
   "source": [
    "%%timeit\n",
    "resuelve_misioneros(E0, F0, astar_search, h1, False)"
   ]
  },
  {
   "cell_type": "markdown",
   "metadata": {},
   "source": [
    "#### Heurística 2"
   ]
  },
  {
   "cell_type": "markdown",
   "metadata": {},
   "source": [
    "En esta heurística suponemos que los caníbales nunca se comen a los misioneros, luego la solución es que, en cada viaje de ida y vuelta, podemos transportar a una persona (pues la otra debe llevar de vuelta la barca).\n",
    "\n",
    "Por tanto, la heurística es h(n) = 2*(c + m) - orilla(n), donde orilla(n) es 1 si la barca está en la orilla inicial y 0 en caso contrario."
   ]
  },
  {
   "cell_type": "code",
   "execution_count": 77,
   "metadata": {},
   "outputs": [],
   "source": [
    "def h2(node):\n",
    "    state = node.state\n",
    "    goal = (0, 0, 1)\n",
    "    \n",
    "    return 2 * (state[0] + state[1]) + state[2] - 1"
   ]
  },
  {
   "cell_type": "code",
   "execution_count": 78,
   "metadata": {},
   "outputs": [
    {
     "name": "stdout",
     "output_type": "stream",
     "text": [
      "Solución: [('1m1c', (1, 1)), ('1m', (1, 0)), ('2c', (0, 2)), ('1c', (0, 1)), ('2m', (2, 0)), ('1m1c', (1, 1)), ('2m', (2, 0)), ('1c', (0, 1)), ('2c', (0, 2)), ('1c', (0, 1)), ('2c', (0, 2))]\n",
      "Algoritmo: astar_search\n",
      "Heurística: h2\n",
      "Longitud de la solución: 11. Nodos analizados: 14\n"
     ]
    }
   ],
   "source": [
    "resuelve_misioneros(E0, F0, astar_search, h2)"
   ]
  },
  {
   "cell_type": "code",
   "execution_count": 79,
   "metadata": {},
   "outputs": [
    {
     "name": "stdout",
     "output_type": "stream",
     "text": [
      "421 µs ± 16.6 µs per loop (mean ± std. dev. of 7 runs, 1000 loops each)\n"
     ]
    }
   ],
   "source": [
    "%%timeit\n",
    "resuelve_misioneros(E0, F0, astar_search, h2, False)"
   ]
  },
  {
   "cell_type": "markdown",
   "metadata": {},
   "source": [
    "#### Tabla actualizada."
   ]
  },
  {
   "cell_type": "markdown",
   "metadata": {},
   "source": [
    "|                    Método | Longitud | Nodos analizados | Tiempo (µs) |\n",
    "|:--------------------------|:---------|:-----------------|:------------|\n",
    "|                   Anchura |       11 |               15 |         267 |\n",
    "|               Profundidad |       11 |               12 |         256 |\n",
    "|            Coste Uniforme |       11 |               15 |         402 |\n",
    "|              Heurística 1 |       11 |               14 |         427 |\n",
    "|              Heurística 2 |       11 |               14 |         421 |"
   ]
  },
  {
   "cell_type": "markdown",
   "metadata": {},
   "source": [
    "Las heurísticas no mejoran las búsquedas en profundidad y anchura. Esto es porque el espacio de estados es tan pequeño que estas funciones son más eficientes que la búsqueda A* con heurística."
   ]
  }
 ],
 "metadata": {
  "kernelspec": {
   "display_name": "Python 3",
   "language": "python",
   "name": "python3"
  },
  "language_info": {
   "codemirror_mode": {
    "name": "ipython",
    "version": 3
   },
   "file_extension": ".py",
   "mimetype": "text/x-python",
   "name": "python",
   "nbconvert_exporter": "python",
   "pygments_lexer": "ipython3",
   "version": "3.7.4"
  }
 },
 "nbformat": 4,
 "nbformat_minor": 2
}
