{
 "cells": [
  {
   "cell_type": "markdown",
   "metadata": {},
   "source": [
    "# **PRÁCTICA 2 · PARTE 2: RECUPERACIÓN DE INFORMACIÓN**\n",
    "\n",
    "__GRUPO 7__\n",
    "\n",
    "Beatriz Herguedas Pinedo\n",
    "\n",
    "Pablo Hernández Aguado"
   ]
  },
  {
   "cell_type": "markdown",
   "metadata": {},
   "source": [
    "\\* En la entrega previa se había subido una versión antigua de este cuaderno."
   ]
  },
  {
   "cell_type": "markdown",
   "metadata": {},
   "source": [
    "#### Bibliotecas y funciones importadas."
   ]
  },
  {
   "cell_type": "code",
   "execution_count": 1,
   "metadata": {},
   "outputs": [],
   "source": [
    "import pandas as pd\n",
    "import numpy as np\n",
    "import matplotlib.pyplot as plt\n",
    "\n",
    "from sklearn.datasets import fetch_20newsgroups\n",
    "\n",
    "from sklearn.feature_extraction.text import CountVectorizer\n",
    "from sklearn.feature_extraction.text import TfidfTransformer\n",
    "\n",
    "from sklearn.utils import shuffle\n",
    "\n",
    "from sklearn.metrics.pairwise import cosine_similarity"
   ]
  },
  {
   "cell_type": "markdown",
   "metadata": {},
   "source": [
    "## 1. Configuración del conjunto de búsqueda."
   ]
  },
  {
   "cell_type": "markdown",
   "metadata": {},
   "source": [
    "__*Para esta parte usaremos el conjunto de datos de 20Newsgroups, disponible en scikit-learn y que ya se ha usado en el notebook de ejemplo.*__"
   ]
  },
  {
   "cell_type": "markdown",
   "metadata": {},
   "source": [
    "__*El objetivo de esta parte es poner realizar un buscador de mensajes en un foro, para lo cual sólo usaremos la parte de entrenamiento del conjunto de dato como los mensajes a recuperar por nuestro buscador.*__"
   ]
  },
  {
   "cell_type": "code",
   "execution_count": 2,
   "metadata": {},
   "outputs": [],
   "source": [
    "# Estructura de datos de los mensajes del buscador.\n",
    "## Devuelve un objeto \"bunch\" con distintos atributos.\n",
    "searcherBunch = fetch_20newsgroups(\n",
    "    subset = 'train',\n",
    "    shuffle = True,\n",
    "    random_state = 111\n",
    ")"
   ]
  },
  {
   "cell_type": "code",
   "execution_count": 3,
   "metadata": {},
   "outputs": [
    {
     "name": "stdout",
     "output_type": "stream",
     "text": [
      "Nº mensajes: 11314\n",
      "---------------\n",
      "Mensaje con índice 10: \n",
      "\n",
      "From: rgasch@nl.oracle.com (Robert Gasch)\n",
      "Subject: Overriding Default Behaviour\n",
      "Organization: Oracle Europe\n",
      "Lines: 23\n",
      "X-Newsreader: TIN [version 1.1 PL8]\n",
      "\n",
      "Usually when I start up an application, I first get the window outline\n",
      "on my display. I then have to click on the mouse button to actually\n",
      "place the window on the screen. Yet when I specify the -geometry \n",
      "option the window appears right away, the properties specified by\n",
      "the -geometry argument. The question now is:\n",
      "\n",
      "How can I override the intermediary step of the user having to specify\n",
      "window position with a mouseclick? I've tried explicitly setting window\n",
      "size and position, but that did alter the normal program behaviour.\n",
      "\n",
      "Thanks for any hints\n",
      "---> Robert\n",
      "\n",
      "PS: I'm working in plain X.\n",
      "\n",
      "\n",
      "\n",
      "******************************************************************************\n",
      "* Robert Gasch\t       * Der erste Mai ist der Tag an dem die Stadt ins      *\n",
      "* Oracle Engineering   * Freihe tritt und den staatlichen Monopolanspruch    *\n",
      "* De Meern, NL\t       * auf Gewalt in Frage stellt                          *\n",
      "* rgasch@nl.oracle.com *                           - Einstuerzende Neubauten *\n",
      "******************************************************************************\n",
      "\n"
     ]
    }
   ],
   "source": [
    "# data: array con los mensajes.\n",
    "print('Nº mensajes:', len(searcherBunch.data))\n",
    "print('---------------')\n",
    "print('Mensaje con índice 10:', '\\n')\n",
    "print(searcherBunch.data[10])"
   ]
  },
  {
   "cell_type": "code",
   "execution_count": 4,
   "metadata": {},
   "outputs": [
    {
     "name": "stdout",
     "output_type": "stream",
     "text": [
      "Nº mensajes: 11314\n",
      "---------------\n",
      "Índice de clase del mensaje 10: 5\n"
     ]
    }
   ],
   "source": [
    "# target: array con los índices de clase a los que corresponden los mensajes.\n",
    "print('Nº mensajes:', len(searcherBunch.target))\n",
    "print('---------------')\n",
    "print('Índice de clase del mensaje 10:', searcherBunch.target[10])"
   ]
  },
  {
   "cell_type": "code",
   "execution_count": 5,
   "metadata": {},
   "outputs": [
    {
     "name": "stdout",
     "output_type": "stream",
     "text": [
      "Nº clases: 20\n",
      "---------------\n",
      "Clase del mensaje 10: comp.windows.x\n"
     ]
    }
   ],
   "source": [
    "# target_names: array con todas las clases posibles.\n",
    "print('Nº clases:', len(searcherBunch.target_names))\n",
    "print('---------------')\n",
    "print('Clase del mensaje 10:', searcherBunch.target_names[searcherBunch.target[10]])"
   ]
  },
  {
   "cell_type": "markdown",
   "metadata": {},
   "source": [
    "## 2. Configuración de la vectorización."
   ]
  },
  {
   "cell_type": "markdown",
   "metadata": {},
   "source": [
    "__*Utilizaremos una representación de la bolsa de palabras con las siguientes opciones*__\n",
    "\n",
    "- Bolsa no binaria: se cuenta la frecuencia de las palabras en cada mensaje.\n",
    "- Diccionario: words.txt\n",
    "- Palabras vacías: 'english'.\n",
    "- Rango de n-gramas: (1,1)."
   ]
  },
  {
   "cell_type": "code",
   "execution_count": 6,
   "metadata": {},
   "outputs": [],
   "source": [
    "# Convertimos el fichero del diccionario, 'words.txt', en una lista.\n",
    "## Para conseguir un mejor rendimiento, transformamos las palabras del diccionario a minúscula,\n",
    "## pues nuestro vectorizador hará lo propio al analizar los mensajes.\n",
    "with open('words.txt') as f:\n",
    "    words = np.unique(f.read().lower().splitlines())\n",
    "    \n",
    "## * Necesario eliminar duplicados, que reduce de forma despreciable el tamaño del diccionario."
   ]
  },
  {
   "cell_type": "code",
   "execution_count": 7,
   "metadata": {},
   "outputs": [
    {
     "name": "stdout",
     "output_type": "stream",
     "text": [
      "Tamaño del diccionario: 466547 palabras.\n"
     ]
    }
   ],
   "source": [
    "print('Tamaño del diccionario:', len(words), 'palabras.')"
   ]
  },
  {
   "cell_type": "code",
   "execution_count": 8,
   "metadata": {},
   "outputs": [],
   "source": [
    "# Vectorizador de la base de mensajes del buscador.\n",
    "searcher_vectorizer = CountVectorizer(\n",
    "    lowercase = True, # Por defecto es así.\n",
    "    binary = False, # Se cuenta la frecuencia de aparición de las palabras.\n",
    "    vocabulary = words, # Diccionario predeterminado. No se incluirán palabras nuevas.\n",
    "    stop_words = 'english', # Palabras vacías que no se contarán.\n",
    "    ngram_range = (1,1) # Sólo monogramas.\n",
    ")"
   ]
  },
  {
   "cell_type": "code",
   "execution_count": 9,
   "metadata": {},
   "outputs": [],
   "source": [
    "# Vectorizamos los datos del conjunto de mensajes del buscador.\n",
    "## Como tenemos un vocabulario predeterminado, únicamente utilizamos la función 'transform'.\n",
    "searcher_vd = searcher_vectorizer.transform(searcherBunch.data)"
   ]
  },
  {
   "cell_type": "markdown",
   "metadata": {},
   "source": [
    "## 3. Análisis de mensajes del conjunto de prueba."
   ]
  },
  {
   "cell_type": "markdown",
   "metadata": {},
   "source": [
    "__*Tomar 3 mensajes del conjunto de prueba para cada clase, y utilizar cada uno de dichos mensajes como consulta para recuperar los mensajes del conjunto de entrenamiento que más se parezcan a la consulta. Utiliza los siguientes pasos:*__\n",
    "\n",
    "1. Usar la distancia del coseno (cosine_similarity) entre el mensaje de la consulta y los mensajes de entrenamiento.\n",
    "2. Ordenar los resultados de mayor a menor relevancia con la consulta.\n",
    "3. Calcular la precisión de la lista de resultados con nivel de exhaustividad 3 y 10.\n",
    "4. Calcular los valores de precisión media, para cada nivel de exhaustivida y para cada conjunto de datos."
   ]
  },
  {
   "cell_type": "code",
   "execution_count": 10,
   "metadata": {},
   "outputs": [],
   "source": [
    "# Obtenemos los mensajes del conjunto de prueba para extraer los mensajes sobre los que operaremos.\n",
    "testBunch = fetch_20newsgroups(\n",
    "    subset = 'test',\n",
    "    shuffle = True,\n",
    "    random_state = 111\n",
    ")"
   ]
  },
  {
   "cell_type": "markdown",
   "metadata": {},
   "source": [
    "### 3.1. Método de obtención de mensajes aleatorios."
   ]
  },
  {
   "cell_type": "code",
   "execution_count": 11,
   "metadata": {},
   "outputs": [],
   "source": [
    "## Podemos utilizar la función 'argwhere' de numpy para obtener un array con los índices de los\n",
    "## elementos del array que verifican una determinada propiedad: en este caso, los elementos de\n",
    "## la misma clase.\n",
    "### Vemos un ejemplo con la clase 0.\n",
    "ex_class0idx = np.argwhere(testBunch.target == 0)[:, 0]\n",
    "\n",
    "## [:, 0] necesario porque devuelve ndarray: [[],[],...]"
   ]
  },
  {
   "cell_type": "code",
   "execution_count": 12,
   "metadata": {},
   "outputs": [
    {
     "name": "stdout",
     "output_type": "stream",
     "text": [
      "Clase 0: alt.atheism\n",
      "---------------\n",
      "From: decay@cbnewsj.cb.att.com (dean.kaflowitz)\n",
      "Subject: Re: Origins of the bible.\n",
      "Organization: AT&T\n",
      "Distribution: na\n",
      "Keywords: bible\n",
      "Lines: 21\n",
      "\n",
      "In article <1993Apr19.141112.15018@cs.nott.ac.uk>, eczcaw@mips.nott.ac.uk (A.Wainwright) writes:\n",
      "> Hi,\n",
      "> \n",
      "> I have been having an argument about the origins of the bible lately with\n",
      "> a theist acquaintance.  He stated that thousands of bibles were discovered\n",
      "> at a certain point in time which were syllable-perfect.  This therefore\n",
      "> meant that there must have been one copy at a certain time; the time quoted\n",
      "> by my acquaintace was approximately 50 years after the death of Jesus.\n",
      "\n",
      "You can tell your friend from me that I was in a publisher's\n",
      "warehouse one time and saw thousands of copies of The Joy of\n",
      "Cooking and every one of them was syllable-perfect.\n",
      "\n",
      "I have since sold all I own and become a follower of The Joy\n",
      "of Cooking.  The incident I mentioned convinced me, once and\n",
      "for all, that The Joy of Cooking is inspired by god and the\n",
      "one true path to his glory.\n",
      "\n",
      "Dean Kaflowitz  May the Sauce be With You\n",
      "\n",
      "\n",
      "\n"
     ]
    }
   ],
   "source": [
    "## En efecto, el array de índices obtenido hace referencia a índices de mensajes asociados \n",
    "## con ese tema.\n",
    "print('Clase 0:', testBunch.target_names[0])\n",
    "print('---------------')\n",
    "print(testBunch.data[ex_class0idx[0]])"
   ]
  },
  {
   "cell_type": "code",
   "execution_count": 13,
   "metadata": {},
   "outputs": [],
   "source": [
    "## Podríamos usar los 3 primeros mensajes asociados a los tres primeros índices del array.\n",
    "## No obstante, para darle un elemento de aleatoriedad, usaremos la función 'shuffle' de\n",
    "## sklearn, para obtener 3 índices aleatorios.\n",
    "ex_workIdx = shuffle(\n",
    "    ex_class0idx,\n",
    "    n_samples = 3,\n",
    "    random_state = 111,\n",
    ")"
   ]
  },
  {
   "cell_type": "code",
   "execution_count": 14,
   "metadata": {},
   "outputs": [
    {
     "name": "stdout",
     "output_type": "stream",
     "text": [
      "Índices obtenidos:\n",
      "[3542 5499  335]\n"
     ]
    }
   ],
   "source": [
    "print('Índices obtenidos:')\n",
    "print(ex_workIdx)"
   ]
  },
  {
   "cell_type": "markdown",
   "metadata": {},
   "source": [
    "### 3.2. Obtención de 3 mensajes por clase."
   ]
  },
  {
   "cell_type": "code",
   "execution_count": 15,
   "metadata": {},
   "outputs": [],
   "source": [
    "# Obtenemos ahora los 3 mensajes para cada clase.\n",
    "numClasses = len(testBunch.target_names) # Número de clases.\n",
    "\n",
    "testQueries = list() # Mensajes de prueba.\n",
    "testIndices = list() # Índices asociados.\n",
    "\n",
    "for cat in range( numClasses ):\n",
    "    ## Nueva lista.\n",
    "    testQueries.append(list())\n",
    "    testIndices.append(list())\n",
    "    ## Índices asociados a la clase 'cat'.\n",
    "    cat_idx = np.argwhere(testBunch.target == cat)[:, 0]\n",
    "    ## Shuffle de los índices.\n",
    "    cat_election = shuffle(\n",
    "        cat_idx,\n",
    "        n_samples = 3,\n",
    "        random_state = 111\n",
    "    )\n",
    "    \n",
    "    ## Guardamos los mensajes elegidos.\n",
    "    for idx in cat_election:\n",
    "        testIndices[cat].append(idx)\n",
    "        testQueries[cat].append(testBunch.data[idx])"
   ]
  },
  {
   "cell_type": "markdown",
   "metadata": {},
   "source": [
    "### 3.3. Cálculo de la similitud del coseno."
   ]
  },
  {
   "cell_type": "code",
   "execution_count": 16,
   "metadata": {},
   "outputs": [],
   "source": [
    "# Vamos a proceder a calcular la similaridad del coseno clase a clase con la bolsa \n",
    "# de palabras general.\n",
    "## Para cada clase y mensaje de prueba, tenemos una lista ordenada por mayor similitud\n",
    "## de valores (índice, valor).\n",
    "searcherScores = list()\n",
    "\n",
    "for cat in range(numClasses):\n",
    "    # Nueva lista.\n",
    "    searcherScores.append(list())\n",
    "    # Vectorizamos los 3 mensajes de prueba de la clase.\n",
    "    cat_testvd = searcher_vectorizer.transform(testQueries[cat])\n",
    "    \n",
    "    # Calculamos la similaridad del coseno.\n",
    "    cat_distance = cosine_similarity(cat_testvd, searcher_vd)\n",
    "    \n",
    "    # Guardamos las listas de distancias, ordenadas por similitud de mayor a menor.\n",
    "    for i in range(3):\n",
    "        searcherScores[cat].append(list())\n",
    "        searcherScores[cat][i] = sorted(\n",
    "            list(enumerate(cat_distance[i])),\n",
    "            key = lambda x: x[1],\n",
    "            reverse = True\n",
    "        )"
   ]
  },
  {
   "cell_type": "markdown",
   "metadata": {},
   "source": [
    "### 3.4. Cálculo de la precisión para los niveles de exhaustividad 3 y 10."
   ]
  },
  {
   "cell_type": "code",
   "execution_count": 17,
   "metadata": {},
   "outputs": [],
   "source": [
    "# Cálculo de precisión con nivel de exhaustividad 'exh'\n",
    "def getAccuracy(scoreList, cat, exh):\n",
    "    if exh == 0:\n",
    "        return 0\n",
    "    \n",
    "    relev = 0\n",
    "    for (idx, _) in scoreList[:exh]:\n",
    "        if searcherBunch.target[idx] == cat:\n",
    "            relev += 1\n",
    "            \n",
    "    return relev / exh"
   ]
  },
  {
   "cell_type": "code",
   "execution_count": 18,
   "metadata": {},
   "outputs": [],
   "source": [
    "accuracy_ex3 = list()\n",
    "\n",
    "for cat in range(numClasses):\n",
    "    # Nueva lista.\n",
    "    accuracy_ex3.append(list())\n",
    "    \n",
    "    for i in range(3):\n",
    "        accuracy_ex3[cat].append(list)\n",
    "        accuracy_ex3[cat][i] = getAccuracy(searcherScores[cat][i], cat, 3)"
   ]
  },
  {
   "cell_type": "code",
   "execution_count": 19,
   "metadata": {},
   "outputs": [
    {
     "name": "stdout",
     "output_type": "stream",
     "text": [
      "alt.atheism\n",
      "[1.0, 0.3333333333333333, 1.0]\n",
      "comp.graphics\n",
      "[0.3333333333333333, 0.3333333333333333, 0.6666666666666666]\n",
      "comp.os.ms-windows.misc\n",
      "[0.0, 0.3333333333333333, 0.0]\n",
      "comp.sys.ibm.pc.hardware\n",
      "[0.0, 1.0, 0.0]\n",
      "comp.sys.mac.hardware\n",
      "[0.3333333333333333, 0.3333333333333333, 0.3333333333333333]\n",
      "comp.windows.x\n",
      "[0.6666666666666666, 0.6666666666666666, 1.0]\n",
      "misc.forsale\n",
      "[0.3333333333333333, 1.0, 0.3333333333333333]\n",
      "rec.autos\n",
      "[0.6666666666666666, 1.0, 0.6666666666666666]\n",
      "rec.motorcycles\n",
      "[1.0, 0.3333333333333333, 1.0]\n",
      "rec.sport.baseball\n",
      "[0.3333333333333333, 0.0, 1.0]\n",
      "rec.sport.hockey\n",
      "[0.3333333333333333, 0.3333333333333333, 0.3333333333333333]\n",
      "sci.crypt\n",
      "[1.0, 1.0, 0.6666666666666666]\n",
      "sci.electronics\n",
      "[1.0, 0.0, 0.0]\n",
      "sci.med\n",
      "[0.6666666666666666, 0.0, 0.0]\n",
      "sci.space\n",
      "[0.0, 0.0, 1.0]\n",
      "soc.religion.christian\n",
      "[0.6666666666666666, 0.0, 1.0]\n",
      "talk.politics.guns\n",
      "[0.3333333333333333, 1.0, 0.3333333333333333]\n",
      "talk.politics.mideast\n",
      "[0.0, 1.0, 1.0]\n",
      "talk.politics.misc\n",
      "[1.0, 0.0, 0.3333333333333333]\n",
      "talk.religion.misc\n",
      "[0.6666666666666666, 0.6666666666666666, 0.3333333333333333]\n"
     ]
    }
   ],
   "source": [
    "# Precisión con exhaustividad 3 para cada clase y mensaje.\n",
    "for cat in range(numClasses):\n",
    "    print(searcherBunch.target_names[cat])\n",
    "    print(accuracy_ex3[cat])"
   ]
  },
  {
   "cell_type": "code",
   "execution_count": 20,
   "metadata": {},
   "outputs": [],
   "source": [
    "accuracy_ex10 = list()\n",
    "\n",
    "for cat in range(numClasses):\n",
    "    # Nueva lista.\n",
    "    accuracy_ex10.append(list())\n",
    "    \n",
    "    for i in range(3):\n",
    "        accuracy_ex10[cat].append(list)\n",
    "        accuracy_ex10[cat][i] = getAccuracy(searcherScores[cat][i], cat, 10)"
   ]
  },
  {
   "cell_type": "code",
   "execution_count": 21,
   "metadata": {},
   "outputs": [
    {
     "name": "stdout",
     "output_type": "stream",
     "text": [
      "alt.atheism\n",
      "[0.5, 0.4, 1.0]\n",
      "comp.graphics\n",
      "[0.2, 0.3, 0.4]\n",
      "comp.os.ms-windows.misc\n",
      "[0.0, 0.4, 0.1]\n",
      "comp.sys.ibm.pc.hardware\n",
      "[0.1, 1.0, 0.1]\n",
      "comp.sys.mac.hardware\n",
      "[0.5, 0.6, 0.4]\n",
      "comp.windows.x\n",
      "[0.9, 0.9, 1.0]\n",
      "misc.forsale\n",
      "[0.5, 0.6, 0.4]\n",
      "rec.autos\n",
      "[0.4, 0.9, 0.3]\n",
      "rec.motorcycles\n",
      "[1.0, 0.3, 1.0]\n",
      "rec.sport.baseball\n",
      "[0.3, 0.1, 0.8]\n",
      "rec.sport.hockey\n",
      "[0.4, 0.2, 0.1]\n",
      "sci.crypt\n",
      "[1.0, 0.5, 0.9]\n",
      "sci.electronics\n",
      "[0.8, 0.3, 0.0]\n",
      "sci.med\n",
      "[0.3, 0.0, 0.0]\n",
      "sci.space\n",
      "[0.0, 0.1, 1.0]\n",
      "soc.religion.christian\n",
      "[0.8, 0.0, 0.9]\n",
      "talk.politics.guns\n",
      "[0.4, 0.6, 0.2]\n",
      "talk.politics.mideast\n",
      "[0.0, 1.0, 1.0]\n",
      "talk.politics.misc\n",
      "[0.4, 0.0, 0.2]\n",
      "talk.religion.misc\n",
      "[0.6, 0.6, 0.1]\n"
     ]
    }
   ],
   "source": [
    "# Precisión con exhaustividad 10 para cada clase y mensaje.\n",
    "for cat in range(numClasses):\n",
    "    print(searcherBunch.target_names[cat])\n",
    "    print(accuracy_ex10[cat])"
   ]
  },
  {
   "cell_type": "markdown",
   "metadata": {},
   "source": [
    "### 3.5. Cálculo de la precisión media para cada nivel de exhaustividad."
   ]
  },
  {
   "cell_type": "code",
   "execution_count": 22,
   "metadata": {},
   "outputs": [],
   "source": [
    "# Calculamos la precisión para todos los niveles de exhaustividad hasta un máximo.\n",
    "maxExh = 20\n",
    "\n",
    "accuracy_ex = list()\n",
    "\n",
    "for exh in range(0, maxExh + 1):\n",
    "    accuracy_ex.append(list())\n",
    "    for cat in range(numClasses):\n",
    "        accuracy_ex[exh].append(list())\n",
    "        \n",
    "        for i in range(3):\n",
    "            accuracy_ex[exh][cat].append(list)\n",
    "            accuracy_ex[exh][cat][i] = getAccuracy(searcherScores[cat][i], cat, exh)        "
   ]
  },
  {
   "cell_type": "code",
   "execution_count": 23,
   "metadata": {},
   "outputs": [],
   "source": [
    "# Obtenemos las medias de los 3 mensajes de prueba, para cada clase y nivel de exhaustividad.\n",
    "accMean_ex = list()\n",
    "\n",
    "for exh in range(0, maxExh + 1):\n",
    "    accMean_ex.append(list())\n",
    "    for cat in range(numClasses):\n",
    "        accMean_ex[exh].append(list())\n",
    "        \n",
    "        accMean_ex[exh][cat] = np.mean(accuracy_ex[exh][cat])"
   ]
  },
  {
   "cell_type": "code",
   "execution_count": 24,
   "metadata": {},
   "outputs": [
    {
     "name": "stdout",
     "output_type": "stream",
     "text": [
      "Exhaustividad: 0\n",
      "[0.0, 0.0, 0.0, 0.0, 0.0, 0.0, 0.0, 0.0, 0.0, 0.0, 0.0, 0.0, 0.0, 0.0, 0.0, 0.0, 0.0, 0.0, 0.0, 0.0]\n",
      "Exhaustividad: 1\n",
      "[1.0, 0.6666666666666666, 0.0, 0.3333333333333333, 0.3333333333333333, 1.0, 0.6666666666666666, 1.0, 1.0, 0.6666666666666666, 0.6666666666666666, 1.0, 0.3333333333333333, 0.3333333333333333, 0.3333333333333333, 0.6666666666666666, 0.3333333333333333, 0.6666666666666666, 0.3333333333333333, 1.0]\n",
      "Exhaustividad: 2\n",
      "[0.8333333333333334, 0.6666666666666666, 0.16666666666666666, 0.3333333333333333, 0.5, 0.8333333333333334, 0.5, 1.0, 0.8333333333333334, 0.5, 0.3333333333333333, 1.0, 0.3333333333333333, 0.3333333333333333, 0.3333333333333333, 0.5, 0.5, 0.6666666666666666, 0.3333333333333333, 0.6666666666666666]\n",
      "Exhaustividad: 3\n",
      "[0.7777777777777777, 0.4444444444444444, 0.1111111111111111, 0.3333333333333333, 0.3333333333333333, 0.7777777777777777, 0.5555555555555555, 0.7777777777777777, 0.7777777777777777, 0.4444444444444444, 0.3333333333333333, 0.8888888888888888, 0.3333333333333333, 0.2222222222222222, 0.3333333333333333, 0.5555555555555555, 0.5555555555555555, 0.6666666666666666, 0.4444444444444444, 0.5555555555555555]\n",
      "Exhaustividad: 4\n",
      "[0.75, 0.3333333333333333, 0.16666666666666666, 0.3333333333333333, 0.5, 0.8333333333333334, 0.6666666666666666, 0.75, 0.75, 0.5, 0.3333333333333333, 0.9166666666666666, 0.4166666666666667, 0.16666666666666666, 0.3333333333333333, 0.5833333333333334, 0.5, 0.6666666666666666, 0.3333333333333333, 0.5]\n",
      "Exhaustividad: 5\n",
      "[0.6666666666666666, 0.3333333333333333, 0.19999999999999998, 0.39999999999999997, 0.4666666666666666, 0.8666666666666667, 0.6, 0.7333333333333334, 0.7333333333333334, 0.4000000000000001, 0.3333333333333333, 0.8666666666666667, 0.39999999999999997, 0.13333333333333333, 0.3333333333333333, 0.6, 0.5333333333333333, 0.6666666666666666, 0.4000000000000001, 0.5333333333333333]\n",
      "Exhaustividad: 6\n",
      "[0.611111111111111, 0.38888888888888884, 0.2222222222222222, 0.3888888888888889, 0.38888888888888884, 0.888888888888889, 0.49999999999999994, 0.7222222222222222, 0.7222222222222223, 0.3888888888888889, 0.3333333333333333, 0.8333333333333334, 0.3888888888888889, 0.1111111111111111, 0.3333333333333333, 0.6111111111111112, 0.5555555555555555, 0.6666666666666666, 0.3333333333333333, 0.5]\n",
      "Exhaustividad: 7\n",
      "[0.6666666666666666, 0.38095238095238093, 0.19047619047619047, 0.38095238095238093, 0.38095238095238093, 0.9047619047619048, 0.4761904761904761, 0.6666666666666666, 0.7619047619047619, 0.42857142857142855, 0.28571428571428564, 0.8095238095238094, 0.3333333333333333, 0.09523809523809523, 0.3333333333333333, 0.5714285714285714, 0.5238095238095237, 0.6666666666666666, 0.2857142857142857, 0.4761904761904761]\n",
      "Exhaustividad: 8\n",
      "[0.6666666666666666, 0.375, 0.16666666666666666, 0.375, 0.375, 0.9166666666666666, 0.4166666666666667, 0.625, 0.7916666666666666, 0.4583333333333333, 0.25, 0.7916666666666666, 0.2916666666666667, 0.125, 0.375, 0.5416666666666666, 0.4583333333333333, 0.6666666666666666, 0.25, 0.5]\n",
      "Exhaustividad: 9\n",
      "[0.6666666666666666, 0.3333333333333333, 0.14814814814814814, 0.40740740740740744, 0.4444444444444444, 0.9259259259259259, 0.48148148148148145, 0.5925925925925926, 0.7777777777777777, 0.40740740740740744, 0.25925925925925924, 0.8148148148148149, 0.3333333333333333, 0.1111111111111111, 0.3703703703703704, 0.5555555555555555, 0.4444444444444445, 0.6666666666666666, 0.2222222222222222, 0.48148148148148145]\n",
      "Exhaustividad: 10\n",
      "[0.6333333333333333, 0.3, 0.16666666666666666, 0.4000000000000001, 0.5, 0.9333333333333332, 0.5, 0.5333333333333333, 0.7666666666666666, 0.4000000000000001, 0.23333333333333336, 0.7999999999999999, 0.3666666666666667, 0.09999999999999999, 0.3666666666666667, 0.5666666666666668, 0.39999999999999997, 0.6666666666666666, 0.20000000000000004, 0.43333333333333335]\n",
      "Exhaustividad: 11\n",
      "[0.6363636363636364, 0.30303030303030304, 0.1818181818181818, 0.42424242424242425, 0.4545454545454546, 0.9090909090909091, 0.48484848484848486, 0.5151515151515151, 0.787878787878788, 0.42424242424242425, 0.21212121212121213, 0.8181818181818182, 0.39393939393939387, 0.0909090909090909, 0.3636363636363636, 0.5757575757575758, 0.3636363636363636, 0.6666666666666666, 0.24242424242424243, 0.39393939393939387]\n",
      "Exhaustividad: 12\n",
      "[0.5833333333333334, 0.3055555555555556, 0.16666666666666666, 0.4444444444444444, 0.4166666666666667, 0.8888888888888888, 0.47222222222222227, 0.5, 0.8055555555555557, 0.4166666666666667, 0.19444444444444445, 0.8055555555555555, 0.3611111111111111, 0.1111111111111111, 0.3611111111111111, 0.5833333333333334, 0.3333333333333333, 0.6666666666666666, 0.22222222222222224, 0.3888888888888889]\n",
      "Exhaustividad: 13\n",
      "[0.5641025641025642, 0.3076923076923077, 0.15384615384615385, 0.4358974358974359, 0.38461538461538464, 0.8974358974358975, 0.4615384615384615, 0.5128205128205129, 0.8205128205128206, 0.4102564102564103, 0.20512820512820515, 0.794871794871795, 0.3333333333333333, 0.10256410256410257, 0.3333333333333333, 0.5897435897435898, 0.3333333333333333, 0.6666666666666666, 0.20512820512820515, 0.38461538461538464]\n",
      "Exhaustividad: 14\n",
      "[0.5476190476190476, 0.30952380952380953, 0.16666666666666666, 0.42857142857142855, 0.4047619047619048, 0.8809523809523809, 0.4523809523809524, 0.5, 0.8333333333333334, 0.38095238095238093, 0.23809523809523805, 0.7857142857142857, 0.35714285714285715, 0.09523809523809523, 0.3333333333333333, 0.5952380952380952, 0.30952380952380953, 0.6666666666666666, 0.19047619047619047, 0.4047619047619047]\n",
      "Exhaustividad: 15\n",
      "[0.5555555555555556, 0.2888888888888889, 0.17777777777777778, 0.4222222222222222, 0.37777777777777777, 0.8444444444444444, 0.4444444444444444, 0.4888888888888889, 0.7999999999999999, 0.37777777777777777, 0.2222222222222222, 0.7777777777777777, 0.35555555555555557, 0.13333333333333333, 0.3333333333333333, 0.5777777777777778, 0.3111111111111111, 0.6666666666666666, 0.19999999999999998, 0.39999999999999997]\n",
      "Exhaustividad: 16\n",
      "[0.5416666666666666, 0.2916666666666667, 0.16666666666666666, 0.4166666666666667, 0.375, 0.8541666666666666, 0.4791666666666667, 0.4791666666666667, 0.8125, 0.375, 0.22916666666666666, 0.7708333333333334, 0.375, 0.125, 0.3333333333333333, 0.5833333333333334, 0.3125, 0.6666666666666666, 0.20833333333333334, 0.3958333333333333]\n",
      "Exhaustividad: 17\n",
      "[0.5490196078431372, 0.2745098039215686, 0.15686274509803924, 0.411764705882353, 0.37254901960784315, 0.8627450980392156, 0.45098039215686275, 0.4705882352941177, 0.823529411764706, 0.37254901960784315, 0.21568627450980393, 0.7647058823529411, 0.35294117647058826, 0.1176470588235294, 0.3333333333333333, 0.6078431372549019, 0.3333333333333333, 0.6666666666666666, 0.19607843137254902, 0.39215686274509803]\n",
      "Exhaustividad: 18\n",
      "[0.5370370370370371, 0.2777777777777778, 0.16666666666666666, 0.40740740740740744, 0.3518518518518518, 0.8703703703703703, 0.46296296296296297, 0.462962962962963, 0.8148148148148149, 0.3888888888888889, 0.2222222222222222, 0.7592592592592592, 0.3333333333333333, 0.1111111111111111, 0.3333333333333333, 0.5740740740740741, 0.3333333333333333, 0.6666666666666666, 0.1851851851851852, 0.3703703703703704]\n",
      "Exhaustividad: 19\n",
      "[0.5263157894736842, 0.2631578947368421, 0.17543859649122806, 0.40350877192982454, 0.3508771929824561, 0.8596491228070176, 0.456140350877193, 0.49122807017543857, 0.7894736842105262, 0.3859649122807018, 0.24561403508771928, 0.736842105263158, 0.3157894736842105, 0.10526315789473684, 0.3333333333333333, 0.5789473684210527, 0.3508771929824562, 0.6666666666666666, 0.17543859649122806, 0.3508771929824561]\n",
      "Exhaustividad: 20\n",
      "[0.5499999999999999, 0.26666666666666666, 0.18333333333333335, 0.39999999999999997, 0.35000000000000003, 0.8666666666666667, 0.4333333333333333, 0.48333333333333334, 0.7666666666666666, 0.3833333333333333, 0.26666666666666666, 0.7333333333333334, 0.31666666666666665, 0.10000000000000002, 0.3333333333333333, 0.5666666666666668, 0.3333333333333333, 0.6666666666666666, 0.16666666666666666, 0.3333333333333333]\n"
     ]
    }
   ],
   "source": [
    "# Precisión con exhaustividad 10 para cada clase y grupo de mensajes.\n",
    "for exh in range(maxExh + 1):\n",
    "    print('Exhaustividad:', exh)\n",
    "    print(accMean_ex[exh])"
   ]
  },
  {
   "cell_type": "markdown",
   "metadata": {},
   "source": [
    "### 3.6. Análisis de los resultados de precisión."
   ]
  },
  {
   "cell_type": "markdown",
   "metadata": {},
   "source": [
    "Para analizar los resultados de precisión de cada clase, vamos a comprobar las medias de precisión para los niveles de exhaustividad 5, 10, 15 y 20."
   ]
  },
  {
   "cell_type": "code",
   "execution_count": 25,
   "metadata": {},
   "outputs": [
    {
     "name": "stdout",
     "output_type": "stream",
     "text": [
      "Nivel de exhaustividad: 5\n",
      "-------------\n",
      "alt.atheism -> 0.6666666666666666\n",
      "comp.graphics -> 0.3333333333333333\n",
      "comp.os.ms-windows.misc -> 0.19999999999999998\n",
      "comp.sys.ibm.pc.hardware -> 0.39999999999999997\n",
      "comp.sys.mac.hardware -> 0.4666666666666666\n",
      "comp.windows.x -> 0.8666666666666667\n",
      "misc.forsale -> 0.6\n",
      "rec.autos -> 0.7333333333333334\n",
      "rec.motorcycles -> 0.7333333333333334\n",
      "rec.sport.baseball -> 0.4000000000000001\n",
      "rec.sport.hockey -> 0.3333333333333333\n",
      "sci.crypt -> 0.8666666666666667\n",
      "sci.electronics -> 0.39999999999999997\n",
      "sci.med -> 0.13333333333333333\n",
      "sci.space -> 0.3333333333333333\n",
      "soc.religion.christian -> 0.6\n",
      "talk.politics.guns -> 0.5333333333333333\n",
      "talk.politics.mideast -> 0.6666666666666666\n",
      "talk.politics.misc -> 0.4000000000000001\n",
      "talk.religion.misc -> 0.5333333333333333\n"
     ]
    }
   ],
   "source": [
    "# Para nivel 5.\n",
    "print('Nivel de exhaustividad: 5')\n",
    "print('-------------')\n",
    "for cat in range(numClasses):\n",
    "    print(searcherBunch.target_names[cat], '->', accMean_ex[5][cat])"
   ]
  },
  {
   "cell_type": "code",
   "execution_count": 26,
   "metadata": {},
   "outputs": [
    {
     "name": "stdout",
     "output_type": "stream",
     "text": [
      "Nivel de exhaustividad: 10\n",
      "-------------\n",
      "alt.atheism -> 0.6333333333333333\n",
      "comp.graphics -> 0.3\n",
      "comp.os.ms-windows.misc -> 0.16666666666666666\n",
      "comp.sys.ibm.pc.hardware -> 0.4000000000000001\n",
      "comp.sys.mac.hardware -> 0.5\n",
      "comp.windows.x -> 0.9333333333333332\n",
      "misc.forsale -> 0.5\n",
      "rec.autos -> 0.5333333333333333\n",
      "rec.motorcycles -> 0.7666666666666666\n",
      "rec.sport.baseball -> 0.4000000000000001\n",
      "rec.sport.hockey -> 0.23333333333333336\n",
      "sci.crypt -> 0.7999999999999999\n",
      "sci.electronics -> 0.3666666666666667\n",
      "sci.med -> 0.09999999999999999\n",
      "sci.space -> 0.3666666666666667\n",
      "soc.religion.christian -> 0.5666666666666668\n",
      "talk.politics.guns -> 0.39999999999999997\n",
      "talk.politics.mideast -> 0.6666666666666666\n",
      "talk.politics.misc -> 0.20000000000000004\n",
      "talk.religion.misc -> 0.43333333333333335\n"
     ]
    }
   ],
   "source": [
    "# Para nivel 10.\n",
    "print('Nivel de exhaustividad: 10')\n",
    "print('-------------')\n",
    "for cat in range(numClasses):\n",
    "    print(searcherBunch.target_names[cat], '->', accMean_ex[10][cat])"
   ]
  },
  {
   "cell_type": "code",
   "execution_count": 27,
   "metadata": {},
   "outputs": [
    {
     "name": "stdout",
     "output_type": "stream",
     "text": [
      "Nivel de exhaustividad: 15\n",
      "-------------\n",
      "alt.atheism -> 0.5555555555555556\n",
      "comp.graphics -> 0.2888888888888889\n",
      "comp.os.ms-windows.misc -> 0.17777777777777778\n",
      "comp.sys.ibm.pc.hardware -> 0.4222222222222222\n",
      "comp.sys.mac.hardware -> 0.37777777777777777\n",
      "comp.windows.x -> 0.8444444444444444\n",
      "misc.forsale -> 0.4444444444444444\n",
      "rec.autos -> 0.4888888888888889\n",
      "rec.motorcycles -> 0.7999999999999999\n",
      "rec.sport.baseball -> 0.37777777777777777\n",
      "rec.sport.hockey -> 0.2222222222222222\n",
      "sci.crypt -> 0.7777777777777777\n",
      "sci.electronics -> 0.35555555555555557\n",
      "sci.med -> 0.13333333333333333\n",
      "sci.space -> 0.3333333333333333\n",
      "soc.religion.christian -> 0.5777777777777778\n",
      "talk.politics.guns -> 0.3111111111111111\n",
      "talk.politics.mideast -> 0.6666666666666666\n",
      "talk.politics.misc -> 0.19999999999999998\n",
      "talk.religion.misc -> 0.39999999999999997\n"
     ]
    }
   ],
   "source": [
    "# Para nivel 15.\n",
    "print('Nivel de exhaustividad: 15')\n",
    "print('-------------')\n",
    "for cat in range(numClasses):\n",
    "    print(searcherBunch.target_names[cat], '->', accMean_ex[15][cat])"
   ]
  },
  {
   "cell_type": "code",
   "execution_count": 28,
   "metadata": {
    "scrolled": true
   },
   "outputs": [
    {
     "name": "stdout",
     "output_type": "stream",
     "text": [
      "Nivel de exhaustividad: 20\n",
      "-------------\n",
      "alt.atheism -> 0.5499999999999999\n",
      "comp.graphics -> 0.26666666666666666\n",
      "comp.os.ms-windows.misc -> 0.18333333333333335\n",
      "comp.sys.ibm.pc.hardware -> 0.39999999999999997\n",
      "comp.sys.mac.hardware -> 0.35000000000000003\n",
      "comp.windows.x -> 0.8666666666666667\n",
      "misc.forsale -> 0.4333333333333333\n",
      "rec.autos -> 0.48333333333333334\n",
      "rec.motorcycles -> 0.7666666666666666\n",
      "rec.sport.baseball -> 0.3833333333333333\n",
      "rec.sport.hockey -> 0.26666666666666666\n",
      "sci.crypt -> 0.7333333333333334\n",
      "sci.electronics -> 0.31666666666666665\n",
      "sci.med -> 0.10000000000000002\n",
      "sci.space -> 0.3333333333333333\n",
      "soc.religion.christian -> 0.5666666666666668\n",
      "talk.politics.guns -> 0.3333333333333333\n",
      "talk.politics.mideast -> 0.6666666666666666\n",
      "talk.politics.misc -> 0.16666666666666666\n",
      "talk.religion.misc -> 0.3333333333333333\n"
     ]
    }
   ],
   "source": [
    "# Para nivel 20.\n",
    "print('Nivel de exhaustividad: 20')\n",
    "print('-------------')\n",
    "for cat in range(numClasses):\n",
    "    print(searcherBunch.target_names[cat], '->', accMean_ex[20][cat])"
   ]
  },
  {
   "cell_type": "code",
   "execution_count": 29,
   "metadata": {},
   "outputs": [
    {
     "data": {
      "text/plain": [
       "[0.6666666666666666,\n",
       " 0.3333333333333333,\n",
       " 0.19999999999999998,\n",
       " 0.39999999999999997,\n",
       " 0.4666666666666666,\n",
       " 0.8666666666666667,\n",
       " 0.6,\n",
       " 0.7333333333333334,\n",
       " 0.7333333333333334,\n",
       " 0.4000000000000001,\n",
       " 0.3333333333333333,\n",
       " 0.8666666666666667,\n",
       " 0.39999999999999997,\n",
       " 0.13333333333333333,\n",
       " 0.3333333333333333,\n",
       " 0.6,\n",
       " 0.5333333333333333,\n",
       " 0.6666666666666666,\n",
       " 0.4000000000000001,\n",
       " 0.5333333333333333]"
      ]
     },
     "execution_count": 29,
     "metadata": {},
     "output_type": "execute_result"
    }
   ],
   "source": [
    "accMean_ex[5]"
   ]
  },
  {
   "cell_type": "code",
   "execution_count": 30,
   "metadata": {},
   "outputs": [],
   "source": [
    "precisionDF = pd.DataFrame(\n",
    "    data = np.transpose([accMean_ex[5],accMean_ex[10],accMean_ex[15],accMean_ex[20]]),\n",
    "    columns = ['% lvl 5','% lvl 10','% lvl 15','% lvl 20'],\n",
    "    index = searcherBunch.target_names\n",
    "    )"
   ]
  },
  {
   "cell_type": "code",
   "execution_count": 31,
   "metadata": {
    "scrolled": true
   },
   "outputs": [
    {
     "data": {
      "text/html": [
       "<div>\n",
       "<style scoped>\n",
       "    .dataframe tbody tr th:only-of-type {\n",
       "        vertical-align: middle;\n",
       "    }\n",
       "\n",
       "    .dataframe tbody tr th {\n",
       "        vertical-align: top;\n",
       "    }\n",
       "\n",
       "    .dataframe thead th {\n",
       "        text-align: right;\n",
       "    }\n",
       "</style>\n",
       "<table border=\"1\" class=\"dataframe\">\n",
       "  <thead>\n",
       "    <tr style=\"text-align: right;\">\n",
       "      <th></th>\n",
       "      <th>% lvl 5</th>\n",
       "      <th>% lvl 10</th>\n",
       "      <th>% lvl 15</th>\n",
       "      <th>% lvl 20</th>\n",
       "    </tr>\n",
       "  </thead>\n",
       "  <tbody>\n",
       "    <tr>\n",
       "      <th>alt.atheism</th>\n",
       "      <td>66.666667</td>\n",
       "      <td>63.333333</td>\n",
       "      <td>55.555556</td>\n",
       "      <td>55.000000</td>\n",
       "    </tr>\n",
       "    <tr>\n",
       "      <th>comp.graphics</th>\n",
       "      <td>33.333333</td>\n",
       "      <td>30.000000</td>\n",
       "      <td>28.888889</td>\n",
       "      <td>26.666667</td>\n",
       "    </tr>\n",
       "    <tr>\n",
       "      <th>comp.os.ms-windows.misc</th>\n",
       "      <td>20.000000</td>\n",
       "      <td>16.666667</td>\n",
       "      <td>17.777778</td>\n",
       "      <td>18.333333</td>\n",
       "    </tr>\n",
       "    <tr>\n",
       "      <th>comp.sys.ibm.pc.hardware</th>\n",
       "      <td>40.000000</td>\n",
       "      <td>40.000000</td>\n",
       "      <td>42.222222</td>\n",
       "      <td>40.000000</td>\n",
       "    </tr>\n",
       "    <tr>\n",
       "      <th>comp.sys.mac.hardware</th>\n",
       "      <td>46.666667</td>\n",
       "      <td>50.000000</td>\n",
       "      <td>37.777778</td>\n",
       "      <td>35.000000</td>\n",
       "    </tr>\n",
       "    <tr>\n",
       "      <th>comp.windows.x</th>\n",
       "      <td>86.666667</td>\n",
       "      <td>93.333333</td>\n",
       "      <td>84.444444</td>\n",
       "      <td>86.666667</td>\n",
       "    </tr>\n",
       "    <tr>\n",
       "      <th>misc.forsale</th>\n",
       "      <td>60.000000</td>\n",
       "      <td>50.000000</td>\n",
       "      <td>44.444444</td>\n",
       "      <td>43.333333</td>\n",
       "    </tr>\n",
       "    <tr>\n",
       "      <th>rec.autos</th>\n",
       "      <td>73.333333</td>\n",
       "      <td>53.333333</td>\n",
       "      <td>48.888889</td>\n",
       "      <td>48.333333</td>\n",
       "    </tr>\n",
       "    <tr>\n",
       "      <th>rec.motorcycles</th>\n",
       "      <td>73.333333</td>\n",
       "      <td>76.666667</td>\n",
       "      <td>80.000000</td>\n",
       "      <td>76.666667</td>\n",
       "    </tr>\n",
       "    <tr>\n",
       "      <th>rec.sport.baseball</th>\n",
       "      <td>40.000000</td>\n",
       "      <td>40.000000</td>\n",
       "      <td>37.777778</td>\n",
       "      <td>38.333333</td>\n",
       "    </tr>\n",
       "    <tr>\n",
       "      <th>rec.sport.hockey</th>\n",
       "      <td>33.333333</td>\n",
       "      <td>23.333333</td>\n",
       "      <td>22.222222</td>\n",
       "      <td>26.666667</td>\n",
       "    </tr>\n",
       "    <tr>\n",
       "      <th>sci.crypt</th>\n",
       "      <td>86.666667</td>\n",
       "      <td>80.000000</td>\n",
       "      <td>77.777778</td>\n",
       "      <td>73.333333</td>\n",
       "    </tr>\n",
       "    <tr>\n",
       "      <th>sci.electronics</th>\n",
       "      <td>40.000000</td>\n",
       "      <td>36.666667</td>\n",
       "      <td>35.555556</td>\n",
       "      <td>31.666667</td>\n",
       "    </tr>\n",
       "    <tr>\n",
       "      <th>sci.med</th>\n",
       "      <td>13.333333</td>\n",
       "      <td>10.000000</td>\n",
       "      <td>13.333333</td>\n",
       "      <td>10.000000</td>\n",
       "    </tr>\n",
       "    <tr>\n",
       "      <th>sci.space</th>\n",
       "      <td>33.333333</td>\n",
       "      <td>36.666667</td>\n",
       "      <td>33.333333</td>\n",
       "      <td>33.333333</td>\n",
       "    </tr>\n",
       "    <tr>\n",
       "      <th>soc.religion.christian</th>\n",
       "      <td>60.000000</td>\n",
       "      <td>56.666667</td>\n",
       "      <td>57.777778</td>\n",
       "      <td>56.666667</td>\n",
       "    </tr>\n",
       "    <tr>\n",
       "      <th>talk.politics.guns</th>\n",
       "      <td>53.333333</td>\n",
       "      <td>40.000000</td>\n",
       "      <td>31.111111</td>\n",
       "      <td>33.333333</td>\n",
       "    </tr>\n",
       "    <tr>\n",
       "      <th>talk.politics.mideast</th>\n",
       "      <td>66.666667</td>\n",
       "      <td>66.666667</td>\n",
       "      <td>66.666667</td>\n",
       "      <td>66.666667</td>\n",
       "    </tr>\n",
       "    <tr>\n",
       "      <th>talk.politics.misc</th>\n",
       "      <td>40.000000</td>\n",
       "      <td>20.000000</td>\n",
       "      <td>20.000000</td>\n",
       "      <td>16.666667</td>\n",
       "    </tr>\n",
       "    <tr>\n",
       "      <th>talk.religion.misc</th>\n",
       "      <td>53.333333</td>\n",
       "      <td>43.333333</td>\n",
       "      <td>40.000000</td>\n",
       "      <td>33.333333</td>\n",
       "    </tr>\n",
       "  </tbody>\n",
       "</table>\n",
       "</div>"
      ],
      "text/plain": [
       "                            % lvl 5   % lvl 10   % lvl 15   % lvl 20\n",
       "alt.atheism               66.666667  63.333333  55.555556  55.000000\n",
       "comp.graphics             33.333333  30.000000  28.888889  26.666667\n",
       "comp.os.ms-windows.misc   20.000000  16.666667  17.777778  18.333333\n",
       "comp.sys.ibm.pc.hardware  40.000000  40.000000  42.222222  40.000000\n",
       "comp.sys.mac.hardware     46.666667  50.000000  37.777778  35.000000\n",
       "comp.windows.x            86.666667  93.333333  84.444444  86.666667\n",
       "misc.forsale              60.000000  50.000000  44.444444  43.333333\n",
       "rec.autos                 73.333333  53.333333  48.888889  48.333333\n",
       "rec.motorcycles           73.333333  76.666667  80.000000  76.666667\n",
       "rec.sport.baseball        40.000000  40.000000  37.777778  38.333333\n",
       "rec.sport.hockey          33.333333  23.333333  22.222222  26.666667\n",
       "sci.crypt                 86.666667  80.000000  77.777778  73.333333\n",
       "sci.electronics           40.000000  36.666667  35.555556  31.666667\n",
       "sci.med                   13.333333  10.000000  13.333333  10.000000\n",
       "sci.space                 33.333333  36.666667  33.333333  33.333333\n",
       "soc.religion.christian    60.000000  56.666667  57.777778  56.666667\n",
       "talk.politics.guns        53.333333  40.000000  31.111111  33.333333\n",
       "talk.politics.mideast     66.666667  66.666667  66.666667  66.666667\n",
       "talk.politics.misc        40.000000  20.000000  20.000000  16.666667\n",
       "talk.religion.misc        53.333333  43.333333  40.000000  33.333333"
      ]
     },
     "execution_count": 31,
     "metadata": {},
     "output_type": "execute_result"
    }
   ],
   "source": [
    "precisionDF * 100"
   ]
  },
  {
   "cell_type": "code",
   "execution_count": 32,
   "metadata": {},
   "outputs": [
    {
     "data": {
      "text/plain": [
       "alt.atheism                 0.601389\n",
       "comp.graphics               0.297222\n",
       "comp.os.ms-windows.misc     0.181944\n",
       "comp.sys.ibm.pc.hardware    0.405556\n",
       "comp.sys.mac.hardware       0.423611\n",
       "comp.windows.x              0.877778\n",
       "misc.forsale                0.494444\n",
       "rec.autos                   0.559722\n",
       "rec.motorcycles             0.766667\n",
       "rec.sport.baseball          0.390278\n",
       "rec.sport.hockey            0.263889\n",
       "sci.crypt                   0.794444\n",
       "sci.electronics             0.359722\n",
       "sci.med                     0.116667\n",
       "sci.space                   0.341667\n",
       "soc.religion.christian      0.577778\n",
       "talk.politics.guns          0.394444\n",
       "talk.politics.mideast       0.666667\n",
       "talk.politics.misc          0.241667\n",
       "talk.religion.misc          0.425000\n",
       "dtype: float64"
      ]
     },
     "execution_count": 32,
     "metadata": {},
     "output_type": "execute_result"
    }
   ],
   "source": [
    "precisionDF.mean(axis = 1)"
   ]
  },
  {
   "cell_type": "code",
   "execution_count": 33,
   "metadata": {},
   "outputs": [],
   "source": [
    "exhPrecision = precisionDF.mean(axis = 1).values"
   ]
  },
  {
   "cell_type": "markdown",
   "metadata": {},
   "source": [
    "Como podemos observar en la tabla, las medias de precision son bastante variadas para cada clase en todos los niveles de exhaustividad mostrados. Así, hay clases con muy poca precisión, como 'comp.os.ms-windows.misc', con valores inferiores al 20 %, y otras clases con precisión muy alta, como 'comp.windows.x'.\n",
    "\n",
    "Esta divergencia en las precisiones de cada clase está causada principalmente por la presencia de clases con temáticas muy parecidas, como las que hemos mencionado antes u otras como 'talk.religion.misc', 'soc.religion.christian' y 'alt.atheism'."
   ]
  },
  {
   "cell_type": "markdown",
   "metadata": {},
   "source": [
    "La clase con peores resultados de precisión ha sido 'sci.med', que sólo ha superado el 15 % en el nivel de exhaustividad 5. (índice: numClasses - 7)"
   ]
  },
  {
   "cell_type": "code",
   "execution_count": 34,
   "metadata": {},
   "outputs": [
    {
     "data": {
      "text/plain": [
       "'sci.med'"
      ]
     },
     "execution_count": 34,
     "metadata": {},
     "output_type": "execute_result"
    }
   ],
   "source": [
    "lowPrec_idx = numClasses - 7\n",
    "searcherBunch.target_names[lowPrec_idx]"
   ]
  },
  {
   "cell_type": "code",
   "execution_count": 35,
   "metadata": {},
   "outputs": [
    {
     "name": "stdout",
     "output_type": "stream",
     "text": [
      "Clase: sci.med\n",
      "---------------\n",
      "From: kmldorf@utdallas.edu (George Kimeldorf)\n",
      "Subject: Re: Opinions on Allergy (Hay Fever) shots?\n",
      "Nntp-Posting-Host: heath.utdallas.edu\n",
      "Organization: Univ. of Texas at Dallas\n",
      "Lines: 20\n",
      "\n",
      "In article <1993Apr29.173817.25867@nntpd2.cxo.dec.com> tung@paaiec.enet.dec.com () writes:\n",
      ">\n",
      ">I have just started taking allergy shots a month ago and is \n",
      ">still wondering what I am getting into. A friend of mine told\n",
      ">me that the body change every 7 years (whatever that means)\n",
      ">and I don't need those antibody-building allergy shots at all.\n",
      ">Does that make sense to anyone?\n",
      ">\n",
      ">BTW, can someone summarize what is in the Consumer Report\n",
      ">February, 1988 article?\n",
      "\n",
      "I am reluctant to summarize it, for then you will have my opinion of what the\n",
      "article says, rather than your own opinion.  I think it is important enough\n",
      "for you to take the trouble to go to the library and get the article.  The\n",
      "title is \"The shot doctors\" and it appears on Pages 96-100 of the February,\n",
      "1988 issue of Consumer Reports.  The following excerpt from the article may\n",
      "entice you to read the whole article:\n",
      "     Too often, shots are overused.....\"When you put a patient on\n",
      "     shots, you've got an annuity for life,\" a former president of\n",
      "     the American Academy of Allergy and Immunology told CU. [page 97]\n",
      "\n"
     ]
    }
   ],
   "source": [
    "# Vemos el primer mensaje de consulta.\n",
    "print('Clase:', testBunch.target_names[lowPrec_idx])\n",
    "print('---------------')\n",
    "print(testQueries[lowPrec_idx][0])"
   ]
  },
  {
   "cell_type": "code",
   "execution_count": 36,
   "metadata": {},
   "outputs": [
    {
     "data": {
      "text/plain": [
       "[(4928, 0.37935515451014556),\n",
       " (5511, 0.32318286529871065),\n",
       " (475, 0.28600869479648466),\n",
       " (7528, 0.2766534180712167),\n",
       " (5341, 0.2721238827974114),\n",
       " (1382, 0.2624997436527192),\n",
       " (5108, 0.26159300607748565),\n",
       " (9263, 0.26159300607748565),\n",
       " (10208, 0.25729584295741104),\n",
       " (813, 0.2568112826254347)]"
      ]
     },
     "execution_count": 36,
     "metadata": {},
     "output_type": "execute_result"
    }
   ],
   "source": [
    "# Vemos la lista de las 10 primeros textos con más similitud.\n",
    "searcherScores[lowPrec_idx][0][:10]"
   ]
  },
  {
   "cell_type": "code",
   "execution_count": 37,
   "metadata": {},
   "outputs": [
    {
     "name": "stdout",
     "output_type": "stream",
     "text": [
      "Clase: sci.med\n",
      "Clase: sci.med\n",
      "Clase: talk.politics.misc\n",
      "Clase: talk.politics.mideast\n",
      "Clase: comp.sys.mac.hardware\n",
      "Clase: rec.sport.baseball\n",
      "Clase: rec.autos\n",
      "Clase: sci.med\n",
      "Clase: talk.politics.guns\n",
      "Clase: comp.sys.ibm.pc.hardware\n"
     ]
    }
   ],
   "source": [
    "# Vemos las clases de los primeros 10 mensajes.\n",
    "for idx, _ in searcherScores[lowPrec_idx][0][:10]:\n",
    "    print('Clase:', searcherBunch.target_names[searcherBunch.target[idx]])"
   ]
  },
  {
   "cell_type": "code",
   "execution_count": 38,
   "metadata": {},
   "outputs": [
    {
     "name": "stdout",
     "output_type": "stream",
     "text": [
      "From: steveh@thor.isc-br.com (Steve Hendricks)\n",
      "Subject: Re: Top Ten Reasons Not to Aid Russians\n",
      "Summary: Constitutional Basis of Foreign Aid\n",
      "Organization: Historical Accuracy, Inc.\n",
      "Lines: 22\n",
      "Nntp-Posting-Host: thor.isc-br.com\n",
      "\n",
      "In article <C513wJ.75y@encore.com> rcollins@ns.encore.com (Roger Collins) writes:\n",
      ">...\n",
      ">I ask myself, what law could we pass to prevent government from doing\n",
      ">stupid, frivilous things with OUR money?  Then I think, the Constitution\n",
      ">was supposed to do that.  Could someone please tell me what legitimate\n",
      ">constitutional power the federal government is using when it takes money\n",
      ">from my paycheck and gives it to needy countries?  Seriously.\n",
      ">\n",
      ">Roger Collins\n",
      ">\n",
      "\n",
      "Since you asked, Article I Section 1.  Article I Section 8.  Article I \n",
      "Section 10.  Article II Section 2.  Article VI.  Sixteenth Amendment.\n",
      "\n",
      "With this as a guide, try reading it yourself.\n",
      "\n",
      "jsh\n",
      "\n",
      "--\n",
      "Steve Hendricks                        |  DOMAIN:  steveh@thor.ISC-BR.COM   \n",
      "\"One thing about data, it sure does cut|  UUCP:    ...!uunet!isc-br!thor!steveh\n",
      " the bulls**t.\" - R. Hofferbert        |  Ma Bell: 509 838-8826\n",
      "\n"
     ]
    }
   ],
   "source": [
    "# En este caso hay 3/10 mensajes que coinciden con la clase del test.\n",
    "## El porcentaje de media se ve reducido por la precisión de los otros 2 mensajes de prueba.\n",
    "## Vemos el 3 texto encontrado y buscamos similitudes que hayan generado el 'error'.\n",
    "lowPrec_checkidx = searcherScores[lowPrec_idx][0][2][0]\n",
    "print( searcherBunch.data[lowPrec_checkidx] )"
   ]
  },
  {
   "cell_type": "code",
   "execution_count": 39,
   "metadata": {},
   "outputs": [
    {
     "name": "stdout",
     "output_type": "stream",
     "text": [
      "  (0, 1725)\t1\n",
      "  (0, 7513)\t1\n",
      "  (0, 10862)\t4\n",
      "  (0, 12918)\t1\n",
      "  (0, 16800)\t1\n",
      "  (0, 18348)\t1\n",
      "  (0, 21406)\t1\n",
      "  (0, 25073)\t6\n",
      "  (0, 45931)\t1\n",
      "  (0, 52445)\t1\n",
      "  (0, 53046)\t1\n",
      "  (0, 65691)\t1\n",
      "  (0, 78260)\t2\n",
      "  (0, 82212)\t2\n",
      "  (0, 91167)\t1\n",
      "  (0, 94858)\t1\n",
      "  (0, 97062)\t2\n",
      "  (0, 111057)\t1\n",
      "  (0, 111238)\t1\n",
      "  (0, 111924)\t1\n",
      "  (0, 123627)\t1\n",
      "  (0, 124988)\t1\n",
      "  (0, 131163)\t1\n",
      "  (0, 136450)\t2\n",
      "  (0, 137850)\t1\n",
      "  :\t:\n",
      "  (0, 303588)\t1\n",
      "  (0, 309635)\t1\n",
      "  (0, 326574)\t1\n",
      "  (0, 332778)\t1\n",
      "  (0, 334230)\t1\n",
      "  (0, 334246)\t1\n",
      "  (0, 348504)\t1\n",
      "  (0, 357443)\t1\n",
      "  (0, 362266)\t1\n",
      "  (0, 362293)\t5\n",
      "  (0, 379250)\t1\n",
      "  (0, 385956)\t1\n",
      "  (0, 388849)\t2\n",
      "  (0, 395859)\t1\n",
      "  (0, 401968)\t1\n",
      "  (0, 403850)\t1\n",
      "  (0, 407658)\t1\n",
      "  (0, 408350)\t2\n",
      "  (0, 415699)\t1\n",
      "  (0, 417244)\t1\n",
      "  (0, 432220)\t1\n",
      "  (0, 445565)\t1\n",
      "  (0, 460170)\t1\n",
      "  (0, 462007)\t1\n",
      "  (0, 463615)\t1\n"
     ]
    }
   ],
   "source": [
    "# Para analizar mejor la similitud entre estos mensajes vemos el valor de las vectorizaciones.\n",
    "## Aquí las del mensaje de prueba.\n",
    "lowPrec_testvd = searcher_vectorizer.transform(testQueries[lowPrec_idx])\n",
    "print(lowPrec_testvd[0])"
   ]
  },
  {
   "cell_type": "code",
   "execution_count": 40,
   "metadata": {},
   "outputs": [
    {
     "name": "stdout",
     "output_type": "stream",
     "text": [
      "  (0, 2360)\t1\n",
      "  (0, 7978)\t2\n",
      "  (0, 12868)\t1\n",
      "  (0, 25073)\t6\n",
      "  (0, 25869)\t1\n",
      "  (0, 25878)\t1\n",
      "  (0, 35130)\t1\n",
      "  (0, 38197)\t1\n",
      "  (0, 48727)\t4\n",
      "  (0, 53387)\t1\n",
      "  (0, 77616)\t2\n",
      "  (0, 78260)\t5\n",
      "  (0, 82057)\t1\n",
      "  (0, 82058)\t2\n",
      "  (0, 87005)\t1\n",
      "  (0, 92745)\t1\n",
      "  (0, 95826)\t1\n",
      "  (0, 111238)\t1\n",
      "  (0, 111527)\t1\n",
      "  (0, 111770)\t1\n",
      "  (0, 122839)\t2\n",
      "  (0, 136514)\t1\n",
      "  (0, 144185)\t1\n",
      "  (0, 155618)\t1\n",
      "  (0, 159198)\t2\n",
      "  :\t:\n",
      "  (0, 310423)\t1\n",
      "  (0, 326621)\t1\n",
      "  (0, 327156)\t1\n",
      "  (0, 340845)\t2\n",
      "  (0, 344011)\t1\n",
      "  (0, 352952)\t4\n",
      "  (0, 358320)\t1\n",
      "  (0, 365830)\t1\n",
      "  (0, 380879)\t2\n",
      "  (0, 384355)\t1\n",
      "  (0, 385956)\t1\n",
      "  (0, 388854)\t1\n",
      "  (0, 391305)\t1\n",
      "  (0, 391644)\t1\n",
      "  (0, 395849)\t1\n",
      "  (0, 399521)\t1\n",
      "  (0, 403817)\t1\n",
      "  (0, 403835)\t1\n",
      "  (0, 403850)\t1\n",
      "  (0, 404269)\t4\n",
      "  (0, 416319)\t1\n",
      "  (0, 443467)\t1\n",
      "  (0, 443796)\t1\n",
      "  (0, 447517)\t1\n",
      "  (0, 462007)\t1\n"
     ]
    }
   ],
   "source": [
    "## Aquí las del mensaje obtenido.\n",
    "print(searcher_vd[lowPrec_checkidx])"
   ]
  },
  {
   "cell_type": "code",
   "execution_count": 41,
   "metadata": {},
   "outputs": [],
   "source": [
    "# Definimos una función para encontrar los términos comunes.\n",
    "def getCommonTerms(terms1, terms2):\n",
    "    common = list()\n",
    "    for term in terms1:\n",
    "        if term in terms2:\n",
    "            common.append(term)\n",
    "            \n",
    "    return common"
   ]
  },
  {
   "cell_type": "code",
   "execution_count": 42,
   "metadata": {},
   "outputs": [],
   "source": [
    "lowPrec_common = getCommonTerms(lowPrec_testvd[0].indices, searcher_vd[lowPrec_checkidx].indices)"
   ]
  },
  {
   "cell_type": "code",
   "execution_count": 43,
   "metadata": {},
   "outputs": [
    {
     "name": "stdout",
     "output_type": "stream",
     "text": [
      "article\n",
      "com\n",
      "does\n",
      "host\n",
      "lines\n",
      "nntp\n",
      "organization\n",
      "posting\n",
      "subject\n",
      "think\n",
      "writes\n"
     ]
    }
   ],
   "source": [
    "for term in lowPrec_common:\n",
    "    print(searcher_vectorizer.get_feature_names()[term])"
   ]
  },
  {
   "cell_type": "markdown",
   "metadata": {},
   "source": [
    "Como podemos comprobar, los cálculos de similaridad se han hecho con palabras que neutras que no guardan relación temática con ninguna de las dos clases. No obstante, el valor de similaridad ha debido de ser suficientemente alto como para que se halla encontrado el texto en tercera posición.\n",
    "\n",
    "Podemos encontrar justificación en este error en que se han hecho los cálculos con palabras que con toda probabilidad tendrán presencia en una gran cantidad de textos. Sin embargo, en los cálculos sólo se ha tenido en cuenta la frecuencia de aparición en cada documento. Es por esto que una posible solución a esta baja precisión de clasificación sea transformar los datos vectorizados con TF/IDF."
   ]
  },
  {
   "cell_type": "markdown",
   "metadata": {},
   "source": [
    "##  4. Configuración de la vectorización TF/IDF."
   ]
  },
  {
   "cell_type": "code",
   "execution_count": 44,
   "metadata": {},
   "outputs": [],
   "source": [
    "# Obtenemos un transformador TF-IDF.\n",
    "tfidfer = TfidfTransformer()"
   ]
  },
  {
   "cell_type": "code",
   "execution_count": 45,
   "metadata": {},
   "outputs": [],
   "source": [
    "# Transformamos la vectorización del conjunto de búsqueda con TF/IDF.\n",
    "searcher_pp = tfidfer.fit_transform(searcher_vd)"
   ]
  },
  {
   "cell_type": "code",
   "execution_count": 46,
   "metadata": {},
   "outputs": [
    {
     "name": "stdout",
     "output_type": "stream",
     "text": [
      "  (0, 432272)\t0.053203153127324175\n",
      "  (0, 401139)\t0.171475198623231\n",
      "  (0, 385956)\t0.02748202571622332\n",
      "  (0, 348470)\t0.0794130483498687\n",
      "  (0, 340313)\t0.4361941232428854\n",
      "  (0, 317626)\t0.1491891935671113\n",
      "  (0, 303588)\t0.04945228420082254\n",
      "  (0, 290427)\t0.12752078811343487\n",
      "  (0, 290418)\t0.16461950886364463\n",
      "  (0, 285785)\t0.13314895342831146\n",
      "  (0, 280326)\t0.1719370922810174\n",
      "  (0, 269741)\t0.028589732391019626\n",
      "  (0, 253348)\t0.05117447878622388\n",
      "  (0, 252059)\t0.24589790389074564\n",
      "  (0, 220041)\t0.09539359172260418\n",
      "  (0, 216990)\t0.19665672408013363\n",
      "  (0, 216701)\t0.02757203907085047\n",
      "  (0, 184085)\t0.15312189463205753\n",
      "  (0, 177951)\t0.050814484529593966\n",
      "  (0, 167157)\t0.12993728462729345\n",
      "  (0, 146790)\t0.1692754628725507\n",
      "  (0, 136842)\t0.15456865106950193\n",
      "  (0, 135069)\t0.20779972660819343\n",
      "  (0, 134099)\t0.13908337170321478\n",
      "  (0, 123759)\t0.18476074223883787\n",
      "  :\t:\n",
      "  (2, 86096)\t0.039490563846254476\n",
      "  (2, 83357)\t0.12895072989315645\n",
      "  (2, 82775)\t0.04796790921152019\n",
      "  (2, 79441)\t0.03960183978244082\n",
      "  (2, 79400)\t0.05255885343629883\n",
      "  (2, 79016)\t0.04377173949850093\n",
      "  (2, 76027)\t0.03542628723785838\n",
      "  (2, 74085)\t0.03857384176459746\n",
      "  (2, 68315)\t0.10845561611577831\n",
      "  (2, 68274)\t0.08287125818923803\n",
      "  (2, 68036)\t0.038020624996196926\n",
      "  (2, 66197)\t0.04298975100276517\n",
      "  (2, 63763)\t0.03227462560623088\n",
      "  (2, 63091)\t0.04274413583533273\n",
      "  (2, 49329)\t0.04915818705833462\n",
      "  (2, 40500)\t0.23073900730229502\n",
      "  (2, 40324)\t0.1216461838841527\n",
      "  (2, 35094)\t0.06994229006117286\n",
      "  (2, 30123)\t0.04103019475255346\n",
      "  (2, 27265)\t0.06225907983798011\n",
      "  (2, 26359)\t0.058267933888925066\n",
      "  (2, 25869)\t0.03299656177315352\n",
      "  (2, 20246)\t0.034343301340238976\n",
      "  (2, 5613)\t0.06398403430603317\n",
      "  (2, 5223)\t0.07499487250999456\n"
     ]
    }
   ],
   "source": [
    "## Nos quedan los datos de la bolsa de palabras transformados por TF-IDF.\n",
    "print(searcher_pp[:3])"
   ]
  },
  {
   "cell_type": "markdown",
   "metadata": {},
   "source": [
    "## 5. Análisis de mensajes del conjunto de prueba con TF/IDF."
   ]
  },
  {
   "cell_type": "markdown",
   "metadata": {},
   "source": [
    "Puesto que ya tenemos los mensajes del conjunto de prueba elegidos y estos son independientes de la transformación TF/IDF, los mantenemos (testQueries, testIndices).\n",
    "\n",
    "Pasamos directamente a calcular la similaridad del coseno."
   ]
  },
  {
   "cell_type": "markdown",
   "metadata": {},
   "source": [
    "### 5.1. Cálculo de la similitud del coseno."
   ]
  },
  {
   "cell_type": "code",
   "execution_count": 47,
   "metadata": {},
   "outputs": [],
   "source": [
    "# Vamos a proceder a calcular la similaridad del coseno clase a clase con la bolsa \n",
    "# de palabras general.\n",
    "## Para cada clase y mensaje de prueba, tenemos una lista ordenada por mayor similitud\n",
    "## de valores (índice, valor).\n",
    "tfidf_searcherScores = list()\n",
    "\n",
    "for cat in range(numClasses):\n",
    "    # Nueva lista.\n",
    "    tfidf_searcherScores.append(list())\n",
    "    # Vectorizamos los 3 mensajes de prueba de la clase.\n",
    "    cat_testvd = searcher_vectorizer.transform(testQueries[cat])\n",
    "    # Transformamos los datos con TF/IDF.\n",
    "    cat_testpp = tfidfer.transform(cat_testvd)\n",
    "    \n",
    "    # Calculamos la similaridad del coseno.\n",
    "    cat_distance = cosine_similarity(cat_testpp, searcher_pp)\n",
    "    \n",
    "    # Guardamos las listas de distancias, ordenadas por similitud de mayor a menor.\n",
    "    for i in range(3):\n",
    "        tfidf_searcherScores[cat].append(list())\n",
    "        tfidf_searcherScores[cat][i] = sorted(\n",
    "            list(enumerate(cat_distance[i])),\n",
    "            key = lambda x: x[1],\n",
    "            reverse = True\n",
    "        )"
   ]
  },
  {
   "cell_type": "markdown",
   "metadata": {},
   "source": [
    "### 5.2. Cálculo de la precisión media para cada nivel de exhaustividad."
   ]
  },
  {
   "cell_type": "code",
   "execution_count": 48,
   "metadata": {},
   "outputs": [],
   "source": [
    "# Calculamos la precisión para todos los niveles de exhaustividad hasta un máximo.\n",
    "maxExh = 20\n",
    "\n",
    "tfidf_accuracy_ex = list()\n",
    "\n",
    "for exh in range(0, maxExh + 1):\n",
    "    tfidf_accuracy_ex.append(list())\n",
    "    for cat in range(numClasses):\n",
    "        tfidf_accuracy_ex[exh].append(list())\n",
    "        \n",
    "        for i in range(3):\n",
    "            tfidf_accuracy_ex[exh][cat].append(list)\n",
    "            tfidf_accuracy_ex[exh][cat][i] = getAccuracy(tfidf_searcherScores[cat][i], cat, exh)     "
   ]
  },
  {
   "cell_type": "code",
   "execution_count": 49,
   "metadata": {},
   "outputs": [],
   "source": [
    "# Obtenemos las medias de los 3 mensajes de prueba, para cada clase y nivel de exhaustividad.\n",
    "tfidf_accMean_ex = list()\n",
    "\n",
    "for exh in range(0, maxExh + 1):\n",
    "    tfidf_accMean_ex.append(list())\n",
    "    for cat in range(numClasses):\n",
    "        tfidf_accMean_ex[exh].append(list())\n",
    "        \n",
    "        tfidf_accMean_ex[exh][cat] = np.mean(tfidf_accuracy_ex[exh][cat])"
   ]
  },
  {
   "cell_type": "code",
   "execution_count": 50,
   "metadata": {},
   "outputs": [
    {
     "name": "stdout",
     "output_type": "stream",
     "text": [
      "Exhaustividad: 0\n",
      "[0.0, 0.0, 0.0, 0.0, 0.0, 0.0, 0.0, 0.0, 0.0, 0.0, 0.0, 0.0, 0.0, 0.0, 0.0, 0.0, 0.0, 0.0, 0.0, 0.0]\n",
      "Exhaustividad: 1\n",
      "[0.6666666666666666, 0.3333333333333333, 0.3333333333333333, 0.3333333333333333, 0.6666666666666666, 0.6666666666666666, 0.6666666666666666, 1.0, 1.0, 0.6666666666666666, 0.6666666666666666, 1.0, 0.3333333333333333, 0.6666666666666666, 0.3333333333333333, 0.6666666666666666, 0.6666666666666666, 0.6666666666666666, 0.3333333333333333, 0.6666666666666666]\n",
      "Exhaustividad: 2\n",
      "[0.6666666666666666, 0.3333333333333333, 0.3333333333333333, 0.3333333333333333, 0.5, 0.8333333333333334, 0.3333333333333333, 1.0, 0.8333333333333334, 0.5, 0.6666666666666666, 1.0, 0.3333333333333333, 0.6666666666666666, 0.3333333333333333, 0.6666666666666666, 0.6666666666666666, 0.6666666666666666, 0.16666666666666666, 0.5]\n",
      "Exhaustividad: 3\n",
      "[0.6666666666666666, 0.3333333333333333, 0.3333333333333333, 0.3333333333333333, 0.6666666666666666, 0.8888888888888888, 0.2222222222222222, 0.8888888888888888, 0.7777777777777777, 0.5555555555555555, 0.5555555555555555, 0.8888888888888888, 0.3333333333333333, 0.5555555555555555, 0.3333333333333333, 0.6666666666666666, 0.4444444444444444, 0.6666666666666666, 0.1111111111111111, 0.5555555555555555]\n",
      "Exhaustividad: 4\n",
      "[0.75, 0.3333333333333333, 0.4166666666666667, 0.5, 0.6666666666666666, 0.9166666666666666, 0.3333333333333333, 0.9166666666666666, 0.8333333333333334, 0.5, 0.4166666666666667, 0.9166666666666666, 0.4166666666666667, 0.5, 0.3333333333333333, 0.75, 0.4166666666666667, 0.6666666666666666, 0.08333333333333333, 0.5]\n",
      "Exhaustividad: 5\n",
      "[0.7333333333333334, 0.4000000000000001, 0.39999999999999997, 0.4666666666666666, 0.6, 0.9333333333333332, 0.26666666666666666, 0.8666666666666667, 0.7999999999999999, 0.4666666666666666, 0.46666666666666673, 0.8666666666666667, 0.4666666666666666, 0.4666666666666666, 0.3333333333333333, 0.7333333333333334, 0.4666666666666666, 0.6666666666666666, 0.13333333333333333, 0.46666666666666673]\n",
      "Exhaustividad: 6\n",
      "[0.6666666666666666, 0.38888888888888884, 0.38888888888888884, 0.4444444444444445, 0.5555555555555555, 0.9444444444444445, 0.27777777777777773, 0.8333333333333334, 0.8333333333333334, 0.4444444444444444, 0.4444444444444445, 0.888888888888889, 0.4444444444444444, 0.4444444444444445, 0.3333333333333333, 0.7222222222222223, 0.4444444444444444, 0.6666666666666666, 0.1111111111111111, 0.5000000000000001]\n",
      "Exhaustividad: 7\n",
      "[0.6666666666666666, 0.42857142857142855, 0.3333333333333333, 0.42857142857142855, 0.5238095238095238, 0.9523809523809524, 0.3333333333333333, 0.8095238095238096, 0.8095238095238096, 0.42857142857142855, 0.42857142857142855, 0.8571428571428572, 0.4761904761904762, 0.4761904761904761, 0.3333333333333333, 0.7142857142857143, 0.4761904761904761, 0.6666666666666666, 0.14285714285714285, 0.5238095238095237]\n",
      "Exhaustividad: 8\n",
      "[0.625, 0.4166666666666667, 0.3333333333333333, 0.375, 0.4583333333333333, 0.9583333333333334, 0.3333333333333333, 0.7916666666666666, 0.8333333333333334, 0.4583333333333333, 0.4166666666666667, 0.8333333333333334, 0.5, 0.4583333333333333, 0.3333333333333333, 0.6666666666666666, 0.4166666666666667, 0.6666666666666666, 0.125, 0.4583333333333333]\n",
      "Exhaustividad: 9\n",
      "[0.6296296296296297, 0.40740740740740744, 0.3333333333333333, 0.3703703703703704, 0.4074074074074074, 0.9629629629629629, 0.2962962962962963, 0.7777777777777777, 0.8148148148148149, 0.5185185185185185, 0.40740740740740744, 0.8518518518518517, 0.48148148148148145, 0.4444444444444445, 0.3333333333333333, 0.6666666666666666, 0.40740740740740744, 0.6666666666666666, 0.14814814814814814, 0.4444444444444445]\n",
      "Exhaustividad: 10\n",
      "[0.6, 0.39999999999999997, 0.3, 0.3666666666666667, 0.3666666666666667, 0.9666666666666667, 0.26666666666666666, 0.7666666666666666, 0.8333333333333334, 0.4666666666666666, 0.4000000000000001, 0.8333333333333334, 0.43333333333333335, 0.43333333333333335, 0.3333333333333333, 0.6666666666666666, 0.39999999999999997, 0.6666666666666666, 0.13333333333333333, 0.4000000000000001]\n",
      "Exhaustividad: 11\n",
      "[0.5757575757575758, 0.3636363636363636, 0.3333333333333333, 0.3636363636363636, 0.39393939393939387, 0.9696969696969697, 0.2727272727272727, 0.7575757575757575, 0.8181818181818182, 0.4242424242424243, 0.42424242424242425, 0.8181818181818182, 0.42424242424242414, 0.4545454545454546, 0.3333333333333333, 0.6363636363636364, 0.393939393939394, 0.6666666666666666, 0.12121212121212122, 0.39393939393939387]\n",
      "Exhaustividad: 12\n",
      "[0.5555555555555555, 0.38888888888888884, 0.3055555555555556, 0.3611111111111111, 0.3611111111111111, 0.9722222222222222, 0.2777777777777778, 0.7222222222222222, 0.8055555555555557, 0.4166666666666667, 0.3888888888888889, 0.8055555555555555, 0.4166666666666666, 0.4166666666666667, 0.3333333333333333, 0.6666666666666666, 0.3888888888888889, 0.6666666666666666, 0.1111111111111111, 0.38888888888888884]\n",
      "Exhaustividad: 13\n",
      "[0.5384615384615384, 0.35897435897435903, 0.3076923076923077, 0.358974358974359, 0.38461538461538464, 0.9743589743589745, 0.2820512820512821, 0.7179487179487181, 0.8205128205128206, 0.4102564102564103, 0.35897435897435903, 0.8205128205128206, 0.4358974358974359, 0.4102564102564103, 0.358974358974359, 0.6410256410256411, 0.4102564102564103, 0.6666666666666666, 0.12820512820512822, 0.358974358974359]\n",
      "Exhaustividad: 14\n",
      "[0.5238095238095238, 0.35714285714285715, 0.30952380952380953, 0.35714285714285715, 0.380952380952381, 0.9285714285714285, 0.3095238095238095, 0.7142857142857143, 0.8333333333333334, 0.38095238095238093, 0.35714285714285715, 0.8095238095238096, 0.4047619047619047, 0.38095238095238093, 0.35714285714285715, 0.6190476190476191, 0.4047619047619047, 0.6666666666666666, 0.14285714285714285, 0.3333333333333333]\n",
      "Exhaustividad: 15\n",
      "[0.5555555555555555, 0.37777777777777777, 0.2888888888888889, 0.37777777777777777, 0.37777777777777777, 0.9333333333333332, 0.3333333333333333, 0.6888888888888888, 0.8444444444444444, 0.37777777777777777, 0.37777777777777777, 0.8000000000000002, 0.39999999999999997, 0.35555555555555557, 0.35555555555555557, 0.6444444444444445, 0.39999999999999997, 0.6666666666666666, 0.13333333333333333, 0.3333333333333333]\n",
      "Exhaustividad: 16\n",
      "[0.5416666666666666, 0.375, 0.2708333333333333, 0.3958333333333333, 0.3958333333333333, 0.9166666666666666, 0.3541666666666667, 0.6875, 0.8125, 0.3958333333333333, 0.4166666666666667, 0.7916666666666666, 0.3958333333333333, 0.3333333333333333, 0.375, 0.625, 0.4166666666666667, 0.6666666666666666, 0.14583333333333334, 0.3125]\n",
      "Exhaustividad: 17\n",
      "[0.5294117647058824, 0.411764705882353, 0.2745098039215686, 0.39215686274509803, 0.411764705882353, 0.9215686274509803, 0.35294117647058826, 0.6862745098039215, 0.823529411764706, 0.4313725490196078, 0.39215686274509803, 0.784313725490196, 0.37254901960784315, 0.3137254901960784, 0.37254901960784315, 0.6274509803921569, 0.4313725490196078, 0.6666666666666666, 0.1568627450980392, 0.29411764705882354]\n",
      "Exhaustividad: 18\n",
      "[0.5370370370370371, 0.4074074074074074, 0.27777777777777773, 0.3888888888888889, 0.4259259259259259, 0.9259259259259259, 0.35185185185185186, 0.6666666666666666, 0.8333333333333334, 0.4444444444444445, 0.3888888888888889, 0.7962962962962963, 0.3703703703703704, 0.29629629629629634, 0.3703703703703704, 0.6296296296296297, 0.425925925925926, 0.6666666666666666, 0.16666666666666666, 0.2777777777777778]\n",
      "Exhaustividad: 19\n",
      "[0.5614035087719298, 0.3859649122807018, 0.2807017543859649, 0.368421052631579, 0.40350877192982454, 0.9298245614035087, 0.3859649122807018, 0.6491228070175438, 0.8070175438596491, 0.456140350877193, 0.3859649122807018, 0.7719298245614036, 0.3859649122807017, 0.2982456140350877, 0.3684210526315789, 0.6315789473684211, 0.42105263157894735, 0.6666666666666666, 0.15789473684210525, 0.2631578947368421]\n",
      "Exhaustividad: 20\n",
      "[0.5833333333333334, 0.3833333333333333, 0.26666666666666666, 0.3833333333333333, 0.39999999999999997, 0.9333333333333332, 0.39999999999999997, 0.65, 0.7999999999999999, 0.4666666666666666, 0.3833333333333333, 0.7666666666666666, 0.3666666666666667, 0.3, 0.3833333333333333, 0.6333333333333333, 0.4166666666666667, 0.6666666666666666, 0.15, 0.25]\n"
     ]
    }
   ],
   "source": [
    "# Precisión con exhaustividad 10 para cada clase y mensaje.\n",
    "for exh in range(maxExh + 1):\n",
    "    print('Exhaustividad:', exh)\n",
    "    print(tfidf_accMean_ex[exh])"
   ]
  },
  {
   "cell_type": "markdown",
   "metadata": {},
   "source": [
    "### 5.3. Análisis de los resultados de precisión."
   ]
  },
  {
   "cell_type": "markdown",
   "metadata": {},
   "source": [
    "Procedemos de forma análoga al apartado anterior."
   ]
  },
  {
   "cell_type": "code",
   "execution_count": 51,
   "metadata": {},
   "outputs": [
    {
     "name": "stdout",
     "output_type": "stream",
     "text": [
      "Nivel de exhaustividad: 5\n",
      "-------------\n",
      "alt.atheism -> 0.7333333333333334\n",
      "comp.graphics -> 0.4000000000000001\n",
      "comp.os.ms-windows.misc -> 0.39999999999999997\n",
      "comp.sys.ibm.pc.hardware -> 0.4666666666666666\n",
      "comp.sys.mac.hardware -> 0.6\n",
      "comp.windows.x -> 0.9333333333333332\n",
      "misc.forsale -> 0.26666666666666666\n",
      "rec.autos -> 0.8666666666666667\n",
      "rec.motorcycles -> 0.7999999999999999\n",
      "rec.sport.baseball -> 0.4666666666666666\n",
      "rec.sport.hockey -> 0.46666666666666673\n",
      "sci.crypt -> 0.8666666666666667\n",
      "sci.electronics -> 0.4666666666666666\n",
      "sci.med -> 0.4666666666666666\n",
      "sci.space -> 0.3333333333333333\n",
      "soc.religion.christian -> 0.7333333333333334\n",
      "talk.politics.guns -> 0.4666666666666666\n",
      "talk.politics.mideast -> 0.6666666666666666\n",
      "talk.politics.misc -> 0.13333333333333333\n",
      "talk.religion.misc -> 0.46666666666666673\n"
     ]
    }
   ],
   "source": [
    "# Para nivel 5.\n",
    "print('Nivel de exhaustividad: 5')\n",
    "print('-------------')\n",
    "for cat in range(numClasses):\n",
    "    print(searcherBunch.target_names[cat], '->', tfidf_accMean_ex[5][cat])"
   ]
  },
  {
   "cell_type": "code",
   "execution_count": 52,
   "metadata": {},
   "outputs": [
    {
     "name": "stdout",
     "output_type": "stream",
     "text": [
      "Nivel de exhaustividad: 10\n",
      "-------------\n",
      "alt.atheism -> 0.6\n",
      "comp.graphics -> 0.39999999999999997\n",
      "comp.os.ms-windows.misc -> 0.3\n",
      "comp.sys.ibm.pc.hardware -> 0.3666666666666667\n",
      "comp.sys.mac.hardware -> 0.3666666666666667\n",
      "comp.windows.x -> 0.9666666666666667\n",
      "misc.forsale -> 0.26666666666666666\n",
      "rec.autos -> 0.7666666666666666\n",
      "rec.motorcycles -> 0.8333333333333334\n",
      "rec.sport.baseball -> 0.4666666666666666\n",
      "rec.sport.hockey -> 0.4000000000000001\n",
      "sci.crypt -> 0.8333333333333334\n",
      "sci.electronics -> 0.43333333333333335\n",
      "sci.med -> 0.43333333333333335\n",
      "sci.space -> 0.3333333333333333\n",
      "soc.religion.christian -> 0.6666666666666666\n",
      "talk.politics.guns -> 0.39999999999999997\n",
      "talk.politics.mideast -> 0.6666666666666666\n",
      "talk.politics.misc -> 0.13333333333333333\n",
      "talk.religion.misc -> 0.4000000000000001\n"
     ]
    }
   ],
   "source": [
    "# Para nivel 10.\n",
    "print('Nivel de exhaustividad: 10')\n",
    "print('-------------')\n",
    "for cat in range(numClasses):\n",
    "    print(searcherBunch.target_names[cat], '->', tfidf_accMean_ex[10][cat])"
   ]
  },
  {
   "cell_type": "code",
   "execution_count": 53,
   "metadata": {},
   "outputs": [
    {
     "name": "stdout",
     "output_type": "stream",
     "text": [
      "Nivel de exhaustividad: 15\n",
      "-------------\n",
      "alt.atheism -> 0.5555555555555555\n",
      "comp.graphics -> 0.37777777777777777\n",
      "comp.os.ms-windows.misc -> 0.2888888888888889\n",
      "comp.sys.ibm.pc.hardware -> 0.37777777777777777\n",
      "comp.sys.mac.hardware -> 0.37777777777777777\n",
      "comp.windows.x -> 0.9333333333333332\n",
      "misc.forsale -> 0.3333333333333333\n",
      "rec.autos -> 0.6888888888888888\n",
      "rec.motorcycles -> 0.8444444444444444\n",
      "rec.sport.baseball -> 0.37777777777777777\n",
      "rec.sport.hockey -> 0.37777777777777777\n",
      "sci.crypt -> 0.8000000000000002\n",
      "sci.electronics -> 0.39999999999999997\n",
      "sci.med -> 0.35555555555555557\n",
      "sci.space -> 0.35555555555555557\n",
      "soc.religion.christian -> 0.6444444444444445\n",
      "talk.politics.guns -> 0.39999999999999997\n",
      "talk.politics.mideast -> 0.6666666666666666\n",
      "talk.politics.misc -> 0.13333333333333333\n",
      "talk.religion.misc -> 0.3333333333333333\n"
     ]
    }
   ],
   "source": [
    "# Para nivel 15.\n",
    "print('Nivel de exhaustividad: 15')\n",
    "print('-------------')\n",
    "for cat in range(numClasses):\n",
    "    print(searcherBunch.target_names[cat], '->', tfidf_accMean_ex[15][cat])"
   ]
  },
  {
   "cell_type": "code",
   "execution_count": 54,
   "metadata": {},
   "outputs": [
    {
     "name": "stdout",
     "output_type": "stream",
     "text": [
      "Nivel de exhaustividad: 20\n",
      "-------------\n",
      "alt.atheism -> 0.5833333333333334\n",
      "comp.graphics -> 0.3833333333333333\n",
      "comp.os.ms-windows.misc -> 0.26666666666666666\n",
      "comp.sys.ibm.pc.hardware -> 0.3833333333333333\n",
      "comp.sys.mac.hardware -> 0.39999999999999997\n",
      "comp.windows.x -> 0.9333333333333332\n",
      "misc.forsale -> 0.39999999999999997\n",
      "rec.autos -> 0.65\n",
      "rec.motorcycles -> 0.7999999999999999\n",
      "rec.sport.baseball -> 0.4666666666666666\n",
      "rec.sport.hockey -> 0.3833333333333333\n",
      "sci.crypt -> 0.7666666666666666\n",
      "sci.electronics -> 0.3666666666666667\n",
      "sci.med -> 0.3\n",
      "sci.space -> 0.3833333333333333\n",
      "soc.religion.christian -> 0.6333333333333333\n",
      "talk.politics.guns -> 0.4166666666666667\n",
      "talk.politics.mideast -> 0.6666666666666666\n",
      "talk.politics.misc -> 0.15\n",
      "talk.religion.misc -> 0.25\n"
     ]
    }
   ],
   "source": [
    "# Para nivel 20.\n",
    "print('Nivel de exhaustividad: 20')\n",
    "print('-------------')\n",
    "for cat in range(numClasses):\n",
    "    print(searcherBunch.target_names[cat], '->', tfidf_accMean_ex[20][cat])"
   ]
  },
  {
   "cell_type": "code",
   "execution_count": 55,
   "metadata": {},
   "outputs": [],
   "source": [
    "tfidf_precisionDF = pd.DataFrame(\n",
    "    data = np.transpose([tfidf_accMean_ex[5],tfidf_accMean_ex[10],tfidf_accMean_ex[15],tfidf_accMean_ex[20]]),\n",
    "    columns = ['% lvl 5','% lvl 10','% lvl 15','% lvl 20'],\n",
    "    index = searcherBunch.target_names\n",
    "    )"
   ]
  },
  {
   "cell_type": "code",
   "execution_count": 56,
   "metadata": {},
   "outputs": [
    {
     "data": {
      "text/html": [
       "<div>\n",
       "<style scoped>\n",
       "    .dataframe tbody tr th:only-of-type {\n",
       "        vertical-align: middle;\n",
       "    }\n",
       "\n",
       "    .dataframe tbody tr th {\n",
       "        vertical-align: top;\n",
       "    }\n",
       "\n",
       "    .dataframe thead th {\n",
       "        text-align: right;\n",
       "    }\n",
       "</style>\n",
       "<table border=\"1\" class=\"dataframe\">\n",
       "  <thead>\n",
       "    <tr style=\"text-align: right;\">\n",
       "      <th></th>\n",
       "      <th>% lvl 5</th>\n",
       "      <th>% lvl 10</th>\n",
       "      <th>% lvl 15</th>\n",
       "      <th>% lvl 20</th>\n",
       "    </tr>\n",
       "  </thead>\n",
       "  <tbody>\n",
       "    <tr>\n",
       "      <th>alt.atheism</th>\n",
       "      <td>73.333333</td>\n",
       "      <td>60.000000</td>\n",
       "      <td>55.555556</td>\n",
       "      <td>58.333333</td>\n",
       "    </tr>\n",
       "    <tr>\n",
       "      <th>comp.graphics</th>\n",
       "      <td>40.000000</td>\n",
       "      <td>40.000000</td>\n",
       "      <td>37.777778</td>\n",
       "      <td>38.333333</td>\n",
       "    </tr>\n",
       "    <tr>\n",
       "      <th>comp.os.ms-windows.misc</th>\n",
       "      <td>40.000000</td>\n",
       "      <td>30.000000</td>\n",
       "      <td>28.888889</td>\n",
       "      <td>26.666667</td>\n",
       "    </tr>\n",
       "    <tr>\n",
       "      <th>comp.sys.ibm.pc.hardware</th>\n",
       "      <td>46.666667</td>\n",
       "      <td>36.666667</td>\n",
       "      <td>37.777778</td>\n",
       "      <td>38.333333</td>\n",
       "    </tr>\n",
       "    <tr>\n",
       "      <th>comp.sys.mac.hardware</th>\n",
       "      <td>60.000000</td>\n",
       "      <td>36.666667</td>\n",
       "      <td>37.777778</td>\n",
       "      <td>40.000000</td>\n",
       "    </tr>\n",
       "    <tr>\n",
       "      <th>comp.windows.x</th>\n",
       "      <td>93.333333</td>\n",
       "      <td>96.666667</td>\n",
       "      <td>93.333333</td>\n",
       "      <td>93.333333</td>\n",
       "    </tr>\n",
       "    <tr>\n",
       "      <th>misc.forsale</th>\n",
       "      <td>26.666667</td>\n",
       "      <td>26.666667</td>\n",
       "      <td>33.333333</td>\n",
       "      <td>40.000000</td>\n",
       "    </tr>\n",
       "    <tr>\n",
       "      <th>rec.autos</th>\n",
       "      <td>86.666667</td>\n",
       "      <td>76.666667</td>\n",
       "      <td>68.888889</td>\n",
       "      <td>65.000000</td>\n",
       "    </tr>\n",
       "    <tr>\n",
       "      <th>rec.motorcycles</th>\n",
       "      <td>80.000000</td>\n",
       "      <td>83.333333</td>\n",
       "      <td>84.444444</td>\n",
       "      <td>80.000000</td>\n",
       "    </tr>\n",
       "    <tr>\n",
       "      <th>rec.sport.baseball</th>\n",
       "      <td>46.666667</td>\n",
       "      <td>46.666667</td>\n",
       "      <td>37.777778</td>\n",
       "      <td>46.666667</td>\n",
       "    </tr>\n",
       "    <tr>\n",
       "      <th>rec.sport.hockey</th>\n",
       "      <td>46.666667</td>\n",
       "      <td>40.000000</td>\n",
       "      <td>37.777778</td>\n",
       "      <td>38.333333</td>\n",
       "    </tr>\n",
       "    <tr>\n",
       "      <th>sci.crypt</th>\n",
       "      <td>86.666667</td>\n",
       "      <td>83.333333</td>\n",
       "      <td>80.000000</td>\n",
       "      <td>76.666667</td>\n",
       "    </tr>\n",
       "    <tr>\n",
       "      <th>sci.electronics</th>\n",
       "      <td>46.666667</td>\n",
       "      <td>43.333333</td>\n",
       "      <td>40.000000</td>\n",
       "      <td>36.666667</td>\n",
       "    </tr>\n",
       "    <tr>\n",
       "      <th>sci.med</th>\n",
       "      <td>46.666667</td>\n",
       "      <td>43.333333</td>\n",
       "      <td>35.555556</td>\n",
       "      <td>30.000000</td>\n",
       "    </tr>\n",
       "    <tr>\n",
       "      <th>sci.space</th>\n",
       "      <td>33.333333</td>\n",
       "      <td>33.333333</td>\n",
       "      <td>35.555556</td>\n",
       "      <td>38.333333</td>\n",
       "    </tr>\n",
       "    <tr>\n",
       "      <th>soc.religion.christian</th>\n",
       "      <td>73.333333</td>\n",
       "      <td>66.666667</td>\n",
       "      <td>64.444444</td>\n",
       "      <td>63.333333</td>\n",
       "    </tr>\n",
       "    <tr>\n",
       "      <th>talk.politics.guns</th>\n",
       "      <td>46.666667</td>\n",
       "      <td>40.000000</td>\n",
       "      <td>40.000000</td>\n",
       "      <td>41.666667</td>\n",
       "    </tr>\n",
       "    <tr>\n",
       "      <th>talk.politics.mideast</th>\n",
       "      <td>66.666667</td>\n",
       "      <td>66.666667</td>\n",
       "      <td>66.666667</td>\n",
       "      <td>66.666667</td>\n",
       "    </tr>\n",
       "    <tr>\n",
       "      <th>talk.politics.misc</th>\n",
       "      <td>13.333333</td>\n",
       "      <td>13.333333</td>\n",
       "      <td>13.333333</td>\n",
       "      <td>15.000000</td>\n",
       "    </tr>\n",
       "    <tr>\n",
       "      <th>talk.religion.misc</th>\n",
       "      <td>46.666667</td>\n",
       "      <td>40.000000</td>\n",
       "      <td>33.333333</td>\n",
       "      <td>25.000000</td>\n",
       "    </tr>\n",
       "  </tbody>\n",
       "</table>\n",
       "</div>"
      ],
      "text/plain": [
       "                            % lvl 5   % lvl 10   % lvl 15   % lvl 20\n",
       "alt.atheism               73.333333  60.000000  55.555556  58.333333\n",
       "comp.graphics             40.000000  40.000000  37.777778  38.333333\n",
       "comp.os.ms-windows.misc   40.000000  30.000000  28.888889  26.666667\n",
       "comp.sys.ibm.pc.hardware  46.666667  36.666667  37.777778  38.333333\n",
       "comp.sys.mac.hardware     60.000000  36.666667  37.777778  40.000000\n",
       "comp.windows.x            93.333333  96.666667  93.333333  93.333333\n",
       "misc.forsale              26.666667  26.666667  33.333333  40.000000\n",
       "rec.autos                 86.666667  76.666667  68.888889  65.000000\n",
       "rec.motorcycles           80.000000  83.333333  84.444444  80.000000\n",
       "rec.sport.baseball        46.666667  46.666667  37.777778  46.666667\n",
       "rec.sport.hockey          46.666667  40.000000  37.777778  38.333333\n",
       "sci.crypt                 86.666667  83.333333  80.000000  76.666667\n",
       "sci.electronics           46.666667  43.333333  40.000000  36.666667\n",
       "sci.med                   46.666667  43.333333  35.555556  30.000000\n",
       "sci.space                 33.333333  33.333333  35.555556  38.333333\n",
       "soc.religion.christian    73.333333  66.666667  64.444444  63.333333\n",
       "talk.politics.guns        46.666667  40.000000  40.000000  41.666667\n",
       "talk.politics.mideast     66.666667  66.666667  66.666667  66.666667\n",
       "talk.politics.misc        13.333333  13.333333  13.333333  15.000000\n",
       "talk.religion.misc        46.666667  40.000000  33.333333  25.000000"
      ]
     },
     "execution_count": 56,
     "metadata": {},
     "output_type": "execute_result"
    }
   ],
   "source": [
    "tfidf_precisionDF * 100"
   ]
  },
  {
   "cell_type": "code",
   "execution_count": 57,
   "metadata": {},
   "outputs": [
    {
     "data": {
      "text/plain": [
       "alt.atheism                 0.618056\n",
       "comp.graphics               0.390278\n",
       "comp.os.ms-windows.misc     0.313889\n",
       "comp.sys.ibm.pc.hardware    0.398611\n",
       "comp.sys.mac.hardware       0.436111\n",
       "comp.windows.x              0.941667\n",
       "misc.forsale                0.316667\n",
       "rec.autos                   0.743056\n",
       "rec.motorcycles             0.819444\n",
       "rec.sport.baseball          0.444444\n",
       "rec.sport.hockey            0.406944\n",
       "sci.crypt                   0.816667\n",
       "sci.electronics             0.416667\n",
       "sci.med                     0.388889\n",
       "sci.space                   0.351389\n",
       "soc.religion.christian      0.669444\n",
       "talk.politics.guns          0.420833\n",
       "talk.politics.mideast       0.666667\n",
       "talk.politics.misc          0.137500\n",
       "talk.religion.misc          0.362500\n",
       "dtype: float64"
      ]
     },
     "execution_count": 57,
     "metadata": {},
     "output_type": "execute_result"
    }
   ],
   "source": [
    "tfidf_precisionDF.mean(axis = 1)"
   ]
  },
  {
   "cell_type": "code",
   "execution_count": 58,
   "metadata": {},
   "outputs": [],
   "source": [
    "tfidf_exhPrecision = tfidf_precisionDF.mean(axis = 1).values"
   ]
  },
  {
   "cell_type": "code",
   "execution_count": 59,
   "metadata": {},
   "outputs": [],
   "source": [
    "precisionDiffDF = pd.DataFrame(\n",
    "    data = np.transpose([exhPrecision, tfidf_exhPrecision, tfidf_exhPrecision - exhPrecision]),\n",
    "    index = searcherBunch.target_names,\n",
    "    columns = ['Mean Exh Precision', 'TF/IDF Mean Exh Precision', 'Diff'])"
   ]
  },
  {
   "cell_type": "code",
   "execution_count": 60,
   "metadata": {},
   "outputs": [
    {
     "data": {
      "text/html": [
       "<div>\n",
       "<style scoped>\n",
       "    .dataframe tbody tr th:only-of-type {\n",
       "        vertical-align: middle;\n",
       "    }\n",
       "\n",
       "    .dataframe tbody tr th {\n",
       "        vertical-align: top;\n",
       "    }\n",
       "\n",
       "    .dataframe thead th {\n",
       "        text-align: right;\n",
       "    }\n",
       "</style>\n",
       "<table border=\"1\" class=\"dataframe\">\n",
       "  <thead>\n",
       "    <tr style=\"text-align: right;\">\n",
       "      <th></th>\n",
       "      <th>Mean Exh Precision</th>\n",
       "      <th>TF/IDF Mean Exh Precision</th>\n",
       "      <th>Diff</th>\n",
       "    </tr>\n",
       "  </thead>\n",
       "  <tbody>\n",
       "    <tr>\n",
       "      <th>alt.atheism</th>\n",
       "      <td>60.138889</td>\n",
       "      <td>61.805556</td>\n",
       "      <td>1.666667</td>\n",
       "    </tr>\n",
       "    <tr>\n",
       "      <th>comp.graphics</th>\n",
       "      <td>29.722222</td>\n",
       "      <td>39.027778</td>\n",
       "      <td>9.305556</td>\n",
       "    </tr>\n",
       "    <tr>\n",
       "      <th>comp.os.ms-windows.misc</th>\n",
       "      <td>18.194444</td>\n",
       "      <td>31.388889</td>\n",
       "      <td>13.194444</td>\n",
       "    </tr>\n",
       "    <tr>\n",
       "      <th>comp.sys.ibm.pc.hardware</th>\n",
       "      <td>40.555556</td>\n",
       "      <td>39.861111</td>\n",
       "      <td>-0.694444</td>\n",
       "    </tr>\n",
       "    <tr>\n",
       "      <th>comp.sys.mac.hardware</th>\n",
       "      <td>42.361111</td>\n",
       "      <td>43.611111</td>\n",
       "      <td>1.250000</td>\n",
       "    </tr>\n",
       "    <tr>\n",
       "      <th>comp.windows.x</th>\n",
       "      <td>87.777778</td>\n",
       "      <td>94.166667</td>\n",
       "      <td>6.388889</td>\n",
       "    </tr>\n",
       "    <tr>\n",
       "      <th>misc.forsale</th>\n",
       "      <td>49.444444</td>\n",
       "      <td>31.666667</td>\n",
       "      <td>-17.777778</td>\n",
       "    </tr>\n",
       "    <tr>\n",
       "      <th>rec.autos</th>\n",
       "      <td>55.972222</td>\n",
       "      <td>74.305556</td>\n",
       "      <td>18.333333</td>\n",
       "    </tr>\n",
       "    <tr>\n",
       "      <th>rec.motorcycles</th>\n",
       "      <td>76.666667</td>\n",
       "      <td>81.944444</td>\n",
       "      <td>5.277778</td>\n",
       "    </tr>\n",
       "    <tr>\n",
       "      <th>rec.sport.baseball</th>\n",
       "      <td>39.027778</td>\n",
       "      <td>44.444444</td>\n",
       "      <td>5.416667</td>\n",
       "    </tr>\n",
       "    <tr>\n",
       "      <th>rec.sport.hockey</th>\n",
       "      <td>26.388889</td>\n",
       "      <td>40.694444</td>\n",
       "      <td>14.305556</td>\n",
       "    </tr>\n",
       "    <tr>\n",
       "      <th>sci.crypt</th>\n",
       "      <td>79.444444</td>\n",
       "      <td>81.666667</td>\n",
       "      <td>2.222222</td>\n",
       "    </tr>\n",
       "    <tr>\n",
       "      <th>sci.electronics</th>\n",
       "      <td>35.972222</td>\n",
       "      <td>41.666667</td>\n",
       "      <td>5.694444</td>\n",
       "    </tr>\n",
       "    <tr>\n",
       "      <th>sci.med</th>\n",
       "      <td>11.666667</td>\n",
       "      <td>38.888889</td>\n",
       "      <td>27.222222</td>\n",
       "    </tr>\n",
       "    <tr>\n",
       "      <th>sci.space</th>\n",
       "      <td>34.166667</td>\n",
       "      <td>35.138889</td>\n",
       "      <td>0.972222</td>\n",
       "    </tr>\n",
       "    <tr>\n",
       "      <th>soc.religion.christian</th>\n",
       "      <td>57.777778</td>\n",
       "      <td>66.944444</td>\n",
       "      <td>9.166667</td>\n",
       "    </tr>\n",
       "    <tr>\n",
       "      <th>talk.politics.guns</th>\n",
       "      <td>39.444444</td>\n",
       "      <td>42.083333</td>\n",
       "      <td>2.638889</td>\n",
       "    </tr>\n",
       "    <tr>\n",
       "      <th>talk.politics.mideast</th>\n",
       "      <td>66.666667</td>\n",
       "      <td>66.666667</td>\n",
       "      <td>0.000000</td>\n",
       "    </tr>\n",
       "    <tr>\n",
       "      <th>talk.politics.misc</th>\n",
       "      <td>24.166667</td>\n",
       "      <td>13.750000</td>\n",
       "      <td>-10.416667</td>\n",
       "    </tr>\n",
       "    <tr>\n",
       "      <th>talk.religion.misc</th>\n",
       "      <td>42.500000</td>\n",
       "      <td>36.250000</td>\n",
       "      <td>-6.250000</td>\n",
       "    </tr>\n",
       "  </tbody>\n",
       "</table>\n",
       "</div>"
      ],
      "text/plain": [
       "                          Mean Exh Precision  TF/IDF Mean Exh Precision  \\\n",
       "alt.atheism                        60.138889                  61.805556   \n",
       "comp.graphics                      29.722222                  39.027778   \n",
       "comp.os.ms-windows.misc            18.194444                  31.388889   \n",
       "comp.sys.ibm.pc.hardware           40.555556                  39.861111   \n",
       "comp.sys.mac.hardware              42.361111                  43.611111   \n",
       "comp.windows.x                     87.777778                  94.166667   \n",
       "misc.forsale                       49.444444                  31.666667   \n",
       "rec.autos                          55.972222                  74.305556   \n",
       "rec.motorcycles                    76.666667                  81.944444   \n",
       "rec.sport.baseball                 39.027778                  44.444444   \n",
       "rec.sport.hockey                   26.388889                  40.694444   \n",
       "sci.crypt                          79.444444                  81.666667   \n",
       "sci.electronics                    35.972222                  41.666667   \n",
       "sci.med                            11.666667                  38.888889   \n",
       "sci.space                          34.166667                  35.138889   \n",
       "soc.religion.christian             57.777778                  66.944444   \n",
       "talk.politics.guns                 39.444444                  42.083333   \n",
       "talk.politics.mideast              66.666667                  66.666667   \n",
       "talk.politics.misc                 24.166667                  13.750000   \n",
       "talk.religion.misc                 42.500000                  36.250000   \n",
       "\n",
       "                               Diff  \n",
       "alt.atheism                1.666667  \n",
       "comp.graphics              9.305556  \n",
       "comp.os.ms-windows.misc   13.194444  \n",
       "comp.sys.ibm.pc.hardware  -0.694444  \n",
       "comp.sys.mac.hardware      1.250000  \n",
       "comp.windows.x             6.388889  \n",
       "misc.forsale             -17.777778  \n",
       "rec.autos                 18.333333  \n",
       "rec.motorcycles            5.277778  \n",
       "rec.sport.baseball         5.416667  \n",
       "rec.sport.hockey          14.305556  \n",
       "sci.crypt                  2.222222  \n",
       "sci.electronics            5.694444  \n",
       "sci.med                   27.222222  \n",
       "sci.space                  0.972222  \n",
       "soc.religion.christian     9.166667  \n",
       "talk.politics.guns         2.638889  \n",
       "talk.politics.mideast      0.000000  \n",
       "talk.politics.misc       -10.416667  \n",
       "talk.religion.misc        -6.250000  "
      ]
     },
     "execution_count": 60,
     "metadata": {},
     "output_type": "execute_result"
    }
   ],
   "source": [
    "precisionDiffDF * 100"
   ]
  },
  {
   "cell_type": "markdown",
   "metadata": {},
   "source": [
    "Como podemos ver en este DataFrame de comparación, ha habido cambios en la precisión, que principalemnte ha aumentado a nivel general (media de los niveles de exhaustividad 5,10,15 y 20) en todas las clases.\n",
    "\n",
    "En concreto, la clase 'sci.med' que sin TF/IDF era la que obtenía una peor precisión ha aumentado considerablemente, aumentando en 27.2 puntos porcentuales, triplicando su rendimiento anterior.\n",
    "\n",
    "No obstante, algunas clases han perdido precisión, como es 'misc.forsale', 'talk.politics.misc' o 'talk.religion.misc'. Todas estas clases contienen 'misc' que podemos intuir se refiere a 'miscelaneous', con lo que por la propia definición de la palabra, abarcan un amplio abanico de temáticas distintas. Por ello, es normal que su precisión baje."
   ]
  },
  {
   "cell_type": "markdown",
   "metadata": {},
   "source": [
    "Para comprobar la mejora con TF/IDF, vamos a volver a analizar el mismo mensaje del apartado anterior de la clase 'sci.med'."
   ]
  },
  {
   "cell_type": "code",
   "execution_count": 61,
   "metadata": {},
   "outputs": [
    {
     "name": "stdout",
     "output_type": "stream",
     "text": [
      "Clase: sci.med\n",
      "---------------\n",
      "From: kmldorf@utdallas.edu (George Kimeldorf)\n",
      "Subject: Re: Opinions on Allergy (Hay Fever) shots?\n",
      "Nntp-Posting-Host: heath.utdallas.edu\n",
      "Organization: Univ. of Texas at Dallas\n",
      "Lines: 20\n",
      "\n",
      "In article <1993Apr29.173817.25867@nntpd2.cxo.dec.com> tung@paaiec.enet.dec.com () writes:\n",
      ">\n",
      ">I have just started taking allergy shots a month ago and is \n",
      ">still wondering what I am getting into. A friend of mine told\n",
      ">me that the body change every 7 years (whatever that means)\n",
      ">and I don't need those antibody-building allergy shots at all.\n",
      ">Does that make sense to anyone?\n",
      ">\n",
      ">BTW, can someone summarize what is in the Consumer Report\n",
      ">February, 1988 article?\n",
      "\n",
      "I am reluctant to summarize it, for then you will have my opinion of what the\n",
      "article says, rather than your own opinion.  I think it is important enough\n",
      "for you to take the trouble to go to the library and get the article.  The\n",
      "title is \"The shot doctors\" and it appears on Pages 96-100 of the February,\n",
      "1988 issue of Consumer Reports.  The following excerpt from the article may\n",
      "entice you to read the whole article:\n",
      "     Too often, shots are overused.....\"When you put a patient on\n",
      "     shots, you've got an annuity for life,\" a former president of\n",
      "     the American Academy of Allergy and Immunology told CU. [page 97]\n",
      "\n"
     ]
    }
   ],
   "source": [
    "# Vemos el primer mensaje de consulta.\n",
    "print('Clase:', testBunch.target_names[lowPrec_idx])\n",
    "print('---------------')\n",
    "print(testQueries[lowPrec_idx][0])"
   ]
  },
  {
   "cell_type": "code",
   "execution_count": 62,
   "metadata": {},
   "outputs": [
    {
     "data": {
      "text/plain": [
       "[(4928, 0.37848615404995184),\n",
       " (9263, 0.30895960625777613),\n",
       " (10759, 0.20395767442306895),\n",
       " (3095, 0.19983538898830686),\n",
       " (6594, 0.16112015227772564),\n",
       " (8280, 0.15425621057648373),\n",
       " (606, 0.11762157219916747),\n",
       " (5710, 0.11708847053507439),\n",
       " (6717, 0.10753832215617506),\n",
       " (5207, 0.10621873684164523)]"
      ]
     },
     "execution_count": 62,
     "metadata": {},
     "output_type": "execute_result"
    }
   ],
   "source": [
    "# Vemos la lista de las 10 primeros textos con más similitud (TF/IDF)\n",
    "tfidf_searcherScores[lowPrec_idx][0][:10]"
   ]
  },
  {
   "cell_type": "code",
   "execution_count": 63,
   "metadata": {},
   "outputs": [
    {
     "name": "stdout",
     "output_type": "stream",
     "text": [
      "Clase: sci.med\n",
      "Clase: sci.med\n",
      "Clase: rec.sport.hockey\n",
      "Clase: rec.sport.hockey\n",
      "Clase: sci.med\n",
      "Clase: rec.sport.hockey\n",
      "Clase: sci.med\n",
      "Clase: rec.sport.hockey\n",
      "Clase: rec.sport.hockey\n",
      "Clase: misc.forsale\n"
     ]
    }
   ],
   "source": [
    "# Vemos las clases de los primeros 10 mensajes.\n",
    "for idx, _ in tfidf_searcherScores[lowPrec_idx][0][:10]:\n",
    "    print('Clase:', searcherBunch.target_names[searcherBunch.target[idx]])"
   ]
  },
  {
   "cell_type": "code",
   "execution_count": 64,
   "metadata": {},
   "outputs": [],
   "source": [
    "# En este caso hay 4/10 mensajes que coinciden con la clase 'sci.med'.\n",
    "## A continuación, vemos el tercer mensaje para comprobar por qué razón ha salido en esa posición."
   ]
  },
  {
   "cell_type": "code",
   "execution_count": 65,
   "metadata": {},
   "outputs": [
    {
     "name": "stdout",
     "output_type": "stream",
     "text": [
      "From: bks2@cbnewsi.cb.att.com (bryan.k.strouse)\n",
      "Subject: NHL RESULTS FOR GAMES PLAYED 4-15-93\n",
      "Organization: AT&T\n",
      "Keywords: thursday night's boxscores\n",
      "Lines: 227\n",
      "\n",
      "\n",
      "\n",
      "NHL RESULTS FOR GAMES PLAYED 4/15/93.\n",
      "\n",
      "--------------------------------------------------------------------------------\n",
      "                                  STANDINGS\n",
      "      PATRICK              ADAMS              NORRIS              SMYTHE\n",
      " TM    W  L  T  PT   TM    W  L  T  PT   TM    W  L  T  PT   TM    W  L  T  PT\n",
      " \n",
      "xPIT  56 21  7 119  xBOS  51 26  7 109  xCHI  47 25 12 106  xVAN  46 29  9 101\n",
      "yWAS  42 34  7  91  yQUE  47 27 10 104  yDET  47 28  9 103  yCAL  43 30 11  97\n",
      "yNJ   40 36  7  87  yMON  48 30  6 102  yTOR  44 29 11  99  yLA   39 35 10  88\n",
      "yNYI  39 37  7  85  yBUF  38 36 10  86  ySTL  37 36 11  85  yWIN  40 37  7  87\n",
      " PHL  35 37 11  81   HAR  26 51  6  58   MIN  36 38 10  82   EDM  26 50  8  60\n",
      " NYR  34 38 11  79   OTT  10 70  4  24   TB   23 54  7  53   SJ   11 71  2  24\n",
      "\n",
      "x - Clinched Division Title\n",
      "y - Clinched Playoff Berth\n",
      "\n",
      "--------------------------------------------------------------------------------\n",
      "\n",
      "Minnesota North Stars  (36-38-10)   1   1   1   -   3\n",
      "Detroit Red Wings       (47-28-9)   0   2   3   -   5\n",
      "\n",
      "1st period: MIN, McPhee 18 - (Ludwig) 1:23\n",
      "\t\n",
      "2nd period: MIN, Dahlen 34 - (Courtnall, Gagner) (pp) 0:31\n",
      "\t    DET, Drake 18 - (Howe, Ogrodnick) 9:14\n",
      "\t    DET, Ysebaert 34 - (Lidstrom, Howe) (pp) 17:37\n",
      "\n",
      "3rd period: DET, Ciccarelli 41 - (Coffey, Chiasson) (pp) 0:32\n",
      "\t    DET, Kennedy 19 - (Burr, Probert) 3:42\n",
      "\t    DET, Yzerman 58 - (Ciccarelli, Gallant) 6:17\n",
      "\t    MIN, Dahlen 35 - (Courtnall, Gagner) 19:11\n",
      "\n",
      "Powerplay Opportunities-North Stars 1 of 2\n",
      "\t\t\tRed Wings   2 of 4\n",
      "\n",
      "Shots on GOal-\tNorth Stars  10   9  11  -  30\n",
      "\t\tRed Wings     6  15   8  -  29\n",
      "\n",
      "Minnesota North Stars--Casey (26-26-5) (29 shots - 24 saves)\n",
      "Detroit Red Wings--Cheveldae (34-24-7) (30 shots - 27 saves)\n",
      "\n",
      "ATT-19,749\n",
      "\n",
      "--------------------------------------------------------------------------------\n",
      "\n",
      "Philadelphia Flyers  (35-37-11)   1   2   4   -   7\n",
      "Buffalo Sabres       (38-36-10)   0   3   1   -   4\n",
      "\n",
      "1st period: PHL, Recchi 52 - (Galley, Lindros) 0:18\n",
      "\n",
      "2nd period: PHL, Hawgood 11 - (Dineen, Eklund) (pp) 2:15\n",
      "\t    PHL, Dineen 33 - (McGill) (sh) 5:40\n",
      "\t    BUF, Barnaby 1 - (Hawerchuk, Smehlik) (pp) 7:48\n",
      "\t    BUF, Wood 18 - (LaFontaine, Ledyard) (pp) 17:34\n",
      "\t    BUF, Mogilny 75 - (Hawerchuk, Carney) (pp) 18:56\n",
      "\n",
      "3rd period: PHL, Eklund 11 - (Dineen, Beranek) 4:42\n",
      "\t    BUF, Mogilny 76 - (Errey, LaFontaine) 5:24\n",
      "\t    PHL, Dineen 34 - (Brind'Amour) (pp) 6:44\n",
      "\t    PHL, Dineen 35 - (Brind'Amour, Galley) (sh) 8:39\n",
      "\t    PHL, Acton 8 - (Dineen, Brind'Amour) 19:48\n",
      "\n",
      "Powerplay Opportunities-Flyers 2 of  5\n",
      "\t\t\tSabres 3 of 10\n",
      "\n",
      "SHots on Goal-\tFlyers   6   7  13  -  26\n",
      "\t\tSabres   8  19  18  -  45\n",
      "\n",
      "Philadelphia Flyers--Soderstrom (20-17-6) (45 shots - 41 saves)\n",
      "Buffalo Sabres--Fuhr (10 shots - 7 saves)  Hasek (11-10-4) (5:40 second) \n",
      "\t\t(16 shots - 12 saves)\n",
      "\n",
      "ATT-15,042\n",
      "\n",
      "--------------------------------------------------------------------------------\n",
      "\n",
      "Edmonton Oilers  (26-50-8)   0   0   0   -   0\n",
      "Winnipeg Jets    (40-37-7)   1   2   0   -   3\n",
      "\n",
      "1st period: WIN, Shannon 20 - (Steen, Davydov) (pp) 2:08\n",
      "\t\n",
      "2nd period: WIN, Selanne 76 - (Olausson) 5:25\n",
      "\t    WIN, Zhamnov 25 - (Selanne) 19:42\n",
      "\n",
      "3rd period: NONE\n",
      "\n",
      "Powerplay Opportunities-Oilers 0 of 3\n",
      "\t\t\tJets   1 of 6\n",
      "\n",
      "SHots on GOal-\tOilers   7   8  16  -  31\n",
      "\t\tJets    10  16  16  -  42\n",
      "\n",
      "Edmonton Oilers--Ranford (17-38-6) (42 shots - 39 saves)\n",
      "Winnipeg Jets--Essensa (33-26-6) (31 shots - 31 saves)\n",
      "\n",
      "ATT-12,229\n",
      "\n",
      "--------------------------------------------------------------------------------\n",
      "\n",
      "Toronto Maple Leafs  (44-29-11)   1   1   0   -   2\n",
      "Chicago BlackHawks   (47-25-12)   0   2   1   -   3\n",
      "\n",
      "1st period: TOR, Baumgartner 1 - 18:40\n",
      "\n",
      "2nd period: CHI, Roenick 50 - (Murphy, Chelios) 1:29\n",
      "\t    TOR, Andreychuk 55 - (Mironov, Lefebvre) 13:22\n",
      "\t    CHI, Murphy 7 - (Roenick, Chelios) (pp) 19:05\n",
      "\n",
      "3rd period: CHI, Matteau 15 - 10:51\n",
      "\n",
      "Powerplay Opportunities-Maple Leafs 1 of 3\n",
      "\t\t\tBlackHawks  1 of 7\n",
      "\n",
      "Shots on Goal-\tMaple Leafs  14   4   8  -  26\n",
      "\t\tBlackHawks   10  13  13  -  36\n",
      "\n",
      "Toronto Maple Leafs--Potvin (25-15-7) (36 shots - 33 saves)\n",
      "Chicago BlackHawks--Belfour (41-18-11) (26 shots - 24 saves)\n",
      "\n",
      "ATT-17,856\n",
      "\n",
      "--------------------------------------------------------------------------------\n",
      "\n",
      "Tampa Bay Lightning   (23-54-7)   0   2   3   -   5\n",
      "St. Louis Blues      (37-36-11)   3   3   0   -   6\n",
      "\n",
      "1st period: STL, Shanahan 50 - (Brown, Felsner) 10:44\n",
      "\t    STL, Miller 23 - (Bassen, Brown) 19:38\n",
      "\t    STL, Bassen 8 - (Zombo) 19:48\n",
      "\n",
      "2nd period: STL, Bassen 9 - (Hedican, Miller) 0:14\n",
      "\t    STL, Miller 24 - (Zombo, Hedican) 11:09\n",
      "\t    TBL, Maltais 7 - (Hamrlik) 11:27\n",
      "\t    TBL, Bergland 3 - (Harvey, Gilhen) 17:16\n",
      "\t    TBL, Shanahan 51 - (Emerson) 19:38\n",
      "\n",
      "3rd period: TBL, Creighton 19 - (Bergland, Bergevin) 0:40\n",
      "\t    TBL, Chambers 10 - (Zamuner, Cole) 10:37\n",
      "\t    TBL, Cole 12 - (Beers, Bradley) 11:58\n",
      "\n",
      "Powerplay Opportunities-Lightning 0 of 3\n",
      "\t\t\tBlues     0 of 4\n",
      "\n",
      "SHots on GOal-\tLightning   5  12  14  -  31\n",
      "\t\tBlues      11  11   4  -  26\n",
      "\n",
      "Tampa Bay Lightning--Jablonski (8-24-4) (22 shots - 16 saves)  Bergeron (0:00\n",
      "\t\t     third) (4 shots - 4 saves)\n",
      "St. Louis Blues--Joseph (29-28-9) (18 shots - 15 saves)  Hebert (19:20 third)\n",
      "\t         (13 shots - 11 saves)\n",
      "\n",
      "ATT-17,816\n",
      "\n",
      "--------------------------------------------------------------------------------\n",
      "\n",
      "San Jose Sharks   (11-71-2)   0   1   2   -   3\n",
      "Calgary Flames   (43-30-11)   0   4   3   -   7\n",
      "\n",
      "1st period: NONE\n",
      "\n",
      "2nd period: SJS, Garpenlov 22 - (Odgers, Gaudreau) (pp) 3:37\n",
      "\t    CAL, Nieuwendyk 38 - (MacInnis, Suter) (pp) 5:26\n",
      "\t    CAL, Ranheim 21 - (Otto, Suter) 10:43\n",
      "\t    CAL, Yawney 1 - (Nieuwendyk, Roberts) 11:26\n",
      "\t    CAL, Berube 4 - (Paslawski, Skrudland) 13:45\n",
      "\n",
      "3rd period: SJS, Wood 1 - (Odgers, Kisio) 8:00\n",
      "\t    CAL, Reichel 40 - 9:26\n",
      "\t    CAL, Roberts 38 - (Musil, Paslawski) (pp) 12:27\n",
      "\t    SJS, Kisio 26 - 13:10\n",
      "\t    CAL, Paslawski 18 - (Ashton, Stern) 16:16\n",
      "\n",
      "Powerplay Opportunities-Sharks 1 of 3\n",
      "\t\t\tFlames 2 of 4\n",
      "\n",
      "Shots on Goal-\tSharks   5  11   9  -  25\n",
      "\t\tFlames  11  14   7  -  32\n",
      "\n",
      "San Jose Sharks--Irbe (7-25-0) (32 shots - 25 saves)\n",
      "Calgary Flames--Vernon (29-26-9) (25 shots - 22 saves)\n",
      "\n",
      "ATT-19,532\n",
      "\n",
      "--------------------------------------------------------------------------------\n",
      "\n",
      "Vancouver Canucks   (46-29-9)   1   2   5   -   8\n",
      "Los Angeles Kings  (39-35-10)   2   3   1   -   6\n",
      "\n",
      "1st period: LAK, Robitaille 63 - (Gretzky, Sandstrom) 1:39\n",
      "\t    VAN, Babych 3 - (Craven, Nedved) (pp) 9:43\n",
      "\t    LAK, Sandstrom 25 - (Gretzky, Robitaille) 10:06\n",
      "\n",
      "2nd period: VAN, Linden 32 - (Ronning, Courtnall) (pp) 0:54\n",
      "\t    VAN, Ward 22 - (Hunter, Nedved) 1:24\n",
      "\t    LAK, Gretzky 16 - (Sandstrom, Robitaille) 6:57\n",
      "\t    LAK, Zhitnik 12 - (Kurri, Robitaille) (pp) 14:02\n",
      "\t    LAK, Millen 23 - (Hardy) (pp) 16:57\n",
      "\n",
      "3rd period: VAN, Ronning 27 - (Dirk) 5:28\n",
      "\t    VAN, Ronning 28 - (Courtnall, Linden) (pp) 11:15\n",
      "\t    VAN, Linden 33 - (Courtnall, Ronning) 11:27\n",
      "\t    LAK, Donnelly 29 - (Millen, Granato) (pp) 14:35\n",
      "\t    VAN, Courtnall 31 - (Ronning, Ratushny) 14:54\n",
      "\t    VAN, Ronning 29 - (Linden, Diduck) (en) 18:47\n",
      "\n",
      "Powerplay Opportunities-Canucks 3 of  6\n",
      "\t\t\tKings   3 of 10\n",
      "\n",
      "Shots on Goal-\tCanucks   8   6  16  -  30\n",
      "\t\tKings    10  21  10  -  41\n",
      "\n",
      "Vanocuver Canucks--Whitmore (18-8-4) (41 shots - 35 saves)\n",
      "Los Angeles Kings--Stauber (23 shots - 17 saves)  Hrudey (17-21-6) (11:27\n",
      "\t\t   third) (6 shots - 5 saves)\n",
      "\n",
      "ATT-16,005\n",
      "\n",
      "--------------------------------------------------------------------------------\n",
      "\n",
      "\n",
      "\\|||||/\n",
      "-SPIKE-\n",
      "\n",
      "\n",
      "\n"
     ]
    }
   ],
   "source": [
    "lowPrec_tfidf_checkidx = tfidf_searcherScores[lowPrec_idx][0][2][0]\n",
    "print( searcherBunch.data[lowPrec_tfidf_checkidx] )"
   ]
  },
  {
   "cell_type": "code",
   "execution_count": 66,
   "metadata": {},
   "outputs": [
    {
     "name": "stdout",
     "output_type": "stream",
     "text": [
      "  (0, 463615)\t0.04724319965229287\n",
      "  (0, 462007)\t0.025024425282567573\n",
      "  (0, 460170)\t0.0692224538788182\n",
      "  (0, 445565)\t0.043209256781792396\n",
      "  (0, 432220)\t0.06543723080923797\n",
      "  (0, 417244)\t0.12323022369966806\n",
      "  (0, 415699)\t0.07172550845845237\n",
      "  (0, 408350)\t0.1225190560360241\n",
      "  (0, 407658)\t0.07594152074983447\n",
      "  (0, 403850)\t0.036221127243637324\n",
      "  (0, 401968)\t0.06707942942851652\n",
      "  (0, 395859)\t0.06619480369606806\n",
      "  (0, 388849)\t0.20239295787040046\n",
      "  (0, 385956)\t0.01492895686056773\n",
      "  (0, 379250)\t0.06392273865029698\n",
      "  (0, 362293)\t0.4406332196123408\n",
      "  (0, 362266)\t0.07444737911458087\n",
      "  (0, 357443)\t0.0636788529510171\n",
      "  (0, 348504)\t0.053296370759705086\n",
      "  (0, 334246)\t0.0736851786721945\n",
      "  (0, 334230)\t0.07160749237461562\n",
      "  (0, 332778)\t0.1119771969792787\n",
      "  (0, 326574)\t0.04890706293556722\n",
      "  (0, 309635)\t0.06892485684451462\n",
      "  (0, 303588)\t0.02686377725986899\n",
      "  :\t:\n",
      "  (0, 137850)\t0.10746445888331288\n",
      "  (0, 136450)\t0.18044406572111785\n",
      "  (0, 131163)\t0.11989892324838433\n",
      "  (0, 124988)\t0.13787298130546302\n",
      "  (0, 123627)\t0.09847460827907173\n",
      "  (0, 111924)\t0.03310001935705821\n",
      "  (0, 111238)\t0.03655999439462409\n",
      "  (0, 111057)\t0.08760276712282532\n",
      "  (0, 97062)\t0.15573561586251294\n",
      "  (0, 94858)\t0.09150244204264353\n",
      "  (0, 91167)\t0.0961732994299034\n",
      "  (0, 82212)\t0.19057233949837488\n",
      "  (0, 78260)\t0.05551750981225888\n",
      "  (0, 65691)\t0.060100787263968475\n",
      "  (0, 53046)\t0.07120163165880954\n",
      "  (0, 52445)\t0.0703134020365303\n",
      "  (0, 45931)\t0.06792764013341286\n",
      "  (0, 25073)\t0.15796596349959732\n",
      "  (0, 21406)\t0.07308926536221844\n",
      "  (0, 18348)\t0.1542741167694788\n",
      "  (0, 16800)\t0.1542741167694788\n",
      "  (0, 12918)\t0.060100787263968475\n",
      "  (0, 10862)\t0.4479087879171148\n",
      "  (0, 7513)\t0.0567531799220841\n",
      "  (0, 1725)\t0.10812807732910905\n"
     ]
    }
   ],
   "source": [
    "# Para analizar mejor la similitud entre estos mensajes vemos el valor de las vectorizaciones.\n",
    "## Aquí las del mensaje de prueba.\n",
    "tfidf_lowPrec_testvd = searcher_vectorizer.transform(testQueries[lowPrec_idx])\n",
    "tfidf_lowPrec_testpp = tfidfer.transform(tfidf_lowPrec_testvd)\n",
    "print(tfidf_lowPrec_testpp[0])"
   ]
  },
  {
   "cell_type": "code",
   "execution_count": 67,
   "metadata": {},
   "outputs": [
    {
     "name": "stdout",
     "output_type": "stream",
     "text": [
      "  (0, 463506)\t0.024984353739746813\n",
      "  (0, 460236)\t0.03768647622176421\n",
      "  (0, 458879)\t0.03609412370619475\n",
      "  (0, 458803)\t0.06811657599363809\n",
      "  (0, 458342)\t0.038824615551836125\n",
      "  (0, 457229)\t0.02441717450690523\n",
      "  (0, 451919)\t0.0201700831076684\n",
      "  (0, 446929)\t0.022011878855855364\n",
      "  (0, 444702)\t0.017127132355532076\n",
      "  (0, 444672)\t0.13566101219034285\n",
      "  (0, 409637)\t0.027742479336706396\n",
      "  (0, 409481)\t0.04150105668825779\n",
      "  (0, 407826)\t0.06649120472850208\n",
      "  (0, 407658)\t0.015824577623750714\n",
      "  (0, 405658)\t0.019358996782354258\n",
      "  (0, 398236)\t0.02091429632032012\n",
      "  (0, 396420)\t0.04235468725409338\n",
      "  (0, 392215)\t0.04883434901381046\n",
      "  (0, 385956)\t0.0031108731343412657\n",
      "  (0, 381612)\t0.11005939427927681\n",
      "  (0, 380710)\t0.023522232076483362\n",
      "  (0, 379937)\t0.025312116937327094\n",
      "  (0, 379235)\t0.07245876877386204\n",
      "  (0, 378833)\t0.02091429632032012\n",
      "  (0, 378161)\t0.02750249242998051\n",
      "  :\t:\n",
      "  (0, 60450)\t0.02567852501863169\n",
      "  (0, 56679)\t0.03680190262669202\n",
      "  (0, 56271)\t0.13101372245387174\n",
      "  (0, 54192)\t0.024687855861964307\n",
      "  (0, 52878)\t0.03456031392931367\n",
      "  (0, 52862)\t0.08757789393380919\n",
      "  (0, 52271)\t0.019113919465941185\n",
      "  (0, 51885)\t0.032996699322890864\n",
      "  (0, 48991)\t0.018716246064838817\n",
      "  (0, 45331)\t0.0820799513780615\n",
      "  (0, 39682)\t0.026573467449053558\n",
      "  (0, 39439)\t0.053146934898107116\n",
      "  (0, 39426)\t0.028729760391201887\n",
      "  (0, 37342)\t0.02441717450690523\n",
      "  (0, 35919)\t0.035519400346343794\n",
      "  (0, 34337)\t0.027140646681895145\n",
      "  (0, 27820)\t0.11498164770890584\n",
      "  (0, 25805)\t0.02567852501863169\n",
      "  (0, 15656)\t0.03205506522100306\n",
      "  (0, 13572)\t0.07000090970758505\n",
      "  (0, 4158)\t0.01691084559510199\n",
      "  (0, 3898)\t0.025312116937327094\n",
      "  (0, 56)\t0.11680861618113644\n",
      "  (0, 51)\t0.11384418671435587\n",
      "  (0, 45)\t0.11757817018075191\n"
     ]
    }
   ],
   "source": [
    "## Aquí las del mensaje obtenido.\n",
    "print(searcher_pp[lowPrec_tfidf_checkidx])"
   ]
  },
  {
   "cell_type": "code",
   "execution_count": 68,
   "metadata": {},
   "outputs": [],
   "source": [
    "# Obtenemos los términos comunes.\n",
    "tfidf_lowPrec_common = getCommonTerms(tfidf_lowPrec_testpp[0].indices, searcher_pp[lowPrec_tfidf_checkidx].indices)"
   ]
  },
  {
   "cell_type": "code",
   "execution_count": 69,
   "metadata": {},
   "outputs": [
    {
     "name": "stdout",
     "output_type": "stream",
     "text": [
      "title -> 0.07594152074983447 : 0.015824577623750714\n",
      "subject -> 0.01492895686056773 : 0.0031108731343412657\n",
      "shots -> 0.4406332196123408 : 0.4590923725591761\n",
      "organization -> 0.0155306921668714 : 0.0032362618145985625\n",
      "lines -> 0.01497785447466575 : 0.0031210623441736488\n",
      "com -> 0.05551750981225888 : 0.00578432677425246\n"
     ]
    }
   ],
   "source": [
    "for term in tfidf_lowPrec_common:\n",
    "    print(\n",
    "        searcher_vectorizer.get_feature_names()[term], '->',\n",
    "        tfidf_lowPrec_testpp[0, term], ':',\n",
    "        searcher_pp[lowPrec_tfidf_checkidx, term]\n",
    "        )"
   ]
  },
  {
   "cell_type": "markdown",
   "metadata": {},
   "source": [
    "Esta vez, como podemos observar por los valores de TF/IDF, las palabras poco relevantes: subject, title, organization, lines y com; tienen un valor asociado muy pequeño (< 0.1) por lo que su aportación a la similaridad del coseno será muy baja.\n",
    "\n",
    "No obstante, sí hay una palabra con un peso más importante en ambos textos: *shots*. Es obvio, que los mensajes no tienen nada que ver, y que la similitud ha sido producida por la polisemia de la palabra 'shots' en inglés: mientras que en el mensaje de consulta se refiere a 'allergy shots', que son inyecciones para tratar enfermedades alérgicas; el mensaje obtenido se refiere a 'tiros' en un determinado deporte, pues el texto relata las estadísticas de los partidos de una liga deportiva.\n",
    "\n",
    "Por tanto, como hemos podido ver, aunque se siguen produciendo fallos en la precisión, la aplicación del TF/IDF ha ayudado a establecer separaciones más nítidas entre textos, consiguiendo resultados más precisos con las búsquedas."
   ]
  },
  {
   "cell_type": "markdown",
   "metadata": {},
   "source": [
    "__*FIN*__"
   ]
  }
 ],
 "metadata": {
  "kernelspec": {
   "display_name": "Python 3",
   "language": "python",
   "name": "python3"
  },
  "language_info": {
   "codemirror_mode": {
    "name": "ipython",
    "version": 3
   },
   "file_extension": ".py",
   "mimetype": "text/x-python",
   "name": "python",
   "nbconvert_exporter": "python",
   "pygments_lexer": "ipython3",
   "version": "3.7.6"
  }
 },
 "nbformat": 4,
 "nbformat_minor": 4
}
