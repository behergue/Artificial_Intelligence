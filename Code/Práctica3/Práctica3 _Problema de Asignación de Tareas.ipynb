{
 "cells": [
  {
   "cell_type": "markdown",
   "metadata": {},
   "source": [
    "**GRUPO 7**\n",
    "\n",
    "Beatriz Herguedas Pinedo\n",
    "\n",
    "Pablo Hernández Aguado"
   ]
  },
  {
   "cell_type": "code",
   "execution_count": 38,
   "metadata": {},
   "outputs": [],
   "source": [
    "from search import *\n",
    "from random import randint"
   ]
  },
  {
   "cell_type": "code",
   "execution_count": 11,
   "metadata": {},
   "outputs": [],
   "source": [
    "class ProblemaGenetico(object):\n",
    "    def __init__(self, genes,fun_dec,fun_muta , fun_cruza, fun_fitness,longitud_individuos):\n",
    "        self.genes = genes\n",
    "        self.fun_dec = fun_dec\n",
    "        self.fun_cruza = fun_cruza\n",
    "        self.fun_muta = fun_muta\n",
    "        self.fun_fitness = fun_fitness\n",
    "        self.longitud_individuos = longitud_individuos\n",
    "        \"\"\"Constructor de la clase\"\"\"\n",
    "\n",
    "    def decodifica(self, genotipo):\n",
    "        \"\"\"Devuelve el fenotipo a partir del genotipo\"\"\"\n",
    "        fenotipo = self.fun_dec(genotipo)\n",
    "        return fenotipo\n",
    "    def muta(self, cromosoma,prob):\n",
    "        \"\"\"Devuelve el cromosoma mutado\"\"\"   \n",
    "        mutante = self.fun_muta(cromosoma,prob)\n",
    "        return mutante\n",
    "    def cruza(self, cromosoma1, cromosoma2):         \n",
    "        \"\"\"Devuelve el cruce de un par de cromosomas\"\"\"\n",
    "        cruce = self.fun_cruza(cromosoma1,cromosoma2)\n",
    "        return cruce \n",
    "    def fitness(self, cromosoma):    \n",
    "        \"\"\"Función de valoración\"\"\"\n",
    "        valoracion = self.fun_fitness(cromosoma)\n",
    "        return valoracion"
   ]
  },
  {
   "cell_type": "markdown",
   "metadata": {},
   "source": [
    "## Problema de Asignación de Tareas."
   ]
  },
  {
   "cell_type": "markdown",
   "metadata": {},
   "source": [
    "En una empresa hay `n` tareas que realizar, `t1, ..., tn`, y `m` trabajadores `T1, ..., Tm` con distintos niveles de cualificación. Es decir, un trabajador `Ti` puede ser capaz de resolver varias de las tareas de la empresa. Los trabajadores no pueden realizar varias tareas simultáneamente y tardarán un tiempo en realizarla. Si un trabajador `Ti` puede realizar la tarea `tj`, entonces denotaremos por `dij` el tiempo que el trabajador `i` tarda en realizar la tarea `j`.\n",
    "\n",
    "Existen restricciones temporales ya que algunas tareas no pueden comenzar hasta que otras no hayan terminado. Esto es, tenemos un conjunto de restricciones temporales `ti < tj` que indican que `ti` se debe realizar antes de `tj`. Por ejemplo:\n",
    "\n",
    "`generar informe ventas < imprimir informe ventas`\n",
    "\n",
    "Se pide dar una solución al problema de decidir, para cada tarea, qué trabajador la realiza y en qué momento debe comenzar a realizar la tarea para que, al final, todas las tareas estén realizadas, todas las restricciones temporales se satisfagan y el conjunto de las tareas se realice en el menor tiempo posible."
   ]
  },
  {
   "cell_type": "markdown",
   "metadata": {},
   "source": [
    "## Propuesta de resolución."
   ]
  },
  {
   "cell_type": "markdown",
   "metadata": {},
   "source": [
    "Para resolver este problema, utilizaremos un algoritmo genético, cuya implementación detallamos a continuación."
   ]
  },
  {
   "cell_type": "markdown",
   "metadata": {},
   "source": [
    "#### Representación del problema."
   ]
  },
  {
   "cell_type": "markdown",
   "metadata": {},
   "source": [
    "En primer lugar, hemos de definir la forma que tendran los cromosomas que utilizará el algoritmo genético para resolver el problema. \n",
    "\n",
    "Dadas `n` tareas, los cromosomas consistirán en una cadena de `n` números, en de forma que si en la posición `j`, el valor asignado es `i`, se deduce que el trabajador `Ti` se encargará de la tarea `tj`. Claramente, por las dependencias entre tareas, puede haber y habrá trabajadores que realicen más de una tarea, por lo que aparecerán varias veces en el _cromosoma_.\n",
    "\n",
    "Para facilitar la implementación en código del problema, dadas `n` tareas, las enumeraremos comenzando desde 0, de forma que quedan: `t0, t1, ..., tn-1`; ocurriendo lo mismo para los `m` trabajadores.\n",
    "\n",
    "|  0 |  1 |  2 | ... |  n-1 |\n",
    "|:--:|:--:|:--:|:---:|:----:|\n",
    "| i0 | i1 | i2 | ... | in-1 |"
   ]
  },
  {
   "cell_type": "markdown",
   "metadata": {},
   "source": [
    "Por otro lado, aparece la información inicial del problema (que no los estados iniciales) que nos proporciona información sobre el tiempo de ejecución de una tarea por un trabajador y las interdependencias entre las distintas tareas.\n",
    "\n",
    "El **tiempo de ejecución de las tareas** estará representado por una matriz D, de dimensión `n x m`, de forma que el valor `dij` representa, como en el enunciado, el tiempo que tarda el trabajador `i` en hacer la tarea `j`. Para aquellos trabajadores que no estén cualificados para hacer alguna tarea, el valor de `dij` será `0`.\n",
    "\n",
    "También utilizaremos una matriz F, de dimensión `n x n` para guardar las **dependencias entre tareas**, de forma que, dado el elemento `fij`:\n",
    "- Si este es igual a 0, la tarea `ti` no depende de la tarea `tj`.\n",
    "- Si este es igual a 1, la tarea `ti` depende de que se haga previamente la tarea `tj`.\n",
    "\n",
    "Los elementos simétricos de esta matriz no pueden ser ambos igual a 1, es decir, `dij = dji = 1`, pues esto supondría que ninguna de las dos tareas se podrían realizar, al depender una de la otra. Esto provocaría que nuestra función que comprueba el tiempo entrase en un bucle infinito."
   ]
  },
  {
   "cell_type": "markdown",
   "metadata": {},
   "source": [
    "#### Problema del trabajo simultáneo."
   ]
  },
  {
   "cell_type": "markdown",
   "metadata": {},
   "source": [
    "El enunciado del problema prohíbe que un trabajador pueda realizar 2 tareas al mismo tiempo, cosa que debemos tener en cuenta a la hora de calcular el tiempo que dedica un trabajador a terminar todas sus tareas asignadas.\n",
    "\n",
    "Así, el tiempo que tarde cada trabajador en realizar todas sus tareas será una cota inferior del tiempo total. Como las dependencias pueden generar espacios de tiempo en que un trabajador esté desocupado porque necesite que acabe una tarea ajena para comenzar la suya, hemos de encontrar una forma de medir este tiempo. Así, el último trabajador que acabe con sus tareas indica el tiempo que se ha necesitado para hacer todas ellas.\n",
    "\n",
    "Para facilitar el cálculo de estos tiempos, condicionamos a que las tareas estén ya _ordenadas_ en su enumeración, en el sentido de que si una tarea depende de otra, digamos `ti < tj` entonces se dé `i < j`. De esta forma, podemos recorrer el cromosoma desde el principio, utilizando:\n",
    "- Un _vector_ auxiliar `TF` que nos indique en qué tiempo se ha terminado la tarea `i` para cada posición del vector.\n",
    "- Un _vector_ `TT` que indique el tiempo que lleva _gastado_ cada trabajador en hacer sus tareas.\n",
    "\n",
    "_Aclaración: trabajamos de forma inversa con los costes (es decir, negándolos), de forma que se transforma en un problema de maximización. Así, podemos utilizar ceros en la matriz de tiempos de las tareas en vez de infinitos._\n",
    "\n",
    "El método es el siguiente: se recorre el cromosoma de izquierda a derecha. Para cada posición (tarea `j`, trabajador `j`): \n",
    "- Si la tarea no es dependiente, entonces restamos su tiempo de realización `dij` al tiempo de trabajo del trabajador, `TT[i] -= dij`\n",
    "- Si la tarea es dependiente de otras, vemos los tiempos de finalización de esas tareas, quedándonos con el menor `Mdep`; de forma que si el tiempo de trabajo acumulado del trabajador que va a realizar la tarea dependiente es mayor  que `Mdep`, este debe actualizarse a `Mdep` antes de restarle el tiempo `dij` de la nueva tarea.\n",
    "En ambos casos, el tiempo de finalización de la tarea es `TT[i]`, así que actualizamos el vector auxiliar `TF[j] = TT[i]`.\n",
    "\n",
    "El valor mínimo del vector `TT`, negado, nos da el tiempo que tarda en acabar el último trabajador, esto es, en realizarse todas las tareas.\n",
    "\n",
    "Nótese que el orden en que aparecen las tareas en el cromosoma puede afectar a los tiempos en que algunos trabajadores tienen que esperar a que se acabe una tarea para hacer la suya. En efecto, si un trabajador tiene varias tareas asignadas y realiza primero las tareas sin dependencias, esto aumentará el tiempo de espera del otro trabajador. \n",
    "\n",
    "Sin embargo, no necesitamos una función de decodificación totalmente precisa para conseguir una solución subóptima; no obstante, podríamos aplicar el algoritmo genético a cada permutación (que mantenga el orden de dependencia) para hallar una solución más óptima (e incluso aplicar un algoritmo genético a este proceso, que para cada cromosoma de tareas enumeradas aplique el algoritmo genético que vamos a implementar)."
   ]
  },
  {
   "cell_type": "markdown",
   "metadata": {},
   "source": [
    "#### Función de selección (fitness)."
   ]
  },
  {
   "cell_type": "markdown",
   "metadata": {},
   "source": [
    "La implementamos siguiendo el método expuesto en el apartado anterior:"
   ]
  },
  {
   "cell_type": "code",
   "execution_count": 53,
   "metadata": {},
   "outputs": [],
   "source": [
    "def fitnessAsig(nTrab, mTarea, cromosoma, tiemposMat, depMat):\n",
    "    tT = [0 for i in range(nTrab)]\n",
    "    tF = [0 for j in range(mTarea)]\n",
    "    \n",
    "    for jTarea in range(mTarea):\n",
    "        iTrabajador = cromosoma[jTarea]\n",
    "        \n",
    "        # Dependencias.\n",
    "        maxTime = 1 # Trabajamos con negativos.\n",
    "        for kTarea in range(mTarea):\n",
    "            dep = depMat[jTarea][kTarea]\n",
    "            if dep == 1:\n",
    "                maxTime = max(maxTime, tF[kTarea])\n",
    "        \n",
    "        if maxTime != 1:\n",
    "            tT[iTrabajador] = maxTime\n",
    "            \n",
    "        # Tarea a realizar.\n",
    "        dij = tiemposMat[iTrabajador][jTarea]\n",
    "        tT[iTrabajador] += dij\n",
    "        tF[jTarea] = tT[iTrabajador]\n",
    "    \n",
    "    maxTotal = max(tT)\n",
    "    \n",
    "    return maxTotal        "
   ]
  },
  {
   "cell_type": "markdown",
   "metadata": {},
   "source": [
    "#### Función de cruce."
   ]
  },
  {
   "cell_type": "markdown",
   "metadata": {},
   "source": [
    "Para la función de cruce, haremos un simple cruce sobre un punto, pero tomando este de forma aleatoria para conseguir una mayor diversidad de cromosomas."
   ]
  },
  {
   "cell_type": "code",
   "execution_count": 54,
   "metadata": {},
   "outputs": [],
   "source": [
    "def cruceAsig(cromosoma1, cromosoma2):\n",
    "    l1 = len(cromosoma1)\n",
    "    l2 = len(cromosoma2)\n",
    "    pCorte = random.randint(0, l1 - 1)\n",
    "    cruce1 = cromosoma1[0:pCorte] + cromosoma2[pCorte:l2]\n",
    "    cruce2 = cromosoma2[0:pCorte] + cromosoma1[pCorte:l1]\n",
    "    \n",
    "    return [cruce1, cruce2]"
   ]
  },
  {
   "cell_type": "markdown",
   "metadata": {},
   "source": [
    "#### Función de mutación."
   ]
  },
  {
   "cell_type": "markdown",
   "metadata": {},
   "source": [
    "Para la función de mutación, elegimos una posición al azar del cromosoma y, bajo una probalidad, modificamos en 1 el valor asignado a esa posición; es decir, cambiamos el trabajador asignado a esa tarea por el siguiente en la lista de trabajadores."
   ]
  },
  {
   "cell_type": "code",
   "execution_count": 66,
   "metadata": {},
   "outputs": [],
   "source": [
    "def mutacionAsig(nTrab, mTarea, cromosoma, prob):\n",
    "    p = random.randint(0, mTarea - 1)\n",
    "    if prob > random.uniform(0, 1):\n",
    "        cromosoma[p] = (cromosoma[p] + 1) % nTrab\n",
    "        \n",
    "    return cromosoma"
   ]
  },
  {
   "cell_type": "markdown",
   "metadata": {},
   "source": [
    "#### Función de decodificación."
   ]
  },
  {
   "cell_type": "markdown",
   "metadata": {},
   "source": [
    "Procedemos en esta función de forma análoga a la función de fitness, pero generando la solución obtenida:\n",
    "- Una lista de elementos `((i, j), (Ti, Tf))` que indica que el trabajador `Ti` tiene asignada la tarea `tj`, que comienza a realizar en el tiempo `Ti` y acaba en tiempo `Tf`.\n",
    "- Un valor `T*` que indica el tiempo necesario para realizar todas las tareas."
   ]
  },
  {
   "cell_type": "code",
   "execution_count": 92,
   "metadata": {},
   "outputs": [],
   "source": [
    "def decodeAsig(nTrab, mTarea, cromosoma, tiemposMat, depMat):\n",
    "    tT = [0 for i in range(nTrab)]\n",
    "    tF = [0 for j in range(mTarea)]\n",
    "    \n",
    "    asignaciones = list()\n",
    "    \n",
    "    for jTarea in range(mTarea):\n",
    "        iTrabajador = cromosoma[jTarea]\n",
    "        \n",
    "        # Dependencias.\n",
    "        maxTime = -1 # Trabajamos con negativos.\n",
    "        for kTarea in range(mTarea):\n",
    "            dep = depMat[jTarea][kTarea]\n",
    "            if dep == 1:\n",
    "                maxTime = max(maxTime, tF[kTarea])\n",
    "        \n",
    "        if maxTime > tT[iTrabajador]:\n",
    "            tT[iTrabajador] = maxTime\n",
    "            \n",
    "        ti = tT[iTrabajador]\n",
    "            \n",
    "        # Tarea a realizar.\n",
    "        dij = tiemposMat[iTrabajador][jTarea]\n",
    "        tT[iTrabajador] += dij\n",
    "        tF[jTarea] = tT[iTrabajador]\n",
    "        \n",
    "        tf = tF[jTarea]\n",
    "        \n",
    "        asignaciones.append( ( (iTrabajador, jTarea) , (ti, tf) ) )\n",
    "    \n",
    "    maxTotal = max(tT)\n",
    "    \n",
    "    return (tuple(asignaciones), maxTotal) "
   ]
  },
  {
   "cell_type": "markdown",
   "metadata": {},
   "source": [
    "#### Población inicial."
   ]
  },
  {
   "cell_type": "markdown",
   "metadata": {},
   "source": [
    "Utilizamos una función simple (correspondiente al anterior apartado de la práctica) que genera cromosomas de forma aleatoria a partir de los genes disponibles (esto es, la enumeración del número de trabajadores empezando en 0, `(0, ..., m - 1)`)."
   ]
  },
  {
   "cell_type": "code",
   "execution_count": 57,
   "metadata": {},
   "outputs": [],
   "source": [
    "def poblacion_inicial(problema_genetico, tamaño):\n",
    "    N, M = tamaño, problema_genetico.longitud_individuos\n",
    "    genes = problema_genetico.genes\n",
    "    poblacion = list()\n",
    "    for i in range(N):\n",
    "        poblacion.append( [random.choice(genes) for j in range(M)] )\n",
    "        \n",
    "    return poblacion"
   ]
  },
  {
   "cell_type": "markdown",
   "metadata": {},
   "source": [
    "#### Funciones auxiliares del apartado anterior."
   ]
  },
  {
   "cell_type": "code",
   "execution_count": 58,
   "metadata": {},
   "outputs": [],
   "source": [
    "def seleccion_por_torneo(problema_genetico, poblacion, n, k, opt):\n",
    "    \"\"\"Selección por torneo de n individuos de una población. Siendo k el nº de participantes\n",
    "        y opt la función max o min.\"\"\"\n",
    "    seleccionados = []\n",
    "    for i in range(n):\n",
    "        participantes = random.sample(poblacion, k)\n",
    "        seleccionado = opt(participantes, key = problema_genetico.fitness)\n",
    "        seleccionados.append(seleccionado)\n",
    "        #poblacion.remove(seleccionado)\n",
    "    return seleccionados  "
   ]
  },
  {
   "cell_type": "code",
   "execution_count": 78,
   "metadata": {},
   "outputs": [],
   "source": [
    "def algoritmo_genetico(problema_genetico, k, opt, ngen, size, prop_cruces, prob_mutar):\n",
    "    poblacion = poblacion_inicial(problema_genetico, size)\n",
    "    n_padres = round(size * prop_cruces)\n",
    "    n_padres = int (n_padres if n_padres % 2 == 0 else n_padres - 1)\n",
    "    n_directos = size - n_padres\n",
    "    assert k <= n_padres\n",
    "    assert k <= n_directos\n",
    "    for _ in range(ngen):\n",
    "        poblacion = nueva_generacion(problema_genetico, k, opt, poblacion, n_padres, n_directos, prob_mutar)\n",
    "\n",
    "    mejor_cr = opt(poblacion, key = problema_genetico.fitness)\n",
    "    mejor = problema_genetico.decodifica(mejor_cr)\n",
    "    return mejor"
   ]
  },
  {
   "cell_type": "code",
   "execution_count": 47,
   "metadata": {},
   "outputs": [],
   "source": [
    "def nueva_generacion(problema_genetico, k, opt, poblacion, n_padres, n_directos, prob_mutar):\n",
    "    padres2 = seleccion_por_torneo(problema_genetico, poblacion, n_directos, k, opt) \n",
    "    padres1 = seleccion_por_torneo(problema_genetico, poblacion, n_padres , k, opt)\n",
    "    cruces =  cruza_padres(problema_genetico,padres1)\n",
    "    generacion = padres2 + cruces\n",
    "    resultado_mutaciones = muta_individuos(problema_genetico, generacion, prob_mutar)\n",
    "    return resultado_mutaciones"
   ]
  },
  {
   "cell_type": "code",
   "execution_count": 49,
   "metadata": {},
   "outputs": [],
   "source": [
    "def cruza_padres(problema_genetico, padres):\n",
    "    N = len( padres )\n",
    "    assert N % 2 == 0\n",
    "    poblacionCruzada = list()\n",
    "    for i in range( N // 2 ):\n",
    "        cruces = problema_genetico.cruza( padres[2 * i], padres[2 * i + 1] )\n",
    "        poblacionCruzada.append(cruces[0].copy())\n",
    "        poblacionCruzada.append(cruces[1].copy())\n",
    "        \n",
    "    return poblacionCruzada"
   ]
  },
  {
   "cell_type": "code",
   "execution_count": 50,
   "metadata": {},
   "outputs": [],
   "source": [
    "def muta_individuos(problema_genetico, poblacion, prob):\n",
    "    N = len( poblacion )\n",
    "    for x in poblacion:\n",
    "        problema_genetico.muta(x, prob)\n",
    "        \n",
    "    return poblacion"
   ]
  },
  {
   "cell_type": "markdown",
   "metadata": {},
   "source": [
    "#### Clase del problema de asignación."
   ]
  },
  {
   "cell_type": "markdown",
   "metadata": {},
   "source": [
    "Definimos una clase del problema de asignación, que se inicializa con la matriz de tiempos de ejecución y la matriz de interdependencias."
   ]
  },
  {
   "cell_type": "code",
   "execution_count": 93,
   "metadata": {},
   "outputs": [],
   "source": [
    "class ProblemaAsignacion(ProblemaGenetico):\n",
    "    def __init__(self, genes, fun_dec, fun_muta, fun_cruza, fun_fitness, nTrab, mTarea, tiemposMat, depMat):\n",
    "        self.genes = genes\n",
    "        self.fun_dec = fun_dec\n",
    "        self.fun_cruza = fun_cruza\n",
    "        self.fun_muta = fun_muta\n",
    "        self.fun_fitness = fun_fitness\n",
    "        self.longitud_individuos = mTarea\n",
    "        self.nTrab = nTrab\n",
    "        self.mTarea = mTarea\n",
    "        self.tiemposMat = tiemposMat\n",
    "        self.depMat = depMat\n",
    "        \n",
    "    def decodifica(self, genotipo):\n",
    "        fenotipo = self.fun_dec(self.nTrab, self.mTarea, genotipo, self.tiemposMat, self.depMat)\n",
    "        \n",
    "        return fenotipo\n",
    "    \n",
    "    def fitness(self, cromosoma):\n",
    "        valoracion = self.fun_fitness(self.nTrab, self.mTarea, cromosoma, self.tiemposMat, self.depMat)\n",
    "        \n",
    "        return valoracion\n",
    "    \n",
    "    def cruza(self, cromosoma1, cromosoma2):\n",
    "        cruce = self.fun_cruza(cromosoma1, cromosoma2)\n",
    "        \n",
    "        return cruce\n",
    "\n",
    "    def muta(self, cromosoma, prob):\n",
    "        mutacion = self.fun_muta(self.nTrab, self.mTarea, cromosoma, prob)\n",
    "        \n",
    "        return mutacion"
   ]
  },
  {
   "cell_type": "markdown",
   "metadata": {},
   "source": [
    "#### Ejemplo 1."
   ]
  },
  {
   "cell_type": "code",
   "execution_count": 94,
   "metadata": {},
   "outputs": [
    {
     "data": {
      "text/plain": [
       "((((0, 0), (0, 1)), ((1, 1), (0, 3)), ((1, 2), (3, 5))), 5)"
      ]
     },
     "execution_count": 94,
     "metadata": {},
     "output_type": "execute_result"
    }
   ],
   "source": [
    "n1 = 2\n",
    "m1 = 3\n",
    "i = 999999\n",
    "tiemposMat1 = [ [1, 5, i],\n",
    "                [i, 3, 2] ]\n",
    "depMat1 = [ [0, 0, 0],\n",
    "            [0, 0, 0],\n",
    "            [0, 1, 0] ]\n",
    "asignacion1 = ProblemaAsignacion(\n",
    "    list(range(n1)),\n",
    "    decodeAsig,\n",
    "    mutacionAsig,\n",
    "    cruceAsig,\n",
    "    fitnessAsig,\n",
    "    n1,\n",
    "    m1,\n",
    "    tiemposMat1,\n",
    "    depMat1\n",
    ")"
   ]
  },
  {
   "cell_type": "code",
   "execution_count": 131,
   "metadata": {},
   "outputs": [
    {
     "name": "stdout",
     "output_type": "stream",
     "text": [
      "((((0, 0), (0, 1)), ((1, 1), (0, 3)), ((1, 2), (3, 5))), 5) :  93.3  %\n",
      "((((1, 0), (0, 999999)), ((0, 1), (0, 5)), ((1, 2), (999999, 1000001))), 1000001) :  6.7  %\n"
     ]
    }
   ],
   "source": [
    "import operator\n",
    "\n",
    "minDict = dict()\n",
    "for _ in range(1000):\n",
    "    result = algoritmo_genetico(asignacion1, 3, min, 20, 12, 0.75, 0.25)\n",
    "    if result in minDict:\n",
    "        minDict[result] += 1\n",
    "    else:\n",
    "        minDict[result] = 1\n",
    "\n",
    "minSorted = sorted(minDict.items(), key = operator.itemgetter(1), reverse = True)\n",
    "for result in minSorted:\n",
    "    print(result[0], ': ', round( result[1] / 10, 2), ' %' )"
   ]
  },
  {
   "cell_type": "markdown",
   "metadata": {},
   "source": [
    "En este ejemplo simple, el algoritmo genético consigue alcanzar la solución óptima la mayoría de las veces."
   ]
  },
  {
   "cell_type": "markdown",
   "metadata": {},
   "source": [
    "#### Ejemplo 2."
   ]
  },
  {
   "cell_type": "code",
   "execution_count": 136,
   "metadata": {},
   "outputs": [],
   "source": [
    "n2 = 5\n",
    "m2 = 5\n",
    "i = 999999\n",
    "\n",
    "tiemposMat2 = [ [1, 5, i, 4, 6],\n",
    "                [i, 3, 2, 1, i],\n",
    "                [7, 1, 8, 8, 9],\n",
    "                [i, i, 1, 2, 3],\n",
    "                [i, 2, i, 4, i] ]\n",
    "\n",
    "depMat2 = [ [0, 0, 0, 0, 0],\n",
    "            [1, 0, 0, 0, 0],\n",
    "            [0, 1, 0, 0, 0],\n",
    "            [0, 0, 1, 0, 0], \n",
    "            [0, 1, 0, 1, 0] ]\n",
    "\n",
    "asignacion2 = ProblemaAsignacion(\n",
    "    list(range(n2)),\n",
    "    decodeAsig,\n",
    "    mutacionAsig,\n",
    "    cruceAsig,\n",
    "    fitnessAsig,\n",
    "    n2,\n",
    "    m2,\n",
    "    tiemposMat2,\n",
    "    depMat2\n",
    ")"
   ]
  },
  {
   "cell_type": "code",
   "execution_count": 143,
   "metadata": {},
   "outputs": [
    {
     "name": "stdout",
     "output_type": "stream",
     "text": [
      "8 :  30.3  %\n",
      "7 :  24.5  %\n",
      "9 :  11.6  %\n",
      "10 :  10.6  %\n",
      "13 :  5.9  %\n",
      "11 :  5.3  %\n",
      "14 :  4.7  %\n",
      "12 :  3.7  %\n",
      "15 :  1.4  %\n",
      "17 :  0.8  %\n",
      "16 :  0.7  %\n",
      "18 :  0.4  %\n",
      "1000006 :  0.1  %\n"
     ]
    }
   ],
   "source": [
    "minDict = dict()\n",
    "for _ in range(1000):\n",
    "    result = algoritmo_genetico(asignacion2, 3, min, 20, 15, 0.75, 0.25)\n",
    "    if result[1] in minDict:\n",
    "        minDict[result[1]] += 1\n",
    "    else:\n",
    "        minDict[result[1]] = 1\n",
    "\n",
    "minSorted = sorted(minDict.items(), key = operator.itemgetter(1), reverse = True)\n",
    "for result in minSorted:\n",
    "    print(result[0], ': ', round( result[1] / 10, 2), ' %' )"
   ]
  },
  {
   "cell_type": "markdown",
   "metadata": {},
   "source": [
    "En este segundo ejemplo, vemos que la mayoría de soluciones se encuentran muy cercanas a una solución que podemos suponer óptima (7), pero no es la la que más se da, superada por (8)."
   ]
  },
  {
   "cell_type": "markdown",
   "metadata": {},
   "source": [
    "#### Ejemplo 3."
   ]
  },
  {
   "cell_type": "code",
   "execution_count": 138,
   "metadata": {},
   "outputs": [],
   "source": [
    "n3 = 5\n",
    "m3 = 9\n",
    "i = 999999\n",
    "\n",
    "tiemposMat3 = [ [1, 5, i, 8, 2, 1, i, 9, 1],\n",
    "                [8, 7, 3, i, i, 5, 1, 7, 4],\n",
    "                [i, 2, 5, 7, 8, 6, 4, i, 9],\n",
    "                [7, 8, 9, 8, 7, 8, 9, 8, 7],\n",
    "                [i, i, 2, 1, i, 1, i, 2, 1] ]\n",
    "\n",
    "depMat3 = [ [0, 0, 0, 0, 0, 0, 0, 0, 0],\n",
    "            [0, 0, 0, 0, 0, 0, 0, 0, 0],\n",
    "            [0, 0, 0, 0, 0, 0, 0, 0, 0],\n",
    "            [1, 0, 1, 0, 0, 0, 0, 0, 0],\n",
    "            [0, 0, 0, 0, 0, 0, 0, 0, 0],\n",
    "            [0, 1, 1, 1, 0, 0, 0, 0, 0],\n",
    "            [0, 0, 0, 0, 1, 0, 0, 0, 0],\n",
    "            [0, 0, 0, 1, 1, 0, 0, 0, 0],\n",
    "            [0, 1, 0, 1, 0, 0, 1, 0, 0] ]\n",
    "\n",
    "asignacion3 = ProblemaAsignacion(\n",
    "    list(range(n3)),\n",
    "    decodeAsig,\n",
    "    mutacionAsig,\n",
    "    cruceAsig,\n",
    "    fitnessAsig,\n",
    "    n3,\n",
    "    m3,\n",
    "    tiemposMat3,\n",
    "    depMat3\n",
    ")"
   ]
  },
  {
   "cell_type": "code",
   "execution_count": 139,
   "metadata": {},
   "outputs": [
    {
     "name": "stdout",
     "output_type": "stream",
     "text": [
      "14 :  17  %\n",
      "10 :  11  %\n",
      "19 :  10  %\n",
      "18 :  9  %\n",
      "17 :  9  %\n",
      "13 :  8  %\n",
      "15 :  7  %\n",
      "20 :  7  %\n",
      "9 :  4  %\n",
      "11 :  4  %\n",
      "8 :  3  %\n",
      "16 :  3  %\n",
      "12 :  2  %\n",
      "5 :  2  %\n",
      "26 :  1  %\n",
      "25 :  1  %\n",
      "27 :  1  %\n",
      "6 :  1  %\n"
     ]
    }
   ],
   "source": [
    "minDict = dict()\n",
    "for _ in range(100):\n",
    "    result = algoritmo_genetico(asignacion3, 5, min, 20, 50, 0.75, 0.25)\n",
    "    if result[1] in minDict:\n",
    "        minDict[result[1]] += 1\n",
    "    else:\n",
    "        minDict[result[1]] = 1\n",
    "\n",
    "minSorted = sorted(minDict.items(), key = operator.itemgetter(1), reverse = True)\n",
    "for result in minSorted:\n",
    "    print(result[0], ': ', round( result[1], 2), ' %' )"
   ]
  },
  {
   "cell_type": "code",
   "execution_count": 144,
   "metadata": {},
   "outputs": [
    {
     "name": "stdout",
     "output_type": "stream",
     "text": [
      "((((0, 0), (0, 1)), ((2, 1), (1, 2)), ((3, 2), (2, 3)), ((1, 3), (3, 4)), ((3, 4), (4, 7))), 7)\n"
     ]
    }
   ],
   "source": [
    "optimal = ((), 99999999)\n",
    "for _ in range(100):\n",
    "    result = algoritmo_genetico(asignacion2, 5, min, 20, 50, 0.75, 0.25)\n",
    "    if result[1] < optimal[1]:\n",
    "        optimal = result\n",
    "\n",
    "print(optimal)"
   ]
  },
  {
   "cell_type": "markdown",
   "metadata": {},
   "source": [
    "En este último ejemplo, con un mayor número de tareas, el comportamiento del algoritmo se vuelve menos estable, consiguiendo en la mayoría de casos soluciones subóptimas, pero aportando las soluciones más óptimas con menos frecuencia, como (5). Esto no impide, sin embargo, que no podamos hallar esas soluciones más óptimas aplicando el algoritmo genético numerosas veces para mejorar la solución.\n",
    "\n",
    "Este último ejemplo pone en relieve la complejidad del problema planteado."
   ]
  }
 ],
 "metadata": {
  "kernelspec": {
   "display_name": "Python 3",
   "language": "python",
   "name": "python3"
  },
  "language_info": {
   "codemirror_mode": {
    "name": "ipython",
    "version": 3
   },
   "file_extension": ".py",
   "mimetype": "text/x-python",
   "name": "python",
   "nbconvert_exporter": "python",
   "pygments_lexer": "ipython3",
   "version": "3.7.4"
  }
 },
 "nbformat": 4,
 "nbformat_minor": 2
}
